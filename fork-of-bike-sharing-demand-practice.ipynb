{
 "cells": [
  {
   "cell_type": "markdown",
   "id": "99bbe800",
   "metadata": {
    "papermill": {
     "duration": 0.024875,
     "end_time": "2022-07-21T06:38:46.813627",
     "exception": false,
     "start_time": "2022-07-21T06:38:46.788752",
     "status": "completed"
    },
    "tags": []
   },
   "source": [
    "# **1. 자전거 대여 수요 예측 경진대회 탐색적 데이터 분석**"
   ]
  },
  {
   "cell_type": "markdown",
   "id": "540cbf05",
   "metadata": {
    "papermill": {
     "duration": 0.019853,
     "end_time": "2022-07-21T06:38:46.853498",
     "exception": false,
     "start_time": "2022-07-21T06:38:46.833645",
     "status": "completed"
    },
    "tags": []
   },
   "source": [
    "# 1.1 데이터 둘러보기"
   ]
  },
  {
   "cell_type": "code",
   "execution_count": 1,
   "id": "fc751b8c",
   "metadata": {
    "execution": {
     "iopub.execute_input": "2022-07-21T06:38:46.895389Z",
     "iopub.status.busy": "2022-07-21T06:38:46.894642Z",
     "iopub.status.idle": "2022-07-21T06:38:46.978062Z",
     "shell.execute_reply": "2022-07-21T06:38:46.977243Z"
    },
    "papermill": {
     "duration": 0.107396,
     "end_time": "2022-07-21T06:38:46.980675",
     "exception": false,
     "start_time": "2022-07-21T06:38:46.873279",
     "status": "completed"
    },
    "tags": []
   },
   "outputs": [],
   "source": [
    "import numpy as np\n",
    "import pandas as pd # 판다스 임포트\n",
    "\n",
    "# 데이터 경로\n",
    "data_path = '/kaggle/input/bike-sharing-demand/'\n",
    "\n",
    "train = pd.read_csv(data_path + 'train.csv') # 훈련 데이터\n",
    "test = pd.read_csv(data_path + 'test.csv')   # 테스트 데이터\n",
    "submission = pd.read_csv(data_path + 'sampleSubmission.csv') # 제출 샘플 데이터"
   ]
  },
  {
   "cell_type": "code",
   "execution_count": 2,
   "id": "c556b6a2",
   "metadata": {
    "execution": {
     "iopub.execute_input": "2022-07-21T06:38:47.023625Z",
     "iopub.status.busy": "2022-07-21T06:38:47.022893Z",
     "iopub.status.idle": "2022-07-21T06:38:47.032958Z",
     "shell.execute_reply": "2022-07-21T06:38:47.031809Z"
    },
    "papermill": {
     "duration": 0.033647,
     "end_time": "2022-07-21T06:38:47.035207",
     "exception": false,
     "start_time": "2022-07-21T06:38:47.001560",
     "status": "completed"
    },
    "tags": []
   },
   "outputs": [
    {
     "data": {
      "text/plain": [
       "((10886, 12), (6493, 9))"
      ]
     },
     "execution_count": 2,
     "metadata": {},
     "output_type": "execute_result"
    }
   ],
   "source": [
    "train.shape, test.shape\n",
    "# trian - 총 10886개의 데이터, 각 데이터에는 12개의 정보\n",
    "# test - 총 6493개의 데이터, 각 데이터에는 9개의 정보"
   ]
  },
  {
   "cell_type": "code",
   "execution_count": 3,
   "id": "7b81fcd3",
   "metadata": {
    "execution": {
     "iopub.execute_input": "2022-07-21T06:38:47.077888Z",
     "iopub.status.busy": "2022-07-21T06:38:47.077072Z",
     "iopub.status.idle": "2022-07-21T06:38:47.097685Z",
     "shell.execute_reply": "2022-07-21T06:38:47.096563Z"
    },
    "papermill": {
     "duration": 0.044131,
     "end_time": "2022-07-21T06:38:47.099862",
     "exception": false,
     "start_time": "2022-07-21T06:38:47.055731",
     "status": "completed"
    },
    "tags": []
   },
   "outputs": [
    {
     "data": {
      "text/html": [
       "<div>\n",
       "<style scoped>\n",
       "    .dataframe tbody tr th:only-of-type {\n",
       "        vertical-align: middle;\n",
       "    }\n",
       "\n",
       "    .dataframe tbody tr th {\n",
       "        vertical-align: top;\n",
       "    }\n",
       "\n",
       "    .dataframe thead th {\n",
       "        text-align: right;\n",
       "    }\n",
       "</style>\n",
       "<table border=\"1\" class=\"dataframe\">\n",
       "  <thead>\n",
       "    <tr style=\"text-align: right;\">\n",
       "      <th></th>\n",
       "      <th>datetime</th>\n",
       "      <th>season</th>\n",
       "      <th>holiday</th>\n",
       "      <th>workingday</th>\n",
       "      <th>weather</th>\n",
       "      <th>temp</th>\n",
       "      <th>atemp</th>\n",
       "      <th>humidity</th>\n",
       "      <th>windspeed</th>\n",
       "      <th>casual</th>\n",
       "      <th>registered</th>\n",
       "      <th>count</th>\n",
       "    </tr>\n",
       "  </thead>\n",
       "  <tbody>\n",
       "    <tr>\n",
       "      <th>0</th>\n",
       "      <td>2011-01-01 00:00:00</td>\n",
       "      <td>1</td>\n",
       "      <td>0</td>\n",
       "      <td>0</td>\n",
       "      <td>1</td>\n",
       "      <td>9.84</td>\n",
       "      <td>14.395</td>\n",
       "      <td>81</td>\n",
       "      <td>0.0</td>\n",
       "      <td>3</td>\n",
       "      <td>13</td>\n",
       "      <td>16</td>\n",
       "    </tr>\n",
       "    <tr>\n",
       "      <th>1</th>\n",
       "      <td>2011-01-01 01:00:00</td>\n",
       "      <td>1</td>\n",
       "      <td>0</td>\n",
       "      <td>0</td>\n",
       "      <td>1</td>\n",
       "      <td>9.02</td>\n",
       "      <td>13.635</td>\n",
       "      <td>80</td>\n",
       "      <td>0.0</td>\n",
       "      <td>8</td>\n",
       "      <td>32</td>\n",
       "      <td>40</td>\n",
       "    </tr>\n",
       "    <tr>\n",
       "      <th>2</th>\n",
       "      <td>2011-01-01 02:00:00</td>\n",
       "      <td>1</td>\n",
       "      <td>0</td>\n",
       "      <td>0</td>\n",
       "      <td>1</td>\n",
       "      <td>9.02</td>\n",
       "      <td>13.635</td>\n",
       "      <td>80</td>\n",
       "      <td>0.0</td>\n",
       "      <td>5</td>\n",
       "      <td>27</td>\n",
       "      <td>32</td>\n",
       "    </tr>\n",
       "    <tr>\n",
       "      <th>3</th>\n",
       "      <td>2011-01-01 03:00:00</td>\n",
       "      <td>1</td>\n",
       "      <td>0</td>\n",
       "      <td>0</td>\n",
       "      <td>1</td>\n",
       "      <td>9.84</td>\n",
       "      <td>14.395</td>\n",
       "      <td>75</td>\n",
       "      <td>0.0</td>\n",
       "      <td>3</td>\n",
       "      <td>10</td>\n",
       "      <td>13</td>\n",
       "    </tr>\n",
       "    <tr>\n",
       "      <th>4</th>\n",
       "      <td>2011-01-01 04:00:00</td>\n",
       "      <td>1</td>\n",
       "      <td>0</td>\n",
       "      <td>0</td>\n",
       "      <td>1</td>\n",
       "      <td>9.84</td>\n",
       "      <td>14.395</td>\n",
       "      <td>75</td>\n",
       "      <td>0.0</td>\n",
       "      <td>0</td>\n",
       "      <td>1</td>\n",
       "      <td>1</td>\n",
       "    </tr>\n",
       "  </tbody>\n",
       "</table>\n",
       "</div>"
      ],
      "text/plain": [
       "              datetime  season  holiday  workingday  weather  temp   atemp  \\\n",
       "0  2011-01-01 00:00:00       1        0           0        1  9.84  14.395   \n",
       "1  2011-01-01 01:00:00       1        0           0        1  9.02  13.635   \n",
       "2  2011-01-01 02:00:00       1        0           0        1  9.02  13.635   \n",
       "3  2011-01-01 03:00:00       1        0           0        1  9.84  14.395   \n",
       "4  2011-01-01 04:00:00       1        0           0        1  9.84  14.395   \n",
       "\n",
       "   humidity  windspeed  casual  registered  count  \n",
       "0        81        0.0       3          13     16  \n",
       "1        80        0.0       8          32     40  \n",
       "2        80        0.0       5          27     32  \n",
       "3        75        0.0       3          10     13  \n",
       "4        75        0.0       0           1      1  "
      ]
     },
     "execution_count": 3,
     "metadata": {},
     "output_type": "execute_result"
    }
   ],
   "source": [
    "train.head()"
   ]
  },
  {
   "attachments": {
    "d9f8cc61-08cc-40ce-895f-acc47bbdc352.png": {
     "image/png": "[encoded data removed]"
    }
   },
   "cell_type": "markdown",
   "id": "e4de4619",
   "metadata": {
    "papermill": {
     "duration": 0.020916,
     "end_time": "2022-07-21T06:38:47.140895",
     "exception": false,
     "start_time": "2022-07-21T06:38:47.119979",
     "status": "completed"
    },
    "tags": []
   },
   "source": [
    "![image.png](attachment:d9f8cc61-08cc-40ce-895f-acc47bbdc352.png)"
   ]
  },
  {
   "cell_type": "code",
   "execution_count": 4,
   "id": "59a67215",
   "metadata": {
    "execution": {
     "iopub.execute_input": "2022-07-21T06:38:47.184587Z",
     "iopub.status.busy": "2022-07-21T06:38:47.183934Z",
     "iopub.status.idle": "2022-07-21T06:38:47.196136Z",
     "shell.execute_reply": "2022-07-21T06:38:47.195080Z"
    },
    "papermill": {
     "duration": 0.03653,
     "end_time": "2022-07-21T06:38:47.198316",
     "exception": false,
     "start_time": "2022-07-21T06:38:47.161786",
     "status": "completed"
    },
    "tags": []
   },
   "outputs": [
    {
     "data": {
      "text/html": [
       "<div>\n",
       "<style scoped>\n",
       "    .dataframe tbody tr th:only-of-type {\n",
       "        vertical-align: middle;\n",
       "    }\n",
       "\n",
       "    .dataframe tbody tr th {\n",
       "        vertical-align: top;\n",
       "    }\n",
       "\n",
       "    .dataframe thead th {\n",
       "        text-align: right;\n",
       "    }\n",
       "</style>\n",
       "<table border=\"1\" class=\"dataframe\">\n",
       "  <thead>\n",
       "    <tr style=\"text-align: right;\">\n",
       "      <th></th>\n",
       "      <th>datetime</th>\n",
       "      <th>season</th>\n",
       "      <th>holiday</th>\n",
       "      <th>workingday</th>\n",
       "      <th>weather</th>\n",
       "      <th>temp</th>\n",
       "      <th>atemp</th>\n",
       "      <th>humidity</th>\n",
       "      <th>windspeed</th>\n",
       "    </tr>\n",
       "  </thead>\n",
       "  <tbody>\n",
       "    <tr>\n",
       "      <th>0</th>\n",
       "      <td>2011-01-20 00:00:00</td>\n",
       "      <td>1</td>\n",
       "      <td>0</td>\n",
       "      <td>1</td>\n",
       "      <td>1</td>\n",
       "      <td>10.66</td>\n",
       "      <td>11.365</td>\n",
       "      <td>56</td>\n",
       "      <td>26.0027</td>\n",
       "    </tr>\n",
       "    <tr>\n",
       "      <th>1</th>\n",
       "      <td>2011-01-20 01:00:00</td>\n",
       "      <td>1</td>\n",
       "      <td>0</td>\n",
       "      <td>1</td>\n",
       "      <td>1</td>\n",
       "      <td>10.66</td>\n",
       "      <td>13.635</td>\n",
       "      <td>56</td>\n",
       "      <td>0.0000</td>\n",
       "    </tr>\n",
       "    <tr>\n",
       "      <th>2</th>\n",
       "      <td>2011-01-20 02:00:00</td>\n",
       "      <td>1</td>\n",
       "      <td>0</td>\n",
       "      <td>1</td>\n",
       "      <td>1</td>\n",
       "      <td>10.66</td>\n",
       "      <td>13.635</td>\n",
       "      <td>56</td>\n",
       "      <td>0.0000</td>\n",
       "    </tr>\n",
       "    <tr>\n",
       "      <th>3</th>\n",
       "      <td>2011-01-20 03:00:00</td>\n",
       "      <td>1</td>\n",
       "      <td>0</td>\n",
       "      <td>1</td>\n",
       "      <td>1</td>\n",
       "      <td>10.66</td>\n",
       "      <td>12.880</td>\n",
       "      <td>56</td>\n",
       "      <td>11.0014</td>\n",
       "    </tr>\n",
       "    <tr>\n",
       "      <th>4</th>\n",
       "      <td>2011-01-20 04:00:00</td>\n",
       "      <td>1</td>\n",
       "      <td>0</td>\n",
       "      <td>1</td>\n",
       "      <td>1</td>\n",
       "      <td>10.66</td>\n",
       "      <td>12.880</td>\n",
       "      <td>56</td>\n",
       "      <td>11.0014</td>\n",
       "    </tr>\n",
       "  </tbody>\n",
       "</table>\n",
       "</div>"
      ],
      "text/plain": [
       "              datetime  season  holiday  workingday  weather   temp   atemp  \\\n",
       "0  2011-01-20 00:00:00       1        0           1        1  10.66  11.365   \n",
       "1  2011-01-20 01:00:00       1        0           1        1  10.66  13.635   \n",
       "2  2011-01-20 02:00:00       1        0           1        1  10.66  13.635   \n",
       "3  2011-01-20 03:00:00       1        0           1        1  10.66  12.880   \n",
       "4  2011-01-20 04:00:00       1        0           1        1  10.66  12.880   \n",
       "\n",
       "   humidity  windspeed  \n",
       "0        56    26.0027  \n",
       "1        56     0.0000  \n",
       "2        56     0.0000  \n",
       "3        56    11.0014  \n",
       "4        56    11.0014  "
      ]
     },
     "execution_count": 4,
     "metadata": {},
     "output_type": "execute_result"
    }
   ],
   "source": [
    "test.head()"
   ]
  },
  {
   "cell_type": "markdown",
   "id": "566cf48f",
   "metadata": {
    "papermill": {
     "duration": 0.020508,
     "end_time": "2022-07-21T06:38:47.239285",
     "exception": false,
     "start_time": "2022-07-21T06:38:47.218777",
     "status": "completed"
    },
    "tags": []
   },
   "source": [
    "* 훈련 데이터와 테스트 데이터를 비교해봤을 때, 테스트 데이터에 casual과 registered 피처가 없으므로 모델을 훈련할 때도 훈련 데이터의 casual과 registered 피처를 빼야 한다."
   ]
  },
  {
   "cell_type": "code",
   "execution_count": 5,
   "id": "38da607e",
   "metadata": {
    "execution": {
     "iopub.execute_input": "2022-07-21T06:38:47.282728Z",
     "iopub.status.busy": "2022-07-21T06:38:47.282073Z",
     "iopub.status.idle": "2022-07-21T06:38:47.291490Z",
     "shell.execute_reply": "2022-07-21T06:38:47.290700Z"
    },
    "papermill": {
     "duration": 0.033307,
     "end_time": "2022-07-21T06:38:47.293606",
     "exception": false,
     "start_time": "2022-07-21T06:38:47.260299",
     "status": "completed"
    },
    "tags": []
   },
   "outputs": [
    {
     "data": {
      "text/html": [
       "<div>\n",
       "<style scoped>\n",
       "    .dataframe tbody tr th:only-of-type {\n",
       "        vertical-align: middle;\n",
       "    }\n",
       "\n",
       "    .dataframe tbody tr th {\n",
       "        vertical-align: top;\n",
       "    }\n",
       "\n",
       "    .dataframe thead th {\n",
       "        text-align: right;\n",
       "    }\n",
       "</style>\n",
       "<table border=\"1\" class=\"dataframe\">\n",
       "  <thead>\n",
       "    <tr style=\"text-align: right;\">\n",
       "      <th></th>\n",
       "      <th>datetime</th>\n",
       "      <th>count</th>\n",
       "    </tr>\n",
       "  </thead>\n",
       "  <tbody>\n",
       "    <tr>\n",
       "      <th>0</th>\n",
       "      <td>2011-01-20 00:00:00</td>\n",
       "      <td>0</td>\n",
       "    </tr>\n",
       "    <tr>\n",
       "      <th>1</th>\n",
       "      <td>2011-01-20 01:00:00</td>\n",
       "      <td>0</td>\n",
       "    </tr>\n",
       "    <tr>\n",
       "      <th>2</th>\n",
       "      <td>2011-01-20 02:00:00</td>\n",
       "      <td>0</td>\n",
       "    </tr>\n",
       "    <tr>\n",
       "      <th>3</th>\n",
       "      <td>2011-01-20 03:00:00</td>\n",
       "      <td>0</td>\n",
       "    </tr>\n",
       "    <tr>\n",
       "      <th>4</th>\n",
       "      <td>2011-01-20 04:00:00</td>\n",
       "      <td>0</td>\n",
       "    </tr>\n",
       "  </tbody>\n",
       "</table>\n",
       "</div>"
      ],
      "text/plain": [
       "              datetime  count\n",
       "0  2011-01-20 00:00:00      0\n",
       "1  2011-01-20 01:00:00      0\n",
       "2  2011-01-20 02:00:00      0\n",
       "3  2011-01-20 03:00:00      0\n",
       "4  2011-01-20 04:00:00      0"
      ]
     },
     "execution_count": 5,
     "metadata": {},
     "output_type": "execute_result"
    }
   ],
   "source": [
    "submission.head() # 제출 샘플 파일 확인"
   ]
  },
  {
   "cell_type": "markdown",
   "id": "7baab7ca",
   "metadata": {
    "papermill": {
     "duration": 0.020037,
     "end_time": "2022-07-21T06:38:47.334415",
     "exception": false,
     "start_time": "2022-07-21T06:38:47.314378",
     "status": "completed"
    },
    "tags": []
   },
   "source": [
    "* sample submission에서 보이듯 count를 예측하면 된다고 Label을 명시해준다."
   ]
  },
  {
   "cell_type": "code",
   "execution_count": 6,
   "id": "b717a674",
   "metadata": {
    "execution": {
     "iopub.execute_input": "2022-07-21T06:38:47.377301Z",
     "iopub.status.busy": "2022-07-21T06:38:47.376641Z",
     "iopub.status.idle": "2022-07-21T06:38:47.402978Z",
     "shell.execute_reply": "2022-07-21T06:38:47.401917Z"
    },
    "papermill": {
     "duration": 0.050579,
     "end_time": "2022-07-21T06:38:47.405256",
     "exception": false,
     "start_time": "2022-07-21T06:38:47.354677",
     "status": "completed"
    },
    "tags": []
   },
   "outputs": [
    {
     "name": "stdout",
     "output_type": "stream",
     "text": [
      "<class 'pandas.core.frame.DataFrame'>\n",
      "RangeIndex: 10886 entries, 0 to 10885\n",
      "Data columns (total 12 columns):\n",
      " #   Column      Non-Null Count  Dtype  \n",
      "---  ------      --------------  -----  \n",
      " 0   datetime    10886 non-null  object \n",
      " 1   season      10886 non-null  int64  \n",
      " 2   holiday     10886 non-null  int64  \n",
      " 3   workingday  10886 non-null  int64  \n",
      " 4   weather     10886 non-null  int64  \n",
      " 5   temp        10886 non-null  float64\n",
      " 6   atemp       10886 non-null  float64\n",
      " 7   humidity    10886 non-null  int64  \n",
      " 8   windspeed   10886 non-null  float64\n",
      " 9   casual      10886 non-null  int64  \n",
      " 10  registered  10886 non-null  int64  \n",
      " 11  count       10886 non-null  int64  \n",
      "dtypes: float64(3), int64(8), object(1)\n",
      "memory usage: 1020.7+ KB\n"
     ]
    }
   ],
   "source": [
    "train.info()"
   ]
  },
  {
   "cell_type": "code",
   "execution_count": 7,
   "id": "a613f4ba",
   "metadata": {
    "execution": {
     "iopub.execute_input": "2022-07-21T06:38:47.449026Z",
     "iopub.status.busy": "2022-07-21T06:38:47.448387Z",
     "iopub.status.idle": "2022-07-21T06:38:47.461301Z",
     "shell.execute_reply": "2022-07-21T06:38:47.459331Z"
    },
    "papermill": {
     "duration": 0.038525,
     "end_time": "2022-07-21T06:38:47.464531",
     "exception": false,
     "start_time": "2022-07-21T06:38:47.426006",
     "status": "completed"
    },
    "tags": []
   },
   "outputs": [
    {
     "name": "stdout",
     "output_type": "stream",
     "text": [
      "<class 'pandas.core.frame.DataFrame'>\n",
      "RangeIndex: 6493 entries, 0 to 6492\n",
      "Data columns (total 9 columns):\n",
      " #   Column      Non-Null Count  Dtype  \n",
      "---  ------      --------------  -----  \n",
      " 0   datetime    6493 non-null   object \n",
      " 1   season      6493 non-null   int64  \n",
      " 2   holiday     6493 non-null   int64  \n",
      " 3   workingday  6493 non-null   int64  \n",
      " 4   weather     6493 non-null   int64  \n",
      " 5   temp        6493 non-null   float64\n",
      " 6   atemp       6493 non-null   float64\n",
      " 7   humidity    6493 non-null   int64  \n",
      " 8   windspeed   6493 non-null   float64\n",
      "dtypes: float64(3), int64(5), object(1)\n",
      "memory usage: 456.7+ KB\n"
     ]
    }
   ],
   "source": [
    "test.info()"
   ]
  },
  {
   "cell_type": "markdown",
   "id": "4ecb8250",
   "metadata": {
    "papermill": {
     "duration": 0.020729,
     "end_time": "2022-07-21T06:38:47.507320",
     "exception": false,
     "start_time": "2022-07-21T06:38:47.486591",
     "status": "completed"
    },
    "tags": []
   },
   "source": [
    "# 1.2 더 효과적인 분석을 위한 피처 엔지니어링"
   ]
  },
  {
   "cell_type": "markdown",
   "id": "0c6ab380",
   "metadata": {
    "papermill": {
     "duration": 0.020243,
     "end_time": "2022-07-21T06:38:47.547978",
     "exception": false,
     "start_time": "2022-07-21T06:38:47.527735",
     "status": "completed"
    },
    "tags": []
   },
   "source": [
    "* 피처 엔지니어링란 설명 변수를 분석하기 좋은 형태로 가공하는 것을 뜻한다.\n",
    "*  좋은 피처는 데이터를 가장 두드러진 특징을 표현할 뿐만 아니라, 모델의 가정에도 맞아야 한다. 그러므로 피처 엔지니어링이 필요하다.\n",
    "* 일부 데이터는 시각화하기에 적합하지 않은 형태일 수 있으므로 시각화 하기 전에 해당 피처를 분석하기 적합하게 변환한다.\n",
    "* datetime 피처는 연도, 월, 일, 시간, 분, 초로 구성되어 있다.\n",
    "  \n",
    "  따라서 세부적으로 분석해보기 위해 구성요소별로 나누어 피처 추가한다.\n",
    "* datetime 피처는 object 타입이기 때문에 문자열처럼 다룰 수 있어 split() 함수를 사용해 공백 기준으로 문자를 나눈다."
   ]
  },
  {
   "cell_type": "code",
   "execution_count": 8,
   "id": "4f734e5b",
   "metadata": {
    "execution": {
     "iopub.execute_input": "2022-07-21T06:38:47.591168Z",
     "iopub.status.busy": "2022-07-21T06:38:47.590412Z",
     "iopub.status.idle": "2022-07-21T06:38:47.598688Z",
     "shell.execute_reply": "2022-07-21T06:38:47.597019Z"
    },
    "papermill": {
     "duration": 0.032366,
     "end_time": "2022-07-21T06:38:47.600869",
     "exception": false,
     "start_time": "2022-07-21T06:38:47.568503",
     "status": "completed"
    },
    "tags": []
   },
   "outputs": [
    {
     "name": "stdout",
     "output_type": "stream",
     "text": [
      "2011-01-05 09:00:00\n",
      "['2011-01-05', '09:00:00']\n",
      "2011-01-05\n",
      "09:00:00\n"
     ]
    }
   ],
   "source": [
    "print(train['datetime'][100]) # datetime 100번째 요소\n",
    "print(train['datetime'][100].split()) # 공백 기준으로 문자열 나누기\n",
    "print(train['datetime'][100].split()[0]) # 날짜\n",
    "print(train['datetime'][100].split()[1]) # 시간"
   ]
  },
  {
   "cell_type": "code",
   "execution_count": 9,
   "id": "c2e1ae99",
   "metadata": {
    "execution": {
     "iopub.execute_input": "2022-07-21T06:38:47.643569Z",
     "iopub.status.busy": "2022-07-21T06:38:47.643120Z",
     "iopub.status.idle": "2022-07-21T06:38:47.650911Z",
     "shell.execute_reply": "2022-07-21T06:38:47.649820Z"
    },
    "papermill": {
     "duration": 0.032471,
     "end_time": "2022-07-21T06:38:47.653784",
     "exception": false,
     "start_time": "2022-07-21T06:38:47.621313",
     "status": "completed"
    },
    "tags": []
   },
   "outputs": [
    {
     "name": "stdout",
     "output_type": "stream",
     "text": [
      "2011-01-05\n",
      "['2011', '01', '05']\n",
      "2011\n",
      "01\n",
      "05\n"
     ]
    }
   ],
   "source": [
    "print(train['datetime'][100].split()[0]) # 날짜\n",
    "print(train['datetime'][100].split()[0].split('-')) # \"_\" 기준으로 문자열 나누기\n",
    "print(train['datetime'][100].split()[0].split('-')[0]) # 연도\n",
    "print(train['datetime'][100].split()[0].split('-')[1]) # 월\n",
    "print(train['datetime'][100].split()[0].split('-')[2]) # 일"
   ]
  },
  {
   "cell_type": "code",
   "execution_count": 10,
   "id": "37ab2cca",
   "metadata": {
    "execution": {
     "iopub.execute_input": "2022-07-21T06:38:47.699041Z",
     "iopub.status.busy": "2022-07-21T06:38:47.698685Z",
     "iopub.status.idle": "2022-07-21T06:38:47.706846Z",
     "shell.execute_reply": "2022-07-21T06:38:47.704942Z"
    },
    "papermill": {
     "duration": 0.03359,
     "end_time": "2022-07-21T06:38:47.709489",
     "exception": false,
     "start_time": "2022-07-21T06:38:47.675899",
     "status": "completed"
    },
    "tags": []
   },
   "outputs": [
    {
     "name": "stdout",
     "output_type": "stream",
     "text": [
      "09:00:00\n",
      "['09', '00', '00']\n",
      "09\n",
      "00\n",
      "00\n"
     ]
    }
   ],
   "source": [
    "print(train['datetime'][100].split()[1]) # 시간\n",
    "print(train['datetime'][100].split()[1].split(':')) # \":\" 기준으로 문자열 나누기\n",
    "print(train['datetime'][100].split()[1].split(':')[0]) # 시간\n",
    "print(train['datetime'][100].split()[1].split(':')[1]) # 분\n",
    "print(train['datetime'][100].split()[1].split(':')[2]) # 초"
   ]
  },
  {
   "cell_type": "code",
   "execution_count": 11,
   "id": "0c1f95da",
   "metadata": {
    "execution": {
     "iopub.execute_input": "2022-07-21T06:38:47.754442Z",
     "iopub.status.busy": "2022-07-21T06:38:47.754050Z",
     "iopub.status.idle": "2022-07-21T06:38:47.816347Z",
     "shell.execute_reply": "2022-07-21T06:38:47.815394Z"
    },
    "papermill": {
     "duration": 0.086965,
     "end_time": "2022-07-21T06:38:47.818288",
     "exception": false,
     "start_time": "2022-07-21T06:38:47.731323",
     "status": "completed"
    },
    "tags": []
   },
   "outputs": [],
   "source": [
    "train['date'] = train['datetime'].apply(lambda x: x.split()[0]) # 날짜 피처 생성\n",
    "\n",
    "# 연도, 월, 일, 시, 분, 초 피처를 차례로 생성\n",
    "train['year'] = train['datetime'].apply(lambda x: x.split()[0].split('-')[0]) \n",
    "train['month'] = train['datetime'].apply(lambda x: x.split()[0].split('-')[1])\n",
    "train['day'] = train['datetime'].apply(lambda x: x.split()[0].split('-')[2]) \n",
    "train['hour'] = train['datetime'].apply(lambda x: x.split()[1].split(':')[0])\n",
    "train['minute'] = train['datetime'].apply(lambda x: x.split()[1].split(':')[1])\n",
    "train['second'] = train['datetime'].apply(lambda x: x.split()[1].split(':')[2])"
   ]
  },
  {
   "cell_type": "markdown",
   "id": "3bb9096a",
   "metadata": {
    "papermill": {
     "duration": 0.021652,
     "end_time": "2022-07-21T06:38:47.862245",
     "exception": false,
     "start_time": "2022-07-21T06:38:47.840593",
     "status": "completed"
    },
    "tags": []
   },
   "source": [
    "판다스 apply() 함수로 앞의 로직을 datetime에 적용해\n",
    "날짜(date), 연도(year), 월(month), 일(day), 시(hour), 분(minute), 초(second) 피처 생성한다."
   ]
  },
  {
   "cell_type": "code",
   "execution_count": 12,
   "id": "9f4f6f01",
   "metadata": {
    "execution": {
     "iopub.execute_input": "2022-07-21T06:38:47.908041Z",
     "iopub.status.busy": "2022-07-21T06:38:47.907627Z",
     "iopub.status.idle": "2022-07-21T06:38:47.916230Z",
     "shell.execute_reply": "2022-07-21T06:38:47.914974Z"
    },
    "papermill": {
     "duration": 0.034256,
     "end_time": "2022-07-21T06:38:47.918571",
     "exception": false,
     "start_time": "2022-07-21T06:38:47.884315",
     "status": "completed"
    },
    "tags": []
   },
   "outputs": [
    {
     "name": "stdout",
     "output_type": "stream",
     "text": [
      "2011-01-05\n",
      "2011-01-05 00:00:00\n",
      "2\n",
      "Wednesday\n"
     ]
    }
   ],
   "source": [
    "from datetime import datetime # datatime 라이브러리 임포트\n",
    "import calendar\n",
    "\n",
    "print(train['date'][100]) # 날짜\n",
    "print(datetime.strptime(train['date'][100], '%Y-%m-%d')) # datetime 타입으로 변경\n",
    "print(datetime.strptime(train['date'][100], '%Y-%m-%d').weekday()) # 정수로 요일 반환\n",
    "print(calendar.day_name[datetime.strptime(train['date'][100], '%Y-%m-%d').weekday()]) # 문자열로 요일 반환"
   ]
  },
  {
   "cell_type": "markdown",
   "id": "d66bd3c6",
   "metadata": {
    "papermill": {
     "duration": 0.020754,
     "end_time": "2022-07-21T06:38:47.960515",
     "exception": false,
     "start_time": "2022-07-21T06:38:47.939761",
     "status": "completed"
    },
    "tags": []
   },
   "source": [
    "> datetime 모듈\n",
    "> \n",
    "> 날짜와 시간을 조작하는 클래스를 제공한다."
   ]
  },
  {
   "cell_type": "markdown",
   "id": "67713ff7",
   "metadata": {
    "papermill": {
     "duration": 0.020725,
     "end_time": "2022-07-21T06:38:48.002519",
     "exception": false,
     "start_time": "2022-07-21T06:38:47.981794",
     "status": "completed"
    },
    "tags": []
   },
   "source": [
    "> calendar 모듈\n",
    "> \n",
    "> 달력을 볼 수 있게 해준다."
   ]
  },
  {
   "cell_type": "markdown",
   "id": "2361866a",
   "metadata": {
    "papermill": {
     "duration": 0.020411,
     "end_time": "2022-07-21T06:38:48.043755",
     "exception": false,
     "start_time": "2022-07-21T06:38:48.023344",
     "status": "completed"
    },
    "tags": []
   },
   "source": [
    "> calendar.day_name : 현재 로케일의 요일을 나타내는 배열이다."
   ]
  },
  {
   "cell_type": "markdown",
   "id": "ab3b19d6",
   "metadata": {
    "papermill": {
     "duration": 0.020461,
     "end_time": "2022-07-21T06:38:48.084580",
     "exception": false,
     "start_time": "2022-07-21T06:38:48.064119",
     "status": "completed"
    },
    "tags": []
   },
   "source": [
    "> strptime() 함수\n",
    ">\n",
    "> 날짜와 시간 형식의 문자열을 datetime으로 변환한다."
   ]
  },
  {
   "cell_type": "code",
   "execution_count": 13,
   "id": "66a4944b",
   "metadata": {
    "execution": {
     "iopub.execute_input": "2022-07-21T06:38:48.129430Z",
     "iopub.status.busy": "2022-07-21T06:38:48.129042Z",
     "iopub.status.idle": "2022-07-21T06:38:48.264772Z",
     "shell.execute_reply": "2022-07-21T06:38:48.263543Z"
    },
    "papermill": {
     "duration": 0.161347,
     "end_time": "2022-07-21T06:38:48.267424",
     "exception": false,
     "start_time": "2022-07-21T06:38:48.106077",
     "status": "completed"
    },
    "tags": []
   },
   "outputs": [],
   "source": [
    "train['weekday'] = train['date'].apply(\n",
    "    lambda dateString: \n",
    "    calendar.day_name[datetime.strptime(dateString,\"%Y-%m-%d\").weekday()])"
   ]
  },
  {
   "cell_type": "markdown",
   "id": "4a1c3ae3",
   "metadata": {
    "papermill": {
     "duration": 0.020892,
     "end_time": "2022-07-21T06:38:48.310415",
     "exception": false,
     "start_time": "2022-07-21T06:38:48.289523",
     "status": "completed"
    },
    "tags": []
   },
   "source": [
    "* 앞의 로직을 apply() 함수로 적용해 요일(weekday) 피처 추가한다."
   ]
  },
  {
   "cell_type": "markdown",
   "id": "a1cdfc30",
   "metadata": {
    "papermill": {
     "duration": 0.020262,
     "end_time": "2022-07-21T06:38:48.351386",
     "exception": false,
     "start_time": "2022-07-21T06:38:48.331124",
     "status": "completed"
    },
    "tags": []
   },
   "source": [
    "> DateString\n",
    "> \n",
    "> 약식 월 이름을 사용하는 MM-dd-yyyy 형식의 시스템 날짜를 반환한다."
   ]
  },
  {
   "cell_type": "code",
   "execution_count": 14,
   "id": "34fa691a",
   "metadata": {
    "execution": {
     "iopub.execute_input": "2022-07-21T06:38:48.396976Z",
     "iopub.status.busy": "2022-07-21T06:38:48.396572Z",
     "iopub.status.idle": "2022-07-21T06:38:48.407642Z",
     "shell.execute_reply": "2022-07-21T06:38:48.406711Z"
    },
    "papermill": {
     "duration": 0.036611,
     "end_time": "2022-07-21T06:38:48.409959",
     "exception": false,
     "start_time": "2022-07-21T06:38:48.373348",
     "status": "completed"
    },
    "tags": []
   },
   "outputs": [],
   "source": [
    "train['season'] = train['season'].map({1: 'Spring', \n",
    "                                       2: 'Summer', \n",
    "                                       3: 'Fall', \n",
    "                                       4: 'Winter' })\n",
    "train['weather'] = train['weather'].map({1: 'Clear', \n",
    "                                         2: 'Mist, Few clouds', \n",
    "                                         3: 'Light Snow, Rain, Thunder', \n",
    "                                         4: 'Heavy Snow, Rain, Thunder'})"
   ]
  },
  {
   "cell_type": "markdown",
   "id": "79103033",
   "metadata": {
    "papermill": {
     "duration": 0.021462,
     "end_time": "2022-07-21T06:38:48.452462",
     "exception": false,
     "start_time": "2022-07-21T06:38:48.431000",
     "status": "completed"
    },
    "tags": []
   },
   "source": [
    "* season과 weather 피처는 범주형 데이터인데 현재 1, 2, 3, 4라는 숫자로 표현되어 있어서 정확히 어떤 의미인지 파악하기 어렵다.\n",
    "\n",
    "  시각화 시 의미가 잘드러나도록 map() 함수를 사용하여 문자열로 변화시킨다."
   ]
  },
  {
   "cell_type": "code",
   "execution_count": 15,
   "id": "0fda8a63",
   "metadata": {
    "execution": {
     "iopub.execute_input": "2022-07-21T06:38:48.496247Z",
     "iopub.status.busy": "2022-07-21T06:38:48.495459Z",
     "iopub.status.idle": "2022-07-21T06:38:48.516364Z",
     "shell.execute_reply": "2022-07-21T06:38:48.515229Z"
    },
    "papermill": {
     "duration": 0.044654,
     "end_time": "2022-07-21T06:38:48.518425",
     "exception": false,
     "start_time": "2022-07-21T06:38:48.473771",
     "status": "completed"
    },
    "tags": []
   },
   "outputs": [
    {
     "data": {
      "text/html": [
       "<div>\n",
       "<style scoped>\n",
       "    .dataframe tbody tr th:only-of-type {\n",
       "        vertical-align: middle;\n",
       "    }\n",
       "\n",
       "    .dataframe tbody tr th {\n",
       "        vertical-align: top;\n",
       "    }\n",
       "\n",
       "    .dataframe thead th {\n",
       "        text-align: right;\n",
       "    }\n",
       "</style>\n",
       "<table border=\"1\" class=\"dataframe\">\n",
       "  <thead>\n",
       "    <tr style=\"text-align: right;\">\n",
       "      <th></th>\n",
       "      <th>datetime</th>\n",
       "      <th>season</th>\n",
       "      <th>holiday</th>\n",
       "      <th>workingday</th>\n",
       "      <th>weather</th>\n",
       "      <th>temp</th>\n",
       "      <th>atemp</th>\n",
       "      <th>humidity</th>\n",
       "      <th>windspeed</th>\n",
       "      <th>casual</th>\n",
       "      <th>registered</th>\n",
       "      <th>count</th>\n",
       "      <th>date</th>\n",
       "      <th>year</th>\n",
       "      <th>month</th>\n",
       "      <th>day</th>\n",
       "      <th>hour</th>\n",
       "      <th>minute</th>\n",
       "      <th>second</th>\n",
       "      <th>weekday</th>\n",
       "    </tr>\n",
       "  </thead>\n",
       "  <tbody>\n",
       "    <tr>\n",
       "      <th>0</th>\n",
       "      <td>2011-01-01 00:00:00</td>\n",
       "      <td>Spring</td>\n",
       "      <td>0</td>\n",
       "      <td>0</td>\n",
       "      <td>Clear</td>\n",
       "      <td>9.84</td>\n",
       "      <td>14.395</td>\n",
       "      <td>81</td>\n",
       "      <td>0.0</td>\n",
       "      <td>3</td>\n",
       "      <td>13</td>\n",
       "      <td>16</td>\n",
       "      <td>2011-01-01</td>\n",
       "      <td>2011</td>\n",
       "      <td>01</td>\n",
       "      <td>01</td>\n",
       "      <td>00</td>\n",
       "      <td>00</td>\n",
       "      <td>00</td>\n",
       "      <td>Saturday</td>\n",
       "    </tr>\n",
       "    <tr>\n",
       "      <th>1</th>\n",
       "      <td>2011-01-01 01:00:00</td>\n",
       "      <td>Spring</td>\n",
       "      <td>0</td>\n",
       "      <td>0</td>\n",
       "      <td>Clear</td>\n",
       "      <td>9.02</td>\n",
       "      <td>13.635</td>\n",
       "      <td>80</td>\n",
       "      <td>0.0</td>\n",
       "      <td>8</td>\n",
       "      <td>32</td>\n",
       "      <td>40</td>\n",
       "      <td>2011-01-01</td>\n",
       "      <td>2011</td>\n",
       "      <td>01</td>\n",
       "      <td>01</td>\n",
       "      <td>01</td>\n",
       "      <td>00</td>\n",
       "      <td>00</td>\n",
       "      <td>Saturday</td>\n",
       "    </tr>\n",
       "    <tr>\n",
       "      <th>2</th>\n",
       "      <td>2011-01-01 02:00:00</td>\n",
       "      <td>Spring</td>\n",
       "      <td>0</td>\n",
       "      <td>0</td>\n",
       "      <td>Clear</td>\n",
       "      <td>9.02</td>\n",
       "      <td>13.635</td>\n",
       "      <td>80</td>\n",
       "      <td>0.0</td>\n",
       "      <td>5</td>\n",
       "      <td>27</td>\n",
       "      <td>32</td>\n",
       "      <td>2011-01-01</td>\n",
       "      <td>2011</td>\n",
       "      <td>01</td>\n",
       "      <td>01</td>\n",
       "      <td>02</td>\n",
       "      <td>00</td>\n",
       "      <td>00</td>\n",
       "      <td>Saturday</td>\n",
       "    </tr>\n",
       "    <tr>\n",
       "      <th>3</th>\n",
       "      <td>2011-01-01 03:00:00</td>\n",
       "      <td>Spring</td>\n",
       "      <td>0</td>\n",
       "      <td>0</td>\n",
       "      <td>Clear</td>\n",
       "      <td>9.84</td>\n",
       "      <td>14.395</td>\n",
       "      <td>75</td>\n",
       "      <td>0.0</td>\n",
       "      <td>3</td>\n",
       "      <td>10</td>\n",
       "      <td>13</td>\n",
       "      <td>2011-01-01</td>\n",
       "      <td>2011</td>\n",
       "      <td>01</td>\n",
       "      <td>01</td>\n",
       "      <td>03</td>\n",
       "      <td>00</td>\n",
       "      <td>00</td>\n",
       "      <td>Saturday</td>\n",
       "    </tr>\n",
       "    <tr>\n",
       "      <th>4</th>\n",
       "      <td>2011-01-01 04:00:00</td>\n",
       "      <td>Spring</td>\n",
       "      <td>0</td>\n",
       "      <td>0</td>\n",
       "      <td>Clear</td>\n",
       "      <td>9.84</td>\n",
       "      <td>14.395</td>\n",
       "      <td>75</td>\n",
       "      <td>0.0</td>\n",
       "      <td>0</td>\n",
       "      <td>1</td>\n",
       "      <td>1</td>\n",
       "      <td>2011-01-01</td>\n",
       "      <td>2011</td>\n",
       "      <td>01</td>\n",
       "      <td>01</td>\n",
       "      <td>04</td>\n",
       "      <td>00</td>\n",
       "      <td>00</td>\n",
       "      <td>Saturday</td>\n",
       "    </tr>\n",
       "  </tbody>\n",
       "</table>\n",
       "</div>"
      ],
      "text/plain": [
       "              datetime  season  holiday  workingday weather  temp   atemp  \\\n",
       "0  2011-01-01 00:00:00  Spring        0           0   Clear  9.84  14.395   \n",
       "1  2011-01-01 01:00:00  Spring        0           0   Clear  9.02  13.635   \n",
       "2  2011-01-01 02:00:00  Spring        0           0   Clear  9.02  13.635   \n",
       "3  2011-01-01 03:00:00  Spring        0           0   Clear  9.84  14.395   \n",
       "4  2011-01-01 04:00:00  Spring        0           0   Clear  9.84  14.395   \n",
       "\n",
       "   humidity  windspeed  casual  registered  count        date  year month day  \\\n",
       "0        81        0.0       3          13     16  2011-01-01  2011    01  01   \n",
       "1        80        0.0       8          32     40  2011-01-01  2011    01  01   \n",
       "2        80        0.0       5          27     32  2011-01-01  2011    01  01   \n",
       "3        75        0.0       3          10     13  2011-01-01  2011    01  01   \n",
       "4        75        0.0       0           1      1  2011-01-01  2011    01  01   \n",
       "\n",
       "  hour minute second   weekday  \n",
       "0   00     00     00  Saturday  \n",
       "1   01     00     00  Saturday  \n",
       "2   02     00     00  Saturday  \n",
       "3   03     00     00  Saturday  \n",
       "4   04     00     00  Saturday  "
      ]
     },
     "execution_count": 15,
     "metadata": {},
     "output_type": "execute_result"
    }
   ],
   "source": [
    "train.head()"
   ]
  },
  {
   "cell_type": "markdown",
   "id": "fe1f7d5f",
   "metadata": {
    "papermill": {
     "duration": 0.020406,
     "end_time": "2022-07-21T06:38:48.559923",
     "exception": false,
     "start_time": "2022-07-21T06:38:48.539517",
     "status": "completed"
    },
    "tags": []
   },
   "source": [
    "# 1.3 데이터 시각화"
   ]
  },
  {
   "cell_type": "code",
   "execution_count": 16,
   "id": "991a9354",
   "metadata": {
    "execution": {
     "iopub.execute_input": "2022-07-21T06:38:48.603221Z",
     "iopub.status.busy": "2022-07-21T06:38:48.602600Z",
     "iopub.status.idle": "2022-07-21T06:38:49.763882Z",
     "shell.execute_reply": "2022-07-21T06:38:49.762909Z"
    },
    "papermill": {
     "duration": 1.185702,
     "end_time": "2022-07-21T06:38:49.766321",
     "exception": false,
     "start_time": "2022-07-21T06:38:48.580619",
     "status": "completed"
    },
    "tags": []
   },
   "outputs": [],
   "source": [
    "import seaborn as sns\n",
    "import matplotlib as mpl\n",
    "import matplotlib.pyplot as plt\n",
    "%matplotlib inline"
   ]
  },
  {
   "cell_type": "markdown",
   "id": "6a0b4b63",
   "metadata": {
    "papermill": {
     "duration": 0.020349,
     "end_time": "2022-07-21T06:38:49.808077",
     "exception": false,
     "start_time": "2022-07-21T06:38:49.787728",
     "status": "completed"
    },
    "tags": []
   },
   "source": [
    "> matplotlib\n",
    ">\n",
    "> 다양한 데이터를 많은 방법으로 도식화 할 수 있도록 하는 파이썬 라이브러리로써, 우리는 matplotlib의 pyplot을 이용하게 된다.\n",
    ">\n",
    "> matplotlib을 사용하기 위해서는 먼저 matplotlib을 설치하고 matplotlib.pyplot을 import를 해주어야 한다."
   ]
  },
  {
   "cell_type": "markdown",
   "id": "9d7e0c6c",
   "metadata": {
    "papermill": {
     "duration": 0.021275,
     "end_time": "2022-07-21T06:38:49.850342",
     "exception": false,
     "start_time": "2022-07-21T06:38:49.829067",
     "status": "completed"
    },
    "tags": []
   },
   "source": [
    "분포도"
   ]
  },
  {
   "cell_type": "markdown",
   "id": "1d20e13b",
   "metadata": {
    "papermill": {
     "duration": 0.020874,
     "end_time": "2022-07-21T06:38:49.893187",
     "exception": false,
     "start_time": "2022-07-21T06:38:49.872313",
     "status": "completed"
    },
    "tags": []
   },
   "source": [
    "* 분포도(distribution plot)는 수치형 데이터의 집계 값(총 개수, 비율 등)을 나타내는 그래프"
   ]
  },
  {
   "cell_type": "code",
   "execution_count": 17,
   "id": "91578afa",
   "metadata": {
    "execution": {
     "iopub.execute_input": "2022-07-21T06:38:49.937487Z",
     "iopub.status.busy": "2022-07-21T06:38:49.936826Z",
     "iopub.status.idle": "2022-07-21T06:38:50.323782Z",
     "shell.execute_reply": "2022-07-21T06:38:50.322654Z"
    },
    "papermill": {
     "duration": 0.411786,
     "end_time": "2022-07-21T06:38:50.326178",
     "exception": false,
     "start_time": "2022-07-21T06:38:49.914392",
     "status": "completed"
    },
    "tags": []
   },
   "outputs": [
    {
     "data": {
      "image/png": "[encoded data removed]",
      "text/plain": [
       "<Figure size 360x360 with 1 Axes>"
      ]
     },
     "metadata": {
      "needs_background": "light"
     },
     "output_type": "display_data"
    }
   ],
   "source": [
    "# 타깃값인 count의 분포도 그리기\n",
    "# 이번 장에서는 타깃값의 분포를 알면 훈련 시 타깃값을 그대로 사용할지 변환해 사용할지 파악할 수 있기 때문\n",
    "\n",
    "mpl.rc('font', size=15)      # 폰트 크기를 15로 설정 \n",
    "sns.displot(train['count']); # 분포도 출력"
   ]
  },
  {
   "cell_type": "markdown",
   "id": "e1bedc7d",
   "metadata": {
    "papermill": {
     "duration": 0.021037,
     "end_time": "2022-07-21T06:38:50.369589",
     "exception": false,
     "start_time": "2022-07-21T06:38:50.348552",
     "status": "completed"
    },
    "tags": []
   },
   "source": [
    "* x축은 타깃값인 count를 나타내고, y축은 총 개수를 나타낸다.\n",
    "* 분포도를 보면 타깃값인 count가 0 근처에 몰려있다. 즉, 분포가 왼쪽으로 많이 편향되어 있다.\n",
    "* 회귀 모델이 좋은 성능을 내려면 데이터가 정규분포를 따라야 하는데, 현재 타깃값 count는 정규분포를 따르지 않는다.\n",
    "* 따라서 현재 타깃값을 그대로 사용해 모델링한다면 좋은 성능을 기대하기 어렵다.\n",
    "\n",
    "* 데이터 분포를 정규분포에 가깝게 만들기 위해 가장 많이 사용하는 방법은 로그변환이다.\n",
    "* 로그변환은 count 분포와 같이 데이터가 왼쪽으로 편향되어 있을 때 사용한다."
   ]
  },
  {
   "cell_type": "code",
   "execution_count": 18,
   "id": "bdd6c769",
   "metadata": {
    "execution": {
     "iopub.execute_input": "2022-07-21T06:38:50.417501Z",
     "iopub.status.busy": "2022-07-21T06:38:50.416904Z",
     "iopub.status.idle": "2022-07-21T06:38:50.741487Z",
     "shell.execute_reply": "2022-07-21T06:38:50.740614Z"
    },
    "papermill": {
     "duration": 0.35127,
     "end_time": "2022-07-21T06:38:50.743621",
     "exception": false,
     "start_time": "2022-07-21T06:38:50.392351",
     "status": "completed"
    },
    "tags": []
   },
   "outputs": [
    {
     "data": {
      "image/png": "[encoded data removed]",
      "text/plain": [
       "<Figure size 360x360 with 1 Axes>"
      ]
     },
     "metadata": {
      "needs_background": "light"
     },
     "output_type": "display_data"
    }
   ],
   "source": [
    "sns.displot(np.log(train['count']));"
   ]
  },
  {
   "cell_type": "markdown",
   "id": "eb647510",
   "metadata": {
    "papermill": {
     "duration": 0.021223,
     "end_time": "2022-07-21T06:38:50.786761",
     "exception": false,
     "start_time": "2022-07-21T06:38:50.765538",
     "status": "completed"
    },
    "tags": []
   },
   "source": [
    "타깃값 분포가 정규분포에 가까울수록 회귀 모델 성능이 좋다.\n",
    "\n",
    "피처를 바로 활용해 count를 예측하는 것보다 log(count)를 예측하는 편이 더 정확하다.\n",
    "\n",
    "따라서 여기서도 타깃값을 log(count)로 변환해 사용한다.\n",
    "\n",
    "다만, 마지막에 지수변환을 하여 실제 타깃값인 count로 복원해야 한다."
   ]
  },
  {
   "cell_type": "markdown",
   "id": "3395aa10",
   "metadata": {
    "papermill": {
     "duration": 0.021453,
     "end_time": "2022-07-21T06:38:50.831096",
     "exception": false,
     "start_time": "2022-07-21T06:38:50.809643",
     "status": "completed"
    },
    "tags": []
   },
   "source": [
    "막대 그래프"
   ]
  },
  {
   "cell_type": "markdown",
   "id": "2c940bb8",
   "metadata": {
    "papermill": {
     "duration": 0.021184,
     "end_time": "2022-07-21T06:38:50.874025",
     "exception": false,
     "start_time": "2022-07-21T06:38:50.852841",
     "status": "completed"
    },
    "tags": []
   },
   "source": [
    "* 연도, 월, 일, 시, 분, 초별로 총 여섯 가지의 평균 대여 수량을 막대 그래프로 그려보기\n",
    "* 이 피처들은 범주형 데이터이며 각 범주형 데이터에 따라 평균 대여 수량이 어떻게 다른지 파악한다."
   ]
  },
  {
   "cell_type": "code",
   "execution_count": 19,
   "id": "cb3db4bb",
   "metadata": {
    "execution": {
     "iopub.execute_input": "2022-07-21T06:38:50.919437Z",
     "iopub.status.busy": "2022-07-21T06:38:50.918752Z",
     "iopub.status.idle": "2022-07-21T06:38:53.938449Z",
     "shell.execute_reply": "2022-07-21T06:38:53.937488Z"
    },
    "papermill": {
     "duration": 3.04547,
     "end_time": "2022-07-21T06:38:53.940872",
     "exception": false,
     "start_time": "2022-07-21T06:38:50.895402",
     "status": "completed"
    },
    "tags": []
   },
   "outputs": [
    {
     "data": {
      "image/png": "[encoded data removed]",
      "text/plain": [
       "<Figure size 720x648 with 6 Axes>"
      ]
     },
     "metadata": {
      "needs_background": "light"
     },
     "output_type": "display_data"
    }
   ],
   "source": [
    "# 스텝 1 : m행 n열 Figure 준비\n",
    "mpl.rc('font', size=14)       # 폰트 크기 설정\n",
    "mpl.rc('axes', titlesize=15)  # 각 축의 제목 크기 설정\n",
    "figure, axes = plt.subplots(nrows=3, ncols=2) # 3행 2열 Figure 생성 \n",
    "plt.tight_layout()            # 그래프 사이에 여백 확보 \n",
    "figure.set_size_inches(10, 9) # 전체 Figure 크기를 10x9인치로 설정 \n",
    "\n",
    "# 스텝 2 : 각 축에 서브플롯 할당\n",
    "# 각 축에 연도, 월, 일, 시간, 분, 초별 평균 대여 수량 막대 그래프 할당\n",
    "sns.barplot(x='year', y='count', data=train, ax=axes[0, 0])\n",
    "sns.barplot(x='month', y='count', data=train, ax=axes[0, 1])\n",
    "sns.barplot(x='day', y='count', data=train, ax=axes[1, 0])\n",
    "sns.barplot(x='hour', y='count', data=train, ax=axes[1, 1])\n",
    "sns.barplot(x='minute', y='count', data=train, ax=axes[2, 0])\n",
    "sns.barplot(x='second', y='count', data=train, ax=axes[2, 1])\n",
    "\n",
    "# 스텝 3 : 세부 설정\n",
    "# 3-1 : 서브플롯에 제목 달기\n",
    "axes[0, 0].set(title='Rental amounts by year')\n",
    "axes[0, 1].set(title='Rental amounts by month')\n",
    "axes[1, 0].set(title='Rental amounts by day')\n",
    "axes[1, 1].set(title='Rental amounts by hour')\n",
    "axes[2, 0].set(title='Rental amounts by minute')\n",
    "axes[2, 1].set(title='Rental amounts by second')\n",
    "\n",
    "# 3-2 : 1행에 위치한 서브플롯들의 x축 라벨 90도 회전\n",
    "axes[1, 0].tick_params(axis='x', labelrotation=90)\n",
    "axes[1, 1].tick_params(axis='x', labelrotation=90)"
   ]
  },
  {
   "cell_type": "markdown",
   "id": "be925220",
   "metadata": {
    "papermill": {
     "duration": 0.022722,
     "end_time": "2022-07-21T06:38:53.986375",
     "exception": false,
     "start_time": "2022-07-21T06:38:53.963653",
     "status": "completed"
    },
    "tags": []
   },
   "source": [
    "박스플롯"
   ]
  },
  {
   "cell_type": "markdown",
   "id": "e30328e9",
   "metadata": {
    "papermill": {
     "duration": 0.022268,
     "end_time": "2022-07-21T06:38:54.031016",
     "exception": false,
     "start_time": "2022-07-21T06:38:54.008748",
     "status": "completed"
    },
    "tags": []
   },
   "source": [
    "* 박스플롯(box plot)은 범주형 데이터에 따른 수치형 데이터 정보를 나타내는 그래프\n",
    "\n",
    "* 막대 그래프보다 더 많은 정보를 제공하는 특징\n",
    "\n",
    "* 계절, 날씨, 공휴일, 근무일(범주형 데이터)별 대여 수량(수치형 데이터)을 박스플롯으로 그려보기"
   ]
  },
  {
   "cell_type": "code",
   "execution_count": 20,
   "id": "c44bb1b0",
   "metadata": {
    "execution": {
     "iopub.execute_input": "2022-07-21T06:38:54.079589Z",
     "iopub.status.busy": "2022-07-21T06:38:54.078972Z",
     "iopub.status.idle": "2022-07-21T06:38:54.701514Z",
     "shell.execute_reply": "2022-07-21T06:38:54.700339Z"
    },
    "papermill": {
     "duration": 0.650084,
     "end_time": "2022-07-21T06:38:54.703917",
     "exception": false,
     "start_time": "2022-07-21T06:38:54.053833",
     "status": "completed"
    },
    "tags": []
   },
   "outputs": [
    {
     "data": {
      "image/png": "[encoded data removed]",
      "text/plain": [
       "<Figure size 720x720 with 4 Axes>"
      ]
     },
     "metadata": {
      "needs_background": "light"
     },
     "output_type": "display_data"
    }
   ],
   "source": [
    "# 스텝 1 : m행 n열 Figure 준비\n",
    "figure, axes = plt.subplots(nrows=2, ncols=2) # 2행 2열\n",
    "plt.tight_layout()\n",
    "figure.set_size_inches(10, 10)\n",
    "\n",
    "# 스텝 2 : 서브플롯 할당\n",
    "# 계절, 날씨, 공휴일, 근무일별 대여 수량 박스플롯\n",
    "sns.boxplot(x='season', y='count', data=train, ax=axes[0, 0])\n",
    "sns.boxplot(x='weather', y='count', data=train, ax=axes[0, 1])\n",
    "sns.boxplot(x='holiday', y='count', data=train, ax=axes[1, 0])\n",
    "sns.boxplot(x='workingday', y='count', data=train, ax=axes[1, 1])\n",
    "\n",
    "# 스텝 3 : 세부 설정\n",
    "# 3-1 : 서브플롯에 제목 달기\n",
    "axes[0, 0].set(title='Box Plot On Count Across Season')\n",
    "axes[0, 1].set(title='Box Plot On Count Across Weather')\n",
    "axes[1, 0].set(title='Box Plot On Count Across Holiday')\n",
    "axes[1, 1].set(title='Box Plot On Count Across Working Day')\n",
    "\n",
    "# 3-2 : x축 라벨 겹침 해결\n",
    "axes[0, 1].tick_params('x', labelrotation=10) # 10도 회전"
   ]
  },
  {
   "cell_type": "markdown",
   "id": "537b16d8",
   "metadata": {
    "papermill": {
     "duration": 0.022965,
     "end_time": "2022-07-21T06:38:54.750705",
     "exception": false,
     "start_time": "2022-07-21T06:38:54.727740",
     "status": "completed"
    },
    "tags": []
   },
   "source": [
    "tick_params\n",
    "눈금 레이블/글자 크기 조절"
   ]
  },
  {
   "cell_type": "markdown",
   "id": "ece12267",
   "metadata": {
    "papermill": {
     "duration": 0.022805,
     "end_time": "2022-07-21T06:38:54.796209",
     "exception": false,
     "start_time": "2022-07-21T06:38:54.773404",
     "status": "completed"
    },
    "tags": []
   },
   "source": [
    "* 계절별 대여 수량 : 자전거 대여 수량은 봄에 가장 적고, 가을에 가장 많음.\n",
    "\n",
    "* 날씨별 대여 수량 : 날씨가 좋을 때 가장 대여 수량이 많고, 안 좋을수록 수량이 적음.\n",
    "\n",
    "* 공휴일 여부에 따른 대여 수량 : 공휴일일 때와 아닐 때 자전거 대여 수량의 중앙값은 거의 비슷함. 다만 공휴일이 아닐 때는 이상치가 많음.\n",
    "\n",
    "* 근무일 여부에 따른 대여 수량 : 근무일일 때와 아닐 때 자전거 대여 수량의 중앙값은 거의 비슷함. 다만 근무일일 때 이상치가 많음."
   ]
  },
  {
   "cell_type": "markdown",
   "id": "2d9eacbd",
   "metadata": {
    "papermill": {
     "duration": 0.0226,
     "end_time": "2022-07-21T06:38:54.841629",
     "exception": false,
     "start_time": "2022-07-21T06:38:54.819029",
     "status": "completed"
    },
    "tags": []
   },
   "source": [
    "포인트플롯"
   ]
  },
  {
   "cell_type": "markdown",
   "id": "0d00ee5f",
   "metadata": {
    "papermill": {
     "duration": 0.02306,
     "end_time": "2022-07-21T06:38:54.887411",
     "exception": false,
     "start_time": "2022-07-21T06:38:54.864351",
     "status": "completed"
    },
    "tags": []
   },
   "source": [
    "* 근무일, 공휴일, 요일, 계절, 날씨에 따른 시간대별 평균 대여 수량을 포인트플롯(point plot)으로 그려보기\n",
    "\n",
    "* 포인트플롯은 범주형 데이터에 따른 수치형 데이터의 평균과 신뢰구간을 점과 선으로 표시함\n",
    "\n",
    "* 신뢰구간 : 모수가 어느 구간 안에 있는지를 확률적으로 나타내는 방법\n",
    "\n",
    "* 막대 그래프와 동일한 정보를 제공하지만, 한 화면에 여러 그래프를 그려 서로 비교해보기에 더 적합함"
   ]
  },
  {
   "cell_type": "code",
   "execution_count": 21,
   "id": "bba839f1",
   "metadata": {
    "execution": {
     "iopub.execute_input": "2022-07-21T06:38:54.936925Z",
     "iopub.status.busy": "2022-07-21T06:38:54.936137Z",
     "iopub.status.idle": "2022-07-21T06:39:07.021625Z",
     "shell.execute_reply": "2022-07-21T06:39:07.020312Z"
    },
    "papermill": {
     "duration": 12.114851,
     "end_time": "2022-07-21T06:39:07.026172",
     "exception": false,
     "start_time": "2022-07-21T06:38:54.911321",
     "status": "completed"
    },
    "tags": []
   },
   "outputs": [
    {
     "data": {
      "image/png": "[encoded data removed]",
      "text/plain": [
       "<Figure size 864x1296 with 5 Axes>"
      ]
     },
     "metadata": {
      "needs_background": "light"
     },
     "output_type": "display_data"
    }
   ],
   "source": [
    "# 스텝 1 : m행 n열 Figure 준비\n",
    "mpl.rc('font',size=11)\n",
    "figure, axes = plt.subplots(nrows=5) # 5행 1열\n",
    "figure.set_size_inches(12,18)\n",
    "\n",
    "# 스텝 2 : 서브플롯 타임\n",
    "# 근무일, 공휴일, 요일, 계절, 날씨에 따른 시간대별 평균 대여 수량 포인트플롯\n",
    "sns.pointplot(x='hour', y='count', data=train, hue='workingday', ax=axes[0])\n",
    "sns.pointplot(x='hour', y='count', data=train, hue='holiday', ax=axes[1])\n",
    "sns.pointplot(x='hour', y='count', data=train, hue='weekday', ax=axes[2])\n",
    "sns.pointplot(x='hour', y='count', data=train, hue='season', ax=axes[3])\n",
    "sns.pointplot(x='hour', y='count', data=train, hue='weather', ax=axes[4]);"
   ]
  },
  {
   "cell_type": "markdown",
   "id": "8c2b6ba1",
   "metadata": {
    "papermill": {
     "duration": 0.027225,
     "end_time": "2022-07-21T06:39:07.080693",
     "exception": false,
     "start_time": "2022-07-21T06:39:07.053468",
     "status": "completed"
    },
    "tags": []
   },
   "source": [
    "회귀선을 포함한 산점도 그래프"
   ]
  },
  {
   "cell_type": "markdown",
   "id": "e23a7841",
   "metadata": {
    "papermill": {
     "duration": 0.029731,
     "end_time": "2022-07-21T06:39:07.138479",
     "exception": false,
     "start_time": "2022-07-21T06:39:07.108748",
     "status": "completed"
    },
    "tags": []
   },
   "source": [
    "* 근무일, 공휴일, 요일, 계절, 날씨에 따른 시간대별 평균 대여 수량을 포인트플롯(point plot)으로 그려보기\n",
    "\n",
    "* 포인트플롯은 범주형 데이터에 따른 수치형 데이터의 평균과 신뢰구간을 점과 선으로 표시함\n",
    "\n",
    "* 신뢰구간 : 모수가 어느 구간 안에 있는지를 확률적으로 나타내는 방법\n",
    "\n",
    "* 막대 그래프와 동일한 정보를 제공하지만, 한 화면에 여러 그래프를 그려 서로 비교해보기에 더 적합함"
   ]
  },
  {
   "cell_type": "code",
   "execution_count": 22,
   "id": "cb713c41",
   "metadata": {
    "execution": {
     "iopub.execute_input": "2022-07-21T06:39:07.196765Z",
     "iopub.status.busy": "2022-07-21T06:39:07.196373Z",
     "iopub.status.idle": "2022-07-21T06:39:10.368437Z",
     "shell.execute_reply": "2022-07-21T06:39:10.367241Z"
    },
    "papermill": {
     "duration": 3.204792,
     "end_time": "2022-07-21T06:39:10.371007",
     "exception": false,
     "start_time": "2022-07-21T06:39:07.166215",
     "status": "completed"
    },
    "tags": []
   },
   "outputs": [
    {
     "data": {
      "image/png": "[encoded data removed]",
      "text/plain": [
       "<Figure size 504x432 with 4 Axes>"
      ]
     },
     "metadata": {
      "needs_background": "light"
     },
     "output_type": "display_data"
    }
   ],
   "source": [
    "# 스텝 1 : m행 n열 Figure 준비\n",
    "mpl.rc('font', size=15)\n",
    "figure, axes = plt.subplots(nrows=2, ncols=2) # 2행 2열\n",
    "plt.tight_layout()\n",
    "figure.set_size_inches(7, 6)\n",
    "\n",
    "# 스텝 2 : 서브플롯 할당\n",
    "# 온도, 체감 온도, 풍속, 습도 별 대여 수량 산점도 그래프\n",
    "sns.regplot(x='temp', y='count', data=train, ax=axes[0, 0], \n",
    "            scatter_kws={'alpha': 0.2}, line_kws={'color': 'blue'})\n",
    "sns.regplot(x='atemp', y='count', data=train, ax=axes[0, 1], \n",
    "            scatter_kws={'alpha': 0.2}, line_kws={'color': 'blue'})\n",
    "sns.regplot(x='windspeed', y='count', data=train, ax=axes[1, 0], \n",
    "            scatter_kws={'alpha': 0.2}, line_kws={'color': 'blue'})\n",
    "sns.regplot(x='humidity', y='count', data=train, ax=axes[1, 1], \n",
    "            scatter_kws={'alpha': 0.2}, line_kws={'color': 'blue'});\n",
    "\n",
    "# regplot() 함수의 파라미터 중 scatter_kws={'alpha': 0.2}는 산점도 그래프에 찍히는 점의 투명도를 조절.\n",
    "# alpha를 0.2로 설정하면 평소에 비해 20% 수준으로 투명해짐 (alpha가 1이면 완전 불투명하고, 0이면 완전 투명해서 안보임)\n",
    "# line_kws={'color': 'blue'}는 회귀선의 색상을 선택하는 파라미터 (회귀선이 잘 보이도록 그래프에 찍히는 점보다 짙은 색으로 설정)\n",
    "# 회귀선(추세선)"
   ]
  },
  {
   "cell_type": "markdown",
   "id": "17420d40",
   "metadata": {
    "papermill": {
     "duration": 0.02882,
     "end_time": "2022-07-21T06:39:10.430589",
     "exception": false,
     "start_time": "2022-07-21T06:39:10.401769",
     "status": "completed"
    },
    "tags": []
   },
   "source": [
    "* 회귀선 기울기로 대략적인 추세를 파악할 수 있음\n",
    "* 온도과 체감 온도가 높을수록 대여 수량이 많고, 습도는 낮을수록 대여 수량이 많음\n",
    "* 다시말해 대여 수량은 추울 때보다 따뜻할 때 많고, 습할 때보다 습하지 않을 때 많음\n",
    "* 풍속별 대여 수량 산점도 그래프의 회귀선을 보면 풍속이 셀수록 대여 수량이 많음\n",
    "    * 바람이 약할수록 많을 것 같은 예상과 다른 결과\n",
    "    * 이유는 windspeed 피처에 결측값이 많기 때문 (관측치가 없거나 오류로 인해 0으로 기록됐을 가능성이 높음)\n",
    "* 결측값이 많아서 그래프만으로 풍속과 대여 수량의 상관관계를 파악하기 힘듬\n",
    "* 결측값을 다른 값으로 대체하거나 windspeed 피처를 삭제해야 함. 여기서는 피처 자체를 삭제하도록 함."
   ]
  },
  {
   "cell_type": "markdown",
   "id": "32ee5293",
   "metadata": {
    "papermill": {
     "duration": 0.029455,
     "end_time": "2022-07-21T06:39:10.489071",
     "exception": false,
     "start_time": "2022-07-21T06:39:10.459616",
     "status": "completed"
    },
    "tags": []
   },
   "source": [
    "히트맵"
   ]
  },
  {
   "cell_type": "markdown",
   "id": "0262c491",
   "metadata": {
    "papermill": {
     "duration": 0.028831,
     "end_time": "2022-07-21T06:39:10.547236",
     "exception": false,
     "start_time": "2022-07-21T06:39:10.518405",
     "status": "completed"
    },
    "tags": []
   },
   "source": [
    "* temp, atemp, humidity, windspeed, count는 수치형 데이터이며 수치형 데이터끼리 어떤 상관관계가 있는지 알아보기\n",
    "\n",
    "* corr() 함수는 DataFrame 내의 피처 간 상관계수를 계산해 반환"
   ]
  },
  {
   "cell_type": "code",
   "execution_count": 23,
   "id": "b386fbac",
   "metadata": {
    "execution": {
     "iopub.execute_input": "2022-07-21T06:39:10.608394Z",
     "iopub.status.busy": "2022-07-21T06:39:10.607054Z",
     "iopub.status.idle": "2022-07-21T06:39:10.886441Z",
     "shell.execute_reply": "2022-07-21T06:39:10.884971Z"
    },
    "papermill": {
     "duration": 0.312803,
     "end_time": "2022-07-21T06:39:10.889297",
     "exception": false,
     "start_time": "2022-07-21T06:39:10.576494",
     "status": "completed"
    },
    "tags": []
   },
   "outputs": [
    {
     "data": {
      "image/png": "[encoded data removed]",
      "text/plain": [
       "<Figure size 720x720 with 2 Axes>"
      ]
     },
     "metadata": {
      "needs_background": "light"
     },
     "output_type": "display_data"
    }
   ],
   "source": [
    "\n",
    "# 피처 간 상관관계 매트릭스\n",
    "corrMat = train[['temp', 'atemp', 'humidity', 'windspeed', 'count']].corr() \n",
    "fig, ax= plt.subplots() \n",
    "fig.set_size_inches(10, 10)\n",
    "sns.heatmap(corrMat, annot=True) # 상관관계 히트맵 그리기 (annot=True : 상관계수가 숫자로 표시됨)\n",
    "ax.set(title='Heatmap of Numerical Data');"
   ]
  },
  {
   "cell_type": "markdown",
   "id": "d7bcf006",
   "metadata": {
    "papermill": {
     "duration": 0.029861,
     "end_time": "2022-07-21T06:39:10.950181",
     "exception": false,
     "start_time": "2022-07-21T06:39:10.920320",
     "status": "completed"
    },
    "tags": []
   },
   "source": [
    "타깃값인 count와의 상관관계가 중요\n",
    "\n",
    "* 온도(temp)와 대여 수량(count) 간 상관계수는 0.39로 양의 상관관계를 보임\n",
    "   * 온도가 높을수록 대여 수량이 많다는 뜻\n",
    "* 반면, 습도(humidity)와 대여 수량(count) 간 상관계수는 -0.32로 음의 상관관계를 보임\n",
    "   * 습도가 낮을수록 대여 수량이 많다는 뜻\n",
    "* 앞서 산점도 그래프와 분석한 내용과 동일\n",
    "* 풍속(windspeed)과 대여 수량(count)의 상관계수는 0.1로 상관관계가 매우 약함\n",
    "   * windspeed 피처는 대여 수량 예측에 별 도움을 주지 못할 것으로 예상\n",
    "   * 성능을 높이기 위해 모델링 시 windspeed 피처 제거\n",
    "       * 앞의 '회귀선을 포함한 산점도 그래프'에서 결측값이 많다는 이유로 같은 결론에 도달"
   ]
  },
  {
   "cell_type": "markdown",
   "id": "eb8cbf6c",
   "metadata": {
    "papermill": {
     "duration": 0.02999,
     "end_time": "2022-07-21T06:39:11.009966",
     "exception": false,
     "start_time": "2022-07-21T06:39:10.979976",
     "status": "completed"
    },
    "tags": []
   },
   "source": [
    "2. 자전거 대여 수요 예측 경진대회 베이스라인 모델\n",
    "* 메뉴:[Run]->[Stop Session] 후 여기서부터 실행 권장.(필수아님)"
   ]
  },
  {
   "cell_type": "code",
   "execution_count": 24,
   "id": "90bf67ac",
   "metadata": {
    "execution": {
     "iopub.execute_input": "2022-07-21T06:39:11.073333Z",
     "iopub.status.busy": "2022-07-21T06:39:11.072870Z",
     "iopub.status.idle": "2022-07-21T06:39:11.121266Z",
     "shell.execute_reply": "2022-07-21T06:39:11.120289Z"
    },
    "papermill": {
     "duration": 0.083108,
     "end_time": "2022-07-21T06:39:11.124328",
     "exception": false,
     "start_time": "2022-07-21T06:39:11.041220",
     "status": "completed"
    },
    "tags": []
   },
   "outputs": [],
   "source": [
    "import pandas as pd\n",
    "# 데이터 경로\n",
    "data_path = '/kaggle/input/bike-sharing-demand/'\n",
    "\n",
    "train = pd.read_csv(data_path + 'train.csv')\n",
    "test = pd.read_csv(data_path + 'test.csv')\n",
    "submission = pd.read_csv(data_path + 'sampleSubmission.csv')"
   ]
  },
  {
   "cell_type": "markdown",
   "id": "11057e64",
   "metadata": {
    "papermill": {
     "duration": 0.029335,
     "end_time": "2022-07-21T06:39:11.184804",
     "exception": false,
     "start_time": "2022-07-21T06:39:11.155469",
     "status": "completed"
    },
    "tags": []
   },
   "source": [
    "# 2.1 피처 엔지니어링"
   ]
  },
  {
   "cell_type": "markdown",
   "id": "65964d50",
   "metadata": {
    "papermill": {
     "duration": 0.029146,
     "end_time": "2022-07-21T06:39:11.244491",
     "exception": false,
     "start_time": "2022-07-21T06:39:11.215345",
     "status": "completed"
    },
    "tags": []
   },
   "source": [
    "이상치 제거"
   ]
  },
  {
   "cell_type": "code",
   "execution_count": 25,
   "id": "136a8bb5",
   "metadata": {
    "execution": {
     "iopub.execute_input": "2022-07-21T06:39:11.305313Z",
     "iopub.status.busy": "2022-07-21T06:39:11.304897Z",
     "iopub.status.idle": "2022-07-21T06:39:11.311934Z",
     "shell.execute_reply": "2022-07-21T06:39:11.311061Z"
    },
    "papermill": {
     "duration": 0.039778,
     "end_time": "2022-07-21T06:39:11.313959",
     "exception": false,
     "start_time": "2022-07-21T06:39:11.274181",
     "status": "completed"
    },
    "tags": []
   },
   "outputs": [],
   "source": [
    "# 훈련 데이터에서 weather가 4가 아닌 데이터만 추출\n",
    "train = train[train['weather'] != 4]"
   ]
  },
  {
   "cell_type": "markdown",
   "id": "9e53d0c7",
   "metadata": {
    "papermill": {
     "duration": 0.029126,
     "end_time": "2022-07-21T06:39:11.373378",
     "exception": false,
     "start_time": "2022-07-21T06:39:11.344252",
     "status": "completed"
    },
    "tags": []
   },
   "source": [
    "데이터 합치기"
   ]
  },
  {
   "cell_type": "code",
   "execution_count": 26,
   "id": "e5ca40d5",
   "metadata": {
    "execution": {
     "iopub.execute_input": "2022-07-21T06:39:11.433813Z",
     "iopub.status.busy": "2022-07-21T06:39:11.432985Z",
     "iopub.status.idle": "2022-07-21T06:39:11.458654Z",
     "shell.execute_reply": "2022-07-21T06:39:11.457540Z"
    },
    "papermill": {
     "duration": 0.058361,
     "end_time": "2022-07-21T06:39:11.460948",
     "exception": false,
     "start_time": "2022-07-21T06:39:11.402587",
     "status": "completed"
    },
    "tags": []
   },
   "outputs": [
    {
     "data": {
      "text/html": [
       "<div>\n",
       "<style scoped>\n",
       "    .dataframe tbody tr th:only-of-type {\n",
       "        vertical-align: middle;\n",
       "    }\n",
       "\n",
       "    .dataframe tbody tr th {\n",
       "        vertical-align: top;\n",
       "    }\n",
       "\n",
       "    .dataframe thead th {\n",
       "        text-align: right;\n",
       "    }\n",
       "</style>\n",
       "<table border=\"1\" class=\"dataframe\">\n",
       "  <thead>\n",
       "    <tr style=\"text-align: right;\">\n",
       "      <th></th>\n",
       "      <th>datetime</th>\n",
       "      <th>season</th>\n",
       "      <th>holiday</th>\n",
       "      <th>workingday</th>\n",
       "      <th>weather</th>\n",
       "      <th>temp</th>\n",
       "      <th>atemp</th>\n",
       "      <th>humidity</th>\n",
       "      <th>windspeed</th>\n",
       "      <th>casual</th>\n",
       "      <th>registered</th>\n",
       "      <th>count</th>\n",
       "    </tr>\n",
       "  </thead>\n",
       "  <tbody>\n",
       "    <tr>\n",
       "      <th>0</th>\n",
       "      <td>2011-01-01 00:00:00</td>\n",
       "      <td>1</td>\n",
       "      <td>0</td>\n",
       "      <td>0</td>\n",
       "      <td>1</td>\n",
       "      <td>9.84</td>\n",
       "      <td>14.395</td>\n",
       "      <td>81</td>\n",
       "      <td>0.0000</td>\n",
       "      <td>3.0</td>\n",
       "      <td>13.0</td>\n",
       "      <td>16.0</td>\n",
       "    </tr>\n",
       "    <tr>\n",
       "      <th>1</th>\n",
       "      <td>2011-01-01 01:00:00</td>\n",
       "      <td>1</td>\n",
       "      <td>0</td>\n",
       "      <td>0</td>\n",
       "      <td>1</td>\n",
       "      <td>9.02</td>\n",
       "      <td>13.635</td>\n",
       "      <td>80</td>\n",
       "      <td>0.0000</td>\n",
       "      <td>8.0</td>\n",
       "      <td>32.0</td>\n",
       "      <td>40.0</td>\n",
       "    </tr>\n",
       "    <tr>\n",
       "      <th>2</th>\n",
       "      <td>2011-01-01 02:00:00</td>\n",
       "      <td>1</td>\n",
       "      <td>0</td>\n",
       "      <td>0</td>\n",
       "      <td>1</td>\n",
       "      <td>9.02</td>\n",
       "      <td>13.635</td>\n",
       "      <td>80</td>\n",
       "      <td>0.0000</td>\n",
       "      <td>5.0</td>\n",
       "      <td>27.0</td>\n",
       "      <td>32.0</td>\n",
       "    </tr>\n",
       "    <tr>\n",
       "      <th>3</th>\n",
       "      <td>2011-01-01 03:00:00</td>\n",
       "      <td>1</td>\n",
       "      <td>0</td>\n",
       "      <td>0</td>\n",
       "      <td>1</td>\n",
       "      <td>9.84</td>\n",
       "      <td>14.395</td>\n",
       "      <td>75</td>\n",
       "      <td>0.0000</td>\n",
       "      <td>3.0</td>\n",
       "      <td>10.0</td>\n",
       "      <td>13.0</td>\n",
       "    </tr>\n",
       "    <tr>\n",
       "      <th>4</th>\n",
       "      <td>2011-01-01 04:00:00</td>\n",
       "      <td>1</td>\n",
       "      <td>0</td>\n",
       "      <td>0</td>\n",
       "      <td>1</td>\n",
       "      <td>9.84</td>\n",
       "      <td>14.395</td>\n",
       "      <td>75</td>\n",
       "      <td>0.0000</td>\n",
       "      <td>0.0</td>\n",
       "      <td>1.0</td>\n",
       "      <td>1.0</td>\n",
       "    </tr>\n",
       "    <tr>\n",
       "      <th>...</th>\n",
       "      <td>...</td>\n",
       "      <td>...</td>\n",
       "      <td>...</td>\n",
       "      <td>...</td>\n",
       "      <td>...</td>\n",
       "      <td>...</td>\n",
       "      <td>...</td>\n",
       "      <td>...</td>\n",
       "      <td>...</td>\n",
       "      <td>...</td>\n",
       "      <td>...</td>\n",
       "      <td>...</td>\n",
       "    </tr>\n",
       "    <tr>\n",
       "      <th>6488</th>\n",
       "      <td>2012-12-31 19:00:00</td>\n",
       "      <td>1</td>\n",
       "      <td>0</td>\n",
       "      <td>1</td>\n",
       "      <td>2</td>\n",
       "      <td>10.66</td>\n",
       "      <td>12.880</td>\n",
       "      <td>60</td>\n",
       "      <td>11.0014</td>\n",
       "      <td>NaN</td>\n",
       "      <td>NaN</td>\n",
       "      <td>NaN</td>\n",
       "    </tr>\n",
       "    <tr>\n",
       "      <th>6489</th>\n",
       "      <td>2012-12-31 20:00:00</td>\n",
       "      <td>1</td>\n",
       "      <td>0</td>\n",
       "      <td>1</td>\n",
       "      <td>2</td>\n",
       "      <td>10.66</td>\n",
       "      <td>12.880</td>\n",
       "      <td>60</td>\n",
       "      <td>11.0014</td>\n",
       "      <td>NaN</td>\n",
       "      <td>NaN</td>\n",
       "      <td>NaN</td>\n",
       "    </tr>\n",
       "    <tr>\n",
       "      <th>6490</th>\n",
       "      <td>2012-12-31 21:00:00</td>\n",
       "      <td>1</td>\n",
       "      <td>0</td>\n",
       "      <td>1</td>\n",
       "      <td>1</td>\n",
       "      <td>10.66</td>\n",
       "      <td>12.880</td>\n",
       "      <td>60</td>\n",
       "      <td>11.0014</td>\n",
       "      <td>NaN</td>\n",
       "      <td>NaN</td>\n",
       "      <td>NaN</td>\n",
       "    </tr>\n",
       "    <tr>\n",
       "      <th>6491</th>\n",
       "      <td>2012-12-31 22:00:00</td>\n",
       "      <td>1</td>\n",
       "      <td>0</td>\n",
       "      <td>1</td>\n",
       "      <td>1</td>\n",
       "      <td>10.66</td>\n",
       "      <td>13.635</td>\n",
       "      <td>56</td>\n",
       "      <td>8.9981</td>\n",
       "      <td>NaN</td>\n",
       "      <td>NaN</td>\n",
       "      <td>NaN</td>\n",
       "    </tr>\n",
       "    <tr>\n",
       "      <th>6492</th>\n",
       "      <td>2012-12-31 23:00:00</td>\n",
       "      <td>1</td>\n",
       "      <td>0</td>\n",
       "      <td>1</td>\n",
       "      <td>1</td>\n",
       "      <td>10.66</td>\n",
       "      <td>13.635</td>\n",
       "      <td>65</td>\n",
       "      <td>8.9981</td>\n",
       "      <td>NaN</td>\n",
       "      <td>NaN</td>\n",
       "      <td>NaN</td>\n",
       "    </tr>\n",
       "  </tbody>\n",
       "</table>\n",
       "<p>17378 rows × 12 columns</p>\n",
       "</div>"
      ],
      "text/plain": [
       "                 datetime  season  holiday  workingday  weather   temp  \\\n",
       "0     2011-01-01 00:00:00       1        0           0        1   9.84   \n",
       "1     2011-01-01 01:00:00       1        0           0        1   9.02   \n",
       "2     2011-01-01 02:00:00       1        0           0        1   9.02   \n",
       "3     2011-01-01 03:00:00       1        0           0        1   9.84   \n",
       "4     2011-01-01 04:00:00       1        0           0        1   9.84   \n",
       "...                   ...     ...      ...         ...      ...    ...   \n",
       "6488  2012-12-31 19:00:00       1        0           1        2  10.66   \n",
       "6489  2012-12-31 20:00:00       1        0           1        2  10.66   \n",
       "6490  2012-12-31 21:00:00       1        0           1        1  10.66   \n",
       "6491  2012-12-31 22:00:00       1        0           1        1  10.66   \n",
       "6492  2012-12-31 23:00:00       1        0           1        1  10.66   \n",
       "\n",
       "       atemp  humidity  windspeed  casual  registered  count  \n",
       "0     14.395        81     0.0000     3.0        13.0   16.0  \n",
       "1     13.635        80     0.0000     8.0        32.0   40.0  \n",
       "2     13.635        80     0.0000     5.0        27.0   32.0  \n",
       "3     14.395        75     0.0000     3.0        10.0   13.0  \n",
       "4     14.395        75     0.0000     0.0         1.0    1.0  \n",
       "...      ...       ...        ...     ...         ...    ...  \n",
       "6488  12.880        60    11.0014     NaN         NaN    NaN  \n",
       "6489  12.880        60    11.0014     NaN         NaN    NaN  \n",
       "6490  12.880        60    11.0014     NaN         NaN    NaN  \n",
       "6491  13.635        56     8.9981     NaN         NaN    NaN  \n",
       "6492  13.635        65     8.9981     NaN         NaN    NaN  \n",
       "\n",
       "[17378 rows x 12 columns]"
      ]
     },
     "execution_count": 26,
     "metadata": {},
     "output_type": "execute_result"
    }
   ],
   "source": [
    "all_data_temp = pd.concat([train, test])\n",
    "all_data_temp"
   ]
  },
  {
   "cell_type": "code",
   "execution_count": 27,
   "id": "ec2831e3",
   "metadata": {
    "execution": {
     "iopub.execute_input": "2022-07-21T06:39:11.524984Z",
     "iopub.status.busy": "2022-07-21T06:39:11.523888Z",
     "iopub.status.idle": "2022-07-21T06:39:11.550671Z",
     "shell.execute_reply": "2022-07-21T06:39:11.549469Z"
    },
    "papermill": {
     "duration": 0.05971,
     "end_time": "2022-07-21T06:39:11.552811",
     "exception": false,
     "start_time": "2022-07-21T06:39:11.493101",
     "status": "completed"
    },
    "tags": []
   },
   "outputs": [
    {
     "data": {
      "text/html": [
       "<div>\n",
       "<style scoped>\n",
       "    .dataframe tbody tr th:only-of-type {\n",
       "        vertical-align: middle;\n",
       "    }\n",
       "\n",
       "    .dataframe tbody tr th {\n",
       "        vertical-align: top;\n",
       "    }\n",
       "\n",
       "    .dataframe thead th {\n",
       "        text-align: right;\n",
       "    }\n",
       "</style>\n",
       "<table border=\"1\" class=\"dataframe\">\n",
       "  <thead>\n",
       "    <tr style=\"text-align: right;\">\n",
       "      <th></th>\n",
       "      <th>datetime</th>\n",
       "      <th>season</th>\n",
       "      <th>holiday</th>\n",
       "      <th>workingday</th>\n",
       "      <th>weather</th>\n",
       "      <th>temp</th>\n",
       "      <th>atemp</th>\n",
       "      <th>humidity</th>\n",
       "      <th>windspeed</th>\n",
       "      <th>casual</th>\n",
       "      <th>registered</th>\n",
       "      <th>count</th>\n",
       "    </tr>\n",
       "  </thead>\n",
       "  <tbody>\n",
       "    <tr>\n",
       "      <th>0</th>\n",
       "      <td>2011-01-01 00:00:00</td>\n",
       "      <td>1</td>\n",
       "      <td>0</td>\n",
       "      <td>0</td>\n",
       "      <td>1</td>\n",
       "      <td>9.84</td>\n",
       "      <td>14.395</td>\n",
       "      <td>81</td>\n",
       "      <td>0.0000</td>\n",
       "      <td>3.0</td>\n",
       "      <td>13.0</td>\n",
       "      <td>16.0</td>\n",
       "    </tr>\n",
       "    <tr>\n",
       "      <th>1</th>\n",
       "      <td>2011-01-01 01:00:00</td>\n",
       "      <td>1</td>\n",
       "      <td>0</td>\n",
       "      <td>0</td>\n",
       "      <td>1</td>\n",
       "      <td>9.02</td>\n",
       "      <td>13.635</td>\n",
       "      <td>80</td>\n",
       "      <td>0.0000</td>\n",
       "      <td>8.0</td>\n",
       "      <td>32.0</td>\n",
       "      <td>40.0</td>\n",
       "    </tr>\n",
       "    <tr>\n",
       "      <th>2</th>\n",
       "      <td>2011-01-01 02:00:00</td>\n",
       "      <td>1</td>\n",
       "      <td>0</td>\n",
       "      <td>0</td>\n",
       "      <td>1</td>\n",
       "      <td>9.02</td>\n",
       "      <td>13.635</td>\n",
       "      <td>80</td>\n",
       "      <td>0.0000</td>\n",
       "      <td>5.0</td>\n",
       "      <td>27.0</td>\n",
       "      <td>32.0</td>\n",
       "    </tr>\n",
       "    <tr>\n",
       "      <th>3</th>\n",
       "      <td>2011-01-01 03:00:00</td>\n",
       "      <td>1</td>\n",
       "      <td>0</td>\n",
       "      <td>0</td>\n",
       "      <td>1</td>\n",
       "      <td>9.84</td>\n",
       "      <td>14.395</td>\n",
       "      <td>75</td>\n",
       "      <td>0.0000</td>\n",
       "      <td>3.0</td>\n",
       "      <td>10.0</td>\n",
       "      <td>13.0</td>\n",
       "    </tr>\n",
       "    <tr>\n",
       "      <th>4</th>\n",
       "      <td>2011-01-01 04:00:00</td>\n",
       "      <td>1</td>\n",
       "      <td>0</td>\n",
       "      <td>0</td>\n",
       "      <td>1</td>\n",
       "      <td>9.84</td>\n",
       "      <td>14.395</td>\n",
       "      <td>75</td>\n",
       "      <td>0.0000</td>\n",
       "      <td>0.0</td>\n",
       "      <td>1.0</td>\n",
       "      <td>1.0</td>\n",
       "    </tr>\n",
       "    <tr>\n",
       "      <th>...</th>\n",
       "      <td>...</td>\n",
       "      <td>...</td>\n",
       "      <td>...</td>\n",
       "      <td>...</td>\n",
       "      <td>...</td>\n",
       "      <td>...</td>\n",
       "      <td>...</td>\n",
       "      <td>...</td>\n",
       "      <td>...</td>\n",
       "      <td>...</td>\n",
       "      <td>...</td>\n",
       "      <td>...</td>\n",
       "    </tr>\n",
       "    <tr>\n",
       "      <th>17373</th>\n",
       "      <td>2012-12-31 19:00:00</td>\n",
       "      <td>1</td>\n",
       "      <td>0</td>\n",
       "      <td>1</td>\n",
       "      <td>2</td>\n",
       "      <td>10.66</td>\n",
       "      <td>12.880</td>\n",
       "      <td>60</td>\n",
       "      <td>11.0014</td>\n",
       "      <td>NaN</td>\n",
       "      <td>NaN</td>\n",
       "      <td>NaN</td>\n",
       "    </tr>\n",
       "    <tr>\n",
       "      <th>17374</th>\n",
       "      <td>2012-12-31 20:00:00</td>\n",
       "      <td>1</td>\n",
       "      <td>0</td>\n",
       "      <td>1</td>\n",
       "      <td>2</td>\n",
       "      <td>10.66</td>\n",
       "      <td>12.880</td>\n",
       "      <td>60</td>\n",
       "      <td>11.0014</td>\n",
       "      <td>NaN</td>\n",
       "      <td>NaN</td>\n",
       "      <td>NaN</td>\n",
       "    </tr>\n",
       "    <tr>\n",
       "      <th>17375</th>\n",
       "      <td>2012-12-31 21:00:00</td>\n",
       "      <td>1</td>\n",
       "      <td>0</td>\n",
       "      <td>1</td>\n",
       "      <td>1</td>\n",
       "      <td>10.66</td>\n",
       "      <td>12.880</td>\n",
       "      <td>60</td>\n",
       "      <td>11.0014</td>\n",
       "      <td>NaN</td>\n",
       "      <td>NaN</td>\n",
       "      <td>NaN</td>\n",
       "    </tr>\n",
       "    <tr>\n",
       "      <th>17376</th>\n",
       "      <td>2012-12-31 22:00:00</td>\n",
       "      <td>1</td>\n",
       "      <td>0</td>\n",
       "      <td>1</td>\n",
       "      <td>1</td>\n",
       "      <td>10.66</td>\n",
       "      <td>13.635</td>\n",
       "      <td>56</td>\n",
       "      <td>8.9981</td>\n",
       "      <td>NaN</td>\n",
       "      <td>NaN</td>\n",
       "      <td>NaN</td>\n",
       "    </tr>\n",
       "    <tr>\n",
       "      <th>17377</th>\n",
       "      <td>2012-12-31 23:00:00</td>\n",
       "      <td>1</td>\n",
       "      <td>0</td>\n",
       "      <td>1</td>\n",
       "      <td>1</td>\n",
       "      <td>10.66</td>\n",
       "      <td>13.635</td>\n",
       "      <td>65</td>\n",
       "      <td>8.9981</td>\n",
       "      <td>NaN</td>\n",
       "      <td>NaN</td>\n",
       "      <td>NaN</td>\n",
       "    </tr>\n",
       "  </tbody>\n",
       "</table>\n",
       "<p>17378 rows × 12 columns</p>\n",
       "</div>"
      ],
      "text/plain": [
       "                  datetime  season  holiday  workingday  weather   temp  \\\n",
       "0      2011-01-01 00:00:00       1        0           0        1   9.84   \n",
       "1      2011-01-01 01:00:00       1        0           0        1   9.02   \n",
       "2      2011-01-01 02:00:00       1        0           0        1   9.02   \n",
       "3      2011-01-01 03:00:00       1        0           0        1   9.84   \n",
       "4      2011-01-01 04:00:00       1        0           0        1   9.84   \n",
       "...                    ...     ...      ...         ...      ...    ...   \n",
       "17373  2012-12-31 19:00:00       1        0           1        2  10.66   \n",
       "17374  2012-12-31 20:00:00       1        0           1        2  10.66   \n",
       "17375  2012-12-31 21:00:00       1        0           1        1  10.66   \n",
       "17376  2012-12-31 22:00:00       1        0           1        1  10.66   \n",
       "17377  2012-12-31 23:00:00       1        0           1        1  10.66   \n",
       "\n",
       "        atemp  humidity  windspeed  casual  registered  count  \n",
       "0      14.395        81     0.0000     3.0        13.0   16.0  \n",
       "1      13.635        80     0.0000     8.0        32.0   40.0  \n",
       "2      13.635        80     0.0000     5.0        27.0   32.0  \n",
       "3      14.395        75     0.0000     3.0        10.0   13.0  \n",
       "4      14.395        75     0.0000     0.0         1.0    1.0  \n",
       "...       ...       ...        ...     ...         ...    ...  \n",
       "17373  12.880        60    11.0014     NaN         NaN    NaN  \n",
       "17374  12.880        60    11.0014     NaN         NaN    NaN  \n",
       "17375  12.880        60    11.0014     NaN         NaN    NaN  \n",
       "17376  13.635        56     8.9981     NaN         NaN    NaN  \n",
       "17377  13.635        65     8.9981     NaN         NaN    NaN  \n",
       "\n",
       "[17378 rows x 12 columns]"
      ]
     },
     "execution_count": 27,
     "metadata": {},
     "output_type": "execute_result"
    }
   ],
   "source": [
    "all_data = pd.concat([train, test], ignore_index=True)\n",
    "all_data"
   ]
  },
  {
   "cell_type": "markdown",
   "id": "14efba12",
   "metadata": {
    "papermill": {
     "duration": 0.029733,
     "end_time": "2022-07-21T06:39:11.612746",
     "exception": false,
     "start_time": "2022-07-21T06:39:11.583013",
     "status": "completed"
    },
    "tags": []
   },
   "source": [
    "파생 변수(피처) 추가"
   ]
  },
  {
   "cell_type": "code",
   "execution_count": 28,
   "id": "d7fc996d",
   "metadata": {
    "execution": {
     "iopub.execute_input": "2022-07-21T06:39:11.676544Z",
     "iopub.status.busy": "2022-07-21T06:39:11.675520Z",
     "iopub.status.idle": "2022-07-21T06:39:11.867835Z",
     "shell.execute_reply": "2022-07-21T06:39:11.866803Z"
    },
    "papermill": {
     "duration": 0.226913,
     "end_time": "2022-07-21T06:39:11.870286",
     "exception": false,
     "start_time": "2022-07-21T06:39:11.643373",
     "status": "completed"
    },
    "tags": []
   },
   "outputs": [],
   "source": [
    "from datetime import datetime\n",
    "\n",
    "# 날짜 피처 생성\n",
    "all_data['date'] = all_data['datetime'].apply(lambda x: x.split()[0])\n",
    "# 연도 피처 생성\n",
    "all_data['year'] = all_data['datetime'].apply(lambda x: x.split()[0].split('-')[0])\n",
    "# 월 피처 생성\n",
    "all_data['month'] = all_data['datetime'].apply(lambda x: x.split()[0].split('-')[1])\n",
    "# 시 피처 생성\n",
    "all_data['hour'] = all_data['datetime'].apply(lambda x: x.split()[1].split(':')[0])\n",
    "# 요일 피처 생성\n",
    "all_data[\"weekday\"] = all_data['date'].apply(lambda dateString : datetime.strptime(dateString,\"%Y-%m-%d\").weekday())"
   ]
  },
  {
   "cell_type": "markdown",
   "id": "68d483ae",
   "metadata": {
    "papermill": {
     "duration": 0.030511,
     "end_time": "2022-07-21T06:39:11.930800",
     "exception": false,
     "start_time": "2022-07-21T06:39:11.900289",
     "status": "completed"
    },
    "tags": []
   },
   "source": [
    "필요 없는 피처 제거"
   ]
  },
  {
   "cell_type": "code",
   "execution_count": 29,
   "id": "a7813c98",
   "metadata": {
    "execution": {
     "iopub.execute_input": "2022-07-21T06:39:11.993628Z",
     "iopub.status.busy": "2022-07-21T06:39:11.992895Z",
     "iopub.status.idle": "2022-07-21T06:39:12.004219Z",
     "shell.execute_reply": "2022-07-21T06:39:12.003263Z"
    },
    "papermill": {
     "duration": 0.045789,
     "end_time": "2022-07-21T06:39:12.006524",
     "exception": false,
     "start_time": "2022-07-21T06:39:11.960735",
     "status": "completed"
    },
    "tags": []
   },
   "outputs": [],
   "source": [
    "drop_features = ['casual', 'registered', 'datetime', 'date', 'windspeed', 'month']\n",
    "\n",
    "all_data = all_data.drop(drop_features, axis=1)"
   ]
  },
  {
   "cell_type": "markdown",
   "id": "e79ab72e",
   "metadata": {
    "papermill": {
     "duration": 0.031243,
     "end_time": "2022-07-21T06:39:12.068552",
     "exception": false,
     "start_time": "2022-07-21T06:39:12.037309",
     "status": "completed"
    },
    "tags": []
   },
   "source": [
    "데이터 나누기"
   ]
  },
  {
   "cell_type": "code",
   "execution_count": 30,
   "id": "471e66e2",
   "metadata": {
    "execution": {
     "iopub.execute_input": "2022-07-21T06:39:12.160269Z",
     "iopub.status.busy": "2022-07-21T06:39:12.159518Z",
     "iopub.status.idle": "2022-07-21T06:39:12.170478Z",
     "shell.execute_reply": "2022-07-21T06:39:12.169380Z"
    },
    "papermill": {
     "duration": 0.045645,
     "end_time": "2022-07-21T06:39:12.172904",
     "exception": false,
     "start_time": "2022-07-21T06:39:12.127259",
     "status": "completed"
    },
    "tags": []
   },
   "outputs": [],
   "source": [
    "# 훈련 데이터와 테스트 데이터 나누기\n",
    "X_train = all_data[~pd.isnull(all_data['count'])]\n",
    "X_test = all_data[pd.isnull(all_data['count'])]\n",
    "\n",
    "# 타깃값 count 제거\n",
    "X_train = X_train.drop(['count'], axis=1)\n",
    "X_test = X_test.drop(['count'], axis=1)\n",
    "\n",
    "y = train['count'] # 타깃값"
   ]
  },
  {
   "cell_type": "code",
   "execution_count": 31,
   "id": "074d5dc5",
   "metadata": {
    "execution": {
     "iopub.execute_input": "2022-07-21T06:39:12.238239Z",
     "iopub.status.busy": "2022-07-21T06:39:12.237536Z",
     "iopub.status.idle": "2022-07-21T06:39:12.251544Z",
     "shell.execute_reply": "2022-07-21T06:39:12.250718Z"
    },
    "papermill": {
     "duration": 0.048758,
     "end_time": "2022-07-21T06:39:12.253765",
     "exception": false,
     "start_time": "2022-07-21T06:39:12.205007",
     "status": "completed"
    },
    "tags": []
   },
   "outputs": [
    {
     "data": {
      "text/html": [
       "<div>\n",
       "<style scoped>\n",
       "    .dataframe tbody tr th:only-of-type {\n",
       "        vertical-align: middle;\n",
       "    }\n",
       "\n",
       "    .dataframe tbody tr th {\n",
       "        vertical-align: top;\n",
       "    }\n",
       "\n",
       "    .dataframe thead th {\n",
       "        text-align: right;\n",
       "    }\n",
       "</style>\n",
       "<table border=\"1\" class=\"dataframe\">\n",
       "  <thead>\n",
       "    <tr style=\"text-align: right;\">\n",
       "      <th></th>\n",
       "      <th>season</th>\n",
       "      <th>holiday</th>\n",
       "      <th>workingday</th>\n",
       "      <th>weather</th>\n",
       "      <th>temp</th>\n",
       "      <th>atemp</th>\n",
       "      <th>humidity</th>\n",
       "      <th>year</th>\n",
       "      <th>hour</th>\n",
       "      <th>weekday</th>\n",
       "    </tr>\n",
       "  </thead>\n",
       "  <tbody>\n",
       "    <tr>\n",
       "      <th>0</th>\n",
       "      <td>1</td>\n",
       "      <td>0</td>\n",
       "      <td>0</td>\n",
       "      <td>1</td>\n",
       "      <td>9.84</td>\n",
       "      <td>14.395</td>\n",
       "      <td>81</td>\n",
       "      <td>2011</td>\n",
       "      <td>00</td>\n",
       "      <td>5</td>\n",
       "    </tr>\n",
       "    <tr>\n",
       "      <th>1</th>\n",
       "      <td>1</td>\n",
       "      <td>0</td>\n",
       "      <td>0</td>\n",
       "      <td>1</td>\n",
       "      <td>9.02</td>\n",
       "      <td>13.635</td>\n",
       "      <td>80</td>\n",
       "      <td>2011</td>\n",
       "      <td>01</td>\n",
       "      <td>5</td>\n",
       "    </tr>\n",
       "    <tr>\n",
       "      <th>2</th>\n",
       "      <td>1</td>\n",
       "      <td>0</td>\n",
       "      <td>0</td>\n",
       "      <td>1</td>\n",
       "      <td>9.02</td>\n",
       "      <td>13.635</td>\n",
       "      <td>80</td>\n",
       "      <td>2011</td>\n",
       "      <td>02</td>\n",
       "      <td>5</td>\n",
       "    </tr>\n",
       "    <tr>\n",
       "      <th>3</th>\n",
       "      <td>1</td>\n",
       "      <td>0</td>\n",
       "      <td>0</td>\n",
       "      <td>1</td>\n",
       "      <td>9.84</td>\n",
       "      <td>14.395</td>\n",
       "      <td>75</td>\n",
       "      <td>2011</td>\n",
       "      <td>03</td>\n",
       "      <td>5</td>\n",
       "    </tr>\n",
       "    <tr>\n",
       "      <th>4</th>\n",
       "      <td>1</td>\n",
       "      <td>0</td>\n",
       "      <td>0</td>\n",
       "      <td>1</td>\n",
       "      <td>9.84</td>\n",
       "      <td>14.395</td>\n",
       "      <td>75</td>\n",
       "      <td>2011</td>\n",
       "      <td>04</td>\n",
       "      <td>5</td>\n",
       "    </tr>\n",
       "  </tbody>\n",
       "</table>\n",
       "</div>"
      ],
      "text/plain": [
       "   season  holiday  workingday  weather  temp   atemp  humidity  year hour  \\\n",
       "0       1        0           0        1  9.84  14.395        81  2011   00   \n",
       "1       1        0           0        1  9.02  13.635        80  2011   01   \n",
       "2       1        0           0        1  9.02  13.635        80  2011   02   \n",
       "3       1        0           0        1  9.84  14.395        75  2011   03   \n",
       "4       1        0           0        1  9.84  14.395        75  2011   04   \n",
       "\n",
       "   weekday  \n",
       "0        5  \n",
       "1        5  \n",
       "2        5  \n",
       "3        5  \n",
       "4        5  "
      ]
     },
     "execution_count": 31,
     "metadata": {},
     "output_type": "execute_result"
    }
   ],
   "source": [
    "X_train.head()"
   ]
  },
  {
   "cell_type": "markdown",
   "id": "b02a9f20",
   "metadata": {
    "papermill": {
     "duration": 0.032676,
     "end_time": "2022-07-21T06:39:12.318181",
     "exception": false,
     "start_time": "2022-07-21T06:39:12.285505",
     "status": "completed"
    },
    "tags": []
   },
   "source": [
    "# 2.2 평가지표 계산 함수 작성"
   ]
  },
  {
   "cell_type": "code",
   "execution_count": 32,
   "id": "f2eb6d60",
   "metadata": {
    "execution": {
     "iopub.execute_input": "2022-07-21T06:39:12.382968Z",
     "iopub.status.busy": "2022-07-21T06:39:12.382287Z",
     "iopub.status.idle": "2022-07-21T06:39:12.388515Z",
     "shell.execute_reply": "2022-07-21T06:39:12.387425Z"
    },
    "papermill": {
     "duration": 0.041088,
     "end_time": "2022-07-21T06:39:12.390865",
     "exception": false,
     "start_time": "2022-07-21T06:39:12.349777",
     "status": "completed"
    },
    "tags": []
   },
   "outputs": [],
   "source": [
    "import numpy as np\n",
    "\n",
    "def rmsle(y_true, y_pred, convertExp=True):\n",
    "    # 지수변환\n",
    "    if convertExp:\n",
    "        y_true = np.exp(y_true)\n",
    "        y_pred = np.exp(y_pred)\n",
    "        \n",
    "    # 로그변환 후 결측값을 0으로 변환\n",
    "    log_true = np.nan_to_num(np.log(y_true+1))\n",
    "    log_pred = np.nan_to_num(np.log(y_pred+1))\n",
    "    \n",
    "    # RMSLE 계산\n",
    "    output = np.sqrt(np.mean((log_true - log_pred)**2))\n",
    "    return output"
   ]
  },
  {
   "cell_type": "markdown",
   "id": "63b0a411",
   "metadata": {
    "papermill": {
     "duration": 0.030536,
     "end_time": "2022-07-21T06:39:12.451847",
     "exception": false,
     "start_time": "2022-07-21T06:39:12.421311",
     "status": "completed"
    },
    "tags": []
   },
   "source": [
    "# 2.3 모델 훈련"
   ]
  },
  {
   "cell_type": "code",
   "execution_count": 33,
   "id": "87992f99",
   "metadata": {
    "execution": {
     "iopub.execute_input": "2022-07-21T06:39:12.516084Z",
     "iopub.status.busy": "2022-07-21T06:39:12.515638Z",
     "iopub.status.idle": "2022-07-21T06:39:12.983859Z",
     "shell.execute_reply": "2022-07-21T06:39:12.982656Z"
    },
    "papermill": {
     "duration": 0.503412,
     "end_time": "2022-07-21T06:39:12.986687",
     "exception": false,
     "start_time": "2022-07-21T06:39:12.483275",
     "status": "completed"
    },
    "tags": []
   },
   "outputs": [],
   "source": [
    "from sklearn.linear_model import LinearRegression\n",
    "\n",
    "linear_reg_model = LinearRegression()"
   ]
  },
  {
   "cell_type": "code",
   "execution_count": 34,
   "id": "707a6f7a",
   "metadata": {
    "execution": {
     "iopub.execute_input": "2022-07-21T06:39:13.050827Z",
     "iopub.status.busy": "2022-07-21T06:39:13.050020Z",
     "iopub.status.idle": "2022-07-21T06:39:13.090800Z",
     "shell.execute_reply": "2022-07-21T06:39:13.089468Z"
    },
    "papermill": {
     "duration": 0.075372,
     "end_time": "2022-07-21T06:39:13.093408",
     "exception": false,
     "start_time": "2022-07-21T06:39:13.018036",
     "status": "completed"
    },
    "tags": []
   },
   "outputs": [
    {
     "data": {
      "text/plain": [
       "LinearRegression()"
      ]
     },
     "execution_count": 34,
     "metadata": {},
     "output_type": "execute_result"
    }
   ],
   "source": [
    "log_y = np.log(y)  # 타깃값 로그변환\n",
    "linear_reg_model.fit(X_train, log_y) # 모델 훈련"
   ]
  },
  {
   "cell_type": "markdown",
   "id": "b3dd2aa1",
   "metadata": {
    "papermill": {
     "duration": 0.032326,
     "end_time": "2022-07-21T06:39:13.158255",
     "exception": false,
     "start_time": "2022-07-21T06:39:13.125929",
     "status": "completed"
    },
    "tags": []
   },
   "source": [
    "# 2.4 모델 성능 검증"
   ]
  },
  {
   "cell_type": "code",
   "execution_count": 35,
   "id": "3959b763",
   "metadata": {
    "execution": {
     "iopub.execute_input": "2022-07-21T06:39:13.227865Z",
     "iopub.status.busy": "2022-07-21T06:39:13.227488Z",
     "iopub.status.idle": "2022-07-21T06:39:13.250951Z",
     "shell.execute_reply": "2022-07-21T06:39:13.249175Z"
    },
    "papermill": {
     "duration": 0.065588,
     "end_time": "2022-07-21T06:39:13.255465",
     "exception": false,
     "start_time": "2022-07-21T06:39:13.189877",
     "status": "completed"
    },
    "tags": []
   },
   "outputs": [],
   "source": [
    "preds = linear_reg_model.predict(X_train)"
   ]
  },
  {
   "cell_type": "code",
   "execution_count": 36,
   "id": "0504ef3a",
   "metadata": {
    "execution": {
     "iopub.execute_input": "2022-07-21T06:39:13.374401Z",
     "iopub.status.busy": "2022-07-21T06:39:13.373986Z",
     "iopub.status.idle": "2022-07-21T06:39:13.382470Z",
     "shell.execute_reply": "2022-07-21T06:39:13.381171Z"
    },
    "papermill": {
     "duration": 0.065352,
     "end_time": "2022-07-21T06:39:13.385365",
     "exception": false,
     "start_time": "2022-07-21T06:39:13.320013",
     "status": "completed"
    },
    "tags": []
   },
   "outputs": [
    {
     "name": "stdout",
     "output_type": "stream",
     "text": [
      "선형회귀의 RMSLE 값 : 1.0205\n"
     ]
    }
   ],
   "source": [
    "print (f'선형회귀의 RMSLE 값 : {rmsle(log_y, preds, True):.4f}')"
   ]
  },
  {
   "cell_type": "markdown",
   "id": "4fa93da3",
   "metadata": {
    "papermill": {
     "duration": 0.031509,
     "end_time": "2022-07-21T06:39:13.448064",
     "exception": false,
     "start_time": "2022-07-21T06:39:13.416555",
     "status": "completed"
    },
    "tags": []
   },
   "source": [
    "# 2.5 예측 및 결과 제출"
   ]
  },
  {
   "cell_type": "code",
   "execution_count": 37,
   "id": "13e7c2e9",
   "metadata": {
    "execution": {
     "iopub.execute_input": "2022-07-21T06:39:13.511728Z",
     "iopub.status.busy": "2022-07-21T06:39:13.511312Z",
     "iopub.status.idle": "2022-07-21T06:39:13.565499Z",
     "shell.execute_reply": "2022-07-21T06:39:13.564135Z"
    },
    "papermill": {
     "duration": 0.090406,
     "end_time": "2022-07-21T06:39:13.569226",
     "exception": false,
     "start_time": "2022-07-21T06:39:13.478820",
     "status": "completed"
    },
    "tags": []
   },
   "outputs": [],
   "source": [
    "linearreg_preds = linear_reg_model.predict(X_test) # 테스트 데이터로 예측\n",
    "\n",
    "submission['count'] = np.exp(linearreg_preds)    # 지수변환\n",
    "submission.to_csv('first_submission.csv', index=False) # 파일로 저장"
   ]
  },
  {
   "cell_type": "markdown",
   "id": "3a0bbc5e",
   "metadata": {
    "papermill": {
     "duration": 0.035774,
     "end_time": "2022-07-21T06:39:13.668534",
     "exception": false,
     "start_time": "2022-07-21T06:39:13.632760",
     "status": "completed"
    },
    "tags": []
   },
   "source": [
    "자, 여러분들이 여기까지 정상적으로 하셨다면 'Output/kaggle/working에 fist_submission.csv'이 생성되었을 겁니다.\n",
    "저 파일을 다운로드해서 직접 대회에 제출하고 평가 점수를 살펴보세요."
   ]
  },
  {
   "cell_type": "markdown",
   "id": "6d28ef1c",
   "metadata": {
    "papermill": {
     "duration": 0.030401,
     "end_time": "2022-07-21T06:39:13.729875",
     "exception": false,
     "start_time": "2022-07-21T06:39:13.699474",
     "status": "completed"
    },
    "tags": []
   },
   "source": [
    "# **3. 자전거 대여 수요 예측 경진대회 모델 성능 개선**\n",
    "* 메뉴:[Run]->[Stop Session] 후 여기서부터 실행권장.(필수아님)"
   ]
  },
  {
   "cell_type": "code",
   "execution_count": 38,
   "id": "241698de",
   "metadata": {
    "execution": {
     "iopub.execute_input": "2022-07-21T06:39:13.794403Z",
     "iopub.status.busy": "2022-07-21T06:39:13.793001Z",
     "iopub.status.idle": "2022-07-21T06:39:13.841175Z",
     "shell.execute_reply": "2022-07-21T06:39:13.839882Z"
    },
    "papermill": {
     "duration": 0.083222,
     "end_time": "2022-07-21T06:39:13.843844",
     "exception": false,
     "start_time": "2022-07-21T06:39:13.760622",
     "status": "completed"
    },
    "tags": []
   },
   "outputs": [],
   "source": [
    "import pandas as pd\n",
    "# 데이터 경로\n",
    "data_path = '/kaggle/input/bike-sharing-demand/'\n",
    "\n",
    "train = pd.read_csv(data_path + 'train.csv')\n",
    "test = pd.read_csv(data_path + 'test.csv')\n",
    "submission = pd.read_csv(data_path + 'sampleSubmission.csv')"
   ]
  },
  {
   "cell_type": "markdown",
   "id": "01f79822",
   "metadata": {
    "papermill": {
     "duration": 0.030356,
     "end_time": "2022-07-21T06:39:13.904722",
     "exception": false,
     "start_time": "2022-07-21T06:39:13.874366",
     "status": "completed"
    },
    "tags": []
   },
   "source": [
    "**피처 엔지니어링**"
   ]
  },
  {
   "cell_type": "markdown",
   "id": "5ebb9752",
   "metadata": {
    "papermill": {
     "duration": 0.031124,
     "end_time": "2022-07-21T06:39:13.966934",
     "exception": false,
     "start_time": "2022-07-21T06:39:13.935810",
     "status": "completed"
    },
    "tags": []
   },
   "source": [
    "이상치 제거"
   ]
  },
  {
   "cell_type": "code",
   "execution_count": 39,
   "id": "c3a14550",
   "metadata": {
    "execution": {
     "iopub.execute_input": "2022-07-21T06:39:14.032235Z",
     "iopub.status.busy": "2022-07-21T06:39:14.031454Z",
     "iopub.status.idle": "2022-07-21T06:39:14.037852Z",
     "shell.execute_reply": "2022-07-21T06:39:14.036792Z"
    },
    "papermill": {
     "duration": 0.041864,
     "end_time": "2022-07-21T06:39:14.039930",
     "exception": false,
     "start_time": "2022-07-21T06:39:13.998066",
     "status": "completed"
    },
    "tags": []
   },
   "outputs": [],
   "source": [
    "# 훈련 데이터에서 weather가 4가 아닌 데이터만 추출\n",
    "train = train[train['weather'] != 4]"
   ]
  },
  {
   "cell_type": "markdown",
   "id": "537ca5bc",
   "metadata": {
    "papermill": {
     "duration": 0.02982,
     "end_time": "2022-07-21T06:39:14.100107",
     "exception": false,
     "start_time": "2022-07-21T06:39:14.070287",
     "status": "completed"
    },
    "tags": []
   },
   "source": [
    "데이터 합치기"
   ]
  },
  {
   "cell_type": "code",
   "execution_count": 40,
   "id": "b81fd8af",
   "metadata": {
    "execution": {
     "iopub.execute_input": "2022-07-21T06:39:14.168729Z",
     "iopub.status.busy": "2022-07-21T06:39:14.167933Z",
     "iopub.status.idle": "2022-07-21T06:39:14.192500Z",
     "shell.execute_reply": "2022-07-21T06:39:14.191242Z"
    },
    "papermill": {
     "duration": 0.060637,
     "end_time": "2022-07-21T06:39:14.194867",
     "exception": false,
     "start_time": "2022-07-21T06:39:14.134230",
     "status": "completed"
    },
    "tags": []
   },
   "outputs": [
    {
     "data": {
      "text/html": [
       "<div>\n",
       "<style scoped>\n",
       "    .dataframe tbody tr th:only-of-type {\n",
       "        vertical-align: middle;\n",
       "    }\n",
       "\n",
       "    .dataframe tbody tr th {\n",
       "        vertical-align: top;\n",
       "    }\n",
       "\n",
       "    .dataframe thead th {\n",
       "        text-align: right;\n",
       "    }\n",
       "</style>\n",
       "<table border=\"1\" class=\"dataframe\">\n",
       "  <thead>\n",
       "    <tr style=\"text-align: right;\">\n",
       "      <th></th>\n",
       "      <th>datetime</th>\n",
       "      <th>season</th>\n",
       "      <th>holiday</th>\n",
       "      <th>workingday</th>\n",
       "      <th>weather</th>\n",
       "      <th>temp</th>\n",
       "      <th>atemp</th>\n",
       "      <th>humidity</th>\n",
       "      <th>windspeed</th>\n",
       "      <th>casual</th>\n",
       "      <th>registered</th>\n",
       "      <th>count</th>\n",
       "    </tr>\n",
       "  </thead>\n",
       "  <tbody>\n",
       "    <tr>\n",
       "      <th>0</th>\n",
       "      <td>2011-01-01 00:00:00</td>\n",
       "      <td>1</td>\n",
       "      <td>0</td>\n",
       "      <td>0</td>\n",
       "      <td>1</td>\n",
       "      <td>9.84</td>\n",
       "      <td>14.395</td>\n",
       "      <td>81</td>\n",
       "      <td>0.0000</td>\n",
       "      <td>3.0</td>\n",
       "      <td>13.0</td>\n",
       "      <td>16.0</td>\n",
       "    </tr>\n",
       "    <tr>\n",
       "      <th>1</th>\n",
       "      <td>2011-01-01 01:00:00</td>\n",
       "      <td>1</td>\n",
       "      <td>0</td>\n",
       "      <td>0</td>\n",
       "      <td>1</td>\n",
       "      <td>9.02</td>\n",
       "      <td>13.635</td>\n",
       "      <td>80</td>\n",
       "      <td>0.0000</td>\n",
       "      <td>8.0</td>\n",
       "      <td>32.0</td>\n",
       "      <td>40.0</td>\n",
       "    </tr>\n",
       "    <tr>\n",
       "      <th>2</th>\n",
       "      <td>2011-01-01 02:00:00</td>\n",
       "      <td>1</td>\n",
       "      <td>0</td>\n",
       "      <td>0</td>\n",
       "      <td>1</td>\n",
       "      <td>9.02</td>\n",
       "      <td>13.635</td>\n",
       "      <td>80</td>\n",
       "      <td>0.0000</td>\n",
       "      <td>5.0</td>\n",
       "      <td>27.0</td>\n",
       "      <td>32.0</td>\n",
       "    </tr>\n",
       "    <tr>\n",
       "      <th>3</th>\n",
       "      <td>2011-01-01 03:00:00</td>\n",
       "      <td>1</td>\n",
       "      <td>0</td>\n",
       "      <td>0</td>\n",
       "      <td>1</td>\n",
       "      <td>9.84</td>\n",
       "      <td>14.395</td>\n",
       "      <td>75</td>\n",
       "      <td>0.0000</td>\n",
       "      <td>3.0</td>\n",
       "      <td>10.0</td>\n",
       "      <td>13.0</td>\n",
       "    </tr>\n",
       "    <tr>\n",
       "      <th>4</th>\n",
       "      <td>2011-01-01 04:00:00</td>\n",
       "      <td>1</td>\n",
       "      <td>0</td>\n",
       "      <td>0</td>\n",
       "      <td>1</td>\n",
       "      <td>9.84</td>\n",
       "      <td>14.395</td>\n",
       "      <td>75</td>\n",
       "      <td>0.0000</td>\n",
       "      <td>0.0</td>\n",
       "      <td>1.0</td>\n",
       "      <td>1.0</td>\n",
       "    </tr>\n",
       "    <tr>\n",
       "      <th>...</th>\n",
       "      <td>...</td>\n",
       "      <td>...</td>\n",
       "      <td>...</td>\n",
       "      <td>...</td>\n",
       "      <td>...</td>\n",
       "      <td>...</td>\n",
       "      <td>...</td>\n",
       "      <td>...</td>\n",
       "      <td>...</td>\n",
       "      <td>...</td>\n",
       "      <td>...</td>\n",
       "      <td>...</td>\n",
       "    </tr>\n",
       "    <tr>\n",
       "      <th>17373</th>\n",
       "      <td>2012-12-31 19:00:00</td>\n",
       "      <td>1</td>\n",
       "      <td>0</td>\n",
       "      <td>1</td>\n",
       "      <td>2</td>\n",
       "      <td>10.66</td>\n",
       "      <td>12.880</td>\n",
       "      <td>60</td>\n",
       "      <td>11.0014</td>\n",
       "      <td>NaN</td>\n",
       "      <td>NaN</td>\n",
       "      <td>NaN</td>\n",
       "    </tr>\n",
       "    <tr>\n",
       "      <th>17374</th>\n",
       "      <td>2012-12-31 20:00:00</td>\n",
       "      <td>1</td>\n",
       "      <td>0</td>\n",
       "      <td>1</td>\n",
       "      <td>2</td>\n",
       "      <td>10.66</td>\n",
       "      <td>12.880</td>\n",
       "      <td>60</td>\n",
       "      <td>11.0014</td>\n",
       "      <td>NaN</td>\n",
       "      <td>NaN</td>\n",
       "      <td>NaN</td>\n",
       "    </tr>\n",
       "    <tr>\n",
       "      <th>17375</th>\n",
       "      <td>2012-12-31 21:00:00</td>\n",
       "      <td>1</td>\n",
       "      <td>0</td>\n",
       "      <td>1</td>\n",
       "      <td>1</td>\n",
       "      <td>10.66</td>\n",
       "      <td>12.880</td>\n",
       "      <td>60</td>\n",
       "      <td>11.0014</td>\n",
       "      <td>NaN</td>\n",
       "      <td>NaN</td>\n",
       "      <td>NaN</td>\n",
       "    </tr>\n",
       "    <tr>\n",
       "      <th>17376</th>\n",
       "      <td>2012-12-31 22:00:00</td>\n",
       "      <td>1</td>\n",
       "      <td>0</td>\n",
       "      <td>1</td>\n",
       "      <td>1</td>\n",
       "      <td>10.66</td>\n",
       "      <td>13.635</td>\n",
       "      <td>56</td>\n",
       "      <td>8.9981</td>\n",
       "      <td>NaN</td>\n",
       "      <td>NaN</td>\n",
       "      <td>NaN</td>\n",
       "    </tr>\n",
       "    <tr>\n",
       "      <th>17377</th>\n",
       "      <td>2012-12-31 23:00:00</td>\n",
       "      <td>1</td>\n",
       "      <td>0</td>\n",
       "      <td>1</td>\n",
       "      <td>1</td>\n",
       "      <td>10.66</td>\n",
       "      <td>13.635</td>\n",
       "      <td>65</td>\n",
       "      <td>8.9981</td>\n",
       "      <td>NaN</td>\n",
       "      <td>NaN</td>\n",
       "      <td>NaN</td>\n",
       "    </tr>\n",
       "  </tbody>\n",
       "</table>\n",
       "<p>17378 rows × 12 columns</p>\n",
       "</div>"
      ],
      "text/plain": [
       "                  datetime  season  holiday  workingday  weather   temp  \\\n",
       "0      2011-01-01 00:00:00       1        0           0        1   9.84   \n",
       "1      2011-01-01 01:00:00       1        0           0        1   9.02   \n",
       "2      2011-01-01 02:00:00       1        0           0        1   9.02   \n",
       "3      2011-01-01 03:00:00       1        0           0        1   9.84   \n",
       "4      2011-01-01 04:00:00       1        0           0        1   9.84   \n",
       "...                    ...     ...      ...         ...      ...    ...   \n",
       "17373  2012-12-31 19:00:00       1        0           1        2  10.66   \n",
       "17374  2012-12-31 20:00:00       1        0           1        2  10.66   \n",
       "17375  2012-12-31 21:00:00       1        0           1        1  10.66   \n",
       "17376  2012-12-31 22:00:00       1        0           1        1  10.66   \n",
       "17377  2012-12-31 23:00:00       1        0           1        1  10.66   \n",
       "\n",
       "        atemp  humidity  windspeed  casual  registered  count  \n",
       "0      14.395        81     0.0000     3.0        13.0   16.0  \n",
       "1      13.635        80     0.0000     8.0        32.0   40.0  \n",
       "2      13.635        80     0.0000     5.0        27.0   32.0  \n",
       "3      14.395        75     0.0000     3.0        10.0   13.0  \n",
       "4      14.395        75     0.0000     0.0         1.0    1.0  \n",
       "...       ...       ...        ...     ...         ...    ...  \n",
       "17373  12.880        60    11.0014     NaN         NaN    NaN  \n",
       "17374  12.880        60    11.0014     NaN         NaN    NaN  \n",
       "17375  12.880        60    11.0014     NaN         NaN    NaN  \n",
       "17376  13.635        56     8.9981     NaN         NaN    NaN  \n",
       "17377  13.635        65     8.9981     NaN         NaN    NaN  \n",
       "\n",
       "[17378 rows x 12 columns]"
      ]
     },
     "execution_count": 40,
     "metadata": {},
     "output_type": "execute_result"
    }
   ],
   "source": [
    "all_data = pd.concat([train, test], ignore_index=True)\n",
    "all_data"
   ]
  },
  {
   "cell_type": "markdown",
   "id": "9de3ad25",
   "metadata": {
    "papermill": {
     "duration": 0.029988,
     "end_time": "2022-07-21T06:39:14.255541",
     "exception": false,
     "start_time": "2022-07-21T06:39:14.225553",
     "status": "completed"
    },
    "tags": []
   },
   "source": [
    "> CONCAT 함수\n",
    "> \n",
    "> 두 표현식을 연결하고 결과 표현식을 반환한다. 2개 이상의 표현식을 연결하려면 CONCAT 함수를 중첩시켜 사용한다."
   ]
  },
  {
   "cell_type": "markdown",
   "id": "4cbf00b2",
   "metadata": {
    "papermill": {
     "duration": 0.030992,
     "end_time": "2022-07-21T06:39:14.316859",
     "exception": false,
     "start_time": "2022-07-21T06:39:14.285867",
     "status": "completed"
    },
    "tags": []
   },
   "source": [
    "파생 변수(피처) 추가"
   ]
  },
  {
   "cell_type": "code",
   "execution_count": 41,
   "id": "f9403dc5",
   "metadata": {
    "execution": {
     "iopub.execute_input": "2022-07-21T06:39:14.380301Z",
     "iopub.status.busy": "2022-07-21T06:39:14.379896Z",
     "iopub.status.idle": "2022-07-21T06:39:14.564795Z",
     "shell.execute_reply": "2022-07-21T06:39:14.563499Z"
    },
    "papermill": {
     "duration": 0.219917,
     "end_time": "2022-07-21T06:39:14.567536",
     "exception": false,
     "start_time": "2022-07-21T06:39:14.347619",
     "status": "completed"
    },
    "tags": []
   },
   "outputs": [],
   "source": [
    "from datetime import datetime\n",
    "\n",
    "# 날짜 피처 생성\n",
    "all_data['date'] = all_data['datetime'].apply(lambda x: x.split()[0])\n",
    "# 연도 피처 생성\n",
    "all_data['year'] = all_data['datetime'].apply(lambda x: x.split()[0].split('-')[0])\n",
    "# 월 피처 생성\n",
    "all_data['month'] = all_data['datetime'].apply(lambda x: x.split()[0].split('-')[1])\n",
    "# 시 피처 생성\n",
    "all_data['hour'] = all_data['datetime'].apply(lambda x: x.split()[1].split(':')[0])\n",
    "# 요일 피처 생성\n",
    "all_data[\"weekday\"] = all_data['date'].apply(lambda dateString : datetime.strptime(dateString,\"%Y-%m-%d\").weekday())"
   ]
  },
  {
   "cell_type": "markdown",
   "id": "c02bdd06",
   "metadata": {
    "papermill": {
     "duration": 0.0303,
     "end_time": "2022-07-21T06:39:14.628244",
     "exception": false,
     "start_time": "2022-07-21T06:39:14.597944",
     "status": "completed"
    },
    "tags": []
   },
   "source": [
    "필요 없는 피처 제거"
   ]
  },
  {
   "cell_type": "code",
   "execution_count": 42,
   "id": "266b1e33",
   "metadata": {
    "execution": {
     "iopub.execute_input": "2022-07-21T06:39:14.694286Z",
     "iopub.status.busy": "2022-07-21T06:39:14.692976Z",
     "iopub.status.idle": "2022-07-21T06:39:14.705191Z",
     "shell.execute_reply": "2022-07-21T06:39:14.704248Z"
    },
    "papermill": {
     "duration": 0.049046,
     "end_time": "2022-07-21T06:39:14.707603",
     "exception": false,
     "start_time": "2022-07-21T06:39:14.658557",
     "status": "completed"
    },
    "tags": []
   },
   "outputs": [],
   "source": [
    "drop_features = ['casual', 'registered', 'datetime', 'date', 'windspeed', 'month']\n",
    "\n",
    "all_data = all_data.drop(drop_features, axis=1)"
   ]
  },
  {
   "cell_type": "markdown",
   "id": "02bdba5c",
   "metadata": {
    "papermill": {
     "duration": 0.031689,
     "end_time": "2022-07-21T06:39:14.771683",
     "exception": false,
     "start_time": "2022-07-21T06:39:14.739994",
     "status": "completed"
    },
    "tags": []
   },
   "source": [
    "데이터 나누기"
   ]
  },
  {
   "cell_type": "code",
   "execution_count": 43,
   "id": "09388599",
   "metadata": {
    "execution": {
     "iopub.execute_input": "2022-07-21T06:39:14.836480Z",
     "iopub.status.busy": "2022-07-21T06:39:14.835661Z",
     "iopub.status.idle": "2022-07-21T06:39:14.847812Z",
     "shell.execute_reply": "2022-07-21T06:39:14.846918Z"
    },
    "papermill": {
     "duration": 0.047276,
     "end_time": "2022-07-21T06:39:14.850486",
     "exception": false,
     "start_time": "2022-07-21T06:39:14.803210",
     "status": "completed"
    },
    "tags": []
   },
   "outputs": [],
   "source": [
    "# 훈련 데이터와 테스트 데이터 나누기\n",
    "X_train = all_data[~pd.isnull(all_data['count'])]\n",
    "X_test = all_data[pd.isnull(all_data['count'])]\n",
    "\n",
    "# 타깃값 count 제거\n",
    "X_train = X_train.drop(['count'], axis=1)\n",
    "X_test = X_test.drop(['count'], axis=1)\n",
    "\n",
    "y = train['count'] # 타깃값"
   ]
  },
  {
   "cell_type": "markdown",
   "id": "2b43b353",
   "metadata": {
    "papermill": {
     "duration": 0.030611,
     "end_time": "2022-07-21T06:39:14.912413",
     "exception": false,
     "start_time": "2022-07-21T06:39:14.881802",
     "status": "completed"
    },
    "tags": []
   },
   "source": [
    "평가지표 계산 함수 작성"
   ]
  },
  {
   "cell_type": "code",
   "execution_count": 44,
   "id": "f657fe0a",
   "metadata": {
    "execution": {
     "iopub.execute_input": "2022-07-21T06:39:14.976651Z",
     "iopub.status.busy": "2022-07-21T06:39:14.975842Z",
     "iopub.status.idle": "2022-07-21T06:39:14.983198Z",
     "shell.execute_reply": "2022-07-21T06:39:14.982234Z"
    },
    "papermill": {
     "duration": 0.042277,
     "end_time": "2022-07-21T06:39:14.985560",
     "exception": false,
     "start_time": "2022-07-21T06:39:14.943283",
     "status": "completed"
    },
    "tags": []
   },
   "outputs": [],
   "source": [
    "import numpy as np\n",
    "\n",
    "def rmsle(y_true, y_pred, convertExp=True):\n",
    "    # 지수변환\n",
    "    if convertExp:\n",
    "        y_true = np.exp(y_true)\n",
    "        y_pred = np.exp(y_pred)\n",
    "        \n",
    "    # 로그변환 후 결측값을 0으로 변환\n",
    "    log_true = np.nan_to_num(np.log(y_true+1))\n",
    "    log_pred = np.nan_to_num(np.log(y_pred+1))\n",
    "    \n",
    "    # RMSLE 계산\n",
    "    output = np.sqrt(np.mean((log_true - log_pred)**2))\n",
    "    return output"
   ]
  },
  {
   "cell_type": "markdown",
   "id": "06971c6a",
   "metadata": {
    "papermill": {
     "duration": 0.030306,
     "end_time": "2022-07-21T06:39:15.046939",
     "exception": false,
     "start_time": "2022-07-21T06:39:15.016633",
     "status": "completed"
    },
    "tags": []
   },
   "source": [
    "# **3.1 성능 개선 1 : 릿지 회귀 모델**"
   ]
  },
  {
   "cell_type": "markdown",
   "id": "baf7a1fe",
   "metadata": {
    "papermill": {
     "duration": 0.030209,
     "end_time": "2022-07-21T06:39:15.108247",
     "exception": false,
     "start_time": "2022-07-21T06:39:15.078038",
     "status": "completed"
    },
    "tags": []
   },
   "source": [
    "# 3.1.1 하이퍼 파라미터 최적화(모델 훈련)"
   ]
  },
  {
   "cell_type": "markdown",
   "id": "8f7570ed",
   "metadata": {
    "papermill": {
     "duration": 0.033225,
     "end_time": "2022-07-21T06:39:15.173178",
     "exception": false,
     "start_time": "2022-07-21T06:39:15.139953",
     "status": "completed"
    },
    "tags": []
   },
   "source": [
    "모델 생성"
   ]
  },
  {
   "cell_type": "code",
   "execution_count": 45,
   "id": "ace12d2e",
   "metadata": {
    "execution": {
     "iopub.execute_input": "2022-07-21T06:39:15.237823Z",
     "iopub.status.busy": "2022-07-21T06:39:15.237437Z",
     "iopub.status.idle": "2022-07-21T06:39:15.242669Z",
     "shell.execute_reply": "2022-07-21T06:39:15.241429Z"
    },
    "papermill": {
     "duration": 0.039514,
     "end_time": "2022-07-21T06:39:15.244800",
     "exception": false,
     "start_time": "2022-07-21T06:39:15.205286",
     "status": "completed"
    },
    "tags": []
   },
   "outputs": [],
   "source": [
    "from sklearn.linear_model import Ridge\n",
    "from sklearn.model_selection import GridSearchCV\n",
    "from sklearn import metrics\n",
    "\n",
    "ridge_model = Ridge()"
   ]
  },
  {
   "cell_type": "markdown",
   "id": "1715fc82",
   "metadata": {
    "papermill": {
     "duration": 0.030696,
     "end_time": "2022-07-21T06:39:15.306287",
     "exception": false,
     "start_time": "2022-07-21T06:39:15.275591",
     "status": "completed"
    },
    "tags": []
   },
   "source": [
    "그리드서치 객체 생성"
   ]
  },
  {
   "cell_type": "code",
   "execution_count": 46,
   "id": "66e26d12",
   "metadata": {
    "execution": {
     "iopub.execute_input": "2022-07-21T06:39:15.370977Z",
     "iopub.status.busy": "2022-07-21T06:39:15.370162Z",
     "iopub.status.idle": "2022-07-21T06:39:15.376611Z",
     "shell.execute_reply": "2022-07-21T06:39:15.375684Z"
    },
    "papermill": {
     "duration": 0.041126,
     "end_time": "2022-07-21T06:39:15.378646",
     "exception": false,
     "start_time": "2022-07-21T06:39:15.337520",
     "status": "completed"
    },
    "tags": []
   },
   "outputs": [],
   "source": [
    "# 하이퍼 파라미터 값 목록\n",
    "ridge_params = {'max_iter':[3000], 'alpha':[0.1, 1, 2, 3, 4, 10, 30, 100, 200, 300, 400, 800, 900, 1000]}\n",
    "\n",
    "# 교차 검증용 평가 함수(RMSLE 점수 계산)\n",
    "rmsle_scorer = metrics.make_scorer(rmsle, greater_is_better=False)\n",
    "# 그리드서치(with 릿지) 객체 생성\n",
    "gridsearch_ridge_model = GridSearchCV(estimator=ridge_model,   # 릿지 모델\n",
    "                                      param_grid=ridge_params, # 값 목록\n",
    "                                      scoring=rmsle_scorer,    # 평가지표\n",
    "                                      cv=5)                    # 교차검증 분할 수"
   ]
  },
  {
   "cell_type": "markdown",
   "id": "ec89a895",
   "metadata": {
    "papermill": {
     "duration": 0.030661,
     "end_time": "2022-07-21T06:39:15.441460",
     "exception": false,
     "start_time": "2022-07-21T06:39:15.410799",
     "status": "completed"
    },
    "tags": []
   },
   "source": [
    "> RMSE\n",
    ">\n",
    "> RMSE는 MSE를 제곱근한 값인데, MSE는 제곱된 오차들의 평균이기 때문에 그 값의 단위를 원래 정답값과 맞춰주고자 제곱근을 씌운다는 개념이 담겨있습니다."
   ]
  },
  {
   "cell_type": "markdown",
   "id": "74e00283",
   "metadata": {
    "papermill": {
     "duration": 0.030099,
     "end_time": "2022-07-21T06:39:15.502226",
     "exception": false,
     "start_time": "2022-07-21T06:39:15.472127",
     "status": "completed"
    },
    "tags": []
   },
   "source": [
    "그리드서치 수행"
   ]
  },
  {
   "cell_type": "code",
   "execution_count": 47,
   "id": "cc641603",
   "metadata": {
    "execution": {
     "iopub.execute_input": "2022-07-21T06:39:15.565529Z",
     "iopub.status.busy": "2022-07-21T06:39:15.565111Z",
     "iopub.status.idle": "2022-07-21T06:39:17.745979Z",
     "shell.execute_reply": "2022-07-21T06:39:17.744608Z"
    },
    "papermill": {
     "duration": 2.218329,
     "end_time": "2022-07-21T06:39:17.751294",
     "exception": false,
     "start_time": "2022-07-21T06:39:15.532965",
     "status": "completed"
    },
    "tags": []
   },
   "outputs": [
    {
     "data": {
      "text/plain": [
       "GridSearchCV(cv=5, estimator=Ridge(),\n",
       "             param_grid={'alpha': [0.1, 1, 2, 3, 4, 10, 30, 100, 200, 300, 400,\n",
       "                                   800, 900, 1000],\n",
       "                         'max_iter': [3000]},\n",
       "             scoring=make_scorer(rmsle, greater_is_better=False))"
      ]
     },
     "execution_count": 47,
     "metadata": {},
     "output_type": "execute_result"
    }
   ],
   "source": [
    "log_y = np.log(y) # 타깃값 로그변환\n",
    "gridsearch_ridge_model.fit(X_train, log_y) # 훈련(그리드서치)"
   ]
  },
  {
   "cell_type": "code",
   "execution_count": 48,
   "id": "dc4da64a",
   "metadata": {
    "execution": {
     "iopub.execute_input": "2022-07-21T06:39:17.910385Z",
     "iopub.status.busy": "2022-07-21T06:39:17.909927Z",
     "iopub.status.idle": "2022-07-21T06:39:17.916352Z",
     "shell.execute_reply": "2022-07-21T06:39:17.914984Z"
    },
    "papermill": {
     "duration": 0.09679,
     "end_time": "2022-07-21T06:39:17.918904",
     "exception": false,
     "start_time": "2022-07-21T06:39:17.822114",
     "status": "completed"
    },
    "tags": []
   },
   "outputs": [
    {
     "name": "stdout",
     "output_type": "stream",
     "text": [
      "최적 하이퍼파라미터 : {'alpha': 0.1, 'max_iter': 3000}\n"
     ]
    }
   ],
   "source": [
    "print('최적 하이퍼파라미터 :', gridsearch_ridge_model.best_params_)"
   ]
  },
  {
   "cell_type": "markdown",
   "id": "4d0b2398",
   "metadata": {
    "papermill": {
     "duration": 0.030584,
     "end_time": "2022-07-21T06:39:17.980596",
     "exception": false,
     "start_time": "2022-07-21T06:39:17.950012",
     "status": "completed"
    },
    "tags": []
   },
   "source": [
    "# 3.1.2 성능 검증"
   ]
  },
  {
   "cell_type": "code",
   "execution_count": 49,
   "id": "c67f02c2",
   "metadata": {
    "execution": {
     "iopub.execute_input": "2022-07-21T06:39:18.046754Z",
     "iopub.status.busy": "2022-07-21T06:39:18.045988Z",
     "iopub.status.idle": "2022-07-21T06:39:18.069251Z",
     "shell.execute_reply": "2022-07-21T06:39:18.067703Z"
    },
    "papermill": {
     "duration": 0.061739,
     "end_time": "2022-07-21T06:39:18.073601",
     "exception": false,
     "start_time": "2022-07-21T06:39:18.011862",
     "status": "completed"
    },
    "tags": []
   },
   "outputs": [
    {
     "name": "stdout",
     "output_type": "stream",
     "text": [
      "릿지 회귀 RMSLE 값 : 1.0205\n"
     ]
    }
   ],
   "source": [
    "# 예측\n",
    "preds = gridsearch_ridge_model.best_estimator_.predict(X_train) \n",
    "\n",
    "# 평가\n",
    "print(f'릿지 회귀 RMSLE 값 : {rmsle(log_y, preds, True):.4f}') "
   ]
  },
  {
   "cell_type": "markdown",
   "id": "28245600",
   "metadata": {
    "papermill": {
     "duration": 0.052378,
     "end_time": "2022-07-21T06:39:18.193442",
     "exception": false,
     "start_time": "2022-07-21T06:39:18.141064",
     "status": "completed"
    },
    "tags": []
   },
   "source": [
    "# **3.2 성능 개선 2 : 라쏘 회귀 모델**"
   ]
  },
  {
   "cell_type": "markdown",
   "id": "dcea6875",
   "metadata": {
    "papermill": {
     "duration": 0.031654,
     "end_time": "2022-07-21T06:39:18.256250",
     "exception": false,
     "start_time": "2022-07-21T06:39:18.224596",
     "status": "completed"
    },
    "tags": []
   },
   "source": [
    "# 3.2.1 하이퍼 파라미터 최적화(모델 훈련)"
   ]
  },
  {
   "cell_type": "code",
   "execution_count": 50,
   "id": "e4e1bea2",
   "metadata": {
    "execution": {
     "iopub.execute_input": "2022-07-21T06:39:18.388598Z",
     "iopub.status.busy": "2022-07-21T06:39:18.388196Z",
     "iopub.status.idle": "2022-07-21T06:39:24.044467Z",
     "shell.execute_reply": "2022-07-21T06:39:24.043271Z"
    },
    "papermill": {
     "duration": 5.757669,
     "end_time": "2022-07-21T06:39:24.047779",
     "exception": false,
     "start_time": "2022-07-21T06:39:18.290110",
     "status": "completed"
    },
    "tags": []
   },
   "outputs": [
    {
     "name": "stdout",
     "output_type": "stream",
     "text": [
      "최적 하이퍼파라미터 : {'alpha': 0.00125, 'max_iter': 3000}\n"
     ]
    }
   ],
   "source": [
    "from sklearn.linear_model import Lasso\n",
    "\n",
    "# 모델 생성\n",
    "lasso_model = Lasso()\n",
    "# 하이퍼파라미터 값 목록\n",
    "lasso_alpha = 1/np.array([0.1, 1, 2, 3, 4, 10, 30, 100, 200, 300, 400, 800, 900, 1000])\n",
    "lasso_params = {'max_iter':[3000], 'alpha':lasso_alpha}\n",
    "# 그리드서치(with 라쏘) 객체 생성\n",
    "gridsearch_lasso_model = GridSearchCV(estimator=lasso_model,\n",
    "                                      param_grid=lasso_params,\n",
    "                                      scoring=rmsle_scorer,\n",
    "                                      cv=5)\n",
    "# 그리드서치 수행\n",
    "log_y = np.log(y)\n",
    "gridsearch_lasso_model.fit(X_train, log_y)\n",
    "\n",
    "print('최적 하이퍼파라미터 :', gridsearch_lasso_model.best_params_)"
   ]
  },
  {
   "cell_type": "markdown",
   "id": "46a0c3dd",
   "metadata": {
    "papermill": {
     "duration": 0.042596,
     "end_time": "2022-07-21T06:39:24.176124",
     "exception": false,
     "start_time": "2022-07-21T06:39:24.133528",
     "status": "completed"
    },
    "tags": []
   },
   "source": [
    "# 3.2.2 성능 검증"
   ]
  },
  {
   "cell_type": "code",
   "execution_count": 51,
   "id": "520d5966",
   "metadata": {
    "execution": {
     "iopub.execute_input": "2022-07-21T06:39:24.242628Z",
     "iopub.status.busy": "2022-07-21T06:39:24.242208Z",
     "iopub.status.idle": "2022-07-21T06:39:24.267314Z",
     "shell.execute_reply": "2022-07-21T06:39:24.264990Z"
    },
    "papermill": {
     "duration": 0.064611,
     "end_time": "2022-07-21T06:39:24.272950",
     "exception": false,
     "start_time": "2022-07-21T06:39:24.208339",
     "status": "completed"
    },
    "tags": []
   },
   "outputs": [
    {
     "name": "stdout",
     "output_type": "stream",
     "text": [
      "라쏘 회귀 RMSLE 값 : 1.0205\n"
     ]
    }
   ],
   "source": [
    "# 예측\n",
    "preds = gridsearch_lasso_model.best_estimator_.predict(X_train)\n",
    "\n",
    "# 평가\n",
    "print(f'라쏘 회귀 RMSLE 값 : {rmsle(log_y, preds, True):.4f}')"
   ]
  },
  {
   "cell_type": "markdown",
   "id": "ce7a53af",
   "metadata": {
    "papermill": {
     "duration": 0.051637,
     "end_time": "2022-07-21T06:39:24.390347",
     "exception": false,
     "start_time": "2022-07-21T06:39:24.338710",
     "status": "completed"
    },
    "tags": []
   },
   "source": [
    "# **3.3 성능 개선 3 : 랜덤 포레스트 회귀 모델**"
   ]
  },
  {
   "cell_type": "markdown",
   "id": "de20c8eb",
   "metadata": {
    "papermill": {
     "duration": 0.031033,
     "end_time": "2022-07-21T06:39:24.453586",
     "exception": false,
     "start_time": "2022-07-21T06:39:24.422553",
     "status": "completed"
    },
    "tags": []
   },
   "source": [
    "# 3.3.1 하이퍼 파라미터 최적화(모델훈련)"
   ]
  },
  {
   "cell_type": "code",
   "execution_count": 52,
   "id": "472b6c93",
   "metadata": {
    "execution": {
     "iopub.execute_input": "2022-07-21T06:39:24.517962Z",
     "iopub.status.busy": "2022-07-21T06:39:24.517486Z",
     "iopub.status.idle": "2022-07-21T06:40:13.951099Z",
     "shell.execute_reply": "2022-07-21T06:40:13.949825Z"
    },
    "papermill": {
     "duration": 49.500535,
     "end_time": "2022-07-21T06:40:13.985563",
     "exception": false,
     "start_time": "2022-07-21T06:39:24.485028",
     "status": "completed"
    },
    "tags": []
   },
   "outputs": [
    {
     "name": "stdout",
     "output_type": "stream",
     "text": [
      "최적 하이퍼파라미터 : {'n_estimators': 140, 'random_state': 42}\n"
     ]
    }
   ],
   "source": [
    "from sklearn.ensemble import RandomForestRegressor\n",
    "\n",
    "# 모델 생성\n",
    "randomforest_model = RandomForestRegressor()\n",
    "# 그리드서치 객체 생성\n",
    "rf_params = {'random_state':[42], 'n_estimators':[100, 120, 140]}\n",
    "gridsearch_random_forest_model = GridSearchCV(estimator=randomforest_model,\n",
    "                                              param_grid=rf_params,\n",
    "                                              scoring=rmsle_scorer,\n",
    "                                              cv=5)\n",
    "# 그리드서치 수행\n",
    "log_y = np.log(y)\n",
    "gridsearch_random_forest_model.fit(X_train, log_y)\n",
    "\n",
    "print('최적 하이퍼파라미터 :', gridsearch_random_forest_model.best_params_)"
   ]
  },
  {
   "cell_type": "markdown",
   "id": "42a958b0",
   "metadata": {
    "papermill": {
     "duration": 0.031927,
     "end_time": "2022-07-21T06:40:14.050298",
     "exception": false,
     "start_time": "2022-07-21T06:40:14.018371",
     "status": "completed"
    },
    "tags": []
   },
   "source": [
    "# 3.3.2 모델 성능 검증"
   ]
  },
  {
   "cell_type": "code",
   "execution_count": 53,
   "id": "d2b39c23",
   "metadata": {
    "execution": {
     "iopub.execute_input": "2022-07-21T06:40:14.121220Z",
     "iopub.status.busy": "2022-07-21T06:40:14.120511Z",
     "iopub.status.idle": "2022-07-21T06:40:14.474024Z",
     "shell.execute_reply": "2022-07-21T06:40:14.472059Z"
    },
    "papermill": {
     "duration": 0.394334,
     "end_time": "2022-07-21T06:40:14.476740",
     "exception": false,
     "start_time": "2022-07-21T06:40:14.082406",
     "status": "completed"
    },
    "tags": []
   },
   "outputs": [
    {
     "name": "stdout",
     "output_type": "stream",
     "text": [
      "랜덤 포레스트 회귀 RMSLE 값 : 0.1127\n"
     ]
    }
   ],
   "source": [
    "# 예측\n",
    "preds = gridsearch_random_forest_model.best_estimator_.predict(X_train)\n",
    "\n",
    "# 평가\n",
    "print(f'랜덤 포레스트 회귀 RMSLE 값 : {rmsle(log_y, preds, True):.4f}')"
   ]
  },
  {
   "cell_type": "markdown",
   "id": "5a92fc26",
   "metadata": {
    "papermill": {
     "duration": 0.03131,
     "end_time": "2022-07-21T06:40:14.540895",
     "exception": false,
     "start_time": "2022-07-21T06:40:14.509585",
     "status": "completed"
    },
    "tags": []
   },
   "source": [
    "# 3.3.3 예측 및 결과 제출"
   ]
  },
  {
   "cell_type": "code",
   "execution_count": 54,
   "id": "8f5180ef",
   "metadata": {
    "execution": {
     "iopub.execute_input": "2022-07-21T06:40:14.605134Z",
     "iopub.status.busy": "2022-07-21T06:40:14.604775Z",
     "iopub.status.idle": "2022-07-21T06:40:15.241830Z",
     "shell.execute_reply": "2022-07-21T06:40:15.240745Z"
    },
    "papermill": {
     "duration": 0.672057,
     "end_time": "2022-07-21T06:40:15.244222",
     "exception": false,
     "start_time": "2022-07-21T06:40:14.572165",
     "status": "completed"
    },
    "tags": []
   },
   "outputs": [
    {
     "data": {
      "image/png": "[encoded data removed]",
      "text/plain": [
       "<Figure size 720x288 with 2 Axes>"
      ]
     },
     "metadata": {
      "needs_background": "light"
     },
     "output_type": "display_data"
    }
   ],
   "source": [
    "import seaborn as sns\n",
    "import matplotlib.pyplot as plt\n",
    "\n",
    "randomforest_preds = gridsearch_random_forest_model.best_estimator_.predict(X_test)\n",
    "\n",
    "figure, axes = plt.subplots(ncols=2)\n",
    "figure.set_size_inches(10, 4)\n",
    "\n",
    "sns.histplot(y, bins=50, ax=axes[0])\n",
    "axes[0].set_title('Train Data Distribution')\n",
    "sns.histplot(np.exp(randomforest_preds), bins=50, ax=axes[1])\n",
    "axes[1].set_title('Predicted Test Data Distribution');"
   ]
  },
  {
   "cell_type": "code",
   "execution_count": 55,
   "id": "29fa1efd",
   "metadata": {
    "execution": {
     "iopub.execute_input": "2022-07-21T06:40:15.310571Z",
     "iopub.status.busy": "2022-07-21T06:40:15.310140Z",
     "iopub.status.idle": "2022-07-21T06:40:15.333778Z",
     "shell.execute_reply": "2022-07-21T06:40:15.332574Z"
    },
    "papermill": {
     "duration": 0.060265,
     "end_time": "2022-07-21T06:40:15.336576",
     "exception": false,
     "start_time": "2022-07-21T06:40:15.276311",
     "status": "completed"
    },
    "tags": []
   },
   "outputs": [],
   "source": [
    "submission['count'] = np.exp(randomforest_preds) # 지수변환\n",
    "submission.to_csv('second_submission.csv', index=False)"
   ]
  },
  {
   "cell_type": "markdown",
   "id": "58acc301",
   "metadata": {
    "papermill": {
     "duration": 0.0314,
     "end_time": "2022-07-21T06:40:15.399951",
     "exception": false,
     "start_time": "2022-07-21T06:40:15.368551",
     "status": "completed"
    },
    "tags": []
   },
   "source": [
    "참고자료\n",
    "https://velog.io/@leehye/%EB%A8%B8%EC%8B%A0%EB%9F%AC%EB%8B%9D-%EB%94%A5%EB%9F%AC%EB%8B%9D-%EB%AC%B8%EC%A0%9C%ED%95%B4%EA%B2%B0-%EC%A0%84%EB%9E%B5"
   ]
  }
 ],
 "metadata": {
  "kernelspec": {
   "display_name": "Python 3",
   "language": "python",
   "name": "python3"
  },
  "language_info": {
   "codemirror_mode": {
    "name": "ipython",
    "version": 3
   },
   "file_extension": ".py",
   "mimetype": "text/x-python",
   "name": "python",
   "nbconvert_exporter": "python",
   "pygments_lexer": "ipython3",
   "version": "3.7.12"
  },
  "papermill": {
   "default_parameters": {},
   "duration": 98.798282,
   "end_time": "2022-07-21T06:40:16.254307",
   "environment_variables": {},
   "exception": null,
   "input_path": "__notebook__.ipynb",
   "output_path": "__notebook__.ipynb",
   "parameters": {},
   "start_time": "2022-07-21T06:38:37.456025",
   "version": "2.3.4"
  }
 },
 "nbformat": 4,
 "nbformat_minor": 5
}

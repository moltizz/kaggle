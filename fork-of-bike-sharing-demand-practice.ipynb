{
 "cells": [
  {
   "cell_type": "markdown",
   "id": "6b3dc32d",
   "metadata": {
    "papermill": {
     "duration": 0.034473,
     "end_time": "2022-07-22T00:28:02.934717",
     "exception": false,
     "start_time": "2022-07-22T00:28:02.900244",
     "status": "completed"
    },
    "tags": []
   },
   "source": [
    "# **1. 자전거 대여 수요 예측 경진대회 탐색적 데이터 분석**"
   ]
  },
  {
   "cell_type": "markdown",
   "id": "5593f845",
   "metadata": {
    "papermill": {
     "duration": 0.027714,
     "end_time": "2022-07-22T00:28:02.990270",
     "exception": false,
     "start_time": "2022-07-22T00:28:02.962556",
     "status": "completed"
    },
    "tags": []
   },
   "source": [
    "# 1.1 데이터 둘러보기"
   ]
  },
  {
   "cell_type": "code",
   "execution_count": 1,
   "id": "8b83651a",
   "metadata": {
    "execution": {
     "iopub.execute_input": "2022-07-22T00:28:03.049462Z",
     "iopub.status.busy": "2022-07-22T00:28:03.048682Z",
     "iopub.status.idle": "2022-07-22T00:28:03.136585Z",
     "shell.execute_reply": "2022-07-22T00:28:03.135656Z"
    },
    "papermill": {
     "duration": 0.120369,
     "end_time": "2022-07-22T00:28:03.139331",
     "exception": false,
     "start_time": "2022-07-22T00:28:03.018962",
     "status": "completed"
    },
    "tags": []
   },
   "outputs": [],
   "source": [
    "import numpy as np\n",
    "import pandas as pd # 판다스 임포트\n",
    "\n",
    "# 데이터 경로\n",
    "data_path = '/kaggle/input/bike-sharing-demand/'\n",
    "\n",
    "train = pd.read_csv(data_path + 'train.csv') # 훈련 데이터\n",
    "test = pd.read_csv(data_path + 'test.csv')   # 테스트 데이터\n",
    "submission = pd.read_csv(data_path + 'sampleSubmission.csv') # 제출 샘플 데이터"
   ]
  },
  {
   "cell_type": "code",
   "execution_count": 2,
   "id": "eaf4f218",
   "metadata": {
    "execution": {
     "iopub.execute_input": "2022-07-22T00:28:03.196725Z",
     "iopub.status.busy": "2022-07-22T00:28:03.196284Z",
     "iopub.status.idle": "2022-07-22T00:28:03.205559Z",
     "shell.execute_reply": "2022-07-22T00:28:03.204430Z"
    },
    "papermill": {
     "duration": 0.041707,
     "end_time": "2022-07-22T00:28:03.208752",
     "exception": false,
     "start_time": "2022-07-22T00:28:03.167045",
     "status": "completed"
    },
    "tags": []
   },
   "outputs": [
    {
     "data": {
      "text/plain": [
       "((10886, 12), (6493, 9))"
      ]
     },
     "execution_count": 2,
     "metadata": {},
     "output_type": "execute_result"
    }
   ],
   "source": [
    "train.shape, test.shape\n",
    "# trian - 총 10886개의 데이터, 각 데이터에는 12개의 정보\n",
    "# test - 총 6493개의 데이터, 각 데이터에는 9개의 정보"
   ]
  },
  {
   "cell_type": "code",
   "execution_count": 3,
   "id": "49162bb6",
   "metadata": {
    "execution": {
     "iopub.execute_input": "2022-07-22T00:28:03.266005Z",
     "iopub.status.busy": "2022-07-22T00:28:03.265204Z",
     "iopub.status.idle": "2022-07-22T00:28:03.289135Z",
     "shell.execute_reply": "2022-07-22T00:28:03.287991Z"
    },
    "papermill": {
     "duration": 0.055481,
     "end_time": "2022-07-22T00:28:03.291617",
     "exception": false,
     "start_time": "2022-07-22T00:28:03.236136",
     "status": "completed"
    },
    "tags": []
   },
   "outputs": [
    {
     "data": {
      "text/html": [
       "<div>\n",
       "<style scoped>\n",
       "    .dataframe tbody tr th:only-of-type {\n",
       "        vertical-align: middle;\n",
       "    }\n",
       "\n",
       "    .dataframe tbody tr th {\n",
       "        vertical-align: top;\n",
       "    }\n",
       "\n",
       "    .dataframe thead th {\n",
       "        text-align: right;\n",
       "    }\n",
       "</style>\n",
       "<table border=\"1\" class=\"dataframe\">\n",
       "  <thead>\n",
       "    <tr style=\"text-align: right;\">\n",
       "      <th></th>\n",
       "      <th>datetime</th>\n",
       "      <th>season</th>\n",
       "      <th>holiday</th>\n",
       "      <th>workingday</th>\n",
       "      <th>weather</th>\n",
       "      <th>temp</th>\n",
       "      <th>atemp</th>\n",
       "      <th>humidity</th>\n",
       "      <th>windspeed</th>\n",
       "      <th>casual</th>\n",
       "      <th>registered</th>\n",
       "      <th>count</th>\n",
       "    </tr>\n",
       "  </thead>\n",
       "  <tbody>\n",
       "    <tr>\n",
       "      <th>0</th>\n",
       "      <td>2011-01-01 00:00:00</td>\n",
       "      <td>1</td>\n",
       "      <td>0</td>\n",
       "      <td>0</td>\n",
       "      <td>1</td>\n",
       "      <td>9.84</td>\n",
       "      <td>14.395</td>\n",
       "      <td>81</td>\n",
       "      <td>0.0</td>\n",
       "      <td>3</td>\n",
       "      <td>13</td>\n",
       "      <td>16</td>\n",
       "    </tr>\n",
       "    <tr>\n",
       "      <th>1</th>\n",
       "      <td>2011-01-01 01:00:00</td>\n",
       "      <td>1</td>\n",
       "      <td>0</td>\n",
       "      <td>0</td>\n",
       "      <td>1</td>\n",
       "      <td>9.02</td>\n",
       "      <td>13.635</td>\n",
       "      <td>80</td>\n",
       "      <td>0.0</td>\n",
       "      <td>8</td>\n",
       "      <td>32</td>\n",
       "      <td>40</td>\n",
       "    </tr>\n",
       "    <tr>\n",
       "      <th>2</th>\n",
       "      <td>2011-01-01 02:00:00</td>\n",
       "      <td>1</td>\n",
       "      <td>0</td>\n",
       "      <td>0</td>\n",
       "      <td>1</td>\n",
       "      <td>9.02</td>\n",
       "      <td>13.635</td>\n",
       "      <td>80</td>\n",
       "      <td>0.0</td>\n",
       "      <td>5</td>\n",
       "      <td>27</td>\n",
       "      <td>32</td>\n",
       "    </tr>\n",
       "    <tr>\n",
       "      <th>3</th>\n",
       "      <td>2011-01-01 03:00:00</td>\n",
       "      <td>1</td>\n",
       "      <td>0</td>\n",
       "      <td>0</td>\n",
       "      <td>1</td>\n",
       "      <td>9.84</td>\n",
       "      <td>14.395</td>\n",
       "      <td>75</td>\n",
       "      <td>0.0</td>\n",
       "      <td>3</td>\n",
       "      <td>10</td>\n",
       "      <td>13</td>\n",
       "    </tr>\n",
       "    <tr>\n",
       "      <th>4</th>\n",
       "      <td>2011-01-01 04:00:00</td>\n",
       "      <td>1</td>\n",
       "      <td>0</td>\n",
       "      <td>0</td>\n",
       "      <td>1</td>\n",
       "      <td>9.84</td>\n",
       "      <td>14.395</td>\n",
       "      <td>75</td>\n",
       "      <td>0.0</td>\n",
       "      <td>0</td>\n",
       "      <td>1</td>\n",
       "      <td>1</td>\n",
       "    </tr>\n",
       "  </tbody>\n",
       "</table>\n",
       "</div>"
      ],
      "text/plain": [
       "              datetime  season  holiday  workingday  weather  temp   atemp  \\\n",
       "0  2011-01-01 00:00:00       1        0           0        1  9.84  14.395   \n",
       "1  2011-01-01 01:00:00       1        0           0        1  9.02  13.635   \n",
       "2  2011-01-01 02:00:00       1        0           0        1  9.02  13.635   \n",
       "3  2011-01-01 03:00:00       1        0           0        1  9.84  14.395   \n",
       "4  2011-01-01 04:00:00       1        0           0        1  9.84  14.395   \n",
       "\n",
       "   humidity  windspeed  casual  registered  count  \n",
       "0        81        0.0       3          13     16  \n",
       "1        80        0.0       8          32     40  \n",
       "2        80        0.0       5          27     32  \n",
       "3        75        0.0       3          10     13  \n",
       "4        75        0.0       0           1      1  "
      ]
     },
     "execution_count": 3,
     "metadata": {},
     "output_type": "execute_result"
    }
   ],
   "source": [
    "train.head()"
   ]
  },
  {
   "attachments": {
    "d9f8cc61-08cc-40ce-895f-acc47bbdc352.png": {
     "image/png": "[encoded data removed]"
    }
   },
   "cell_type": "markdown",
   "id": "c9c4838b",
   "metadata": {
    "papermill": {
     "duration": 0.027749,
     "end_time": "2022-07-22T00:28:03.348205",
     "exception": false,
     "start_time": "2022-07-22T00:28:03.320456",
     "status": "completed"
    },
    "tags": []
   },
   "source": [
    "![image.png](attachment:d9f8cc61-08cc-40ce-895f-acc47bbdc352.png)"
   ]
  },
  {
   "cell_type": "code",
   "execution_count": 4,
   "id": "fccb0fa8",
   "metadata": {
    "execution": {
     "iopub.execute_input": "2022-07-22T00:28:03.405926Z",
     "iopub.status.busy": "2022-07-22T00:28:03.405550Z",
     "iopub.status.idle": "2022-07-22T00:28:03.419577Z",
     "shell.execute_reply": "2022-07-22T00:28:03.418734Z"
    },
    "papermill": {
     "duration": 0.045462,
     "end_time": "2022-07-22T00:28:03.421851",
     "exception": false,
     "start_time": "2022-07-22T00:28:03.376389",
     "status": "completed"
    },
    "tags": []
   },
   "outputs": [
    {
     "data": {
      "text/html": [
       "<div>\n",
       "<style scoped>\n",
       "    .dataframe tbody tr th:only-of-type {\n",
       "        vertical-align: middle;\n",
       "    }\n",
       "\n",
       "    .dataframe tbody tr th {\n",
       "        vertical-align: top;\n",
       "    }\n",
       "\n",
       "    .dataframe thead th {\n",
       "        text-align: right;\n",
       "    }\n",
       "</style>\n",
       "<table border=\"1\" class=\"dataframe\">\n",
       "  <thead>\n",
       "    <tr style=\"text-align: right;\">\n",
       "      <th></th>\n",
       "      <th>datetime</th>\n",
       "      <th>season</th>\n",
       "      <th>holiday</th>\n",
       "      <th>workingday</th>\n",
       "      <th>weather</th>\n",
       "      <th>temp</th>\n",
       "      <th>atemp</th>\n",
       "      <th>humidity</th>\n",
       "      <th>windspeed</th>\n",
       "    </tr>\n",
       "  </thead>\n",
       "  <tbody>\n",
       "    <tr>\n",
       "      <th>0</th>\n",
       "      <td>2011-01-20 00:00:00</td>\n",
       "      <td>1</td>\n",
       "      <td>0</td>\n",
       "      <td>1</td>\n",
       "      <td>1</td>\n",
       "      <td>10.66</td>\n",
       "      <td>11.365</td>\n",
       "      <td>56</td>\n",
       "      <td>26.0027</td>\n",
       "    </tr>\n",
       "    <tr>\n",
       "      <th>1</th>\n",
       "      <td>2011-01-20 01:00:00</td>\n",
       "      <td>1</td>\n",
       "      <td>0</td>\n",
       "      <td>1</td>\n",
       "      <td>1</td>\n",
       "      <td>10.66</td>\n",
       "      <td>13.635</td>\n",
       "      <td>56</td>\n",
       "      <td>0.0000</td>\n",
       "    </tr>\n",
       "    <tr>\n",
       "      <th>2</th>\n",
       "      <td>2011-01-20 02:00:00</td>\n",
       "      <td>1</td>\n",
       "      <td>0</td>\n",
       "      <td>1</td>\n",
       "      <td>1</td>\n",
       "      <td>10.66</td>\n",
       "      <td>13.635</td>\n",
       "      <td>56</td>\n",
       "      <td>0.0000</td>\n",
       "    </tr>\n",
       "    <tr>\n",
       "      <th>3</th>\n",
       "      <td>2011-01-20 03:00:00</td>\n",
       "      <td>1</td>\n",
       "      <td>0</td>\n",
       "      <td>1</td>\n",
       "      <td>1</td>\n",
       "      <td>10.66</td>\n",
       "      <td>12.880</td>\n",
       "      <td>56</td>\n",
       "      <td>11.0014</td>\n",
       "    </tr>\n",
       "    <tr>\n",
       "      <th>4</th>\n",
       "      <td>2011-01-20 04:00:00</td>\n",
       "      <td>1</td>\n",
       "      <td>0</td>\n",
       "      <td>1</td>\n",
       "      <td>1</td>\n",
       "      <td>10.66</td>\n",
       "      <td>12.880</td>\n",
       "      <td>56</td>\n",
       "      <td>11.0014</td>\n",
       "    </tr>\n",
       "  </tbody>\n",
       "</table>\n",
       "</div>"
      ],
      "text/plain": [
       "              datetime  season  holiday  workingday  weather   temp   atemp  \\\n",
       "0  2011-01-20 00:00:00       1        0           1        1  10.66  11.365   \n",
       "1  2011-01-20 01:00:00       1        0           1        1  10.66  13.635   \n",
       "2  2011-01-20 02:00:00       1        0           1        1  10.66  13.635   \n",
       "3  2011-01-20 03:00:00       1        0           1        1  10.66  12.880   \n",
       "4  2011-01-20 04:00:00       1        0           1        1  10.66  12.880   \n",
       "\n",
       "   humidity  windspeed  \n",
       "0        56    26.0027  \n",
       "1        56     0.0000  \n",
       "2        56     0.0000  \n",
       "3        56    11.0014  \n",
       "4        56    11.0014  "
      ]
     },
     "execution_count": 4,
     "metadata": {},
     "output_type": "execute_result"
    }
   ],
   "source": [
    "test.head()"
   ]
  },
  {
   "cell_type": "markdown",
   "id": "c951f524",
   "metadata": {
    "papermill": {
     "duration": 0.028431,
     "end_time": "2022-07-22T00:28:03.478471",
     "exception": false,
     "start_time": "2022-07-22T00:28:03.450040",
     "status": "completed"
    },
    "tags": []
   },
   "source": [
    "* 훈련 데이터와 테스트 데이터를 비교해봤을 때, 테스트 데이터에 casual과 registered 피처가 없으므로 모델을 훈련할 때도 훈련 데이터의 casual과 registered 피처를 빼야 한다."
   ]
  },
  {
   "cell_type": "code",
   "execution_count": 5,
   "id": "73201179",
   "metadata": {
    "execution": {
     "iopub.execute_input": "2022-07-22T00:28:03.537081Z",
     "iopub.status.busy": "2022-07-22T00:28:03.536707Z",
     "iopub.status.idle": "2022-07-22T00:28:03.545598Z",
     "shell.execute_reply": "2022-07-22T00:28:03.544724Z"
    },
    "papermill": {
     "duration": 0.040859,
     "end_time": "2022-07-22T00:28:03.547594",
     "exception": false,
     "start_time": "2022-07-22T00:28:03.506735",
     "status": "completed"
    },
    "tags": []
   },
   "outputs": [
    {
     "data": {
      "text/html": [
       "<div>\n",
       "<style scoped>\n",
       "    .dataframe tbody tr th:only-of-type {\n",
       "        vertical-align: middle;\n",
       "    }\n",
       "\n",
       "    .dataframe tbody tr th {\n",
       "        vertical-align: top;\n",
       "    }\n",
       "\n",
       "    .dataframe thead th {\n",
       "        text-align: right;\n",
       "    }\n",
       "</style>\n",
       "<table border=\"1\" class=\"dataframe\">\n",
       "  <thead>\n",
       "    <tr style=\"text-align: right;\">\n",
       "      <th></th>\n",
       "      <th>datetime</th>\n",
       "      <th>count</th>\n",
       "    </tr>\n",
       "  </thead>\n",
       "  <tbody>\n",
       "    <tr>\n",
       "      <th>0</th>\n",
       "      <td>2011-01-20 00:00:00</td>\n",
       "      <td>0</td>\n",
       "    </tr>\n",
       "    <tr>\n",
       "      <th>1</th>\n",
       "      <td>2011-01-20 01:00:00</td>\n",
       "      <td>0</td>\n",
       "    </tr>\n",
       "    <tr>\n",
       "      <th>2</th>\n",
       "      <td>2011-01-20 02:00:00</td>\n",
       "      <td>0</td>\n",
       "    </tr>\n",
       "    <tr>\n",
       "      <th>3</th>\n",
       "      <td>2011-01-20 03:00:00</td>\n",
       "      <td>0</td>\n",
       "    </tr>\n",
       "    <tr>\n",
       "      <th>4</th>\n",
       "      <td>2011-01-20 04:00:00</td>\n",
       "      <td>0</td>\n",
       "    </tr>\n",
       "  </tbody>\n",
       "</table>\n",
       "</div>"
      ],
      "text/plain": [
       "              datetime  count\n",
       "0  2011-01-20 00:00:00      0\n",
       "1  2011-01-20 01:00:00      0\n",
       "2  2011-01-20 02:00:00      0\n",
       "3  2011-01-20 03:00:00      0\n",
       "4  2011-01-20 04:00:00      0"
      ]
     },
     "execution_count": 5,
     "metadata": {},
     "output_type": "execute_result"
    }
   ],
   "source": [
    "submission.head() # 제출 샘플 파일 확인"
   ]
  },
  {
   "cell_type": "markdown",
   "id": "f1746e81",
   "metadata": {
    "papermill": {
     "duration": 0.028279,
     "end_time": "2022-07-22T00:28:03.604190",
     "exception": false,
     "start_time": "2022-07-22T00:28:03.575911",
     "status": "completed"
    },
    "tags": []
   },
   "source": [
    "* sample submission에서 보이듯 count를 예측하면 된다고 Label을 명시해준다."
   ]
  },
  {
   "cell_type": "code",
   "execution_count": 6,
   "id": "130702e3",
   "metadata": {
    "execution": {
     "iopub.execute_input": "2022-07-22T00:28:03.663285Z",
     "iopub.status.busy": "2022-07-22T00:28:03.662181Z",
     "iopub.status.idle": "2022-07-22T00:28:03.691082Z",
     "shell.execute_reply": "2022-07-22T00:28:03.690030Z"
    },
    "papermill": {
     "duration": 0.061492,
     "end_time": "2022-07-22T00:28:03.694065",
     "exception": false,
     "start_time": "2022-07-22T00:28:03.632573",
     "status": "completed"
    },
    "tags": []
   },
   "outputs": [
    {
     "name": "stdout",
     "output_type": "stream",
     "text": [
      "<class 'pandas.core.frame.DataFrame'>\n",
      "RangeIndex: 10886 entries, 0 to 10885\n",
      "Data columns (total 12 columns):\n",
      " #   Column      Non-Null Count  Dtype  \n",
      "---  ------      --------------  -----  \n",
      " 0   datetime    10886 non-null  object \n",
      " 1   season      10886 non-null  int64  \n",
      " 2   holiday     10886 non-null  int64  \n",
      " 3   workingday  10886 non-null  int64  \n",
      " 4   weather     10886 non-null  int64  \n",
      " 5   temp        10886 non-null  float64\n",
      " 6   atemp       10886 non-null  float64\n",
      " 7   humidity    10886 non-null  int64  \n",
      " 8   windspeed   10886 non-null  float64\n",
      " 9   casual      10886 non-null  int64  \n",
      " 10  registered  10886 non-null  int64  \n",
      " 11  count       10886 non-null  int64  \n",
      "dtypes: float64(3), int64(8), object(1)\n",
      "memory usage: 1020.7+ KB\n"
     ]
    }
   ],
   "source": [
    "train.info()"
   ]
  },
  {
   "cell_type": "code",
   "execution_count": 7,
   "id": "e36981e8",
   "metadata": {
    "execution": {
     "iopub.execute_input": "2022-07-22T00:28:03.753162Z",
     "iopub.status.busy": "2022-07-22T00:28:03.752559Z",
     "iopub.status.idle": "2022-07-22T00:28:03.764948Z",
     "shell.execute_reply": "2022-07-22T00:28:03.764070Z"
    },
    "papermill": {
     "duration": 0.044246,
     "end_time": "2022-07-22T00:28:03.767320",
     "exception": false,
     "start_time": "2022-07-22T00:28:03.723074",
     "status": "completed"
    },
    "tags": []
   },
   "outputs": [
    {
     "name": "stdout",
     "output_type": "stream",
     "text": [
      "<class 'pandas.core.frame.DataFrame'>\n",
      "RangeIndex: 6493 entries, 0 to 6492\n",
      "Data columns (total 9 columns):\n",
      " #   Column      Non-Null Count  Dtype  \n",
      "---  ------      --------------  -----  \n",
      " 0   datetime    6493 non-null   object \n",
      " 1   season      6493 non-null   int64  \n",
      " 2   holiday     6493 non-null   int64  \n",
      " 3   workingday  6493 non-null   int64  \n",
      " 4   weather     6493 non-null   int64  \n",
      " 5   temp        6493 non-null   float64\n",
      " 6   atemp       6493 non-null   float64\n",
      " 7   humidity    6493 non-null   int64  \n",
      " 8   windspeed   6493 non-null   float64\n",
      "dtypes: float64(3), int64(5), object(1)\n",
      "memory usage: 456.7+ KB\n"
     ]
    }
   ],
   "source": [
    "test.info()"
   ]
  },
  {
   "cell_type": "markdown",
   "id": "7390c5f4",
   "metadata": {
    "papermill": {
     "duration": 0.028853,
     "end_time": "2022-07-22T00:28:03.824705",
     "exception": false,
     "start_time": "2022-07-22T00:28:03.795852",
     "status": "completed"
    },
    "tags": []
   },
   "source": [
    "# 1.2 더 효과적인 분석을 위한 피처 엔지니어링"
   ]
  },
  {
   "cell_type": "markdown",
   "id": "8ffd93b5",
   "metadata": {
    "papermill": {
     "duration": 0.028752,
     "end_time": "2022-07-22T00:28:03.882262",
     "exception": false,
     "start_time": "2022-07-22T00:28:03.853510",
     "status": "completed"
    },
    "tags": []
   },
   "source": [
    "* 피처 엔지니어링란 설명 변수를 분석하기 좋은 형태로 가공하는 것을 뜻한다.\n",
    "*  좋은 피처는 데이터를 가장 두드러진 특징을 표현할 뿐만 아니라, 모델의 가정에도 맞아야 한다. 그러므로 피처 엔지니어링이 필요하다.\n",
    "* 일부 데이터는 시각화하기에 적합하지 않은 형태일 수 있으므로 시각화 하기 전에 해당 피처를 분석하기 적합하게 변환한다.\n",
    "* datetime 피처는 연도, 월, 일, 시간, 분, 초로 구성되어 있다.\n",
    "  \n",
    "  따라서 세부적으로 분석해보기 위해 구성요소별로 나누어 피처 추가한다.\n",
    "* datetime 피처는 object 타입이기 때문에 문자열처럼 다룰 수 있어 split() 함수를 사용해 공백 기준으로 문자를 나눈다."
   ]
  },
  {
   "cell_type": "code",
   "execution_count": 8,
   "id": "e1245f3a",
   "metadata": {
    "execution": {
     "iopub.execute_input": "2022-07-22T00:28:03.942543Z",
     "iopub.status.busy": "2022-07-22T00:28:03.941911Z",
     "iopub.status.idle": "2022-07-22T00:28:03.948370Z",
     "shell.execute_reply": "2022-07-22T00:28:03.947455Z"
    },
    "papermill": {
     "duration": 0.040263,
     "end_time": "2022-07-22T00:28:03.951772",
     "exception": false,
     "start_time": "2022-07-22T00:28:03.911509",
     "status": "completed"
    },
    "tags": []
   },
   "outputs": [
    {
     "name": "stdout",
     "output_type": "stream",
     "text": [
      "2011-01-05 09:00:00\n",
      "['2011-01-05', '09:00:00']\n",
      "2011-01-05\n",
      "09:00:00\n"
     ]
    }
   ],
   "source": [
    "print(train['datetime'][100]) # datetime 100번째 요소\n",
    "print(train['datetime'][100].split()) # 공백 기준으로 문자열 나누기\n",
    "print(train['datetime'][100].split()[0]) # 날짜\n",
    "print(train['datetime'][100].split()[1]) # 시간"
   ]
  },
  {
   "cell_type": "code",
   "execution_count": 9,
   "id": "c56cec72",
   "metadata": {
    "execution": {
     "iopub.execute_input": "2022-07-22T00:28:04.013721Z",
     "iopub.status.busy": "2022-07-22T00:28:04.012867Z",
     "iopub.status.idle": "2022-07-22T00:28:04.020837Z",
     "shell.execute_reply": "2022-07-22T00:28:04.019963Z"
    },
    "papermill": {
     "duration": 0.04143,
     "end_time": "2022-07-22T00:28:04.023191",
     "exception": false,
     "start_time": "2022-07-22T00:28:03.981761",
     "status": "completed"
    },
    "tags": []
   },
   "outputs": [
    {
     "name": "stdout",
     "output_type": "stream",
     "text": [
      "2011-01-05\n",
      "['2011', '01', '05']\n",
      "2011\n",
      "01\n",
      "05\n"
     ]
    }
   ],
   "source": [
    "print(train['datetime'][100].split()[0]) # 날짜\n",
    "print(train['datetime'][100].split()[0].split('-')) # \"_\" 기준으로 문자열 나누기\n",
    "print(train['datetime'][100].split()[0].split('-')[0]) # 연도\n",
    "print(train['datetime'][100].split()[0].split('-')[1]) # 월\n",
    "print(train['datetime'][100].split()[0].split('-')[2]) # 일"
   ]
  },
  {
   "cell_type": "code",
   "execution_count": 10,
   "id": "e54d2f0b",
   "metadata": {
    "execution": {
     "iopub.execute_input": "2022-07-22T00:28:04.083987Z",
     "iopub.status.busy": "2022-07-22T00:28:04.083267Z",
     "iopub.status.idle": "2022-07-22T00:28:04.092824Z",
     "shell.execute_reply": "2022-07-22T00:28:04.091491Z"
    },
    "papermill": {
     "duration": 0.044131,
     "end_time": "2022-07-22T00:28:04.096354",
     "exception": false,
     "start_time": "2022-07-22T00:28:04.052223",
     "status": "completed"
    },
    "tags": []
   },
   "outputs": [
    {
     "name": "stdout",
     "output_type": "stream",
     "text": [
      "09:00:00\n",
      "['09', '00', '00']\n",
      "09\n",
      "00\n",
      "00\n"
     ]
    }
   ],
   "source": [
    "print(train['datetime'][100].split()[1]) # 시간\n",
    "print(train['datetime'][100].split()[1].split(':')) # \":\" 기준으로 문자열 나누기\n",
    "print(train['datetime'][100].split()[1].split(':')[0]) # 시간\n",
    "print(train['datetime'][100].split()[1].split(':')[1]) # 분\n",
    "print(train['datetime'][100].split()[1].split(':')[2]) # 초"
   ]
  },
  {
   "cell_type": "code",
   "execution_count": 11,
   "id": "7df7a175",
   "metadata": {
    "execution": {
     "iopub.execute_input": "2022-07-22T00:28:04.156390Z",
     "iopub.status.busy": "2022-07-22T00:28:04.156009Z",
     "iopub.status.idle": "2022-07-22T00:28:04.229241Z",
     "shell.execute_reply": "2022-07-22T00:28:04.228186Z"
    },
    "papermill": {
     "duration": 0.106342,
     "end_time": "2022-07-22T00:28:04.231968",
     "exception": false,
     "start_time": "2022-07-22T00:28:04.125626",
     "status": "completed"
    },
    "tags": []
   },
   "outputs": [],
   "source": [
    "train['date'] = train['datetime'].apply(lambda x: x.split()[0]) # 날짜 피처 생성\n",
    "\n",
    "# 연도, 월, 일, 시, 분, 초 피처를 차례로 생성\n",
    "train['year'] = train['datetime'].apply(lambda x: x.split()[0].split('-')[0]) \n",
    "train['month'] = train['datetime'].apply(lambda x: x.split()[0].split('-')[1])\n",
    "train['day'] = train['datetime'].apply(lambda x: x.split()[0].split('-')[2]) \n",
    "train['hour'] = train['datetime'].apply(lambda x: x.split()[1].split(':')[0])\n",
    "train['minute'] = train['datetime'].apply(lambda x: x.split()[1].split(':')[1])\n",
    "train['second'] = train['datetime'].apply(lambda x: x.split()[1].split(':')[2])"
   ]
  },
  {
   "cell_type": "markdown",
   "id": "8edf6990",
   "metadata": {
    "papermill": {
     "duration": 0.027774,
     "end_time": "2022-07-22T00:28:04.288286",
     "exception": false,
     "start_time": "2022-07-22T00:28:04.260512",
     "status": "completed"
    },
    "tags": []
   },
   "source": [
    "판다스 apply() 함수로 앞의 로직을 datetime에 적용해\n",
    "날짜(date), 연도(year), 월(month), 일(day), 시(hour), 분(minute), 초(second) 피처 생성한다."
   ]
  },
  {
   "cell_type": "code",
   "execution_count": 12,
   "id": "dfc43176",
   "metadata": {
    "execution": {
     "iopub.execute_input": "2022-07-22T00:28:04.346950Z",
     "iopub.status.busy": "2022-07-22T00:28:04.346576Z",
     "iopub.status.idle": "2022-07-22T00:28:04.356294Z",
     "shell.execute_reply": "2022-07-22T00:28:04.355068Z"
    },
    "papermill": {
     "duration": 0.042198,
     "end_time": "2022-07-22T00:28:04.358965",
     "exception": false,
     "start_time": "2022-07-22T00:28:04.316767",
     "status": "completed"
    },
    "tags": []
   },
   "outputs": [
    {
     "name": "stdout",
     "output_type": "stream",
     "text": [
      "2011-01-05\n",
      "2011-01-05 00:00:00\n",
      "2\n",
      "Wednesday\n"
     ]
    }
   ],
   "source": [
    "from datetime import datetime # datatime 라이브러리 임포트\n",
    "import calendar\n",
    "\n",
    "print(train['date'][100]) # 날짜\n",
    "print(datetime.strptime(train['date'][100], '%Y-%m-%d')) # datetime 타입으로 변경\n",
    "print(datetime.strptime(train['date'][100], '%Y-%m-%d').weekday()) # 정수로 요일 반환\n",
    "print(calendar.day_name[datetime.strptime(train['date'][100], '%Y-%m-%d').weekday()]) # 문자열로 요일 반환"
   ]
  },
  {
   "cell_type": "markdown",
   "id": "d449033c",
   "metadata": {
    "papermill": {
     "duration": 0.029016,
     "end_time": "2022-07-22T00:28:04.417050",
     "exception": false,
     "start_time": "2022-07-22T00:28:04.388034",
     "status": "completed"
    },
    "tags": []
   },
   "source": [
    "> datetime 모듈\n",
    "> \n",
    "> 날짜와 시간을 조작하는 클래스를 제공한다."
   ]
  },
  {
   "cell_type": "markdown",
   "id": "83fa0725",
   "metadata": {
    "papermill": {
     "duration": 0.028798,
     "end_time": "2022-07-22T00:28:04.476388",
     "exception": false,
     "start_time": "2022-07-22T00:28:04.447590",
     "status": "completed"
    },
    "tags": []
   },
   "source": [
    "> calendar 모듈\n",
    "> \n",
    "> 달력을 볼 수 있게 해준다."
   ]
  },
  {
   "cell_type": "markdown",
   "id": "e7c60377",
   "metadata": {
    "papermill": {
     "duration": 0.02845,
     "end_time": "2022-07-22T00:28:04.533422",
     "exception": false,
     "start_time": "2022-07-22T00:28:04.504972",
     "status": "completed"
    },
    "tags": []
   },
   "source": [
    "> calendar.day_name : 현재 로케일의 요일을 나타내는 배열이다."
   ]
  },
  {
   "cell_type": "markdown",
   "id": "0575ad81",
   "metadata": {
    "papermill": {
     "duration": 0.029173,
     "end_time": "2022-07-22T00:28:04.591450",
     "exception": false,
     "start_time": "2022-07-22T00:28:04.562277",
     "status": "completed"
    },
    "tags": []
   },
   "source": [
    "> strptime() 함수\n",
    ">\n",
    "> 날짜와 시간 형식의 문자열을 datetime으로 변환한다."
   ]
  },
  {
   "cell_type": "code",
   "execution_count": 13,
   "id": "ab70f1af",
   "metadata": {
    "execution": {
     "iopub.execute_input": "2022-07-22T00:28:04.650745Z",
     "iopub.status.busy": "2022-07-22T00:28:04.650288Z",
     "iopub.status.idle": "2022-07-22T00:28:04.843137Z",
     "shell.execute_reply": "2022-07-22T00:28:04.841907Z"
    },
    "papermill": {
     "duration": 0.225718,
     "end_time": "2022-07-22T00:28:04.845929",
     "exception": false,
     "start_time": "2022-07-22T00:28:04.620211",
     "status": "completed"
    },
    "tags": []
   },
   "outputs": [],
   "source": [
    "train['weekday'] = train['date'].apply(\n",
    "    lambda dateString: \n",
    "    calendar.day_name[datetime.strptime(dateString,\"%Y-%m-%d\").weekday()])"
   ]
  },
  {
   "cell_type": "markdown",
   "id": "43207b6b",
   "metadata": {
    "papermill": {
     "duration": 0.028388,
     "end_time": "2022-07-22T00:28:04.902861",
     "exception": false,
     "start_time": "2022-07-22T00:28:04.874473",
     "status": "completed"
    },
    "tags": []
   },
   "source": [
    "* 앞의 로직을 apply() 함수로 적용해 요일(weekday) 피처 추가한다."
   ]
  },
  {
   "cell_type": "markdown",
   "id": "0c8f1a64",
   "metadata": {
    "papermill": {
     "duration": 0.029776,
     "end_time": "2022-07-22T00:28:04.962517",
     "exception": false,
     "start_time": "2022-07-22T00:28:04.932741",
     "status": "completed"
    },
    "tags": []
   },
   "source": [
    "> DateString\n",
    "> \n",
    "> 약식 월 이름을 사용하는 MM-dd-yyyy 형식의 시스템 날짜를 반환한다."
   ]
  },
  {
   "cell_type": "code",
   "execution_count": 14,
   "id": "ab7a77a7",
   "metadata": {
    "execution": {
     "iopub.execute_input": "2022-07-22T00:28:05.021353Z",
     "iopub.status.busy": "2022-07-22T00:28:05.020937Z",
     "iopub.status.idle": "2022-07-22T00:28:05.031277Z",
     "shell.execute_reply": "2022-07-22T00:28:05.030178Z"
    },
    "papermill": {
     "duration": 0.042878,
     "end_time": "2022-07-22T00:28:05.033957",
     "exception": false,
     "start_time": "2022-07-22T00:28:04.991079",
     "status": "completed"
    },
    "tags": []
   },
   "outputs": [],
   "source": [
    "train['season'] = train['season'].map({1: 'Spring', \n",
    "                                       2: 'Summer', \n",
    "                                       3: 'Fall', \n",
    "                                       4: 'Winter' })\n",
    "train['weather'] = train['weather'].map({1: 'Clear', \n",
    "                                         2: 'Mist, Few clouds', \n",
    "                                         3: 'Light Snow, Rain, Thunder', \n",
    "                                         4: 'Heavy Snow, Rain, Thunder'})"
   ]
  },
  {
   "cell_type": "markdown",
   "id": "5766388e",
   "metadata": {
    "papermill": {
     "duration": 0.028467,
     "end_time": "2022-07-22T00:28:05.091734",
     "exception": false,
     "start_time": "2022-07-22T00:28:05.063267",
     "status": "completed"
    },
    "tags": []
   },
   "source": [
    "* season과 weather 피처는 범주형 데이터인데 현재 1, 2, 3, 4라는 숫자로 표현되어 있어서 정확히 어떤 의미인지 파악하기 어렵다.\n",
    "\n",
    "  시각화 시 의미가 잘드러나도록 map() 함수를 사용하여 문자열로 변화시킨다."
   ]
  },
  {
   "cell_type": "code",
   "execution_count": 15,
   "id": "4bd55d36",
   "metadata": {
    "execution": {
     "iopub.execute_input": "2022-07-22T00:28:05.151326Z",
     "iopub.status.busy": "2022-07-22T00:28:05.150902Z",
     "iopub.status.idle": "2022-07-22T00:28:05.173649Z",
     "shell.execute_reply": "2022-07-22T00:28:05.172428Z"
    },
    "papermill": {
     "duration": 0.055644,
     "end_time": "2022-07-22T00:28:05.176175",
     "exception": false,
     "start_time": "2022-07-22T00:28:05.120531",
     "status": "completed"
    },
    "tags": []
   },
   "outputs": [
    {
     "data": {
      "text/html": [
       "<div>\n",
       "<style scoped>\n",
       "    .dataframe tbody tr th:only-of-type {\n",
       "        vertical-align: middle;\n",
       "    }\n",
       "\n",
       "    .dataframe tbody tr th {\n",
       "        vertical-align: top;\n",
       "    }\n",
       "\n",
       "    .dataframe thead th {\n",
       "        text-align: right;\n",
       "    }\n",
       "</style>\n",
       "<table border=\"1\" class=\"dataframe\">\n",
       "  <thead>\n",
       "    <tr style=\"text-align: right;\">\n",
       "      <th></th>\n",
       "      <th>datetime</th>\n",
       "      <th>season</th>\n",
       "      <th>holiday</th>\n",
       "      <th>workingday</th>\n",
       "      <th>weather</th>\n",
       "      <th>temp</th>\n",
       "      <th>atemp</th>\n",
       "      <th>humidity</th>\n",
       "      <th>windspeed</th>\n",
       "      <th>casual</th>\n",
       "      <th>registered</th>\n",
       "      <th>count</th>\n",
       "      <th>date</th>\n",
       "      <th>year</th>\n",
       "      <th>month</th>\n",
       "      <th>day</th>\n",
       "      <th>hour</th>\n",
       "      <th>minute</th>\n",
       "      <th>second</th>\n",
       "      <th>weekday</th>\n",
       "    </tr>\n",
       "  </thead>\n",
       "  <tbody>\n",
       "    <tr>\n",
       "      <th>0</th>\n",
       "      <td>2011-01-01 00:00:00</td>\n",
       "      <td>Spring</td>\n",
       "      <td>0</td>\n",
       "      <td>0</td>\n",
       "      <td>Clear</td>\n",
       "      <td>9.84</td>\n",
       "      <td>14.395</td>\n",
       "      <td>81</td>\n",
       "      <td>0.0</td>\n",
       "      <td>3</td>\n",
       "      <td>13</td>\n",
       "      <td>16</td>\n",
       "      <td>2011-01-01</td>\n",
       "      <td>2011</td>\n",
       "      <td>01</td>\n",
       "      <td>01</td>\n",
       "      <td>00</td>\n",
       "      <td>00</td>\n",
       "      <td>00</td>\n",
       "      <td>Saturday</td>\n",
       "    </tr>\n",
       "    <tr>\n",
       "      <th>1</th>\n",
       "      <td>2011-01-01 01:00:00</td>\n",
       "      <td>Spring</td>\n",
       "      <td>0</td>\n",
       "      <td>0</td>\n",
       "      <td>Clear</td>\n",
       "      <td>9.02</td>\n",
       "      <td>13.635</td>\n",
       "      <td>80</td>\n",
       "      <td>0.0</td>\n",
       "      <td>8</td>\n",
       "      <td>32</td>\n",
       "      <td>40</td>\n",
       "      <td>2011-01-01</td>\n",
       "      <td>2011</td>\n",
       "      <td>01</td>\n",
       "      <td>01</td>\n",
       "      <td>01</td>\n",
       "      <td>00</td>\n",
       "      <td>00</td>\n",
       "      <td>Saturday</td>\n",
       "    </tr>\n",
       "    <tr>\n",
       "      <th>2</th>\n",
       "      <td>2011-01-01 02:00:00</td>\n",
       "      <td>Spring</td>\n",
       "      <td>0</td>\n",
       "      <td>0</td>\n",
       "      <td>Clear</td>\n",
       "      <td>9.02</td>\n",
       "      <td>13.635</td>\n",
       "      <td>80</td>\n",
       "      <td>0.0</td>\n",
       "      <td>5</td>\n",
       "      <td>27</td>\n",
       "      <td>32</td>\n",
       "      <td>2011-01-01</td>\n",
       "      <td>2011</td>\n",
       "      <td>01</td>\n",
       "      <td>01</td>\n",
       "      <td>02</td>\n",
       "      <td>00</td>\n",
       "      <td>00</td>\n",
       "      <td>Saturday</td>\n",
       "    </tr>\n",
       "    <tr>\n",
       "      <th>3</th>\n",
       "      <td>2011-01-01 03:00:00</td>\n",
       "      <td>Spring</td>\n",
       "      <td>0</td>\n",
       "      <td>0</td>\n",
       "      <td>Clear</td>\n",
       "      <td>9.84</td>\n",
       "      <td>14.395</td>\n",
       "      <td>75</td>\n",
       "      <td>0.0</td>\n",
       "      <td>3</td>\n",
       "      <td>10</td>\n",
       "      <td>13</td>\n",
       "      <td>2011-01-01</td>\n",
       "      <td>2011</td>\n",
       "      <td>01</td>\n",
       "      <td>01</td>\n",
       "      <td>03</td>\n",
       "      <td>00</td>\n",
       "      <td>00</td>\n",
       "      <td>Saturday</td>\n",
       "    </tr>\n",
       "    <tr>\n",
       "      <th>4</th>\n",
       "      <td>2011-01-01 04:00:00</td>\n",
       "      <td>Spring</td>\n",
       "      <td>0</td>\n",
       "      <td>0</td>\n",
       "      <td>Clear</td>\n",
       "      <td>9.84</td>\n",
       "      <td>14.395</td>\n",
       "      <td>75</td>\n",
       "      <td>0.0</td>\n",
       "      <td>0</td>\n",
       "      <td>1</td>\n",
       "      <td>1</td>\n",
       "      <td>2011-01-01</td>\n",
       "      <td>2011</td>\n",
       "      <td>01</td>\n",
       "      <td>01</td>\n",
       "      <td>04</td>\n",
       "      <td>00</td>\n",
       "      <td>00</td>\n",
       "      <td>Saturday</td>\n",
       "    </tr>\n",
       "  </tbody>\n",
       "</table>\n",
       "</div>"
      ],
      "text/plain": [
       "              datetime  season  holiday  workingday weather  temp   atemp  \\\n",
       "0  2011-01-01 00:00:00  Spring        0           0   Clear  9.84  14.395   \n",
       "1  2011-01-01 01:00:00  Spring        0           0   Clear  9.02  13.635   \n",
       "2  2011-01-01 02:00:00  Spring        0           0   Clear  9.02  13.635   \n",
       "3  2011-01-01 03:00:00  Spring        0           0   Clear  9.84  14.395   \n",
       "4  2011-01-01 04:00:00  Spring        0           0   Clear  9.84  14.395   \n",
       "\n",
       "   humidity  windspeed  casual  registered  count        date  year month day  \\\n",
       "0        81        0.0       3          13     16  2011-01-01  2011    01  01   \n",
       "1        80        0.0       8          32     40  2011-01-01  2011    01  01   \n",
       "2        80        0.0       5          27     32  2011-01-01  2011    01  01   \n",
       "3        75        0.0       3          10     13  2011-01-01  2011    01  01   \n",
       "4        75        0.0       0           1      1  2011-01-01  2011    01  01   \n",
       "\n",
       "  hour minute second   weekday  \n",
       "0   00     00     00  Saturday  \n",
       "1   01     00     00  Saturday  \n",
       "2   02     00     00  Saturday  \n",
       "3   03     00     00  Saturday  \n",
       "4   04     00     00  Saturday  "
      ]
     },
     "execution_count": 15,
     "metadata": {},
     "output_type": "execute_result"
    }
   ],
   "source": [
    "train.head()"
   ]
  },
  {
   "cell_type": "markdown",
   "id": "77a638d0",
   "metadata": {
    "papermill": {
     "duration": 0.029647,
     "end_time": "2022-07-22T00:28:05.235177",
     "exception": false,
     "start_time": "2022-07-22T00:28:05.205530",
     "status": "completed"
    },
    "tags": []
   },
   "source": [
    "# 1.3 데이터 시각화"
   ]
  },
  {
   "cell_type": "code",
   "execution_count": 16,
   "id": "4f9dba8a",
   "metadata": {
    "execution": {
     "iopub.execute_input": "2022-07-22T00:28:05.296038Z",
     "iopub.status.busy": "2022-07-22T00:28:05.294899Z",
     "iopub.status.idle": "2022-07-22T00:28:06.515687Z",
     "shell.execute_reply": "2022-07-22T00:28:06.514475Z"
    },
    "papermill": {
     "duration": 1.254689,
     "end_time": "2022-07-22T00:28:06.518901",
     "exception": false,
     "start_time": "2022-07-22T00:28:05.264212",
     "status": "completed"
    },
    "tags": []
   },
   "outputs": [],
   "source": [
    "import seaborn as sns\n",
    "import matplotlib as mpl\n",
    "import matplotlib.pyplot as plt\n",
    "%matplotlib inline"
   ]
  },
  {
   "cell_type": "markdown",
   "id": "23208cff",
   "metadata": {
    "papermill": {
     "duration": 0.028467,
     "end_time": "2022-07-22T00:28:06.576711",
     "exception": false,
     "start_time": "2022-07-22T00:28:06.548244",
     "status": "completed"
    },
    "tags": []
   },
   "source": [
    "> matplotlib\n",
    ">\n",
    "> 다양한 데이터를 많은 방법으로 도식화 할 수 있도록 하는 파이썬 라이브러리로써, 우리는 matplotlib의 pyplot을 이용하게 된다.\n",
    ">\n",
    "> matplotlib을 사용하기 위해서는 먼저 matplotlib을 설치하고 matplotlib.pyplot을 import를 해주어야 한다."
   ]
  },
  {
   "cell_type": "markdown",
   "id": "f98f1dfa",
   "metadata": {
    "papermill": {
     "duration": 0.028443,
     "end_time": "2022-07-22T00:28:06.633765",
     "exception": false,
     "start_time": "2022-07-22T00:28:06.605322",
     "status": "completed"
    },
    "tags": []
   },
   "source": [
    "분포도"
   ]
  },
  {
   "cell_type": "markdown",
   "id": "a5540404",
   "metadata": {
    "papermill": {
     "duration": 0.029079,
     "end_time": "2022-07-22T00:28:06.691785",
     "exception": false,
     "start_time": "2022-07-22T00:28:06.662706",
     "status": "completed"
    },
    "tags": []
   },
   "source": [
    "* 분포도(distribution plot)는 수치형 데이터의 집계 값(총 개수, 비율 등)을 나타내는 그래프"
   ]
  },
  {
   "cell_type": "code",
   "execution_count": 17,
   "id": "aad43a4d",
   "metadata": {
    "execution": {
     "iopub.execute_input": "2022-07-22T00:28:06.752314Z",
     "iopub.status.busy": "2022-07-22T00:28:06.751918Z",
     "iopub.status.idle": "2022-07-22T00:28:07.138165Z",
     "shell.execute_reply": "2022-07-22T00:28:07.137007Z"
    },
    "papermill": {
     "duration": 0.419963,
     "end_time": "2022-07-22T00:28:07.140629",
     "exception": false,
     "start_time": "2022-07-22T00:28:06.720666",
     "status": "completed"
    },
    "tags": []
   },
   "outputs": [
    {
     "data": {
      "image/png": "[encoded data removed]",
      "text/plain": [
       "<Figure size 360x360 with 1 Axes>"
      ]
     },
     "metadata": {
      "needs_background": "light"
     },
     "output_type": "display_data"
    }
   ],
   "source": [
    "# 타깃값인 count의 분포도 그리기\n",
    "# 이번 장에서는 타깃값의 분포를 알면 훈련 시 타깃값을 그대로 사용할지 변환해 사용할지 파악할 수 있기 때문\n",
    "\n",
    "mpl.rc('font', size=15)      # 폰트 크기를 15로 설정 \n",
    "sns.displot(train['count']); # 분포도 출력"
   ]
  },
  {
   "cell_type": "markdown",
   "id": "ade87ff7",
   "metadata": {
    "papermill": {
     "duration": 0.029188,
     "end_time": "2022-07-22T00:28:07.199117",
     "exception": false,
     "start_time": "2022-07-22T00:28:07.169929",
     "status": "completed"
    },
    "tags": []
   },
   "source": [
    "* x축은 타깃값인 count를 나타내고, y축은 총 개수를 나타낸다.\n",
    "* 분포도를 보면 타깃값인 count가 0 근처에 몰려있다. 즉, 분포가 왼쪽으로 많이 편향되어 있다.\n",
    "* 회귀 모델이 좋은 성능을 내려면 데이터가 정규분포를 따라야 하는데, 현재 타깃값 count는 정규분포를 따르지 않는다.\n",
    "* 따라서 현재 타깃값을 그대로 사용해 모델링한다면 좋은 성능을 기대하기 어렵다.\n",
    "\n",
    "* 데이터 분포를 정규분포에 가깝게 만들기 위해 가장 많이 사용하는 방법은 로그변환이다.\n",
    "* 로그변환은 count 분포와 같이 데이터가 왼쪽으로 편향되어 있을 때 사용한다."
   ]
  },
  {
   "cell_type": "code",
   "execution_count": 18,
   "id": "2fe8f8f9",
   "metadata": {
    "execution": {
     "iopub.execute_input": "2022-07-22T00:28:07.260221Z",
     "iopub.status.busy": "2022-07-22T00:28:07.259210Z",
     "iopub.status.idle": "2022-07-22T00:28:07.605731Z",
     "shell.execute_reply": "2022-07-22T00:28:07.604436Z"
    },
    "papermill": {
     "duration": 0.380022,
     "end_time": "2022-07-22T00:28:07.608490",
     "exception": false,
     "start_time": "2022-07-22T00:28:07.228468",
     "status": "completed"
    },
    "tags": []
   },
   "outputs": [
    {
     "data": {
      "image/png": "[encoded data removed]",
      "text/plain": [
       "<Figure size 360x360 with 1 Axes>"
      ]
     },
     "metadata": {
      "needs_background": "light"
     },
     "output_type": "display_data"
    }
   ],
   "source": [
    "sns.displot(np.log(train['count']));"
   ]
  },
  {
   "cell_type": "markdown",
   "id": "6791e50f",
   "metadata": {
    "papermill": {
     "duration": 0.029546,
     "end_time": "2022-07-22T00:28:07.669145",
     "exception": false,
     "start_time": "2022-07-22T00:28:07.639599",
     "status": "completed"
    },
    "tags": []
   },
   "source": [
    "타깃값 분포가 정규분포에 가까울수록 회귀 모델 성능이 좋다.\n",
    "\n",
    "피처를 바로 활용해 count를 예측하는 것보다 log(count)를 예측하는 편이 더 정확하다.\n",
    "\n",
    "따라서 여기서도 타깃값을 log(count)로 변환해 사용한다.\n",
    "\n",
    "다만, 마지막에 지수변환을 하여 실제 타깃값인 count로 복원해야 한다."
   ]
  },
  {
   "cell_type": "markdown",
   "id": "affbf195",
   "metadata": {
    "papermill": {
     "duration": 0.030115,
     "end_time": "2022-07-22T00:28:07.729616",
     "exception": false,
     "start_time": "2022-07-22T00:28:07.699501",
     "status": "completed"
    },
    "tags": []
   },
   "source": [
    "막대 그래프"
   ]
  },
  {
   "cell_type": "markdown",
   "id": "20940ce0",
   "metadata": {
    "papermill": {
     "duration": 0.029396,
     "end_time": "2022-07-22T00:28:07.789879",
     "exception": false,
     "start_time": "2022-07-22T00:28:07.760483",
     "status": "completed"
    },
    "tags": []
   },
   "source": [
    "* 연도, 월, 일, 시, 분, 초별로 총 여섯 가지의 평균 대여 수량을 막대 그래프로 그려보기\n",
    "* 이 피처들은 범주형 데이터이며 각 범주형 데이터에 따라 평균 대여 수량이 어떻게 다른지 파악한다."
   ]
  },
  {
   "cell_type": "code",
   "execution_count": 19,
   "id": "9d91ff32",
   "metadata": {
    "execution": {
     "iopub.execute_input": "2022-07-22T00:28:07.854040Z",
     "iopub.status.busy": "2022-07-22T00:28:07.853679Z",
     "iopub.status.idle": "2022-07-22T00:28:11.536569Z",
     "shell.execute_reply": "2022-07-22T00:28:11.535396Z"
    },
    "papermill": {
     "duration": 3.717862,
     "end_time": "2022-07-22T00:28:11.539316",
     "exception": false,
     "start_time": "2022-07-22T00:28:07.821454",
     "status": "completed"
    },
    "tags": []
   },
   "outputs": [
    {
     "data": {
      "image/png": "[encoded data removed]",
      "text/plain": [
       "<Figure size 720x648 with 6 Axes>"
      ]
     },
     "metadata": {
      "needs_background": "light"
     },
     "output_type": "display_data"
    }
   ],
   "source": [
    "# 스텝 1 : m행 n열 Figure 준비\n",
    "mpl.rc('font', size=14)       # 폰트 크기 설정\n",
    "mpl.rc('axes', titlesize=15)  # 각 축의 제목 크기 설정\n",
    "figure, axes = plt.subplots(nrows=3, ncols=2) # 3행 2열 Figure 생성 \n",
    "plt.tight_layout()            # 그래프 사이에 여백 확보 \n",
    "figure.set_size_inches(10, 9) # 전체 Figure 크기를 10x9인치로 설정 \n",
    "\n",
    "# 스텝 2 : 각 축에 서브플롯 할당\n",
    "# 각 축에 연도, 월, 일, 시간, 분, 초별 평균 대여 수량 막대 그래프 할당\n",
    "sns.barplot(x='year', y='count', data=train, ax=axes[0, 0])\n",
    "sns.barplot(x='month', y='count', data=train, ax=axes[0, 1])\n",
    "sns.barplot(x='day', y='count', data=train, ax=axes[1, 0])\n",
    "sns.barplot(x='hour', y='count', data=train, ax=axes[1, 1])\n",
    "sns.barplot(x='minute', y='count', data=train, ax=axes[2, 0])\n",
    "sns.barplot(x='second', y='count', data=train, ax=axes[2, 1])\n",
    "\n",
    "# 스텝 3 : 세부 설정\n",
    "# 3-1 : 서브플롯에 제목 달기\n",
    "axes[0, 0].set(title='Rental amounts by year')\n",
    "axes[0, 1].set(title='Rental amounts by month')\n",
    "axes[1, 0].set(title='Rental amounts by day')\n",
    "axes[1, 1].set(title='Rental amounts by hour')\n",
    "axes[2, 0].set(title='Rental amounts by minute')\n",
    "axes[2, 1].set(title='Rental amounts by second')\n",
    "\n",
    "# 3-2 : 1행에 위치한 서브플롯들의 x축 라벨 90도 회전\n",
    "axes[1, 0].tick_params(axis='x', labelrotation=90)\n",
    "axes[1, 1].tick_params(axis='x', labelrotation=90)"
   ]
  },
  {
   "cell_type": "markdown",
   "id": "86301d33",
   "metadata": {
    "papermill": {
     "duration": 0.030254,
     "end_time": "2022-07-22T00:28:11.600768",
     "exception": false,
     "start_time": "2022-07-22T00:28:11.570514",
     "status": "completed"
    },
    "tags": []
   },
   "source": [
    "박스플롯"
   ]
  },
  {
   "cell_type": "markdown",
   "id": "34619d83",
   "metadata": {
    "papermill": {
     "duration": 0.030013,
     "end_time": "2022-07-22T00:28:11.661289",
     "exception": false,
     "start_time": "2022-07-22T00:28:11.631276",
     "status": "completed"
    },
    "tags": []
   },
   "source": [
    "* 박스플롯(box plot)은 범주형 데이터에 따른 수치형 데이터 정보를 나타내는 그래프\n",
    "\n",
    "* 막대 그래프보다 더 많은 정보를 제공하는 특징\n",
    "\n",
    "* 계절, 날씨, 공휴일, 근무일(범주형 데이터)별 대여 수량(수치형 데이터)을 박스플롯으로 그려보기"
   ]
  },
  {
   "cell_type": "code",
   "execution_count": 20,
   "id": "b58b0955",
   "metadata": {
    "execution": {
     "iopub.execute_input": "2022-07-22T00:28:11.725981Z",
     "iopub.status.busy": "2022-07-22T00:28:11.725607Z",
     "iopub.status.idle": "2022-07-22T00:28:12.367552Z",
     "shell.execute_reply": "2022-07-22T00:28:12.366197Z"
    },
    "papermill": {
     "duration": 0.678207,
     "end_time": "2022-07-22T00:28:12.370132",
     "exception": false,
     "start_time": "2022-07-22T00:28:11.691925",
     "status": "completed"
    },
    "tags": []
   },
   "outputs": [
    {
     "data": {
      "image/png": "[encoded data removed]",
      "text/plain": [
       "<Figure size 720x720 with 4 Axes>"
      ]
     },
     "metadata": {
      "needs_background": "light"
     },
     "output_type": "display_data"
    }
   ],
   "source": [
    "# 스텝 1 : m행 n열 Figure 준비\n",
    "figure, axes = plt.subplots(nrows=2, ncols=2) # 2행 2열\n",
    "plt.tight_layout()\n",
    "figure.set_size_inches(10, 10)\n",
    "\n",
    "# 스텝 2 : 서브플롯 할당\n",
    "# 계절, 날씨, 공휴일, 근무일별 대여 수량 박스플롯\n",
    "sns.boxplot(x='season', y='count', data=train, ax=axes[0, 0])\n",
    "sns.boxplot(x='weather', y='count', data=train, ax=axes[0, 1])\n",
    "sns.boxplot(x='holiday', y='count', data=train, ax=axes[1, 0])\n",
    "sns.boxplot(x='workingday', y='count', data=train, ax=axes[1, 1])\n",
    "\n",
    "# 스텝 3 : 세부 설정\n",
    "# 3-1 : 서브플롯에 제목 달기\n",
    "axes[0, 0].set(title='Box Plot On Count Across Season')\n",
    "axes[0, 1].set(title='Box Plot On Count Across Weather')\n",
    "axes[1, 0].set(title='Box Plot On Count Across Holiday')\n",
    "axes[1, 1].set(title='Box Plot On Count Across Working Day')\n",
    "\n",
    "# 3-2 : x축 라벨 겹침 해결\n",
    "axes[0, 1].tick_params('x', labelrotation=10) # 10도 회전"
   ]
  },
  {
   "cell_type": "markdown",
   "id": "b6a12950",
   "metadata": {
    "papermill": {
     "duration": 0.030574,
     "end_time": "2022-07-22T00:28:12.432474",
     "exception": false,
     "start_time": "2022-07-22T00:28:12.401900",
     "status": "completed"
    },
    "tags": []
   },
   "source": [
    "tick_params\n",
    "눈금 레이블/글자 크기 조절"
   ]
  },
  {
   "cell_type": "markdown",
   "id": "c4aead59",
   "metadata": {
    "papermill": {
     "duration": 0.030709,
     "end_time": "2022-07-22T00:28:12.494211",
     "exception": false,
     "start_time": "2022-07-22T00:28:12.463502",
     "status": "completed"
    },
    "tags": []
   },
   "source": [
    "* 계절별 대여 수량 : 자전거 대여 수량은 봄에 가장 적고, 가을에 가장 많음.\n",
    "\n",
    "* 날씨별 대여 수량 : 날씨가 좋을 때 가장 대여 수량이 많고, 안 좋을수록 수량이 적음.\n",
    "\n",
    "* 공휴일 여부에 따른 대여 수량 : 공휴일일 때와 아닐 때 자전거 대여 수량의 중앙값은 거의 비슷함. 다만 공휴일이 아닐 때는 이상치가 많음.\n",
    "\n",
    "* 근무일 여부에 따른 대여 수량 : 근무일일 때와 아닐 때 자전거 대여 수량의 중앙값은 거의 비슷함. 다만 근무일일 때 이상치가 많음."
   ]
  },
  {
   "cell_type": "markdown",
   "id": "eec89264",
   "metadata": {
    "papermill": {
     "duration": 0.030668,
     "end_time": "2022-07-22T00:28:12.555849",
     "exception": false,
     "start_time": "2022-07-22T00:28:12.525181",
     "status": "completed"
    },
    "tags": []
   },
   "source": [
    "포인트플롯"
   ]
  },
  {
   "cell_type": "markdown",
   "id": "9068cc09",
   "metadata": {
    "papermill": {
     "duration": 0.03075,
     "end_time": "2022-07-22T00:28:12.618213",
     "exception": false,
     "start_time": "2022-07-22T00:28:12.587463",
     "status": "completed"
    },
    "tags": []
   },
   "source": [
    "* 근무일, 공휴일, 요일, 계절, 날씨에 따른 시간대별 평균 대여 수량을 포인트플롯(point plot)으로 그려보기\n",
    "\n",
    "* 포인트플롯은 범주형 데이터에 따른 수치형 데이터의 평균과 신뢰구간을 점과 선으로 표시함\n",
    "\n",
    "* 신뢰구간 : 모수가 어느 구간 안에 있는지를 확률적으로 나타내는 방법\n",
    "\n",
    "* 막대 그래프와 동일한 정보를 제공하지만, 한 화면에 여러 그래프를 그려 서로 비교해보기에 더 적합함"
   ]
  },
  {
   "cell_type": "code",
   "execution_count": 21,
   "id": "3f7126d4",
   "metadata": {
    "execution": {
     "iopub.execute_input": "2022-07-22T00:28:12.681968Z",
     "iopub.status.busy": "2022-07-22T00:28:12.681569Z",
     "iopub.status.idle": "2022-07-22T00:28:29.411700Z",
     "shell.execute_reply": "2022-07-22T00:28:29.410437Z"
    },
    "papermill": {
     "duration": 16.767217,
     "end_time": "2022-07-22T00:28:29.416291",
     "exception": false,
     "start_time": "2022-07-22T00:28:12.649074",
     "status": "completed"
    },
    "tags": []
   },
   "outputs": [
    {
     "data": {
      "image/png": "[encoded data removed]",
      "text/plain": [
       "<Figure size 864x1296 with 5 Axes>"
      ]
     },
     "metadata": {
      "needs_background": "light"
     },
     "output_type": "display_data"
    }
   ],
   "source": [
    "# 스텝 1 : m행 n열 Figure 준비\n",
    "mpl.rc('font',size=11)\n",
    "figure, axes = plt.subplots(nrows=5) # 5행 1열\n",
    "figure.set_size_inches(12,18)\n",
    "\n",
    "# 스텝 2 : 서브플롯 타임\n",
    "# 근무일, 공휴일, 요일, 계절, 날씨에 따른 시간대별 평균 대여 수량 포인트플롯\n",
    "sns.pointplot(x='hour', y='count', data=train, hue='workingday', ax=axes[0])\n",
    "sns.pointplot(x='hour', y='count', data=train, hue='holiday', ax=axes[1])\n",
    "sns.pointplot(x='hour', y='count', data=train, hue='weekday', ax=axes[2])\n",
    "sns.pointplot(x='hour', y='count', data=train, hue='season', ax=axes[3])\n",
    "sns.pointplot(x='hour', y='count', data=train, hue='weather', ax=axes[4]);"
   ]
  },
  {
   "cell_type": "markdown",
   "id": "915957fb",
   "metadata": {
    "papermill": {
     "duration": 0.035248,
     "end_time": "2022-07-22T00:28:29.487271",
     "exception": false,
     "start_time": "2022-07-22T00:28:29.452023",
     "status": "completed"
    },
    "tags": []
   },
   "source": [
    "회귀선을 포함한 산점도 그래프"
   ]
  },
  {
   "cell_type": "markdown",
   "id": "3b7cd746",
   "metadata": {
    "papermill": {
     "duration": 0.035187,
     "end_time": "2022-07-22T00:28:29.558877",
     "exception": false,
     "start_time": "2022-07-22T00:28:29.523690",
     "status": "completed"
    },
    "tags": []
   },
   "source": [
    "* 근무일, 공휴일, 요일, 계절, 날씨에 따른 시간대별 평균 대여 수량을 포인트플롯(point plot)으로 그려보기\n",
    "\n",
    "* 포인트플롯은 범주형 데이터에 따른 수치형 데이터의 평균과 신뢰구간을 점과 선으로 표시함\n",
    "\n",
    "* 신뢰구간 : 모수가 어느 구간 안에 있는지를 확률적으로 나타내는 방법\n",
    "\n",
    "* 막대 그래프와 동일한 정보를 제공하지만, 한 화면에 여러 그래프를 그려 서로 비교해보기에 더 적합함"
   ]
  },
  {
   "cell_type": "code",
   "execution_count": 22,
   "id": "628571c3",
   "metadata": {
    "execution": {
     "iopub.execute_input": "2022-07-22T00:28:29.631997Z",
     "iopub.status.busy": "2022-07-22T00:28:29.631175Z",
     "iopub.status.idle": "2022-07-22T00:28:33.065658Z",
     "shell.execute_reply": "2022-07-22T00:28:33.064464Z"
    },
    "papermill": {
     "duration": 3.474008,
     "end_time": "2022-07-22T00:28:33.068475",
     "exception": false,
     "start_time": "2022-07-22T00:28:29.594467",
     "status": "completed"
    },
    "tags": []
   },
   "outputs": [
    {
     "data": {
      "image/png": "[encoded data removed]",
      "text/plain": [
       "<Figure size 504x432 with 4 Axes>"
      ]
     },
     "metadata": {
      "needs_background": "light"
     },
     "output_type": "display_data"
    }
   ],
   "source": [
    "# 스텝 1 : m행 n열 Figure 준비\n",
    "mpl.rc('font', size=15)\n",
    "figure, axes = plt.subplots(nrows=2, ncols=2) # 2행 2열\n",
    "plt.tight_layout()\n",
    "figure.set_size_inches(7, 6)\n",
    "\n",
    "# 스텝 2 : 서브플롯 할당\n",
    "# 온도, 체감 온도, 풍속, 습도 별 대여 수량 산점도 그래프\n",
    "sns.regplot(x='temp', y='count', data=train, ax=axes[0, 0], \n",
    "            scatter_kws={'alpha': 0.2}, line_kws={'color': 'blue'})\n",
    "sns.regplot(x='atemp', y='count', data=train, ax=axes[0, 1], \n",
    "            scatter_kws={'alpha': 0.2}, line_kws={'color': 'blue'})\n",
    "sns.regplot(x='windspeed', y='count', data=train, ax=axes[1, 0], \n",
    "            scatter_kws={'alpha': 0.2}, line_kws={'color': 'blue'})\n",
    "sns.regplot(x='humidity', y='count', data=train, ax=axes[1, 1], \n",
    "            scatter_kws={'alpha': 0.2}, line_kws={'color': 'blue'});\n",
    "\n",
    "# regplot() 함수의 파라미터 중 scatter_kws={'alpha': 0.2}는 산점도 그래프에 찍히는 점의 투명도를 조절.\n",
    "# alpha를 0.2로 설정하면 평소에 비해 20% 수준으로 투명해짐 (alpha가 1이면 완전 불투명하고, 0이면 완전 투명해서 안보임)\n",
    "# line_kws={'color': 'blue'}는 회귀선의 색상을 선택하는 파라미터 (회귀선이 잘 보이도록 그래프에 찍히는 점보다 짙은 색으로 설정)\n",
    "# 회귀선(추세선)"
   ]
  },
  {
   "cell_type": "markdown",
   "id": "1828f51b",
   "metadata": {
    "papermill": {
     "duration": 0.036599,
     "end_time": "2022-07-22T00:28:33.142780",
     "exception": false,
     "start_time": "2022-07-22T00:28:33.106181",
     "status": "completed"
    },
    "tags": []
   },
   "source": [
    "* 회귀선 기울기로 대략적인 추세를 파악할 수 있음\n",
    "* 온도과 체감 온도가 높을수록 대여 수량이 많고, 습도는 낮을수록 대여 수량이 많음\n",
    "* 다시말해 대여 수량은 추울 때보다 따뜻할 때 많고, 습할 때보다 습하지 않을 때 많음\n",
    "* 풍속별 대여 수량 산점도 그래프의 회귀선을 보면 풍속이 셀수록 대여 수량이 많음\n",
    "    * 바람이 약할수록 많을 것 같은 예상과 다른 결과\n",
    "    * 이유는 windspeed 피처에 결측값이 많기 때문 (관측치가 없거나 오류로 인해 0으로 기록됐을 가능성이 높음)\n",
    "* 결측값이 많아서 그래프만으로 풍속과 대여 수량의 상관관계를 파악하기 힘듬\n",
    "* 결측값을 다른 값으로 대체하거나 windspeed 피처를 삭제해야 함. 여기서는 피처 자체를 삭제하도록 함."
   ]
  },
  {
   "cell_type": "markdown",
   "id": "2538c327",
   "metadata": {
    "papermill": {
     "duration": 0.036944,
     "end_time": "2022-07-22T00:28:33.216667",
     "exception": false,
     "start_time": "2022-07-22T00:28:33.179723",
     "status": "completed"
    },
    "tags": []
   },
   "source": [
    "히트맵"
   ]
  },
  {
   "cell_type": "markdown",
   "id": "ec67a87a",
   "metadata": {
    "papermill": {
     "duration": 0.036571,
     "end_time": "2022-07-22T00:28:33.290165",
     "exception": false,
     "start_time": "2022-07-22T00:28:33.253594",
     "status": "completed"
    },
    "tags": []
   },
   "source": [
    "* temp, atemp, humidity, windspeed, count는 수치형 데이터이며 수치형 데이터끼리 어떤 상관관계가 있는지 알아보기\n",
    "\n",
    "* corr() 함수는 DataFrame 내의 피처 간 상관계수를 계산해 반환"
   ]
  },
  {
   "cell_type": "code",
   "execution_count": 23,
   "id": "a60b445b",
   "metadata": {
    "execution": {
     "iopub.execute_input": "2022-07-22T00:28:33.368661Z",
     "iopub.status.busy": "2022-07-22T00:28:33.368222Z",
     "iopub.status.idle": "2022-07-22T00:28:33.703883Z",
     "shell.execute_reply": "2022-07-22T00:28:33.702612Z"
    },
    "papermill": {
     "duration": 0.378122,
     "end_time": "2022-07-22T00:28:33.706553",
     "exception": false,
     "start_time": "2022-07-22T00:28:33.328431",
     "status": "completed"
    },
    "tags": []
   },
   "outputs": [
    {
     "data": {
      "image/png": "[encoded data removed]",
      "text/plain": [
       "<Figure size 720x720 with 2 Axes>"
      ]
     },
     "metadata": {
      "needs_background": "light"
     },
     "output_type": "display_data"
    }
   ],
   "source": [
    "\n",
    "# 피처 간 상관관계 매트릭스\n",
    "corrMat = train[['temp', 'atemp', 'humidity', 'windspeed', 'count']].corr() \n",
    "fig, ax= plt.subplots() \n",
    "fig.set_size_inches(10, 10)\n",
    "sns.heatmap(corrMat, annot=True) # 상관관계 히트맵 그리기 (annot=True : 상관계수가 숫자로 표시됨)\n",
    "ax.set(title='Heatmap of Numerical Data');"
   ]
  },
  {
   "cell_type": "markdown",
   "id": "3149889d",
   "metadata": {
    "papermill": {
     "duration": 0.046131,
     "end_time": "2022-07-22T00:28:33.803790",
     "exception": false,
     "start_time": "2022-07-22T00:28:33.757659",
     "status": "completed"
    },
    "tags": []
   },
   "source": [
    "타깃값인 count와의 상관관계가 중요\n",
    "\n",
    "* 온도(temp)와 대여 수량(count) 간 상관계수는 0.39로 양의 상관관계를 보임\n",
    "   * 온도가 높을수록 대여 수량이 많다는 뜻\n",
    "* 반면, 습도(humidity)와 대여 수량(count) 간 상관계수는 -0.32로 음의 상관관계를 보임\n",
    "   * 습도가 낮을수록 대여 수량이 많다는 뜻\n",
    "* 앞서 산점도 그래프와 분석한 내용과 동일\n",
    "* 풍속(windspeed)과 대여 수량(count)의 상관계수는 0.1로 상관관계가 매우 약함\n",
    "   * windspeed 피처는 대여 수량 예측에 별 도움을 주지 못할 것으로 예상\n",
    "   * 성능을 높이기 위해 모델링 시 windspeed 피처 제거\n",
    "       * 앞의 '회귀선을 포함한 산점도 그래프'에서 결측값이 많다는 이유로 같은 결론에 도달"
   ]
  },
  {
   "cell_type": "markdown",
   "id": "f36f96aa",
   "metadata": {
    "papermill": {
     "duration": 0.037432,
     "end_time": "2022-07-22T00:28:33.882305",
     "exception": false,
     "start_time": "2022-07-22T00:28:33.844873",
     "status": "completed"
    },
    "tags": []
   },
   "source": [
    "2. 자전거 대여 수요 예측 경진대회 베이스라인 모델\n",
    "* 메뉴:[Run]->[Stop Session] 후 여기서부터 실행 권장.(필수아님)"
   ]
  },
  {
   "cell_type": "code",
   "execution_count": 24,
   "id": "28b8454b",
   "metadata": {
    "execution": {
     "iopub.execute_input": "2022-07-22T00:28:33.960233Z",
     "iopub.status.busy": "2022-07-22T00:28:33.959845Z",
     "iopub.status.idle": "2022-07-22T00:28:34.007029Z",
     "shell.execute_reply": "2022-07-22T00:28:34.005857Z"
    },
    "papermill": {
     "duration": 0.089419,
     "end_time": "2022-07-22T00:28:34.009744",
     "exception": false,
     "start_time": "2022-07-22T00:28:33.920325",
     "status": "completed"
    },
    "tags": []
   },
   "outputs": [],
   "source": [
    "import pandas as pd\n",
    "# 데이터 경로\n",
    "data_path = '/kaggle/input/bike-sharing-demand/'\n",
    "\n",
    "train = pd.read_csv(data_path + 'train.csv')\n",
    "test = pd.read_csv(data_path + 'test.csv')\n",
    "submission = pd.read_csv(data_path + 'sampleSubmission.csv')"
   ]
  },
  {
   "cell_type": "markdown",
   "id": "c8e36db5",
   "metadata": {
    "papermill": {
     "duration": 0.037543,
     "end_time": "2022-07-22T00:28:34.085067",
     "exception": false,
     "start_time": "2022-07-22T00:28:34.047524",
     "status": "completed"
    },
    "tags": []
   },
   "source": [
    "# 2.1 피처 엔지니어링"
   ]
  },
  {
   "cell_type": "markdown",
   "id": "adbd2826",
   "metadata": {
    "papermill": {
     "duration": 0.037353,
     "end_time": "2022-07-22T00:28:34.160060",
     "exception": false,
     "start_time": "2022-07-22T00:28:34.122707",
     "status": "completed"
    },
    "tags": []
   },
   "source": [
    "이상치 제거"
   ]
  },
  {
   "cell_type": "code",
   "execution_count": 25,
   "id": "96bbcfcc",
   "metadata": {
    "execution": {
     "iopub.execute_input": "2022-07-22T00:28:34.237056Z",
     "iopub.status.busy": "2022-07-22T00:28:34.236671Z",
     "iopub.status.idle": "2022-07-22T00:28:34.243583Z",
     "shell.execute_reply": "2022-07-22T00:28:34.242669Z"
    },
    "papermill": {
     "duration": 0.048235,
     "end_time": "2022-07-22T00:28:34.245900",
     "exception": false,
     "start_time": "2022-07-22T00:28:34.197665",
     "status": "completed"
    },
    "tags": []
   },
   "outputs": [],
   "source": [
    "# 훈련 데이터에서 weather가 4가 아닌 데이터만 추출\n",
    "train = train[train['weather'] != 4]"
   ]
  },
  {
   "cell_type": "markdown",
   "id": "e11b8a66",
   "metadata": {
    "papermill": {
     "duration": 0.03869,
     "end_time": "2022-07-22T00:28:34.324522",
     "exception": false,
     "start_time": "2022-07-22T00:28:34.285832",
     "status": "completed"
    },
    "tags": []
   },
   "source": [
    "데이터 합치기"
   ]
  },
  {
   "cell_type": "code",
   "execution_count": 26,
   "id": "6709c79b",
   "metadata": {
    "execution": {
     "iopub.execute_input": "2022-07-22T00:28:34.403341Z",
     "iopub.status.busy": "2022-07-22T00:28:34.402931Z",
     "iopub.status.idle": "2022-07-22T00:28:34.432417Z",
     "shell.execute_reply": "2022-07-22T00:28:34.431106Z"
    },
    "papermill": {
     "duration": 0.072504,
     "end_time": "2022-07-22T00:28:34.435224",
     "exception": false,
     "start_time": "2022-07-22T00:28:34.362720",
     "status": "completed"
    },
    "tags": []
   },
   "outputs": [
    {
     "data": {
      "text/html": [
       "<div>\n",
       "<style scoped>\n",
       "    .dataframe tbody tr th:only-of-type {\n",
       "        vertical-align: middle;\n",
       "    }\n",
       "\n",
       "    .dataframe tbody tr th {\n",
       "        vertical-align: top;\n",
       "    }\n",
       "\n",
       "    .dataframe thead th {\n",
       "        text-align: right;\n",
       "    }\n",
       "</style>\n",
       "<table border=\"1\" class=\"dataframe\">\n",
       "  <thead>\n",
       "    <tr style=\"text-align: right;\">\n",
       "      <th></th>\n",
       "      <th>datetime</th>\n",
       "      <th>season</th>\n",
       "      <th>holiday</th>\n",
       "      <th>workingday</th>\n",
       "      <th>weather</th>\n",
       "      <th>temp</th>\n",
       "      <th>atemp</th>\n",
       "      <th>humidity</th>\n",
       "      <th>windspeed</th>\n",
       "      <th>casual</th>\n",
       "      <th>registered</th>\n",
       "      <th>count</th>\n",
       "    </tr>\n",
       "  </thead>\n",
       "  <tbody>\n",
       "    <tr>\n",
       "      <th>0</th>\n",
       "      <td>2011-01-01 00:00:00</td>\n",
       "      <td>1</td>\n",
       "      <td>0</td>\n",
       "      <td>0</td>\n",
       "      <td>1</td>\n",
       "      <td>9.84</td>\n",
       "      <td>14.395</td>\n",
       "      <td>81</td>\n",
       "      <td>0.0000</td>\n",
       "      <td>3.0</td>\n",
       "      <td>13.0</td>\n",
       "      <td>16.0</td>\n",
       "    </tr>\n",
       "    <tr>\n",
       "      <th>1</th>\n",
       "      <td>2011-01-01 01:00:00</td>\n",
       "      <td>1</td>\n",
       "      <td>0</td>\n",
       "      <td>0</td>\n",
       "      <td>1</td>\n",
       "      <td>9.02</td>\n",
       "      <td>13.635</td>\n",
       "      <td>80</td>\n",
       "      <td>0.0000</td>\n",
       "      <td>8.0</td>\n",
       "      <td>32.0</td>\n",
       "      <td>40.0</td>\n",
       "    </tr>\n",
       "    <tr>\n",
       "      <th>2</th>\n",
       "      <td>2011-01-01 02:00:00</td>\n",
       "      <td>1</td>\n",
       "      <td>0</td>\n",
       "      <td>0</td>\n",
       "      <td>1</td>\n",
       "      <td>9.02</td>\n",
       "      <td>13.635</td>\n",
       "      <td>80</td>\n",
       "      <td>0.0000</td>\n",
       "      <td>5.0</td>\n",
       "      <td>27.0</td>\n",
       "      <td>32.0</td>\n",
       "    </tr>\n",
       "    <tr>\n",
       "      <th>3</th>\n",
       "      <td>2011-01-01 03:00:00</td>\n",
       "      <td>1</td>\n",
       "      <td>0</td>\n",
       "      <td>0</td>\n",
       "      <td>1</td>\n",
       "      <td>9.84</td>\n",
       "      <td>14.395</td>\n",
       "      <td>75</td>\n",
       "      <td>0.0000</td>\n",
       "      <td>3.0</td>\n",
       "      <td>10.0</td>\n",
       "      <td>13.0</td>\n",
       "    </tr>\n",
       "    <tr>\n",
       "      <th>4</th>\n",
       "      <td>2011-01-01 04:00:00</td>\n",
       "      <td>1</td>\n",
       "      <td>0</td>\n",
       "      <td>0</td>\n",
       "      <td>1</td>\n",
       "      <td>9.84</td>\n",
       "      <td>14.395</td>\n",
       "      <td>75</td>\n",
       "      <td>0.0000</td>\n",
       "      <td>0.0</td>\n",
       "      <td>1.0</td>\n",
       "      <td>1.0</td>\n",
       "    </tr>\n",
       "    <tr>\n",
       "      <th>...</th>\n",
       "      <td>...</td>\n",
       "      <td>...</td>\n",
       "      <td>...</td>\n",
       "      <td>...</td>\n",
       "      <td>...</td>\n",
       "      <td>...</td>\n",
       "      <td>...</td>\n",
       "      <td>...</td>\n",
       "      <td>...</td>\n",
       "      <td>...</td>\n",
       "      <td>...</td>\n",
       "      <td>...</td>\n",
       "    </tr>\n",
       "    <tr>\n",
       "      <th>6488</th>\n",
       "      <td>2012-12-31 19:00:00</td>\n",
       "      <td>1</td>\n",
       "      <td>0</td>\n",
       "      <td>1</td>\n",
       "      <td>2</td>\n",
       "      <td>10.66</td>\n",
       "      <td>12.880</td>\n",
       "      <td>60</td>\n",
       "      <td>11.0014</td>\n",
       "      <td>NaN</td>\n",
       "      <td>NaN</td>\n",
       "      <td>NaN</td>\n",
       "    </tr>\n",
       "    <tr>\n",
       "      <th>6489</th>\n",
       "      <td>2012-12-31 20:00:00</td>\n",
       "      <td>1</td>\n",
       "      <td>0</td>\n",
       "      <td>1</td>\n",
       "      <td>2</td>\n",
       "      <td>10.66</td>\n",
       "      <td>12.880</td>\n",
       "      <td>60</td>\n",
       "      <td>11.0014</td>\n",
       "      <td>NaN</td>\n",
       "      <td>NaN</td>\n",
       "      <td>NaN</td>\n",
       "    </tr>\n",
       "    <tr>\n",
       "      <th>6490</th>\n",
       "      <td>2012-12-31 21:00:00</td>\n",
       "      <td>1</td>\n",
       "      <td>0</td>\n",
       "      <td>1</td>\n",
       "      <td>1</td>\n",
       "      <td>10.66</td>\n",
       "      <td>12.880</td>\n",
       "      <td>60</td>\n",
       "      <td>11.0014</td>\n",
       "      <td>NaN</td>\n",
       "      <td>NaN</td>\n",
       "      <td>NaN</td>\n",
       "    </tr>\n",
       "    <tr>\n",
       "      <th>6491</th>\n",
       "      <td>2012-12-31 22:00:00</td>\n",
       "      <td>1</td>\n",
       "      <td>0</td>\n",
       "      <td>1</td>\n",
       "      <td>1</td>\n",
       "      <td>10.66</td>\n",
       "      <td>13.635</td>\n",
       "      <td>56</td>\n",
       "      <td>8.9981</td>\n",
       "      <td>NaN</td>\n",
       "      <td>NaN</td>\n",
       "      <td>NaN</td>\n",
       "    </tr>\n",
       "    <tr>\n",
       "      <th>6492</th>\n",
       "      <td>2012-12-31 23:00:00</td>\n",
       "      <td>1</td>\n",
       "      <td>0</td>\n",
       "      <td>1</td>\n",
       "      <td>1</td>\n",
       "      <td>10.66</td>\n",
       "      <td>13.635</td>\n",
       "      <td>65</td>\n",
       "      <td>8.9981</td>\n",
       "      <td>NaN</td>\n",
       "      <td>NaN</td>\n",
       "      <td>NaN</td>\n",
       "    </tr>\n",
       "  </tbody>\n",
       "</table>\n",
       "<p>17378 rows × 12 columns</p>\n",
       "</div>"
      ],
      "text/plain": [
       "                 datetime  season  holiday  workingday  weather   temp  \\\n",
       "0     2011-01-01 00:00:00       1        0           0        1   9.84   \n",
       "1     2011-01-01 01:00:00       1        0           0        1   9.02   \n",
       "2     2011-01-01 02:00:00       1        0           0        1   9.02   \n",
       "3     2011-01-01 03:00:00       1        0           0        1   9.84   \n",
       "4     2011-01-01 04:00:00       1        0           0        1   9.84   \n",
       "...                   ...     ...      ...         ...      ...    ...   \n",
       "6488  2012-12-31 19:00:00       1        0           1        2  10.66   \n",
       "6489  2012-12-31 20:00:00       1        0           1        2  10.66   \n",
       "6490  2012-12-31 21:00:00       1        0           1        1  10.66   \n",
       "6491  2012-12-31 22:00:00       1        0           1        1  10.66   \n",
       "6492  2012-12-31 23:00:00       1        0           1        1  10.66   \n",
       "\n",
       "       atemp  humidity  windspeed  casual  registered  count  \n",
       "0     14.395        81     0.0000     3.0        13.0   16.0  \n",
       "1     13.635        80     0.0000     8.0        32.0   40.0  \n",
       "2     13.635        80     0.0000     5.0        27.0   32.0  \n",
       "3     14.395        75     0.0000     3.0        10.0   13.0  \n",
       "4     14.395        75     0.0000     0.0         1.0    1.0  \n",
       "...      ...       ...        ...     ...         ...    ...  \n",
       "6488  12.880        60    11.0014     NaN         NaN    NaN  \n",
       "6489  12.880        60    11.0014     NaN         NaN    NaN  \n",
       "6490  12.880        60    11.0014     NaN         NaN    NaN  \n",
       "6491  13.635        56     8.9981     NaN         NaN    NaN  \n",
       "6492  13.635        65     8.9981     NaN         NaN    NaN  \n",
       "\n",
       "[17378 rows x 12 columns]"
      ]
     },
     "execution_count": 26,
     "metadata": {},
     "output_type": "execute_result"
    }
   ],
   "source": [
    "all_data_temp = pd.concat([train, test])\n",
    "all_data_temp"
   ]
  },
  {
   "cell_type": "code",
   "execution_count": 27,
   "id": "57e9da8d",
   "metadata": {
    "execution": {
     "iopub.execute_input": "2022-07-22T00:28:34.520759Z",
     "iopub.status.busy": "2022-07-22T00:28:34.519908Z",
     "iopub.status.idle": "2022-07-22T00:28:34.547291Z",
     "shell.execute_reply": "2022-07-22T00:28:34.546159Z"
    },
    "papermill": {
     "duration": 0.075023,
     "end_time": "2022-07-22T00:28:34.549734",
     "exception": false,
     "start_time": "2022-07-22T00:28:34.474711",
     "status": "completed"
    },
    "tags": []
   },
   "outputs": [
    {
     "data": {
      "text/html": [
       "<div>\n",
       "<style scoped>\n",
       "    .dataframe tbody tr th:only-of-type {\n",
       "        vertical-align: middle;\n",
       "    }\n",
       "\n",
       "    .dataframe tbody tr th {\n",
       "        vertical-align: top;\n",
       "    }\n",
       "\n",
       "    .dataframe thead th {\n",
       "        text-align: right;\n",
       "    }\n",
       "</style>\n",
       "<table border=\"1\" class=\"dataframe\">\n",
       "  <thead>\n",
       "    <tr style=\"text-align: right;\">\n",
       "      <th></th>\n",
       "      <th>datetime</th>\n",
       "      <th>season</th>\n",
       "      <th>holiday</th>\n",
       "      <th>workingday</th>\n",
       "      <th>weather</th>\n",
       "      <th>temp</th>\n",
       "      <th>atemp</th>\n",
       "      <th>humidity</th>\n",
       "      <th>windspeed</th>\n",
       "      <th>casual</th>\n",
       "      <th>registered</th>\n",
       "      <th>count</th>\n",
       "    </tr>\n",
       "  </thead>\n",
       "  <tbody>\n",
       "    <tr>\n",
       "      <th>0</th>\n",
       "      <td>2011-01-01 00:00:00</td>\n",
       "      <td>1</td>\n",
       "      <td>0</td>\n",
       "      <td>0</td>\n",
       "      <td>1</td>\n",
       "      <td>9.84</td>\n",
       "      <td>14.395</td>\n",
       "      <td>81</td>\n",
       "      <td>0.0000</td>\n",
       "      <td>3.0</td>\n",
       "      <td>13.0</td>\n",
       "      <td>16.0</td>\n",
       "    </tr>\n",
       "    <tr>\n",
       "      <th>1</th>\n",
       "      <td>2011-01-01 01:00:00</td>\n",
       "      <td>1</td>\n",
       "      <td>0</td>\n",
       "      <td>0</td>\n",
       "      <td>1</td>\n",
       "      <td>9.02</td>\n",
       "      <td>13.635</td>\n",
       "      <td>80</td>\n",
       "      <td>0.0000</td>\n",
       "      <td>8.0</td>\n",
       "      <td>32.0</td>\n",
       "      <td>40.0</td>\n",
       "    </tr>\n",
       "    <tr>\n",
       "      <th>2</th>\n",
       "      <td>2011-01-01 02:00:00</td>\n",
       "      <td>1</td>\n",
       "      <td>0</td>\n",
       "      <td>0</td>\n",
       "      <td>1</td>\n",
       "      <td>9.02</td>\n",
       "      <td>13.635</td>\n",
       "      <td>80</td>\n",
       "      <td>0.0000</td>\n",
       "      <td>5.0</td>\n",
       "      <td>27.0</td>\n",
       "      <td>32.0</td>\n",
       "    </tr>\n",
       "    <tr>\n",
       "      <th>3</th>\n",
       "      <td>2011-01-01 03:00:00</td>\n",
       "      <td>1</td>\n",
       "      <td>0</td>\n",
       "      <td>0</td>\n",
       "      <td>1</td>\n",
       "      <td>9.84</td>\n",
       "      <td>14.395</td>\n",
       "      <td>75</td>\n",
       "      <td>0.0000</td>\n",
       "      <td>3.0</td>\n",
       "      <td>10.0</td>\n",
       "      <td>13.0</td>\n",
       "    </tr>\n",
       "    <tr>\n",
       "      <th>4</th>\n",
       "      <td>2011-01-01 04:00:00</td>\n",
       "      <td>1</td>\n",
       "      <td>0</td>\n",
       "      <td>0</td>\n",
       "      <td>1</td>\n",
       "      <td>9.84</td>\n",
       "      <td>14.395</td>\n",
       "      <td>75</td>\n",
       "      <td>0.0000</td>\n",
       "      <td>0.0</td>\n",
       "      <td>1.0</td>\n",
       "      <td>1.0</td>\n",
       "    </tr>\n",
       "    <tr>\n",
       "      <th>...</th>\n",
       "      <td>...</td>\n",
       "      <td>...</td>\n",
       "      <td>...</td>\n",
       "      <td>...</td>\n",
       "      <td>...</td>\n",
       "      <td>...</td>\n",
       "      <td>...</td>\n",
       "      <td>...</td>\n",
       "      <td>...</td>\n",
       "      <td>...</td>\n",
       "      <td>...</td>\n",
       "      <td>...</td>\n",
       "    </tr>\n",
       "    <tr>\n",
       "      <th>17373</th>\n",
       "      <td>2012-12-31 19:00:00</td>\n",
       "      <td>1</td>\n",
       "      <td>0</td>\n",
       "      <td>1</td>\n",
       "      <td>2</td>\n",
       "      <td>10.66</td>\n",
       "      <td>12.880</td>\n",
       "      <td>60</td>\n",
       "      <td>11.0014</td>\n",
       "      <td>NaN</td>\n",
       "      <td>NaN</td>\n",
       "      <td>NaN</td>\n",
       "    </tr>\n",
       "    <tr>\n",
       "      <th>17374</th>\n",
       "      <td>2012-12-31 20:00:00</td>\n",
       "      <td>1</td>\n",
       "      <td>0</td>\n",
       "      <td>1</td>\n",
       "      <td>2</td>\n",
       "      <td>10.66</td>\n",
       "      <td>12.880</td>\n",
       "      <td>60</td>\n",
       "      <td>11.0014</td>\n",
       "      <td>NaN</td>\n",
       "      <td>NaN</td>\n",
       "      <td>NaN</td>\n",
       "    </tr>\n",
       "    <tr>\n",
       "      <th>17375</th>\n",
       "      <td>2012-12-31 21:00:00</td>\n",
       "      <td>1</td>\n",
       "      <td>0</td>\n",
       "      <td>1</td>\n",
       "      <td>1</td>\n",
       "      <td>10.66</td>\n",
       "      <td>12.880</td>\n",
       "      <td>60</td>\n",
       "      <td>11.0014</td>\n",
       "      <td>NaN</td>\n",
       "      <td>NaN</td>\n",
       "      <td>NaN</td>\n",
       "    </tr>\n",
       "    <tr>\n",
       "      <th>17376</th>\n",
       "      <td>2012-12-31 22:00:00</td>\n",
       "      <td>1</td>\n",
       "      <td>0</td>\n",
       "      <td>1</td>\n",
       "      <td>1</td>\n",
       "      <td>10.66</td>\n",
       "      <td>13.635</td>\n",
       "      <td>56</td>\n",
       "      <td>8.9981</td>\n",
       "      <td>NaN</td>\n",
       "      <td>NaN</td>\n",
       "      <td>NaN</td>\n",
       "    </tr>\n",
       "    <tr>\n",
       "      <th>17377</th>\n",
       "      <td>2012-12-31 23:00:00</td>\n",
       "      <td>1</td>\n",
       "      <td>0</td>\n",
       "      <td>1</td>\n",
       "      <td>1</td>\n",
       "      <td>10.66</td>\n",
       "      <td>13.635</td>\n",
       "      <td>65</td>\n",
       "      <td>8.9981</td>\n",
       "      <td>NaN</td>\n",
       "      <td>NaN</td>\n",
       "      <td>NaN</td>\n",
       "    </tr>\n",
       "  </tbody>\n",
       "</table>\n",
       "<p>17378 rows × 12 columns</p>\n",
       "</div>"
      ],
      "text/plain": [
       "                  datetime  season  holiday  workingday  weather   temp  \\\n",
       "0      2011-01-01 00:00:00       1        0           0        1   9.84   \n",
       "1      2011-01-01 01:00:00       1        0           0        1   9.02   \n",
       "2      2011-01-01 02:00:00       1        0           0        1   9.02   \n",
       "3      2011-01-01 03:00:00       1        0           0        1   9.84   \n",
       "4      2011-01-01 04:00:00       1        0           0        1   9.84   \n",
       "...                    ...     ...      ...         ...      ...    ...   \n",
       "17373  2012-12-31 19:00:00       1        0           1        2  10.66   \n",
       "17374  2012-12-31 20:00:00       1        0           1        2  10.66   \n",
       "17375  2012-12-31 21:00:00       1        0           1        1  10.66   \n",
       "17376  2012-12-31 22:00:00       1        0           1        1  10.66   \n",
       "17377  2012-12-31 23:00:00       1        0           1        1  10.66   \n",
       "\n",
       "        atemp  humidity  windspeed  casual  registered  count  \n",
       "0      14.395        81     0.0000     3.0        13.0   16.0  \n",
       "1      13.635        80     0.0000     8.0        32.0   40.0  \n",
       "2      13.635        80     0.0000     5.0        27.0   32.0  \n",
       "3      14.395        75     0.0000     3.0        10.0   13.0  \n",
       "4      14.395        75     0.0000     0.0         1.0    1.0  \n",
       "...       ...       ...        ...     ...         ...    ...  \n",
       "17373  12.880        60    11.0014     NaN         NaN    NaN  \n",
       "17374  12.880        60    11.0014     NaN         NaN    NaN  \n",
       "17375  12.880        60    11.0014     NaN         NaN    NaN  \n",
       "17376  13.635        56     8.9981     NaN         NaN    NaN  \n",
       "17377  13.635        65     8.9981     NaN         NaN    NaN  \n",
       "\n",
       "[17378 rows x 12 columns]"
      ]
     },
     "execution_count": 27,
     "metadata": {},
     "output_type": "execute_result"
    }
   ],
   "source": [
    "all_data = pd.concat([train, test], ignore_index=True)\n",
    "all_data"
   ]
  },
  {
   "cell_type": "markdown",
   "id": "e02ad6ea",
   "metadata": {
    "papermill": {
     "duration": 0.038071,
     "end_time": "2022-07-22T00:28:34.626153",
     "exception": false,
     "start_time": "2022-07-22T00:28:34.588082",
     "status": "completed"
    },
    "tags": []
   },
   "source": [
    "파생 변수(피처) 추가"
   ]
  },
  {
   "cell_type": "code",
   "execution_count": 28,
   "id": "b79f23fc",
   "metadata": {
    "execution": {
     "iopub.execute_input": "2022-07-22T00:28:34.704454Z",
     "iopub.status.busy": "2022-07-22T00:28:34.704031Z",
     "iopub.status.idle": "2022-07-22T00:28:34.992059Z",
     "shell.execute_reply": "2022-07-22T00:28:34.990830Z"
    },
    "papermill": {
     "duration": 0.330608,
     "end_time": "2022-07-22T00:28:34.994910",
     "exception": false,
     "start_time": "2022-07-22T00:28:34.664302",
     "status": "completed"
    },
    "tags": []
   },
   "outputs": [],
   "source": [
    "from datetime import datetime\n",
    "\n",
    "# 날짜 피처 생성\n",
    "all_data['date'] = all_data['datetime'].apply(lambda x: x.split()[0])\n",
    "# 연도 피처 생성\n",
    "all_data['year'] = all_data['datetime'].apply(lambda x: x.split()[0].split('-')[0])\n",
    "# 월 피처 생성\n",
    "all_data['month'] = all_data['datetime'].apply(lambda x: x.split()[0].split('-')[1])\n",
    "# 시 피처 생성\n",
    "all_data['hour'] = all_data['datetime'].apply(lambda x: x.split()[1].split(':')[0])\n",
    "# 요일 피처 생성\n",
    "all_data[\"weekday\"] = all_data['date'].apply(lambda dateString : datetime.strptime(dateString,\"%Y-%m-%d\").weekday())"
   ]
  },
  {
   "cell_type": "markdown",
   "id": "73fe5067",
   "metadata": {
    "papermill": {
     "duration": 0.038755,
     "end_time": "2022-07-22T00:28:35.072840",
     "exception": false,
     "start_time": "2022-07-22T00:28:35.034085",
     "status": "completed"
    },
    "tags": []
   },
   "source": [
    "필요 없는 피처 제거"
   ]
  },
  {
   "cell_type": "code",
   "execution_count": 29,
   "id": "0a3b8b6a",
   "metadata": {
    "execution": {
     "iopub.execute_input": "2022-07-22T00:28:35.152852Z",
     "iopub.status.busy": "2022-07-22T00:28:35.152430Z",
     "iopub.status.idle": "2022-07-22T00:28:35.164957Z",
     "shell.execute_reply": "2022-07-22T00:28:35.164081Z"
    },
    "papermill": {
     "duration": 0.055052,
     "end_time": "2022-07-22T00:28:35.167482",
     "exception": false,
     "start_time": "2022-07-22T00:28:35.112430",
     "status": "completed"
    },
    "tags": []
   },
   "outputs": [],
   "source": [
    "drop_features = ['casual', 'registered', 'datetime', 'date', 'windspeed', 'month']\n",
    "\n",
    "all_data = all_data.drop(drop_features, axis=1)"
   ]
  },
  {
   "cell_type": "markdown",
   "id": "10a87e3d",
   "metadata": {
    "papermill": {
     "duration": 0.038201,
     "end_time": "2022-07-22T00:28:35.245321",
     "exception": false,
     "start_time": "2022-07-22T00:28:35.207120",
     "status": "completed"
    },
    "tags": []
   },
   "source": [
    "데이터 나누기"
   ]
  },
  {
   "cell_type": "code",
   "execution_count": 30,
   "id": "60b3e531",
   "metadata": {
    "execution": {
     "iopub.execute_input": "2022-07-22T00:28:35.325137Z",
     "iopub.status.busy": "2022-07-22T00:28:35.324320Z",
     "iopub.status.idle": "2022-07-22T00:28:35.336118Z",
     "shell.execute_reply": "2022-07-22T00:28:35.335285Z"
    },
    "papermill": {
     "duration": 0.054922,
     "end_time": "2022-07-22T00:28:35.338639",
     "exception": false,
     "start_time": "2022-07-22T00:28:35.283717",
     "status": "completed"
    },
    "tags": []
   },
   "outputs": [],
   "source": [
    "# 훈련 데이터와 테스트 데이터 나누기\n",
    "X_train = all_data[~pd.isnull(all_data['count'])]\n",
    "X_test = all_data[pd.isnull(all_data['count'])]\n",
    "\n",
    "# 타깃값 count 제거\n",
    "X_train = X_train.drop(['count'], axis=1)\n",
    "X_test = X_test.drop(['count'], axis=1)\n",
    "\n",
    "y = train['count'] # 타깃값"
   ]
  },
  {
   "cell_type": "code",
   "execution_count": 31,
   "id": "d2cf9574",
   "metadata": {
    "execution": {
     "iopub.execute_input": "2022-07-22T00:28:35.417644Z",
     "iopub.status.busy": "2022-07-22T00:28:35.416982Z",
     "iopub.status.idle": "2022-07-22T00:28:35.431514Z",
     "shell.execute_reply": "2022-07-22T00:28:35.430678Z"
    },
    "papermill": {
     "duration": 0.056653,
     "end_time": "2022-07-22T00:28:35.433665",
     "exception": false,
     "start_time": "2022-07-22T00:28:35.377012",
     "status": "completed"
    },
    "tags": []
   },
   "outputs": [
    {
     "data": {
      "text/html": [
       "<div>\n",
       "<style scoped>\n",
       "    .dataframe tbody tr th:only-of-type {\n",
       "        vertical-align: middle;\n",
       "    }\n",
       "\n",
       "    .dataframe tbody tr th {\n",
       "        vertical-align: top;\n",
       "    }\n",
       "\n",
       "    .dataframe thead th {\n",
       "        text-align: right;\n",
       "    }\n",
       "</style>\n",
       "<table border=\"1\" class=\"dataframe\">\n",
       "  <thead>\n",
       "    <tr style=\"text-align: right;\">\n",
       "      <th></th>\n",
       "      <th>season</th>\n",
       "      <th>holiday</th>\n",
       "      <th>workingday</th>\n",
       "      <th>weather</th>\n",
       "      <th>temp</th>\n",
       "      <th>atemp</th>\n",
       "      <th>humidity</th>\n",
       "      <th>year</th>\n",
       "      <th>hour</th>\n",
       "      <th>weekday</th>\n",
       "    </tr>\n",
       "  </thead>\n",
       "  <tbody>\n",
       "    <tr>\n",
       "      <th>0</th>\n",
       "      <td>1</td>\n",
       "      <td>0</td>\n",
       "      <td>0</td>\n",
       "      <td>1</td>\n",
       "      <td>9.84</td>\n",
       "      <td>14.395</td>\n",
       "      <td>81</td>\n",
       "      <td>2011</td>\n",
       "      <td>00</td>\n",
       "      <td>5</td>\n",
       "    </tr>\n",
       "    <tr>\n",
       "      <th>1</th>\n",
       "      <td>1</td>\n",
       "      <td>0</td>\n",
       "      <td>0</td>\n",
       "      <td>1</td>\n",
       "      <td>9.02</td>\n",
       "      <td>13.635</td>\n",
       "      <td>80</td>\n",
       "      <td>2011</td>\n",
       "      <td>01</td>\n",
       "      <td>5</td>\n",
       "    </tr>\n",
       "    <tr>\n",
       "      <th>2</th>\n",
       "      <td>1</td>\n",
       "      <td>0</td>\n",
       "      <td>0</td>\n",
       "      <td>1</td>\n",
       "      <td>9.02</td>\n",
       "      <td>13.635</td>\n",
       "      <td>80</td>\n",
       "      <td>2011</td>\n",
       "      <td>02</td>\n",
       "      <td>5</td>\n",
       "    </tr>\n",
       "    <tr>\n",
       "      <th>3</th>\n",
       "      <td>1</td>\n",
       "      <td>0</td>\n",
       "      <td>0</td>\n",
       "      <td>1</td>\n",
       "      <td>9.84</td>\n",
       "      <td>14.395</td>\n",
       "      <td>75</td>\n",
       "      <td>2011</td>\n",
       "      <td>03</td>\n",
       "      <td>5</td>\n",
       "    </tr>\n",
       "    <tr>\n",
       "      <th>4</th>\n",
       "      <td>1</td>\n",
       "      <td>0</td>\n",
       "      <td>0</td>\n",
       "      <td>1</td>\n",
       "      <td>9.84</td>\n",
       "      <td>14.395</td>\n",
       "      <td>75</td>\n",
       "      <td>2011</td>\n",
       "      <td>04</td>\n",
       "      <td>5</td>\n",
       "    </tr>\n",
       "  </tbody>\n",
       "</table>\n",
       "</div>"
      ],
      "text/plain": [
       "   season  holiday  workingday  weather  temp   atemp  humidity  year hour  \\\n",
       "0       1        0           0        1  9.84  14.395        81  2011   00   \n",
       "1       1        0           0        1  9.02  13.635        80  2011   01   \n",
       "2       1        0           0        1  9.02  13.635        80  2011   02   \n",
       "3       1        0           0        1  9.84  14.395        75  2011   03   \n",
       "4       1        0           0        1  9.84  14.395        75  2011   04   \n",
       "\n",
       "   weekday  \n",
       "0        5  \n",
       "1        5  \n",
       "2        5  \n",
       "3        5  \n",
       "4        5  "
      ]
     },
     "execution_count": 31,
     "metadata": {},
     "output_type": "execute_result"
    }
   ],
   "source": [
    "X_train.head()"
   ]
  },
  {
   "cell_type": "markdown",
   "id": "f8d22a47",
   "metadata": {
    "papermill": {
     "duration": 0.038512,
     "end_time": "2022-07-22T00:28:35.510898",
     "exception": false,
     "start_time": "2022-07-22T00:28:35.472386",
     "status": "completed"
    },
    "tags": []
   },
   "source": [
    "# 2.2 평가지표 계산 함수 작성"
   ]
  },
  {
   "cell_type": "code",
   "execution_count": 32,
   "id": "6c0b63db",
   "metadata": {
    "execution": {
     "iopub.execute_input": "2022-07-22T00:28:35.591123Z",
     "iopub.status.busy": "2022-07-22T00:28:35.590372Z",
     "iopub.status.idle": "2022-07-22T00:28:35.597193Z",
     "shell.execute_reply": "2022-07-22T00:28:35.596309Z"
    },
    "papermill": {
     "duration": 0.049964,
     "end_time": "2022-07-22T00:28:35.599538",
     "exception": false,
     "start_time": "2022-07-22T00:28:35.549574",
     "status": "completed"
    },
    "tags": []
   },
   "outputs": [],
   "source": [
    "import numpy as np\n",
    "\n",
    "def rmsle(y_true, y_pred, convertExp=True):\n",
    "    # 지수변환\n",
    "    if convertExp:\n",
    "        y_true = np.exp(y_true)\n",
    "        y_pred = np.exp(y_pred)\n",
    "        \n",
    "    # 로그변환 후 결측값을 0으로 변환\n",
    "    log_true = np.nan_to_num(np.log(y_true+1))\n",
    "    log_pred = np.nan_to_num(np.log(y_pred+1))\n",
    "    \n",
    "    # RMSLE 계산\n",
    "    output = np.sqrt(np.mean((log_true - log_pred)**2))\n",
    "    return output"
   ]
  },
  {
   "cell_type": "markdown",
   "id": "20d6bcb6",
   "metadata": {
    "papermill": {
     "duration": 0.039376,
     "end_time": "2022-07-22T00:28:35.679179",
     "exception": false,
     "start_time": "2022-07-22T00:28:35.639803",
     "status": "completed"
    },
    "tags": []
   },
   "source": [
    "# 2.3 모델 훈련"
   ]
  },
  {
   "cell_type": "code",
   "execution_count": 33,
   "id": "a19acdb4",
   "metadata": {
    "execution": {
     "iopub.execute_input": "2022-07-22T00:28:35.760237Z",
     "iopub.status.busy": "2022-07-22T00:28:35.759509Z",
     "iopub.status.idle": "2022-07-22T00:28:36.236517Z",
     "shell.execute_reply": "2022-07-22T00:28:36.235604Z"
    },
    "papermill": {
     "duration": 0.520221,
     "end_time": "2022-07-22T00:28:36.238975",
     "exception": false,
     "start_time": "2022-07-22T00:28:35.718754",
     "status": "completed"
    },
    "tags": []
   },
   "outputs": [],
   "source": [
    "from sklearn.linear_model import LinearRegression\n",
    "\n",
    "linear_reg_model = LinearRegression()"
   ]
  },
  {
   "cell_type": "code",
   "execution_count": 34,
   "id": "6654c7cd",
   "metadata": {
    "execution": {
     "iopub.execute_input": "2022-07-22T00:28:36.320306Z",
     "iopub.status.busy": "2022-07-22T00:28:36.319593Z",
     "iopub.status.idle": "2022-07-22T00:28:36.368020Z",
     "shell.execute_reply": "2022-07-22T00:28:36.366781Z"
    },
    "papermill": {
     "duration": 0.093374,
     "end_time": "2022-07-22T00:28:36.371528",
     "exception": false,
     "start_time": "2022-07-22T00:28:36.278154",
     "status": "completed"
    },
    "tags": []
   },
   "outputs": [
    {
     "data": {
      "text/plain": [
       "LinearRegression()"
      ]
     },
     "execution_count": 34,
     "metadata": {},
     "output_type": "execute_result"
    }
   ],
   "source": [
    "log_y = np.log(y)  # 타깃값 로그변환\n",
    "linear_reg_model.fit(X_train, log_y) # 모델 훈련"
   ]
  },
  {
   "cell_type": "markdown",
   "id": "f5e070d4",
   "metadata": {
    "papermill": {
     "duration": 0.053308,
     "end_time": "2022-07-22T00:28:36.499813",
     "exception": false,
     "start_time": "2022-07-22T00:28:36.446505",
     "status": "completed"
    },
    "tags": []
   },
   "source": [
    "# 2.4 모델 성능 검증"
   ]
  },
  {
   "cell_type": "code",
   "execution_count": 35,
   "id": "12b47706",
   "metadata": {
    "execution": {
     "iopub.execute_input": "2022-07-22T00:28:36.580570Z",
     "iopub.status.busy": "2022-07-22T00:28:36.579738Z",
     "iopub.status.idle": "2022-07-22T00:28:36.608033Z",
     "shell.execute_reply": "2022-07-22T00:28:36.606571Z"
    },
    "papermill": {
     "duration": 0.073118,
     "end_time": "2022-07-22T00:28:36.612201",
     "exception": false,
     "start_time": "2022-07-22T00:28:36.539083",
     "status": "completed"
    },
    "tags": []
   },
   "outputs": [],
   "source": [
    "preds = linear_reg_model.predict(X_train)"
   ]
  },
  {
   "cell_type": "code",
   "execution_count": 36,
   "id": "6f4d2934",
   "metadata": {
    "execution": {
     "iopub.execute_input": "2022-07-22T00:28:36.743454Z",
     "iopub.status.busy": "2022-07-22T00:28:36.742316Z",
     "iopub.status.idle": "2022-07-22T00:28:36.750382Z",
     "shell.execute_reply": "2022-07-22T00:28:36.748886Z"
    },
    "papermill": {
     "duration": 0.06819,
     "end_time": "2022-07-22T00:28:36.753828",
     "exception": false,
     "start_time": "2022-07-22T00:28:36.685638",
     "status": "completed"
    },
    "tags": []
   },
   "outputs": [
    {
     "name": "stdout",
     "output_type": "stream",
     "text": [
      "선형회귀의 RMSLE 값 : 1.0205\n"
     ]
    }
   ],
   "source": [
    "print (f'선형회귀의 RMSLE 값 : {rmsle(log_y, preds, True):.4f}')"
   ]
  },
  {
   "cell_type": "markdown",
   "id": "1be1585e",
   "metadata": {
    "papermill": {
     "duration": 0.040257,
     "end_time": "2022-07-22T00:28:36.834794",
     "exception": false,
     "start_time": "2022-07-22T00:28:36.794537",
     "status": "completed"
    },
    "tags": []
   },
   "source": [
    "# 2.5 예측 및 결과 제출"
   ]
  },
  {
   "cell_type": "code",
   "execution_count": 37,
   "id": "81c82eae",
   "metadata": {
    "execution": {
     "iopub.execute_input": "2022-07-22T00:28:36.914995Z",
     "iopub.status.busy": "2022-07-22T00:28:36.914625Z",
     "iopub.status.idle": "2022-07-22T00:28:36.989773Z",
     "shell.execute_reply": "2022-07-22T00:28:36.988350Z"
    },
    "papermill": {
     "duration": 0.119502,
     "end_time": "2022-07-22T00:28:36.993778",
     "exception": false,
     "start_time": "2022-07-22T00:28:36.874276",
     "status": "completed"
    },
    "tags": []
   },
   "outputs": [],
   "source": [
    "linearreg_preds = linear_reg_model.predict(X_test) # 테스트 데이터로 예측\n",
    "\n",
    "submission['count'] = np.exp(linearreg_preds)    # 지수변환\n",
    "submission.to_csv('first_submission.csv', index=False) # 파일로 저장"
   ]
  },
  {
   "cell_type": "markdown",
   "id": "f394ac87",
   "metadata": {
    "papermill": {
     "duration": 0.038416,
     "end_time": "2022-07-22T00:28:37.097607",
     "exception": false,
     "start_time": "2022-07-22T00:28:37.059191",
     "status": "completed"
    },
    "tags": []
   },
   "source": [
    "자, 여러분들이 여기까지 정상적으로 하셨다면 'Output/kaggle/working에 fist_submission.csv'이 생성되었을 겁니다.\n",
    "저 파일을 다운로드해서 직접 대회에 제출하고 평가 점수를 살펴보세요."
   ]
  },
  {
   "cell_type": "markdown",
   "id": "6b6b69b4",
   "metadata": {
    "papermill": {
     "duration": 0.038481,
     "end_time": "2022-07-22T00:28:37.174814",
     "exception": false,
     "start_time": "2022-07-22T00:28:37.136333",
     "status": "completed"
    },
    "tags": []
   },
   "source": [
    "# **3. 자전거 대여 수요 예측 경진대회 모델 성능 개선**\n",
    "* 메뉴:[Run]->[Stop Session] 후 여기서부터 실행권장.(필수아님)"
   ]
  },
  {
   "cell_type": "code",
   "execution_count": 38,
   "id": "e8275ece",
   "metadata": {
    "execution": {
     "iopub.execute_input": "2022-07-22T00:28:37.254344Z",
     "iopub.status.busy": "2022-07-22T00:28:37.253913Z",
     "iopub.status.idle": "2022-07-22T00:28:37.301734Z",
     "shell.execute_reply": "2022-07-22T00:28:37.300439Z"
    },
    "papermill": {
     "duration": 0.09085,
     "end_time": "2022-07-22T00:28:37.304553",
     "exception": false,
     "start_time": "2022-07-22T00:28:37.213703",
     "status": "completed"
    },
    "tags": []
   },
   "outputs": [],
   "source": [
    "import pandas as pd\n",
    "# 데이터 경로\n",
    "data_path = '/kaggle/input/bike-sharing-demand/'\n",
    "\n",
    "train = pd.read_csv(data_path + 'train.csv')\n",
    "test = pd.read_csv(data_path + 'test.csv')\n",
    "submission = pd.read_csv(data_path + 'sampleSubmission.csv')"
   ]
  },
  {
   "cell_type": "markdown",
   "id": "cc7a52e4",
   "metadata": {
    "papermill": {
     "duration": 0.038732,
     "end_time": "2022-07-22T00:28:37.382595",
     "exception": false,
     "start_time": "2022-07-22T00:28:37.343863",
     "status": "completed"
    },
    "tags": []
   },
   "source": [
    "**피처 엔지니어링**"
   ]
  },
  {
   "cell_type": "markdown",
   "id": "0dc95aea",
   "metadata": {
    "papermill": {
     "duration": 0.03847,
     "end_time": "2022-07-22T00:28:37.460170",
     "exception": false,
     "start_time": "2022-07-22T00:28:37.421700",
     "status": "completed"
    },
    "tags": []
   },
   "source": [
    "이상치 제거"
   ]
  },
  {
   "cell_type": "code",
   "execution_count": 39,
   "id": "08dffaaa",
   "metadata": {
    "execution": {
     "iopub.execute_input": "2022-07-22T00:28:37.539916Z",
     "iopub.status.busy": "2022-07-22T00:28:37.539533Z",
     "iopub.status.idle": "2022-07-22T00:28:37.547329Z",
     "shell.execute_reply": "2022-07-22T00:28:37.546161Z"
    },
    "papermill": {
     "duration": 0.050764,
     "end_time": "2022-07-22T00:28:37.549962",
     "exception": false,
     "start_time": "2022-07-22T00:28:37.499198",
     "status": "completed"
    },
    "tags": []
   },
   "outputs": [],
   "source": [
    "# 훈련 데이터에서 weather가 4가 아닌 데이터만 추출\n",
    "train = train[train['weather'] != 4]"
   ]
  },
  {
   "cell_type": "markdown",
   "id": "6a559054",
   "metadata": {
    "papermill": {
     "duration": 0.03879,
     "end_time": "2022-07-22T00:28:37.628467",
     "exception": false,
     "start_time": "2022-07-22T00:28:37.589677",
     "status": "completed"
    },
    "tags": []
   },
   "source": [
    "데이터 합치기"
   ]
  },
  {
   "cell_type": "code",
   "execution_count": 40,
   "id": "c4692352",
   "metadata": {
    "execution": {
     "iopub.execute_input": "2022-07-22T00:28:37.708145Z",
     "iopub.status.busy": "2022-07-22T00:28:37.707758Z",
     "iopub.status.idle": "2022-07-22T00:28:37.735672Z",
     "shell.execute_reply": "2022-07-22T00:28:37.734770Z"
    },
    "papermill": {
     "duration": 0.070388,
     "end_time": "2022-07-22T00:28:37.737881",
     "exception": false,
     "start_time": "2022-07-22T00:28:37.667493",
     "status": "completed"
    },
    "tags": []
   },
   "outputs": [
    {
     "data": {
      "text/html": [
       "<div>\n",
       "<style scoped>\n",
       "    .dataframe tbody tr th:only-of-type {\n",
       "        vertical-align: middle;\n",
       "    }\n",
       "\n",
       "    .dataframe tbody tr th {\n",
       "        vertical-align: top;\n",
       "    }\n",
       "\n",
       "    .dataframe thead th {\n",
       "        text-align: right;\n",
       "    }\n",
       "</style>\n",
       "<table border=\"1\" class=\"dataframe\">\n",
       "  <thead>\n",
       "    <tr style=\"text-align: right;\">\n",
       "      <th></th>\n",
       "      <th>datetime</th>\n",
       "      <th>season</th>\n",
       "      <th>holiday</th>\n",
       "      <th>workingday</th>\n",
       "      <th>weather</th>\n",
       "      <th>temp</th>\n",
       "      <th>atemp</th>\n",
       "      <th>humidity</th>\n",
       "      <th>windspeed</th>\n",
       "      <th>casual</th>\n",
       "      <th>registered</th>\n",
       "      <th>count</th>\n",
       "    </tr>\n",
       "  </thead>\n",
       "  <tbody>\n",
       "    <tr>\n",
       "      <th>0</th>\n",
       "      <td>2011-01-01 00:00:00</td>\n",
       "      <td>1</td>\n",
       "      <td>0</td>\n",
       "      <td>0</td>\n",
       "      <td>1</td>\n",
       "      <td>9.84</td>\n",
       "      <td>14.395</td>\n",
       "      <td>81</td>\n",
       "      <td>0.0000</td>\n",
       "      <td>3.0</td>\n",
       "      <td>13.0</td>\n",
       "      <td>16.0</td>\n",
       "    </tr>\n",
       "    <tr>\n",
       "      <th>1</th>\n",
       "      <td>2011-01-01 01:00:00</td>\n",
       "      <td>1</td>\n",
       "      <td>0</td>\n",
       "      <td>0</td>\n",
       "      <td>1</td>\n",
       "      <td>9.02</td>\n",
       "      <td>13.635</td>\n",
       "      <td>80</td>\n",
       "      <td>0.0000</td>\n",
       "      <td>8.0</td>\n",
       "      <td>32.0</td>\n",
       "      <td>40.0</td>\n",
       "    </tr>\n",
       "    <tr>\n",
       "      <th>2</th>\n",
       "      <td>2011-01-01 02:00:00</td>\n",
       "      <td>1</td>\n",
       "      <td>0</td>\n",
       "      <td>0</td>\n",
       "      <td>1</td>\n",
       "      <td>9.02</td>\n",
       "      <td>13.635</td>\n",
       "      <td>80</td>\n",
       "      <td>0.0000</td>\n",
       "      <td>5.0</td>\n",
       "      <td>27.0</td>\n",
       "      <td>32.0</td>\n",
       "    </tr>\n",
       "    <tr>\n",
       "      <th>3</th>\n",
       "      <td>2011-01-01 03:00:00</td>\n",
       "      <td>1</td>\n",
       "      <td>0</td>\n",
       "      <td>0</td>\n",
       "      <td>1</td>\n",
       "      <td>9.84</td>\n",
       "      <td>14.395</td>\n",
       "      <td>75</td>\n",
       "      <td>0.0000</td>\n",
       "      <td>3.0</td>\n",
       "      <td>10.0</td>\n",
       "      <td>13.0</td>\n",
       "    </tr>\n",
       "    <tr>\n",
       "      <th>4</th>\n",
       "      <td>2011-01-01 04:00:00</td>\n",
       "      <td>1</td>\n",
       "      <td>0</td>\n",
       "      <td>0</td>\n",
       "      <td>1</td>\n",
       "      <td>9.84</td>\n",
       "      <td>14.395</td>\n",
       "      <td>75</td>\n",
       "      <td>0.0000</td>\n",
       "      <td>0.0</td>\n",
       "      <td>1.0</td>\n",
       "      <td>1.0</td>\n",
       "    </tr>\n",
       "    <tr>\n",
       "      <th>...</th>\n",
       "      <td>...</td>\n",
       "      <td>...</td>\n",
       "      <td>...</td>\n",
       "      <td>...</td>\n",
       "      <td>...</td>\n",
       "      <td>...</td>\n",
       "      <td>...</td>\n",
       "      <td>...</td>\n",
       "      <td>...</td>\n",
       "      <td>...</td>\n",
       "      <td>...</td>\n",
       "      <td>...</td>\n",
       "    </tr>\n",
       "    <tr>\n",
       "      <th>17373</th>\n",
       "      <td>2012-12-31 19:00:00</td>\n",
       "      <td>1</td>\n",
       "      <td>0</td>\n",
       "      <td>1</td>\n",
       "      <td>2</td>\n",
       "      <td>10.66</td>\n",
       "      <td>12.880</td>\n",
       "      <td>60</td>\n",
       "      <td>11.0014</td>\n",
       "      <td>NaN</td>\n",
       "      <td>NaN</td>\n",
       "      <td>NaN</td>\n",
       "    </tr>\n",
       "    <tr>\n",
       "      <th>17374</th>\n",
       "      <td>2012-12-31 20:00:00</td>\n",
       "      <td>1</td>\n",
       "      <td>0</td>\n",
       "      <td>1</td>\n",
       "      <td>2</td>\n",
       "      <td>10.66</td>\n",
       "      <td>12.880</td>\n",
       "      <td>60</td>\n",
       "      <td>11.0014</td>\n",
       "      <td>NaN</td>\n",
       "      <td>NaN</td>\n",
       "      <td>NaN</td>\n",
       "    </tr>\n",
       "    <tr>\n",
       "      <th>17375</th>\n",
       "      <td>2012-12-31 21:00:00</td>\n",
       "      <td>1</td>\n",
       "      <td>0</td>\n",
       "      <td>1</td>\n",
       "      <td>1</td>\n",
       "      <td>10.66</td>\n",
       "      <td>12.880</td>\n",
       "      <td>60</td>\n",
       "      <td>11.0014</td>\n",
       "      <td>NaN</td>\n",
       "      <td>NaN</td>\n",
       "      <td>NaN</td>\n",
       "    </tr>\n",
       "    <tr>\n",
       "      <th>17376</th>\n",
       "      <td>2012-12-31 22:00:00</td>\n",
       "      <td>1</td>\n",
       "      <td>0</td>\n",
       "      <td>1</td>\n",
       "      <td>1</td>\n",
       "      <td>10.66</td>\n",
       "      <td>13.635</td>\n",
       "      <td>56</td>\n",
       "      <td>8.9981</td>\n",
       "      <td>NaN</td>\n",
       "      <td>NaN</td>\n",
       "      <td>NaN</td>\n",
       "    </tr>\n",
       "    <tr>\n",
       "      <th>17377</th>\n",
       "      <td>2012-12-31 23:00:00</td>\n",
       "      <td>1</td>\n",
       "      <td>0</td>\n",
       "      <td>1</td>\n",
       "      <td>1</td>\n",
       "      <td>10.66</td>\n",
       "      <td>13.635</td>\n",
       "      <td>65</td>\n",
       "      <td>8.9981</td>\n",
       "      <td>NaN</td>\n",
       "      <td>NaN</td>\n",
       "      <td>NaN</td>\n",
       "    </tr>\n",
       "  </tbody>\n",
       "</table>\n",
       "<p>17378 rows × 12 columns</p>\n",
       "</div>"
      ],
      "text/plain": [
       "                  datetime  season  holiday  workingday  weather   temp  \\\n",
       "0      2011-01-01 00:00:00       1        0           0        1   9.84   \n",
       "1      2011-01-01 01:00:00       1        0           0        1   9.02   \n",
       "2      2011-01-01 02:00:00       1        0           0        1   9.02   \n",
       "3      2011-01-01 03:00:00       1        0           0        1   9.84   \n",
       "4      2011-01-01 04:00:00       1        0           0        1   9.84   \n",
       "...                    ...     ...      ...         ...      ...    ...   \n",
       "17373  2012-12-31 19:00:00       1        0           1        2  10.66   \n",
       "17374  2012-12-31 20:00:00       1        0           1        2  10.66   \n",
       "17375  2012-12-31 21:00:00       1        0           1        1  10.66   \n",
       "17376  2012-12-31 22:00:00       1        0           1        1  10.66   \n",
       "17377  2012-12-31 23:00:00       1        0           1        1  10.66   \n",
       "\n",
       "        atemp  humidity  windspeed  casual  registered  count  \n",
       "0      14.395        81     0.0000     3.0        13.0   16.0  \n",
       "1      13.635        80     0.0000     8.0        32.0   40.0  \n",
       "2      13.635        80     0.0000     5.0        27.0   32.0  \n",
       "3      14.395        75     0.0000     3.0        10.0   13.0  \n",
       "4      14.395        75     0.0000     0.0         1.0    1.0  \n",
       "...       ...       ...        ...     ...         ...    ...  \n",
       "17373  12.880        60    11.0014     NaN         NaN    NaN  \n",
       "17374  12.880        60    11.0014     NaN         NaN    NaN  \n",
       "17375  12.880        60    11.0014     NaN         NaN    NaN  \n",
       "17376  13.635        56     8.9981     NaN         NaN    NaN  \n",
       "17377  13.635        65     8.9981     NaN         NaN    NaN  \n",
       "\n",
       "[17378 rows x 12 columns]"
      ]
     },
     "execution_count": 40,
     "metadata": {},
     "output_type": "execute_result"
    }
   ],
   "source": [
    "all_data = pd.concat([train, test], ignore_index=True)\n",
    "all_data"
   ]
  },
  {
   "cell_type": "markdown",
   "id": "7e10013f",
   "metadata": {
    "papermill": {
     "duration": 0.039147,
     "end_time": "2022-07-22T00:28:37.817703",
     "exception": false,
     "start_time": "2022-07-22T00:28:37.778556",
     "status": "completed"
    },
    "tags": []
   },
   "source": [
    "> CONCAT 함수\n",
    "> \n",
    "> 두 표현식을 연결하고 결과 표현식을 반환한다. 2개 이상의 표현식을 연결하려면 CONCAT 함수를 중첩시켜 사용한다."
   ]
  },
  {
   "cell_type": "markdown",
   "id": "d574c2a1",
   "metadata": {
    "papermill": {
     "duration": 0.039233,
     "end_time": "2022-07-22T00:28:37.896282",
     "exception": false,
     "start_time": "2022-07-22T00:28:37.857049",
     "status": "completed"
    },
    "tags": []
   },
   "source": [
    "파생 변수(피처) 추가"
   ]
  },
  {
   "cell_type": "code",
   "execution_count": 41,
   "id": "8d16ef2e",
   "metadata": {
    "execution": {
     "iopub.execute_input": "2022-07-22T00:28:37.978368Z",
     "iopub.status.busy": "2022-07-22T00:28:37.977953Z",
     "iopub.status.idle": "2022-07-22T00:28:38.261827Z",
     "shell.execute_reply": "2022-07-22T00:28:38.260620Z"
    },
    "papermill": {
     "duration": 0.328884,
     "end_time": "2022-07-22T00:28:38.264584",
     "exception": false,
     "start_time": "2022-07-22T00:28:37.935700",
     "status": "completed"
    },
    "tags": []
   },
   "outputs": [],
   "source": [
    "from datetime import datetime\n",
    "\n",
    "# 날짜 피처 생성\n",
    "all_data['date'] = all_data['datetime'].apply(lambda x: x.split()[0])\n",
    "# 연도 피처 생성\n",
    "all_data['year'] = all_data['datetime'].apply(lambda x: x.split()[0].split('-')[0])\n",
    "# 월 피처 생성\n",
    "all_data['month'] = all_data['datetime'].apply(lambda x: x.split()[0].split('-')[1])\n",
    "# 시 피처 생성\n",
    "all_data['hour'] = all_data['datetime'].apply(lambda x: x.split()[1].split(':')[0])\n",
    "# 요일 피처 생성\n",
    "all_data[\"weekday\"] = all_data['date'].apply(lambda dateString : datetime.strptime(dateString,\"%Y-%m-%d\").weekday())"
   ]
  },
  {
   "cell_type": "markdown",
   "id": "e6c3f225",
   "metadata": {
    "papermill": {
     "duration": 0.040503,
     "end_time": "2022-07-22T00:28:38.346795",
     "exception": false,
     "start_time": "2022-07-22T00:28:38.306292",
     "status": "completed"
    },
    "tags": []
   },
   "source": [
    "필요 없는 피처 제거"
   ]
  },
  {
   "cell_type": "code",
   "execution_count": 42,
   "id": "18cb6212",
   "metadata": {
    "execution": {
     "iopub.execute_input": "2022-07-22T00:28:38.430190Z",
     "iopub.status.busy": "2022-07-22T00:28:38.429809Z",
     "iopub.status.idle": "2022-07-22T00:28:38.441228Z",
     "shell.execute_reply": "2022-07-22T00:28:38.439917Z"
    },
    "papermill": {
     "duration": 0.05608,
     "end_time": "2022-07-22T00:28:38.443860",
     "exception": false,
     "start_time": "2022-07-22T00:28:38.387780",
     "status": "completed"
    },
    "tags": []
   },
   "outputs": [],
   "source": [
    "drop_features = ['casual', 'registered', 'datetime', 'date', 'windspeed', 'month']\n",
    "\n",
    "all_data = all_data.drop(drop_features, axis=1)"
   ]
  },
  {
   "cell_type": "markdown",
   "id": "1f4da070",
   "metadata": {
    "papermill": {
     "duration": 0.03972,
     "end_time": "2022-07-22T00:28:38.523994",
     "exception": false,
     "start_time": "2022-07-22T00:28:38.484274",
     "status": "completed"
    },
    "tags": []
   },
   "source": [
    "데이터 나누기"
   ]
  },
  {
   "cell_type": "code",
   "execution_count": 43,
   "id": "4521729a",
   "metadata": {
    "execution": {
     "iopub.execute_input": "2022-07-22T00:28:38.605892Z",
     "iopub.status.busy": "2022-07-22T00:28:38.604834Z",
     "iopub.status.idle": "2022-07-22T00:28:38.617336Z",
     "shell.execute_reply": "2022-07-22T00:28:38.616233Z"
    },
    "papermill": {
     "duration": 0.056217,
     "end_time": "2022-07-22T00:28:38.620004",
     "exception": false,
     "start_time": "2022-07-22T00:28:38.563787",
     "status": "completed"
    },
    "tags": []
   },
   "outputs": [],
   "source": [
    "# 훈련 데이터와 테스트 데이터 나누기\n",
    "X_train = all_data[~pd.isnull(all_data['count'])]\n",
    "X_test = all_data[pd.isnull(all_data['count'])]\n",
    "\n",
    "# 타깃값 count 제거\n",
    "X_train = X_train.drop(['count'], axis=1)\n",
    "X_test = X_test.drop(['count'], axis=1)\n",
    "\n",
    "y = train['count'] # 타깃값"
   ]
  },
  {
   "cell_type": "markdown",
   "id": "9d54f1df",
   "metadata": {
    "papermill": {
     "duration": 0.039793,
     "end_time": "2022-07-22T00:28:38.699727",
     "exception": false,
     "start_time": "2022-07-22T00:28:38.659934",
     "status": "completed"
    },
    "tags": []
   },
   "source": [
    "평가지표 계산 함수 작성"
   ]
  },
  {
   "cell_type": "code",
   "execution_count": 44,
   "id": "8b9e8613",
   "metadata": {
    "execution": {
     "iopub.execute_input": "2022-07-22T00:28:38.785439Z",
     "iopub.status.busy": "2022-07-22T00:28:38.784035Z",
     "iopub.status.idle": "2022-07-22T00:28:38.791234Z",
     "shell.execute_reply": "2022-07-22T00:28:38.790414Z"
    },
    "papermill": {
     "duration": 0.051323,
     "end_time": "2022-07-22T00:28:38.793605",
     "exception": false,
     "start_time": "2022-07-22T00:28:38.742282",
     "status": "completed"
    },
    "tags": []
   },
   "outputs": [],
   "source": [
    "import numpy as np\n",
    "\n",
    "def rmsle(y_true, y_pred, convertExp=True):\n",
    "    # 지수변환\n",
    "    if convertExp:\n",
    "        y_true = np.exp(y_true)\n",
    "        y_pred = np.exp(y_pred)\n",
    "        \n",
    "    # 로그변환 후 결측값을 0으로 변환\n",
    "    log_true = np.nan_to_num(np.log(y_true+1))\n",
    "    log_pred = np.nan_to_num(np.log(y_pred+1))\n",
    "    \n",
    "    # RMSLE 계산\n",
    "    output = np.sqrt(np.mean((log_true - log_pred)**2))\n",
    "    return output"
   ]
  },
  {
   "cell_type": "markdown",
   "id": "caaa0975",
   "metadata": {
    "papermill": {
     "duration": 0.040637,
     "end_time": "2022-07-22T00:28:38.874660",
     "exception": false,
     "start_time": "2022-07-22T00:28:38.834023",
     "status": "completed"
    },
    "tags": []
   },
   "source": [
    "# **3.1 성능 개선 1 : 릿지 회귀 모델**"
   ]
  },
  {
   "cell_type": "markdown",
   "id": "17b146ae",
   "metadata": {
    "papermill": {
     "duration": 0.040624,
     "end_time": "2022-07-22T00:28:38.956116",
     "exception": false,
     "start_time": "2022-07-22T00:28:38.915492",
     "status": "completed"
    },
    "tags": []
   },
   "source": [
    "# 3.1.1 하이퍼 파라미터 최적화(모델 훈련)"
   ]
  },
  {
   "cell_type": "markdown",
   "id": "18bb797e",
   "metadata": {
    "papermill": {
     "duration": 0.039498,
     "end_time": "2022-07-22T00:28:39.037279",
     "exception": false,
     "start_time": "2022-07-22T00:28:38.997781",
     "status": "completed"
    },
    "tags": []
   },
   "source": [
    "모델 생성"
   ]
  },
  {
   "cell_type": "code",
   "execution_count": 45,
   "id": "4369e11d",
   "metadata": {
    "execution": {
     "iopub.execute_input": "2022-07-22T00:28:39.119532Z",
     "iopub.status.busy": "2022-07-22T00:28:39.119107Z",
     "iopub.status.idle": "2022-07-22T00:28:39.124223Z",
     "shell.execute_reply": "2022-07-22T00:28:39.123147Z"
    },
    "papermill": {
     "duration": 0.048991,
     "end_time": "2022-07-22T00:28:39.126538",
     "exception": false,
     "start_time": "2022-07-22T00:28:39.077547",
     "status": "completed"
    },
    "tags": []
   },
   "outputs": [],
   "source": [
    "from sklearn.linear_model import Ridge\n",
    "from sklearn.model_selection import GridSearchCV\n",
    "from sklearn import metrics\n",
    "\n",
    "ridge_model = Ridge()"
   ]
  },
  {
   "cell_type": "markdown",
   "id": "93eda855",
   "metadata": {
    "papermill": {
     "duration": 0.040062,
     "end_time": "2022-07-22T00:28:39.206572",
     "exception": false,
     "start_time": "2022-07-22T00:28:39.166510",
     "status": "completed"
    },
    "tags": []
   },
   "source": [
    "그리드서치 객체 생성"
   ]
  },
  {
   "cell_type": "code",
   "execution_count": 46,
   "id": "1cc39854",
   "metadata": {
    "execution": {
     "iopub.execute_input": "2022-07-22T00:28:39.288530Z",
     "iopub.status.busy": "2022-07-22T00:28:39.288078Z",
     "iopub.status.idle": "2022-07-22T00:28:39.295057Z",
     "shell.execute_reply": "2022-07-22T00:28:39.293936Z"
    },
    "papermill": {
     "duration": 0.050721,
     "end_time": "2022-07-22T00:28:39.297261",
     "exception": false,
     "start_time": "2022-07-22T00:28:39.246540",
     "status": "completed"
    },
    "tags": []
   },
   "outputs": [],
   "source": [
    "# 하이퍼 파라미터 값 목록\n",
    "ridge_params = {'max_iter':[2000], 'alpha':[0.1, 1, 2, 3, 4, 10, 30, 100, 200, 300, 400, 800, 900, 1000]}\n",
    "\n",
    "# 교차 검증용 평가 함수(RMSLE 점수 계산)\n",
    "rmsle_scorer = metrics.make_scorer(rmsle, greater_is_better=False)\n",
    "# 그리드서치(with 릿지) 객체 생성\n",
    "gridsearch_ridge_model = GridSearchCV(estimator=ridge_model,   # 릿지 모델\n",
    "                                      param_grid=ridge_params, # 값 목록\n",
    "                                      scoring=rmsle_scorer,    # 평가지표\n",
    "                                      cv=5)                    # 교차검증 분할 수"
   ]
  },
  {
   "cell_type": "markdown",
   "id": "7425c900",
   "metadata": {
    "papermill": {
     "duration": 0.039639,
     "end_time": "2022-07-22T00:28:39.376283",
     "exception": false,
     "start_time": "2022-07-22T00:28:39.336644",
     "status": "completed"
    },
    "tags": []
   },
   "source": [
    "> RMSE\n",
    ">\n",
    "> RMSE는 MSE를 제곱근한 값인데, MSE는 제곱된 오차들의 평균이기 때문에 그 값의 단위를 원래 정답값과 맞춰주고자 제곱근을 씌운다는 개념이 담겨있습니다."
   ]
  },
  {
   "cell_type": "markdown",
   "id": "c7c1f600",
   "metadata": {
    "papermill": {
     "duration": 0.039935,
     "end_time": "2022-07-22T00:28:39.455964",
     "exception": false,
     "start_time": "2022-07-22T00:28:39.416029",
     "status": "completed"
    },
    "tags": []
   },
   "source": [
    "그리드서치 수행"
   ]
  },
  {
   "cell_type": "code",
   "execution_count": 47,
   "id": "65f86af6",
   "metadata": {
    "execution": {
     "iopub.execute_input": "2022-07-22T00:28:39.675128Z",
     "iopub.status.busy": "2022-07-22T00:28:39.674684Z",
     "iopub.status.idle": "2022-07-22T00:28:42.420951Z",
     "shell.execute_reply": "2022-07-22T00:28:42.419650Z"
    },
    "papermill": {
     "duration": 2.928617,
     "end_time": "2022-07-22T00:28:42.424529",
     "exception": false,
     "start_time": "2022-07-22T00:28:39.495912",
     "status": "completed"
    },
    "tags": []
   },
   "outputs": [
    {
     "data": {
      "text/plain": [
       "GridSearchCV(cv=5, estimator=Ridge(),\n",
       "             param_grid={'alpha': [0.1, 1, 2, 3, 4, 10, 30, 100, 200, 300, 400,\n",
       "                                   800, 900, 1000],\n",
       "                         'max_iter': [2000]},\n",
       "             scoring=make_scorer(rmsle, greater_is_better=False))"
      ]
     },
     "execution_count": 47,
     "metadata": {},
     "output_type": "execute_result"
    }
   ],
   "source": [
    "log_y = np.log(y) # 타깃값 로그변환\n",
    "gridsearch_ridge_model.fit(X_train, log_y) # 훈련(그리드서치)"
   ]
  },
  {
   "cell_type": "code",
   "execution_count": 48,
   "id": "20b75464",
   "metadata": {
    "execution": {
     "iopub.execute_input": "2022-07-22T00:28:42.540640Z",
     "iopub.status.busy": "2022-07-22T00:28:42.540231Z",
     "iopub.status.idle": "2022-07-22T00:28:42.545981Z",
     "shell.execute_reply": "2022-07-22T00:28:42.544824Z"
    },
    "papermill": {
     "duration": 0.050495,
     "end_time": "2022-07-22T00:28:42.548645",
     "exception": false,
     "start_time": "2022-07-22T00:28:42.498150",
     "status": "completed"
    },
    "tags": []
   },
   "outputs": [
    {
     "name": "stdout",
     "output_type": "stream",
     "text": [
      "최적 하이퍼파라미터 : {'alpha': 0.1, 'max_iter': 2000}\n"
     ]
    }
   ],
   "source": [
    "print('최적 하이퍼파라미터 :', gridsearch_ridge_model.best_params_)"
   ]
  },
  {
   "cell_type": "markdown",
   "id": "56095183",
   "metadata": {
    "papermill": {
     "duration": 0.039302,
     "end_time": "2022-07-22T00:28:42.627717",
     "exception": false,
     "start_time": "2022-07-22T00:28:42.588415",
     "status": "completed"
    },
    "tags": []
   },
   "source": [
    "# 3.1.2 성능 검증"
   ]
  },
  {
   "cell_type": "code",
   "execution_count": 49,
   "id": "1a655bdc",
   "metadata": {
    "execution": {
     "iopub.execute_input": "2022-07-22T00:28:42.709170Z",
     "iopub.status.busy": "2022-07-22T00:28:42.708332Z",
     "iopub.status.idle": "2022-07-22T00:28:42.738915Z",
     "shell.execute_reply": "2022-07-22T00:28:42.736279Z"
    },
    "papermill": {
     "duration": 0.077207,
     "end_time": "2022-07-22T00:28:42.744639",
     "exception": false,
     "start_time": "2022-07-22T00:28:42.667432",
     "status": "completed"
    },
    "tags": []
   },
   "outputs": [
    {
     "name": "stdout",
     "output_type": "stream",
     "text": [
      "릿지 회귀 RMSLE 값 : 1.0205\n"
     ]
    }
   ],
   "source": [
    "# 예측\n",
    "preds = gridsearch_ridge_model.best_estimator_.predict(X_train) \n",
    "\n",
    "# 평가\n",
    "print(f'릿지 회귀 RMSLE 값 : {rmsle(log_y, preds, True):.4f}') "
   ]
  },
  {
   "cell_type": "markdown",
   "id": "3712c999",
   "metadata": {
    "papermill": {
     "duration": 0.054733,
     "end_time": "2022-07-22T00:28:42.874061",
     "exception": false,
     "start_time": "2022-07-22T00:28:42.819328",
     "status": "completed"
    },
    "tags": []
   },
   "source": [
    "# **3.2 성능 개선 2 : 라쏘 회귀 모델**"
   ]
  },
  {
   "cell_type": "markdown",
   "id": "a80d2818",
   "metadata": {
    "papermill": {
     "duration": 0.041437,
     "end_time": "2022-07-22T00:28:42.955965",
     "exception": false,
     "start_time": "2022-07-22T00:28:42.914528",
     "status": "completed"
    },
    "tags": []
   },
   "source": [
    "# 3.2.1 하이퍼 파라미터 최적화(모델 훈련)"
   ]
  },
  {
   "cell_type": "code",
   "execution_count": 50,
   "id": "de9ea3a6",
   "metadata": {
    "execution": {
     "iopub.execute_input": "2022-07-22T00:28:43.105769Z",
     "iopub.status.busy": "2022-07-22T00:28:43.105325Z",
     "iopub.status.idle": "2022-07-22T00:28:48.438568Z",
     "shell.execute_reply": "2022-07-22T00:28:48.436662Z"
    },
    "papermill": {
     "duration": 5.44569,
     "end_time": "2022-07-22T00:28:48.443147",
     "exception": false,
     "start_time": "2022-07-22T00:28:42.997457",
     "status": "completed"
    },
    "tags": []
   },
   "outputs": [
    {
     "name": "stdout",
     "output_type": "stream",
     "text": [
      "최적 하이퍼파라미터 : {'alpha': 0.00125, 'max_iter': 2000}\n"
     ]
    }
   ],
   "source": [
    "from sklearn.linear_model import Lasso\n",
    "\n",
    "# 모델 생성\n",
    "lasso_model = Lasso()\n",
    "# 하이퍼파라미터 값 목록\n",
    "lasso_alpha = 1/np.array([0.1, 1, 2, 3, 4, 10, 30, 100, 200, 300, 400, 800, 900, 1000])\n",
    "lasso_params = {'max_iter':[2000], 'alpha':lasso_alpha}\n",
    "# 그리드서치(with 라쏘) 객체 생성\n",
    "gridsearch_lasso_model = GridSearchCV(estimator=lasso_model,\n",
    "                                      param_grid=lasso_params,\n",
    "                                      scoring=rmsle_scorer,\n",
    "                                      cv=5)\n",
    "# 그리드서치 수행\n",
    "log_y = np.log(y)\n",
    "gridsearch_lasso_model.fit(X_train, log_y)\n",
    "\n",
    "print('최적 하이퍼파라미터 :', gridsearch_lasso_model.best_params_)"
   ]
  },
  {
   "cell_type": "markdown",
   "id": "ced79962",
   "metadata": {
    "papermill": {
     "duration": 0.045409,
     "end_time": "2022-07-22T00:28:48.584078",
     "exception": false,
     "start_time": "2022-07-22T00:28:48.538669",
     "status": "completed"
    },
    "tags": []
   },
   "source": [
    "# 3.2.2 성능 검증"
   ]
  },
  {
   "cell_type": "code",
   "execution_count": 51,
   "id": "cee3e9fe",
   "metadata": {
    "execution": {
     "iopub.execute_input": "2022-07-22T00:28:48.667887Z",
     "iopub.status.busy": "2022-07-22T00:28:48.667497Z",
     "iopub.status.idle": "2022-07-22T00:28:48.696698Z",
     "shell.execute_reply": "2022-07-22T00:28:48.695043Z"
    },
    "papermill": {
     "duration": 0.076848,
     "end_time": "2022-07-22T00:28:48.701337",
     "exception": false,
     "start_time": "2022-07-22T00:28:48.624489",
     "status": "completed"
    },
    "tags": []
   },
   "outputs": [
    {
     "name": "stdout",
     "output_type": "stream",
     "text": [
      "라쏘 회귀 RMSLE 값 : 1.0205\n"
     ]
    }
   ],
   "source": [
    "# 예측\n",
    "preds = gridsearch_lasso_model.best_estimator_.predict(X_train)\n",
    "\n",
    "# 평가\n",
    "print(f'라쏘 회귀 RMSLE 값 : {rmsle(log_y, preds, True):.4f}')"
   ]
  },
  {
   "cell_type": "markdown",
   "id": "18eca9a0",
   "metadata": {
    "papermill": {
     "duration": 0.054242,
     "end_time": "2022-07-22T00:28:48.832629",
     "exception": false,
     "start_time": "2022-07-22T00:28:48.778387",
     "status": "completed"
    },
    "tags": []
   },
   "source": [
    "# **3.3 성능 개선 3 : 랜덤 포레스트 회귀 모델**"
   ]
  },
  {
   "cell_type": "markdown",
   "id": "97053a65",
   "metadata": {
    "papermill": {
     "duration": 0.040216,
     "end_time": "2022-07-22T00:28:48.912940",
     "exception": false,
     "start_time": "2022-07-22T00:28:48.872724",
     "status": "completed"
    },
    "tags": []
   },
   "source": [
    "# 3.3.1 하이퍼 파라미터 최적화(모델훈련)"
   ]
  },
  {
   "cell_type": "code",
   "execution_count": 52,
   "id": "a3002809",
   "metadata": {
    "execution": {
     "iopub.execute_input": "2022-07-22T00:28:48.998051Z",
     "iopub.status.busy": "2022-07-22T00:28:48.997661Z",
     "iopub.status.idle": "2022-07-22T00:29:38.629744Z",
     "shell.execute_reply": "2022-07-22T00:29:38.628267Z"
    },
    "papermill": {
     "duration": 49.716784,
     "end_time": "2022-07-22T00:29:38.671996",
     "exception": false,
     "start_time": "2022-07-22T00:28:48.955212",
     "status": "completed"
    },
    "tags": []
   },
   "outputs": [
    {
     "name": "stdout",
     "output_type": "stream",
     "text": [
      "최적 하이퍼파라미터 : {'n_estimators': 140, 'random_state': 42}\n"
     ]
    }
   ],
   "source": [
    "from sklearn.ensemble import RandomForestRegressor\n",
    "\n",
    "# 모델 생성\n",
    "randomforest_model = RandomForestRegressor()\n",
    "# 그리드서치 객체 생성\n",
    "rf_params = {'random_state':[42], 'n_estimators':[100, 120, 140]}\n",
    "gridsearch_random_forest_model = GridSearchCV(estimator=randomforest_model,\n",
    "                                              param_grid=rf_params,\n",
    "                                              scoring=rmsle_scorer,\n",
    "                                              cv=5)\n",
    "# 그리드서치 수행\n",
    "log_y = np.log(y)\n",
    "gridsearch_random_forest_model.fit(X_train, log_y)\n",
    "\n",
    "print('최적 하이퍼파라미터 :', gridsearch_random_forest_model.best_params_)"
   ]
  },
  {
   "cell_type": "markdown",
   "id": "06afe6c9",
   "metadata": {
    "papermill": {
     "duration": 0.043885,
     "end_time": "2022-07-22T00:29:38.758696",
     "exception": false,
     "start_time": "2022-07-22T00:29:38.714811",
     "status": "completed"
    },
    "tags": []
   },
   "source": [
    "# 3.3.2 모델 성능 검증"
   ]
  },
  {
   "cell_type": "code",
   "execution_count": 53,
   "id": "2c258c9e",
   "metadata": {
    "execution": {
     "iopub.execute_input": "2022-07-22T00:29:38.842964Z",
     "iopub.status.busy": "2022-07-22T00:29:38.842546Z",
     "iopub.status.idle": "2022-07-22T00:29:39.170341Z",
     "shell.execute_reply": "2022-07-22T00:29:39.168632Z"
    },
    "papermill": {
     "duration": 0.374031,
     "end_time": "2022-07-22T00:29:39.173166",
     "exception": false,
     "start_time": "2022-07-22T00:29:38.799135",
     "status": "completed"
    },
    "tags": []
   },
   "outputs": [
    {
     "name": "stdout",
     "output_type": "stream",
     "text": [
      "랜덤 포레스트 회귀 RMSLE 값 : 0.1127\n"
     ]
    }
   ],
   "source": [
    "# 예측\n",
    "preds = gridsearch_random_forest_model.best_estimator_.predict(X_train)\n",
    "\n",
    "# 평가\n",
    "print(f'랜덤 포레스트 회귀 RMSLE 값 : {rmsle(log_y, preds, True):.4f}')"
   ]
  },
  {
   "cell_type": "markdown",
   "id": "68330870",
   "metadata": {
    "papermill": {
     "duration": 0.040319,
     "end_time": "2022-07-22T00:29:39.254964",
     "exception": false,
     "start_time": "2022-07-22T00:29:39.214645",
     "status": "completed"
    },
    "tags": []
   },
   "source": [
    "# 3.3.3 예측 및 결과 제출"
   ]
  },
  {
   "cell_type": "code",
   "execution_count": 54,
   "id": "f7f95ac4",
   "metadata": {
    "execution": {
     "iopub.execute_input": "2022-07-22T00:29:39.338434Z",
     "iopub.status.busy": "2022-07-22T00:29:39.338011Z",
     "iopub.status.idle": "2022-07-22T00:29:40.024128Z",
     "shell.execute_reply": "2022-07-22T00:29:40.023341Z"
    },
    "papermill": {
     "duration": 0.730243,
     "end_time": "2022-07-22T00:29:40.026350",
     "exception": false,
     "start_time": "2022-07-22T00:29:39.296107",
     "status": "completed"
    },
    "tags": []
   },
   "outputs": [
    {
     "data": {
      "image/png": "[encoded data removed]",
      "text/plain": [
       "<Figure size 720x288 with 2 Axes>"
      ]
     },
     "metadata": {
      "needs_background": "light"
     },
     "output_type": "display_data"
    }
   ],
   "source": [
    "import seaborn as sns\n",
    "import matplotlib.pyplot as plt\n",
    "\n",
    "randomforest_preds = gridsearch_random_forest_model.best_estimator_.predict(X_test)\n",
    "\n",
    "figure, axes = plt.subplots(ncols=2)\n",
    "figure.set_size_inches(10, 4)\n",
    "\n",
    "sns.histplot(y, bins=50, ax=axes[0])\n",
    "axes[0].set_title('Train Data Distribution')\n",
    "sns.histplot(np.exp(randomforest_preds), bins=50, ax=axes[1])\n",
    "axes[1].set_title('Predicted Test Data Distribution');"
   ]
  },
  {
   "cell_type": "code",
   "execution_count": 55,
   "id": "7bccb8ac",
   "metadata": {
    "execution": {
     "iopub.execute_input": "2022-07-22T00:29:40.109897Z",
     "iopub.status.busy": "2022-07-22T00:29:40.109001Z",
     "iopub.status.idle": "2022-07-22T00:29:40.141049Z",
     "shell.execute_reply": "2022-07-22T00:29:40.139785Z"
    },
    "papermill": {
     "duration": 0.076686,
     "end_time": "2022-07-22T00:29:40.143683",
     "exception": false,
     "start_time": "2022-07-22T00:29:40.066997",
     "status": "completed"
    },
    "tags": []
   },
   "outputs": [],
   "source": [
    "submission['count'] = np.exp(randomforest_preds) # 지수변환\n",
    "submission.to_csv('second_submission.csv', index=False)"
   ]
  },
  {
   "cell_type": "markdown",
   "id": "6557e25d",
   "metadata": {
    "papermill": {
     "duration": 0.040336,
     "end_time": "2022-07-22T00:29:40.224621",
     "exception": false,
     "start_time": "2022-07-22T00:29:40.184285",
     "status": "completed"
    },
    "tags": []
   },
   "source": [
    "참고자료\n",
    "\n",
    "https://velog.io/@leehye/%EB%A8%B8%EC%8B%A0%EB%9F%AC%EB%8B%9D-%EB%94%A5%EB%9F%AC%EB%8B%9D-%EB%AC%B8%EC%A0%9C%ED%95%B4%EA%B2%B0-%EC%A0%84%EB%9E%B5"
   ]
  }
 ],
 "metadata": {
  "kernelspec": {
   "display_name": "Python 3",
   "language": "python",
   "name": "python3"
  },
  "language_info": {
   "codemirror_mode": {
    "name": "ipython",
    "version": 3
   },
   "file_extension": ".py",
   "mimetype": "text/x-python",
   "name": "python",
   "nbconvert_exporter": "python",
   "pygments_lexer": "ipython3",
   "version": "3.7.12"
  },
  "papermill": {
   "default_parameters": {},
   "duration": 108.905385,
   "end_time": "2022-07-22T00:29:41.087828",
   "environment_variables": {},
   "exception": null,
   "input_path": "__notebook__.ipynb",
   "output_path": "__notebook__.ipynb",
   "parameters": {},
   "start_time": "2022-07-22T00:27:52.182443",
   "version": "2.3.4"
  }
 },
 "nbformat": 4,
 "nbformat_minor": 5
}

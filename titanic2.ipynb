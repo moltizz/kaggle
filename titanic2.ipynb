{
 "cells": [
  {
   "cell_type": "markdown",
   "id": "40e26b31",
   "metadata": {
    "papermill": {
     "duration": 0.027789,
     "end_time": "2022-07-09T03:40:45.924648",
     "exception": false,
     "start_time": "2022-07-09T03:40:45.896859",
     "status": "completed"
    },
    "tags": []
   },
   "source": [
    "# Contents\n",
    "3. Feature engineering\n",
    "* 3.1 Fill Null data\n",
    "    * 3.1.1 Fill Null in Age using title\n",
    "    * 3.1.2 Fill Null in Embarked\n",
    "* 3.2 Change Age (continuous to categorical)\n",
    "* 3.3 Change Initial, Embarked and Sex (string to numerical)\n",
    "* 3.4 One-hot encoding on Initial and Embarked\n",
    "* 3.5 Drop columns\n",
    "\n",
    "4. Building machine learinng model and predicition using te trained model\n",
    "* 4.1 Preaparation - Split dataset into train, valid and test set\n",
    "* 4.2 Model generation and prediction\n",
    "* 4.3 Feature importance\n",
    "\n",
    "5. Conclusion"
   ]
  },
  {
   "cell_type": "code",
   "execution_count": 1,
   "id": "b4f4f91f",
   "metadata": {
    "execution": {
     "iopub.execute_input": "2022-07-09T03:40:45.975402Z",
     "iopub.status.busy": "2022-07-09T03:40:45.974997Z",
     "iopub.status.idle": "2022-07-09T03:40:47.156955Z",
     "shell.execute_reply": "2022-07-09T03:40:47.155993Z"
    },
    "papermill": {
     "duration": 1.210067,
     "end_time": "2022-07-09T03:40:47.159474",
     "exception": false,
     "start_time": "2022-07-09T03:40:45.949407",
     "status": "completed"
    },
    "tags": []
   },
   "outputs": [
    {
     "data": {
      "text/html": [
       "        <script type=\"text/javascript\">\n",
       "        window.PlotlyConfig = {MathJaxConfig: 'local'};\n",
       "        if (window.MathJax && window.MathJax.Hub && window.MathJax.Hub.Config) {window.MathJax.Hub.Config({SVG: {font: \"STIX-Web\"}});}\n",
       "        if (typeof require !== 'undefined') {\n",
       "        require.undef(\"plotly\");\n",
       "        requirejs.config({\n",
       "            paths: {\n",
       "                'plotly': ['https://cdn.plot.ly/plotly-2.12.1.min']\n",
       "            }\n",
       "        });\n",
       "        require(['plotly'], function(Plotly) {\n",
       "            window._Plotly = Plotly;\n",
       "        });\n",
       "        }\n",
       "        </script>\n",
       "        "
      ]
     },
     "metadata": {},
     "output_type": "display_data"
    }
   ],
   "source": [
    "import numpy as np\n",
    "import pandas as pd\n",
    "from pandas import Series\n",
    "import matplotlib.pyplot as plt\n",
    "import seaborn as sns\n",
    "\n",
    "plt.style.use('seaborn')\n",
    "sns.set(font_scale=2.5)\n",
    "\n",
    "import plotly.offline as py\n",
    "py.init_notebook_mode(connected=True)\n",
    "import plotly.graph_objs as go\n",
    "import plotly.tools as tls\n",
    "\n",
    "import warnings\n",
    "warnings.filterwarnings('ignore')\n",
    "\n",
    "%matplotlib inline\n",
    "\n",
    "df_train = pd.read_csv('../input/titanic/train.csv')\n",
    "df_test = pd.read_csv('../input/titanic/test.csv')\n",
    "df_train['FamilySize'] = df_train['SibSp'] + df_train['Parch'] + 1\n",
    "df_test['FamilySize'] = df_test['SibSp'] + df_test['Parch'] + 1\n",
    "\n",
    "df_test.loc[df_test.Fare.isnull(), 'Fare'] = df_test['Fare'].mean()\n",
    "\n",
    "df_train['Fare'] = df_train['Fare'].map(lambda i: np.log(i) if i > 0 else 0)\n",
    "df_test['Fare'] = df_test['Fare'].map(lambda i : np.log(i) if i > 0 else 0)"
   ]
  },
  {
   "cell_type": "markdown",
   "id": "a00bfa9a",
   "metadata": {
    "papermill": {
     "duration": 0.024319,
     "end_time": "2022-07-09T03:40:47.208894",
     "exception": false,
     "start_time": "2022-07-09T03:40:47.184575",
     "status": "completed"
    },
    "tags": []
   },
   "source": [
    "> ### numpy\n",
    "Numpy(보통 \"넘파이\"라고 발음)는 수치 해석용 Python 패키지이다.\n",
    "다차원의 행렬 자료구조인 ndarray를 지원하여 벡터와 행렬을 사용하는 선형대수 계산에 주로 사용된다."
   ]
  },
  {
   "cell_type": "markdown",
   "id": "03ef87fe",
   "metadata": {
    "papermill": {
     "duration": 0.024389,
     "end_time": "2022-07-09T03:40:47.258140",
     "exception": false,
     "start_time": "2022-07-09T03:40:47.233751",
     "status": "completed"
    },
    "tags": []
   },
   "source": [
    "> ### pandas\n",
    "판다스(pandas)는 파이썬 언어로 작성된 데이터를 분석 및 조작하기 위한 소프트웨어 라이브러리"
   ]
  },
  {
   "cell_type": "markdown",
   "id": "76c3e46d",
   "metadata": {
    "papermill": {
     "duration": 0.024858,
     "end_time": "2022-07-09T03:40:47.307647",
     "exception": false,
     "start_time": "2022-07-09T03:40:47.282789",
     "status": "completed"
    },
    "tags": []
   },
   "source": [
    "> ### from 모듈 import 메소드/변수\n",
    "해당 모듈 내에 있는 특정 메소드나 모듈 내 정의된 변수를 가져온다.\n",
    "가져온 메소드나 변수를 앞에 모듈명을 붙이지 않고 그대로 사용할 수 있다.\n",
    "다만, 이름이 같은 변수나 메소드가 존재할 경우 대체된다.\n",
    ">- from 모듈 import * 는 ipmort 모듈 과 동일하다."
   ]
  },
  {
   "cell_type": "markdown",
   "id": "d36bece1",
   "metadata": {
    "papermill": {
     "duration": 0.024686,
     "end_time": "2022-07-09T03:40:47.357338",
     "exception": false,
     "start_time": "2022-07-09T03:40:47.332652",
     "status": "completed"
    },
    "tags": []
   },
   "source": [
    "> ### plotly\n",
    "Python으로 시각화를 할 수 있는 무료 오픈소스 그래프 라이브러리"
   ]
  },
  {
   "cell_type": "markdown",
   "id": "35e8b3a9",
   "metadata": {
    "papermill": {
     "duration": 0.025298,
     "end_time": "2022-07-09T03:40:47.408370",
     "exception": false,
     "start_time": "2022-07-09T03:40:47.383072",
     "status": "completed"
    },
    "tags": []
   },
   "source": [
    "> ### seaborn.set()\n",
    "seaborn 플롯의 테마 및 구성을 제어하는데 사용"
   ]
  },
  {
   "cell_type": "markdown",
   "id": "e29a8f1f",
   "metadata": {
    "papermill": {
     "duration": 0.02477,
     "end_time": "2022-07-09T03:40:47.457895",
     "exception": false,
     "start_time": "2022-07-09T03:40:47.433125",
     "status": "completed"
    },
    "tags": []
   },
   "source": [
    "# 3. Feature engineering\n",
    "* 본격적인 feature engineering을 시작해보겠습니다.\n",
    "* 가장 먼저, dataset에 존재하는 null data를 채우려고 합니다.\n",
    "* 아무 숫자로 채울 수는 없고, null data를 포함하는 feature의 statistics를 참고하거나, 다른 아이디어를 짜내어 채울 수 있습니다.\n",
    "* null data를 어떻게 채우느냐에 따라 모델의 성능이 좌지우지될 수 있기 때문에, 신경써줘야할 부분입니다.\n",
    "* Feature engineering은 실제 모델의 학습에 쓰려고 하는 것이므로, train뿐만 아니라 test도 똑같이 적용해주어야 합니다. 잊지맙시다."
   ]
  },
  {
   "cell_type": "markdown",
   "id": "b184d747",
   "metadata": {
    "papermill": {
     "duration": 0.02459,
     "end_time": "2022-07-09T03:40:47.507463",
     "exception": false,
     "start_time": "2022-07-09T03:40:47.482873",
     "status": "completed"
    },
    "tags": []
   },
   "source": [
    "# 3.1 Fill Null"
   ]
  },
  {
   "cell_type": "markdown",
   "id": "d6715ed0",
   "metadata": {
    "papermill": {
     "duration": 0.026024,
     "end_time": "2022-07-09T03:40:47.558185",
     "exception": false,
     "start_time": "2022-07-09T03:40:47.532161",
     "status": "completed"
    },
    "tags": []
   },
   "source": [
    "# 3.1.1 Fill Null in Age using title"
   ]
  },
  {
   "cell_type": "markdown",
   "id": "8f5b3bb7",
   "metadata": {
    "papermill": {
     "duration": 0.02451,
     "end_time": "2022-07-09T03:40:47.607523",
     "exception": false,
     "start_time": "2022-07-09T03:40:47.583013",
     "status": "completed"
    },
    "tags": []
   },
   "source": [
    "* Age에는 null data가 177개나 있습니다. 이를 채울 수 있는 여러 아이디어가 있을 것인데, 여기서 우리는 title + statistics를 사용해 보겠습니다.\n",
    "* 영어에서는 Miss, Mrr, Mrs 같은 title이 존재합니다. 각 탑승객의 이름에는 꼭 이런 title이 들어가게 되는데 이를 사용해보겠습니다.\n",
    "* pandas series에는 data를 string으로 바꿔주는 str method, 거기에는 정규표현식을 적용하게 해주는 extract mothod가 있습니다. 이를 사용하여 title을 쉽게 추출할 수 있습니다. title을 Initial column에 저장하겠습니다."
   ]
  },
  {
   "cell_type": "code",
   "execution_count": 2,
   "id": "8bf21af1",
   "metadata": {
    "execution": {
     "iopub.execute_input": "2022-07-09T03:40:47.659566Z",
     "iopub.status.busy": "2022-07-09T03:40:47.658907Z",
     "iopub.status.idle": "2022-07-09T03:40:47.670163Z",
     "shell.execute_reply": "2022-07-09T03:40:47.669462Z"
    },
    "papermill": {
     "duration": 0.039531,
     "end_time": "2022-07-09T03:40:47.672140",
     "exception": false,
     "start_time": "2022-07-09T03:40:47.632609",
     "status": "completed"
    },
    "tags": []
   },
   "outputs": [],
   "source": [
    "df_train['Initial'] = df_train.Name.str.extract('([A-Za-z]+)\\.')\n",
    "df_test['Initial'] = df_test.Name.str.extract('([A-Za-z]+)\\.')"
   ]
  },
  {
   "cell_type": "markdown",
   "id": "d5a91ac7",
   "metadata": {
    "papermill": {
     "duration": 0.024051,
     "end_time": "2022-07-09T03:40:47.720895",
     "exception": false,
     "start_time": "2022-07-09T03:40:47.696844",
     "status": "completed"
    },
    "tags": []
   },
   "source": [
    "* pandas의 crosstab을 이용하여 우리가 추출한 Initial과 Sex간의 count를 살펴봅시다."
   ]
  },
  {
   "cell_type": "markdown",
   "id": "0a2c86a5",
   "metadata": {
    "papermill": {
     "duration": 0.024824,
     "end_time": "2022-07-09T03:40:47.770264",
     "exception": false,
     "start_time": "2022-07-09T03:40:47.745440",
     "status": "completed"
    },
    "tags": []
   },
   "source": [
    "> ### extract()\n",
    "배열 속의 키값을 변수화 시켜주는 함수"
   ]
  },
  {
   "cell_type": "code",
   "execution_count": 3,
   "id": "362ca20b",
   "metadata": {
    "execution": {
     "iopub.execute_input": "2022-07-09T03:40:47.822754Z",
     "iopub.status.busy": "2022-07-09T03:40:47.822049Z",
     "iopub.status.idle": "2022-07-09T03:40:47.942741Z",
     "shell.execute_reply": "2022-07-09T03:40:47.940508Z"
    },
    "papermill": {
     "duration": 0.150748,
     "end_time": "2022-07-09T03:40:47.945499",
     "exception": false,
     "start_time": "2022-07-09T03:40:47.794751",
     "status": "completed"
    },
    "tags": []
   },
   "outputs": [
    {
     "data": {
      "text/html": [
       "<style type=\"text/css\">\n",
       "#T_f98cc_row0_col0, #T_f98cc_row0_col1, #T_f98cc_row0_col3, #T_f98cc_row0_col4, #T_f98cc_row0_col5, #T_f98cc_row0_col7, #T_f98cc_row0_col8, #T_f98cc_row0_col12, #T_f98cc_row0_col15, #T_f98cc_row0_col16, #T_f98cc_row1_col2, #T_f98cc_row1_col6, #T_f98cc_row1_col9, #T_f98cc_row1_col10, #T_f98cc_row1_col11, #T_f98cc_row1_col13, #T_f98cc_row1_col14 {\n",
       "  background-color: #ffff66;\n",
       "  color: #000000;\n",
       "}\n",
       "#T_f98cc_row0_col2, #T_f98cc_row0_col6, #T_f98cc_row0_col9, #T_f98cc_row0_col10, #T_f98cc_row0_col11, #T_f98cc_row0_col13, #T_f98cc_row0_col14, #T_f98cc_row1_col0, #T_f98cc_row1_col1, #T_f98cc_row1_col3, #T_f98cc_row1_col4, #T_f98cc_row1_col5, #T_f98cc_row1_col7, #T_f98cc_row1_col8, #T_f98cc_row1_col12, #T_f98cc_row1_col15, #T_f98cc_row1_col16 {\n",
       "  background-color: #008066;\n",
       "  color: #f1f1f1;\n",
       "}\n",
       "</style>\n",
       "<table id=\"T_f98cc_\">\n",
       "  <thead>\n",
       "    <tr>\n",
       "      <th class=\"index_name level0\" >Initial</th>\n",
       "      <th class=\"col_heading level0 col0\" >Capt</th>\n",
       "      <th class=\"col_heading level0 col1\" >Col</th>\n",
       "      <th class=\"col_heading level0 col2\" >Countess</th>\n",
       "      <th class=\"col_heading level0 col3\" >Don</th>\n",
       "      <th class=\"col_heading level0 col4\" >Dr</th>\n",
       "      <th class=\"col_heading level0 col5\" >Jonkheer</th>\n",
       "      <th class=\"col_heading level0 col6\" >Lady</th>\n",
       "      <th class=\"col_heading level0 col7\" >Major</th>\n",
       "      <th class=\"col_heading level0 col8\" >Master</th>\n",
       "      <th class=\"col_heading level0 col9\" >Miss</th>\n",
       "      <th class=\"col_heading level0 col10\" >Mlle</th>\n",
       "      <th class=\"col_heading level0 col11\" >Mme</th>\n",
       "      <th class=\"col_heading level0 col12\" >Mr</th>\n",
       "      <th class=\"col_heading level0 col13\" >Mrs</th>\n",
       "      <th class=\"col_heading level0 col14\" >Ms</th>\n",
       "      <th class=\"col_heading level0 col15\" >Rev</th>\n",
       "      <th class=\"col_heading level0 col16\" >Sir</th>\n",
       "    </tr>\n",
       "    <tr>\n",
       "      <th class=\"index_name level0\" >Sex</th>\n",
       "      <th class=\"blank col0\" >&nbsp;</th>\n",
       "      <th class=\"blank col1\" >&nbsp;</th>\n",
       "      <th class=\"blank col2\" >&nbsp;</th>\n",
       "      <th class=\"blank col3\" >&nbsp;</th>\n",
       "      <th class=\"blank col4\" >&nbsp;</th>\n",
       "      <th class=\"blank col5\" >&nbsp;</th>\n",
       "      <th class=\"blank col6\" >&nbsp;</th>\n",
       "      <th class=\"blank col7\" >&nbsp;</th>\n",
       "      <th class=\"blank col8\" >&nbsp;</th>\n",
       "      <th class=\"blank col9\" >&nbsp;</th>\n",
       "      <th class=\"blank col10\" >&nbsp;</th>\n",
       "      <th class=\"blank col11\" >&nbsp;</th>\n",
       "      <th class=\"blank col12\" >&nbsp;</th>\n",
       "      <th class=\"blank col13\" >&nbsp;</th>\n",
       "      <th class=\"blank col14\" >&nbsp;</th>\n",
       "      <th class=\"blank col15\" >&nbsp;</th>\n",
       "      <th class=\"blank col16\" >&nbsp;</th>\n",
       "    </tr>\n",
       "  </thead>\n",
       "  <tbody>\n",
       "    <tr>\n",
       "      <th id=\"T_f98cc_level0_row0\" class=\"row_heading level0 row0\" >female</th>\n",
       "      <td id=\"T_f98cc_row0_col0\" class=\"data row0 col0\" >0</td>\n",
       "      <td id=\"T_f98cc_row0_col1\" class=\"data row0 col1\" >0</td>\n",
       "      <td id=\"T_f98cc_row0_col2\" class=\"data row0 col2\" >1</td>\n",
       "      <td id=\"T_f98cc_row0_col3\" class=\"data row0 col3\" >0</td>\n",
       "      <td id=\"T_f98cc_row0_col4\" class=\"data row0 col4\" >1</td>\n",
       "      <td id=\"T_f98cc_row0_col5\" class=\"data row0 col5\" >0</td>\n",
       "      <td id=\"T_f98cc_row0_col6\" class=\"data row0 col6\" >1</td>\n",
       "      <td id=\"T_f98cc_row0_col7\" class=\"data row0 col7\" >0</td>\n",
       "      <td id=\"T_f98cc_row0_col8\" class=\"data row0 col8\" >0</td>\n",
       "      <td id=\"T_f98cc_row0_col9\" class=\"data row0 col9\" >182</td>\n",
       "      <td id=\"T_f98cc_row0_col10\" class=\"data row0 col10\" >2</td>\n",
       "      <td id=\"T_f98cc_row0_col11\" class=\"data row0 col11\" >1</td>\n",
       "      <td id=\"T_f98cc_row0_col12\" class=\"data row0 col12\" >0</td>\n",
       "      <td id=\"T_f98cc_row0_col13\" class=\"data row0 col13\" >125</td>\n",
       "      <td id=\"T_f98cc_row0_col14\" class=\"data row0 col14\" >1</td>\n",
       "      <td id=\"T_f98cc_row0_col15\" class=\"data row0 col15\" >0</td>\n",
       "      <td id=\"T_f98cc_row0_col16\" class=\"data row0 col16\" >0</td>\n",
       "    </tr>\n",
       "    <tr>\n",
       "      <th id=\"T_f98cc_level0_row1\" class=\"row_heading level0 row1\" >male</th>\n",
       "      <td id=\"T_f98cc_row1_col0\" class=\"data row1 col0\" >1</td>\n",
       "      <td id=\"T_f98cc_row1_col1\" class=\"data row1 col1\" >2</td>\n",
       "      <td id=\"T_f98cc_row1_col2\" class=\"data row1 col2\" >0</td>\n",
       "      <td id=\"T_f98cc_row1_col3\" class=\"data row1 col3\" >1</td>\n",
       "      <td id=\"T_f98cc_row1_col4\" class=\"data row1 col4\" >6</td>\n",
       "      <td id=\"T_f98cc_row1_col5\" class=\"data row1 col5\" >1</td>\n",
       "      <td id=\"T_f98cc_row1_col6\" class=\"data row1 col6\" >0</td>\n",
       "      <td id=\"T_f98cc_row1_col7\" class=\"data row1 col7\" >2</td>\n",
       "      <td id=\"T_f98cc_row1_col8\" class=\"data row1 col8\" >40</td>\n",
       "      <td id=\"T_f98cc_row1_col9\" class=\"data row1 col9\" >0</td>\n",
       "      <td id=\"T_f98cc_row1_col10\" class=\"data row1 col10\" >0</td>\n",
       "      <td id=\"T_f98cc_row1_col11\" class=\"data row1 col11\" >0</td>\n",
       "      <td id=\"T_f98cc_row1_col12\" class=\"data row1 col12\" >517</td>\n",
       "      <td id=\"T_f98cc_row1_col13\" class=\"data row1 col13\" >0</td>\n",
       "      <td id=\"T_f98cc_row1_col14\" class=\"data row1 col14\" >0</td>\n",
       "      <td id=\"T_f98cc_row1_col15\" class=\"data row1 col15\" >6</td>\n",
       "      <td id=\"T_f98cc_row1_col16\" class=\"data row1 col16\" >1</td>\n",
       "    </tr>\n",
       "  </tbody>\n",
       "</table>\n"
      ],
      "text/plain": [
       "<pandas.io.formats.style.Styler at 0x7f7be0025510>"
      ]
     },
     "execution_count": 3,
     "metadata": {},
     "output_type": "execute_result"
    }
   ],
   "source": [
    "pd.crosstab(df_train['Initial'], df_train['Sex']).T.style.background_gradient(cmap='summer_r')"
   ]
  },
  {
   "cell_type": "markdown",
   "id": "e39753da",
   "metadata": {
    "papermill": {
     "duration": 0.024871,
     "end_time": "2022-07-09T03:40:47.995499",
     "exception": false,
     "start_time": "2022-07-09T03:40:47.970628",
     "status": "completed"
    },
    "tags": []
   },
   "source": [
    "* 위 table을 참고하여, 남자, 여자가 쓰는 initial을 구분해 보겠습니다. replace 메소드를 사용하면, 특정 데이터값을 원하는 값으로 치환해줍니다."
   ]
  },
  {
   "cell_type": "code",
   "execution_count": 4,
   "id": "e2837803",
   "metadata": {
    "execution": {
     "iopub.execute_input": "2022-07-09T03:40:48.047631Z",
     "iopub.status.busy": "2022-07-09T03:40:48.046938Z",
     "iopub.status.idle": "2022-07-09T03:40:48.058125Z",
     "shell.execute_reply": "2022-07-09T03:40:48.057365Z"
    },
    "papermill": {
     "duration": 0.039625,
     "end_time": "2022-07-09T03:40:48.060004",
     "exception": false,
     "start_time": "2022-07-09T03:40:48.020379",
     "status": "completed"
    },
    "tags": []
   },
   "outputs": [],
   "source": [
    "df_train['Initial'].replace(['Mlle','Mme','Ms','Dr','Major','Lady','Countess','Jonkheer','Col','Rev','Capt','Sir','Don','Dona'],['Miss', 'Miss', 'Miss','Mr','Mr','Mrs','Mrs','Other','Other','Other','Mr','Mr','Mr','Mr'],inplace=True)\n",
    "df_test['Initial'].replace(['Mlle','Mme','Ms','Dr','Major','Lady','Countess','Jonkheer','Col','Rev','Capt','Sir','Don','Dona'],['Miss','Miss','Miss','Mr','Mr','Mrs','Mrs','Other','Other','Other','Mr','Mr','Mr','Mr'],inplace=True)\n"
   ]
  },
  {
   "cell_type": "markdown",
   "id": "aa66d55f",
   "metadata": {
    "papermill": {
     "duration": 0.025165,
     "end_time": "2022-07-09T03:40:48.110732",
     "exception": false,
     "start_time": "2022-07-09T03:40:48.085567",
     "status": "completed"
    },
    "tags": []
   },
   "source": [
    "> ### replace()\n",
    "문자열을 변경하는 함수"
   ]
  },
  {
   "cell_type": "code",
   "execution_count": 5,
   "id": "b843de6f",
   "metadata": {
    "execution": {
     "iopub.execute_input": "2022-07-09T03:40:48.162292Z",
     "iopub.status.busy": "2022-07-09T03:40:48.161586Z",
     "iopub.status.idle": "2022-07-09T03:40:48.184795Z",
     "shell.execute_reply": "2022-07-09T03:40:48.183883Z"
    },
    "papermill": {
     "duration": 0.051482,
     "end_time": "2022-07-09T03:40:48.186925",
     "exception": false,
     "start_time": "2022-07-09T03:40:48.135443",
     "status": "completed"
    },
    "tags": []
   },
   "outputs": [
    {
     "data": {
      "text/html": [
       "<div>\n",
       "<style scoped>\n",
       "    .dataframe tbody tr th:only-of-type {\n",
       "        vertical-align: middle;\n",
       "    }\n",
       "\n",
       "    .dataframe tbody tr th {\n",
       "        vertical-align: top;\n",
       "    }\n",
       "\n",
       "    .dataframe thead th {\n",
       "        text-align: right;\n",
       "    }\n",
       "</style>\n",
       "<table border=\"1\" class=\"dataframe\">\n",
       "  <thead>\n",
       "    <tr style=\"text-align: right;\">\n",
       "      <th></th>\n",
       "      <th>PassengerId</th>\n",
       "      <th>Survived</th>\n",
       "      <th>Pclass</th>\n",
       "      <th>Age</th>\n",
       "      <th>SibSp</th>\n",
       "      <th>Parch</th>\n",
       "      <th>Fare</th>\n",
       "      <th>FamilySize</th>\n",
       "    </tr>\n",
       "    <tr>\n",
       "      <th>Initial</th>\n",
       "      <th></th>\n",
       "      <th></th>\n",
       "      <th></th>\n",
       "      <th></th>\n",
       "      <th></th>\n",
       "      <th></th>\n",
       "      <th></th>\n",
       "      <th></th>\n",
       "    </tr>\n",
       "  </thead>\n",
       "  <tbody>\n",
       "    <tr>\n",
       "      <th>Master</th>\n",
       "      <td>414.975000</td>\n",
       "      <td>0.575000</td>\n",
       "      <td>2.625000</td>\n",
       "      <td>4.574167</td>\n",
       "      <td>2.300000</td>\n",
       "      <td>1.375000</td>\n",
       "      <td>3.340710</td>\n",
       "      <td>4.675000</td>\n",
       "    </tr>\n",
       "    <tr>\n",
       "      <th>Miss</th>\n",
       "      <td>411.741935</td>\n",
       "      <td>0.704301</td>\n",
       "      <td>2.284946</td>\n",
       "      <td>21.860000</td>\n",
       "      <td>0.698925</td>\n",
       "      <td>0.537634</td>\n",
       "      <td>3.123713</td>\n",
       "      <td>2.236559</td>\n",
       "    </tr>\n",
       "    <tr>\n",
       "      <th>Mr</th>\n",
       "      <td>455.880907</td>\n",
       "      <td>0.162571</td>\n",
       "      <td>2.381853</td>\n",
       "      <td>32.739609</td>\n",
       "      <td>0.293006</td>\n",
       "      <td>0.151229</td>\n",
       "      <td>2.651507</td>\n",
       "      <td>1.444234</td>\n",
       "    </tr>\n",
       "    <tr>\n",
       "      <th>Mrs</th>\n",
       "      <td>456.393701</td>\n",
       "      <td>0.795276</td>\n",
       "      <td>1.984252</td>\n",
       "      <td>35.981818</td>\n",
       "      <td>0.692913</td>\n",
       "      <td>0.818898</td>\n",
       "      <td>3.443751</td>\n",
       "      <td>2.511811</td>\n",
       "    </tr>\n",
       "    <tr>\n",
       "      <th>Other</th>\n",
       "      <td>564.444444</td>\n",
       "      <td>0.111111</td>\n",
       "      <td>1.666667</td>\n",
       "      <td>45.888889</td>\n",
       "      <td>0.111111</td>\n",
       "      <td>0.111111</td>\n",
       "      <td>2.641605</td>\n",
       "      <td>1.222222</td>\n",
       "    </tr>\n",
       "  </tbody>\n",
       "</table>\n",
       "</div>"
      ],
      "text/plain": [
       "         PassengerId  Survived    Pclass        Age     SibSp     Parch  \\\n",
       "Initial                                                                   \n",
       "Master    414.975000  0.575000  2.625000   4.574167  2.300000  1.375000   \n",
       "Miss      411.741935  0.704301  2.284946  21.860000  0.698925  0.537634   \n",
       "Mr        455.880907  0.162571  2.381853  32.739609  0.293006  0.151229   \n",
       "Mrs       456.393701  0.795276  1.984252  35.981818  0.692913  0.818898   \n",
       "Other     564.444444  0.111111  1.666667  45.888889  0.111111  0.111111   \n",
       "\n",
       "             Fare  FamilySize  \n",
       "Initial                        \n",
       "Master   3.340710    4.675000  \n",
       "Miss     3.123713    2.236559  \n",
       "Mr       2.651507    1.444234  \n",
       "Mrs      3.443751    2.511811  \n",
       "Other    2.641605    1.222222  "
      ]
     },
     "execution_count": 5,
     "metadata": {},
     "output_type": "execute_result"
    }
   ],
   "source": [
    "df_train.groupby('Initial').mean()"
   ]
  },
  {
   "cell_type": "markdown",
   "id": "a31920af",
   "metadata": {
    "papermill": {
     "duration": 0.024875,
     "end_time": "2022-07-09T03:40:48.236951",
     "exception": false,
     "start_time": "2022-07-09T03:40:48.212076",
     "status": "completed"
    },
    "tags": []
   },
   "source": [
    "* 여성과 관계있는 Miss, Mr, Mrs 가 생존률이 높은 것이 볼 수 있습니다."
   ]
  },
  {
   "cell_type": "markdown",
   "id": "63af42bf",
   "metadata": {
    "papermill": {
     "duration": 0.024582,
     "end_time": "2022-07-09T03:40:48.286494",
     "exception": false,
     "start_time": "2022-07-09T03:40:48.261912",
     "status": "completed"
    },
    "tags": []
   },
   "source": [
    "> ### groupby\n",
    ">- 같은 값을 하나로 묶어 통계 또는 집계 결과를 얻기 위해 사용하는 것\n",
    ">- 조건부로 집계하고 싶은 경우 활용\n",
    ">- 평균값을 구해주는 메서드로 **mean**을 사용"
   ]
  },
  {
   "cell_type": "code",
   "execution_count": 6,
   "id": "dfe5f216",
   "metadata": {
    "execution": {
     "iopub.execute_input": "2022-07-09T03:40:48.337926Z",
     "iopub.status.busy": "2022-07-09T03:40:48.337247Z",
     "iopub.status.idle": "2022-07-09T03:40:48.566736Z",
     "shell.execute_reply": "2022-07-09T03:40:48.565549Z"
    },
    "papermill": {
     "duration": 0.257762,
     "end_time": "2022-07-09T03:40:48.568947",
     "exception": false,
     "start_time": "2022-07-09T03:40:48.311185",
     "status": "completed"
    },
    "tags": []
   },
   "outputs": [
    {
     "data": {
      "text/plain": [
       "<AxesSubplot:xlabel='Initial'>"
      ]
     },
     "execution_count": 6,
     "metadata": {},
     "output_type": "execute_result"
    },
    {
     "data": {
      "image/png": "[encoded data removed]",
      "text/plain": [
       "<Figure size 432x288 with 1 Axes>"
      ]
     },
     "metadata": {
      "needs_background": "light"
     },
     "output_type": "display_data"
    }
   ],
   "source": [
    "df_train.groupby('Initial')['Survived'].mean().plot.bar()"
   ]
  },
  {
   "cell_type": "markdown",
   "id": "a6451f5c",
   "metadata": {
    "papermill": {
     "duration": 0.025121,
     "end_time": "2022-07-09T03:40:48.620234",
     "exception": false,
     "start_time": "2022-07-09T03:40:48.595113",
     "status": "completed"
    },
    "tags": []
   },
   "source": [
    "* 이제 본격적으로 Null을 채울 것입니다. null data를 채우는 방법은 정말 많이 존재합니다. statistics를 활용하는 방법은 정말 많이 존재합니다. statistics를 활용하는 방법도 있고, null data가 없는 데이터를 기반으로 새로운 머신러닝 알고리즘을 만들어 예측해서 채워넣는 방식도 있습니ㅏㄷ. 여기서는 statistics를 활용하는 방법을 사용할 것입니다.\n",
    "* 여기서 statistics는 train data의 것을 의미합니다. 우리는 언제나 test를 unseen으로 둔 상태로 나둬야 하며, train에서 얻은 statistics를 기반으로 test의 null data를 채워줘야 합니다."
   ]
  },
  {
   "cell_type": "code",
   "execution_count": 7,
   "id": "95aca1dd",
   "metadata": {
    "execution": {
     "iopub.execute_input": "2022-07-09T03:40:48.673332Z",
     "iopub.status.busy": "2022-07-09T03:40:48.672926Z",
     "iopub.status.idle": "2022-07-09T03:40:48.691611Z",
     "shell.execute_reply": "2022-07-09T03:40:48.690720Z"
    },
    "papermill": {
     "duration": 0.047526,
     "end_time": "2022-07-09T03:40:48.693759",
     "exception": false,
     "start_time": "2022-07-09T03:40:48.646233",
     "status": "completed"
    },
    "tags": []
   },
   "outputs": [
    {
     "data": {
      "text/html": [
       "<div>\n",
       "<style scoped>\n",
       "    .dataframe tbody tr th:only-of-type {\n",
       "        vertical-align: middle;\n",
       "    }\n",
       "\n",
       "    .dataframe tbody tr th {\n",
       "        vertical-align: top;\n",
       "    }\n",
       "\n",
       "    .dataframe thead th {\n",
       "        text-align: right;\n",
       "    }\n",
       "</style>\n",
       "<table border=\"1\" class=\"dataframe\">\n",
       "  <thead>\n",
       "    <tr style=\"text-align: right;\">\n",
       "      <th></th>\n",
       "      <th>PassengerId</th>\n",
       "      <th>Survived</th>\n",
       "      <th>Pclass</th>\n",
       "      <th>Age</th>\n",
       "      <th>SibSp</th>\n",
       "      <th>Parch</th>\n",
       "      <th>Fare</th>\n",
       "      <th>FamilySize</th>\n",
       "    </tr>\n",
       "    <tr>\n",
       "      <th>Initial</th>\n",
       "      <th></th>\n",
       "      <th></th>\n",
       "      <th></th>\n",
       "      <th></th>\n",
       "      <th></th>\n",
       "      <th></th>\n",
       "      <th></th>\n",
       "      <th></th>\n",
       "    </tr>\n",
       "  </thead>\n",
       "  <tbody>\n",
       "    <tr>\n",
       "      <th>Master</th>\n",
       "      <td>414.975000</td>\n",
       "      <td>0.575000</td>\n",
       "      <td>2.625000</td>\n",
       "      <td>4.574167</td>\n",
       "      <td>2.300000</td>\n",
       "      <td>1.375000</td>\n",
       "      <td>3.340710</td>\n",
       "      <td>4.675000</td>\n",
       "    </tr>\n",
       "    <tr>\n",
       "      <th>Miss</th>\n",
       "      <td>411.741935</td>\n",
       "      <td>0.704301</td>\n",
       "      <td>2.284946</td>\n",
       "      <td>21.860000</td>\n",
       "      <td>0.698925</td>\n",
       "      <td>0.537634</td>\n",
       "      <td>3.123713</td>\n",
       "      <td>2.236559</td>\n",
       "    </tr>\n",
       "    <tr>\n",
       "      <th>Mr</th>\n",
       "      <td>455.880907</td>\n",
       "      <td>0.162571</td>\n",
       "      <td>2.381853</td>\n",
       "      <td>32.739609</td>\n",
       "      <td>0.293006</td>\n",
       "      <td>0.151229</td>\n",
       "      <td>2.651507</td>\n",
       "      <td>1.444234</td>\n",
       "    </tr>\n",
       "    <tr>\n",
       "      <th>Mrs</th>\n",
       "      <td>456.393701</td>\n",
       "      <td>0.795276</td>\n",
       "      <td>1.984252</td>\n",
       "      <td>35.981818</td>\n",
       "      <td>0.692913</td>\n",
       "      <td>0.818898</td>\n",
       "      <td>3.443751</td>\n",
       "      <td>2.511811</td>\n",
       "    </tr>\n",
       "    <tr>\n",
       "      <th>Other</th>\n",
       "      <td>564.444444</td>\n",
       "      <td>0.111111</td>\n",
       "      <td>1.666667</td>\n",
       "      <td>45.888889</td>\n",
       "      <td>0.111111</td>\n",
       "      <td>0.111111</td>\n",
       "      <td>2.641605</td>\n",
       "      <td>1.222222</td>\n",
       "    </tr>\n",
       "  </tbody>\n",
       "</table>\n",
       "</div>"
      ],
      "text/plain": [
       "         PassengerId  Survived    Pclass        Age     SibSp     Parch  \\\n",
       "Initial                                                                   \n",
       "Master    414.975000  0.575000  2.625000   4.574167  2.300000  1.375000   \n",
       "Miss      411.741935  0.704301  2.284946  21.860000  0.698925  0.537634   \n",
       "Mr        455.880907  0.162571  2.381853  32.739609  0.293006  0.151229   \n",
       "Mrs       456.393701  0.795276  1.984252  35.981818  0.692913  0.818898   \n",
       "Other     564.444444  0.111111  1.666667  45.888889  0.111111  0.111111   \n",
       "\n",
       "             Fare  FamilySize  \n",
       "Initial                        \n",
       "Master   3.340710    4.675000  \n",
       "Miss     3.123713    2.236559  \n",
       "Mr       2.651507    1.444234  \n",
       "Mrs      3.443751    2.511811  \n",
       "Other    2.641605    1.222222  "
      ]
     },
     "execution_count": 7,
     "metadata": {},
     "output_type": "execute_result"
    }
   ],
   "source": [
    "df_train.groupby('Initial').mean()"
   ]
  },
  {
   "cell_type": "markdown",
   "id": "e2fa2f52",
   "metadata": {
    "papermill": {
     "duration": 0.025325,
     "end_time": "2022-07-09T03:40:48.744906",
     "exception": false,
     "start_time": "2022-07-09T03:40:48.719581",
     "status": "completed"
    },
    "tags": []
   },
   "source": [
    "* Age의 평균을 이용해 Null value를 채우도록 하겠습니다.\n",
    "* pandas dataframe을 다룰 때에는 boolean array를 이용해 indexing 하는 방법이 참으로 편리합니다.\n",
    "* 아래 코드 첫줄을 해석하자면, isnull()이면서 intial이 Mr인 조건을 만족하는 row(탑승객)의 'Age'의 값을 33으로 치환한다 입니다.\n",
    "* loc + boolean + column을 사용해 값을 치환하는 방법은 자주 쓰이므로 꼭 익숙해집시다."
   ]
  },
  {
   "cell_type": "code",
   "execution_count": 8,
   "id": "4355f91d",
   "metadata": {
    "execution": {
     "iopub.execute_input": "2022-07-09T03:40:48.799839Z",
     "iopub.status.busy": "2022-07-09T03:40:48.799096Z",
     "iopub.status.idle": "2022-07-09T03:40:48.818826Z",
     "shell.execute_reply": "2022-07-09T03:40:48.818101Z"
    },
    "papermill": {
     "duration": 0.049701,
     "end_time": "2022-07-09T03:40:48.821040",
     "exception": false,
     "start_time": "2022-07-09T03:40:48.771339",
     "status": "completed"
    },
    "tags": []
   },
   "outputs": [],
   "source": [
    "df_train.loc[(df_train.Age.isnull())&(df_train.Initial=='Mr'),'Age'] = 33\n",
    "df_train.loc[(df_train.Age.isnull())&(df_train.Initial=='Mrs'),'Age'] = 36\n",
    "df_train.loc[(df_train.Age.isnull())&(df_train.Initial=='Master'),'Age'] = 5\n",
    "df_train.loc[(df_train.Age.isnull())&(df_train.Initial=='Miss'),'Age'] = 22\n",
    "df_train.loc[(df_train.Age.isnull())&(df_train.Initial=='Other'),'Age'] = 46\n",
    "\n",
    "df_test.loc[(df_test.Age.isnull())&(df_test.Initial=='Mr'),'Age'] = 33\n",
    "df_test.loc[(df_test.Age.isnull())&(df_test.Initial=='Mrs'),'Age'] = 36\n",
    "df_test.loc[(df_test.Age.isnull())&(df_test.Initial=='Master'),'Age'] = 5\n",
    "df_test.loc[(df_test.Age.isnull())&(df_test.Initial=='Miss'),'Age'] = 22\n",
    "df_test.loc[(df_test.Age.isnull())&(df_test.Initial=='Other'),'Age'] = 46"
   ]
  },
  {
   "cell_type": "markdown",
   "id": "07d927f7",
   "metadata": {
    "papermill": {
     "duration": 0.026013,
     "end_time": "2022-07-09T03:40:48.872890",
     "exception": false,
     "start_time": "2022-07-09T03:40:48.846877",
     "status": "completed"
    },
    "tags": []
   },
   "source": [
    "* 여기서 간단하게 Null을 채웠지만, 좀 더 다양한 방법을 쓴 예시들이 다른 커널에 존재합니다.\n",
    "* https://www.kaggle.com/yassineghouzam/titanic-top-4-with-ensemble-modeling 보시면서 공부해보세요!\n",
    "* 이 외에도 다른 캐글러들의 커널을 보며 여러 참신한 아이디어를 살펴보세요!"
   ]
  },
  {
   "cell_type": "markdown",
   "id": "0fe29ffd",
   "metadata": {
    "papermill": {
     "duration": 0.02579,
     "end_time": "2022-07-09T03:40:48.925021",
     "exception": false,
     "start_time": "2022-07-09T03:40:48.899231",
     "status": "completed"
    },
    "tags": []
   },
   "source": [
    "> ### isnull()\n",
    "각 원소의 Nan 값 여부가 표시된다"
   ]
  },
  {
   "cell_type": "markdown",
   "id": "4954f8e7",
   "metadata": {
    "papermill": {
     "duration": 0.026018,
     "end_time": "2022-07-09T03:40:48.976892",
     "exception": false,
     "start_time": "2022-07-09T03:40:48.950874",
     "status": "completed"
    },
    "tags": []
   },
   "source": [
    "# 3.1.2 Fill Null in Embarked"
   ]
  },
  {
   "cell_type": "code",
   "execution_count": 9,
   "id": "df769515",
   "metadata": {
    "execution": {
     "iopub.execute_input": "2022-07-09T03:40:49.031186Z",
     "iopub.status.busy": "2022-07-09T03:40:49.030386Z",
     "iopub.status.idle": "2022-07-09T03:40:49.037807Z",
     "shell.execute_reply": "2022-07-09T03:40:49.036488Z"
    },
    "papermill": {
     "duration": 0.037643,
     "end_time": "2022-07-09T03:40:49.040535",
     "exception": false,
     "start_time": "2022-07-09T03:40:49.002892",
     "status": "completed"
    },
    "tags": []
   },
   "outputs": [
    {
     "name": "stdout",
     "output_type": "stream",
     "text": [
      "Embarked has 2 Null values\n"
     ]
    }
   ],
   "source": [
    "print('Embarked has',sum(df_train['Embarked'].isnull()),'Null values')"
   ]
  },
  {
   "cell_type": "markdown",
   "id": "434b2859",
   "metadata": {
    "papermill": {
     "duration": 0.026283,
     "end_time": "2022-07-09T03:40:49.093535",
     "exception": false,
     "start_time": "2022-07-09T03:40:49.067252",
     "status": "completed"
    },
    "tags": []
   },
   "source": [
    "* Embarked는 Null value가 2개이고, S에서 가장 많은 탑승객이 있었으므로, 간단하게 Null을 S로 채우겠습니다.\n",
    "* dataframe의 fillna method를 이용하면 쉽게 채울 수 있습니다. 여기서 inplace=True로 하면 df_train에 fillna를 실제로 적용하게 됩니다."
   ]
  },
  {
   "cell_type": "code",
   "execution_count": 10,
   "id": "a503a2b4",
   "metadata": {
    "execution": {
     "iopub.execute_input": "2022-07-09T03:40:49.147770Z",
     "iopub.status.busy": "2022-07-09T03:40:49.147368Z",
     "iopub.status.idle": "2022-07-09T03:40:49.153586Z",
     "shell.execute_reply": "2022-07-09T03:40:49.152610Z"
    },
    "papermill": {
     "duration": 0.035861,
     "end_time": "2022-07-09T03:40:49.155814",
     "exception": false,
     "start_time": "2022-07-09T03:40:49.119953",
     "status": "completed"
    },
    "tags": []
   },
   "outputs": [],
   "source": [
    "df_train['Embarked'].fillna('S',inplace=True)"
   ]
  },
  {
   "cell_type": "markdown",
   "id": "244c38b8",
   "metadata": {
    "papermill": {
     "duration": 0.025576,
     "end_time": "2022-07-09T03:40:49.207731",
     "exception": false,
     "start_time": "2022-07-09T03:40:49.182155",
     "status": "completed"
    },
    "tags": []
   },
   "source": [
    "> ### fillna()\n",
    "DataFrame에서 결측값을 원하는 값으로 변경하는 메서드\n",
    "결측값: 지정한 데이터 값을 사용자 결측값으로 정의"
   ]
  },
  {
   "cell_type": "markdown",
   "id": "440ecfaf",
   "metadata": {
    "papermill": {
     "duration": 0.02575,
     "end_time": "2022-07-09T03:40:49.259349",
     "exception": false,
     "start_time": "2022-07-09T03:40:49.233599",
     "status": "completed"
    },
    "tags": []
   },
   "source": [
    "> ### inplace = True/False\n",
    ">- True → 명령어를 실행 한 후 메소드가 적용된 데이터 프레임으로 반환 한다. 즉, 삭제 메소드를 실행했다면 반환값은 컬럼이 삭제된 Dataframe이 된다.\n",
    ">- False → 명령어를 실행 한 후 메소드가 적용된 데이터 프레임을 기존 데이터 프레임으로 대체하겠다는 뜻"
   ]
  },
  {
   "cell_type": "markdown",
   "id": "28d099c3",
   "metadata": {
    "papermill": {
     "duration": 0.025251,
     "end_time": "2022-07-09T03:40:49.310199",
     "exception": false,
     "start_time": "2022-07-09T03:40:49.284948",
     "status": "completed"
    },
    "tags": []
   },
   "source": [
    "# 3.2 Change Age(continuous to categorical)"
   ]
  },
  {
   "cell_type": "markdown",
   "id": "91816ae9",
   "metadata": {
    "papermill": {
     "duration": 0.025988,
     "end_time": "2022-07-09T03:40:49.362082",
     "exception": false,
     "start_time": "2022-07-09T03:40:49.336094",
     "status": "completed"
    },
    "tags": []
   },
   "source": [
    "* Age는 현재 continuous feature 입니다. 이대로 써도 모델을 세울 수 있지만, Age를 몇 개의 group으로 나누어 category 화 시켜줄 수도 있습닏. continuous를 categorical로 바꾸면 자칫 information loss가 생길 수도 있습니다만, 본 튜토리얼에서는 다양한 방법을 소개하는 것이 목적이므로 진행하도록 하겠습니다.\n",
    "\n",
    "* 방법은 여러가지가 있습니다. dataframe의 indexing 방법인 loc를 사용하여 직접해줄 수 있고, 아니면apply를 사용해 함수를 넣어줄 수 있습니다.\n",
    "* 첫번째로 loc를 사용한 방법입니다. loc는 자주 쓰게 되므로 그 사용법을 숙지하시면 좋습니ㅏㄷ.\n",
    "* 나이는 10살 간격으로 나누겠습니다."
   ]
  },
  {
   "cell_type": "code",
   "execution_count": 11,
   "id": "134b244f",
   "metadata": {
    "execution": {
     "iopub.execute_input": "2022-07-09T03:40:49.416316Z",
     "iopub.status.busy": "2022-07-09T03:40:49.415570Z",
     "iopub.status.idle": "2022-07-09T03:40:49.442180Z",
     "shell.execute_reply": "2022-07-09T03:40:49.441328Z"
    },
    "papermill": {
     "duration": 0.056411,
     "end_time": "2022-07-09T03:40:49.444510",
     "exception": false,
     "start_time": "2022-07-09T03:40:49.388099",
     "status": "completed"
    },
    "tags": []
   },
   "outputs": [],
   "source": [
    "df_train['Age_cat'] = 0\n",
    "df_train.loc[df_train['Age'] < 10, 'Age_cat'] = 0\n",
    "df_train.loc[(10 <= df_train['Age']) & (df_train['Age'] < 20), 'Age_cat'] = 1\n",
    "df_train.loc[(20 <= df_train['Age']) & (df_train['Age'] < 30), 'Age_cat'] = 2\n",
    "df_train.loc[(30 <= df_train['Age']) & (df_train['Age'] < 40), 'Age_cat'] = 3\n",
    "df_train.loc[(40 <= df_train['Age']) & (df_train['Age'] < 50), 'Age_cat'] = 4\n",
    "df_train.loc[(50 <= df_train['Age']) & (df_train['Age'] < 60), 'Age_cat'] = 5\n",
    "df_train.loc[(60 <= df_train['Age']) & (df_train['Age'] < 70), 'Age_cat'] = 6\n",
    "df_train.loc[70 <= df_train['Age'], 'Age_cat'] = 7\n",
    "              \n",
    "df_test['Age_cat'] = 0\n",
    "df_test.loc[df_test['Age'] < 10, 'Age_cat'] = 0\n",
    "df_test.loc[(10 <= df_test['Age']) & (df_test['Age'] < 20), 'Age_cat'] = 1\n",
    "df_test.loc[(20 <= df_test['Age']) & (df_test['Age'] < 30), 'Age_cat'] = 2\n",
    "df_test.loc[(30 <= df_test['Age']) & (df_test['Age'] < 40), 'Age_cat'] = 3\n",
    "df_test.loc[(40 <= df_test['Age']) & (df_test['Age'] < 50), 'Age_cat'] = 4\n",
    "df_test.loc[(50 <= df_test['Age']) & (df_test['Age'] < 60), 'Age_cat'] = 5\n",
    "df_test.loc[(60 <= df_test['Age']) & (df_test['Age'] < 70), 'Age_cat'] = 6\n",
    "df_test.loc[70 <= df_test['Age'], 'Age_cat'] = 7"
   ]
  },
  {
   "cell_type": "markdown",
   "id": "31ea5c2e",
   "metadata": {
    "papermill": {
     "duration": 0.02571,
     "end_time": "2022-07-09T03:40:49.496424",
     "exception": false,
     "start_time": "2022-07-09T03:40:49.470714",
     "status": "completed"
    },
    "tags": []
   },
   "source": [
    "> ### loc[ ]\n",
    "행 또는 열의 데이터를 조회한다.\n",
    "loc의 첫번째는 행에 대한 정보, 두번째는 열에 대한 정보를 입력한다."
   ]
  },
  {
   "cell_type": "markdown",
   "id": "293b2a1b",
   "metadata": {
    "papermill": {
     "duration": 0.025569,
     "end_time": "2022-07-09T03:40:49.547723",
     "exception": false,
     "start_time": "2022-07-09T03:40:49.522154",
     "status": "completed"
    },
    "tags": []
   },
   "source": [
    "* 두번째로 간단한 함수를 만들어 apply 메소드에 넣어주는 방법입니다.\n",
    "* 훨씬 수월합니다."
   ]
  },
  {
   "cell_type": "code",
   "execution_count": 12,
   "id": "909c0a16",
   "metadata": {
    "execution": {
     "iopub.execute_input": "2022-07-09T03:40:49.601458Z",
     "iopub.status.busy": "2022-07-09T03:40:49.600404Z",
     "iopub.status.idle": "2022-07-09T03:40:49.609676Z",
     "shell.execute_reply": "2022-07-09T03:40:49.608846Z"
    },
    "papermill": {
     "duration": 0.038216,
     "end_time": "2022-07-09T03:40:49.611865",
     "exception": false,
     "start_time": "2022-07-09T03:40:49.573649",
     "status": "completed"
    },
    "tags": []
   },
   "outputs": [],
   "source": [
    "def category_age(x):\n",
    "    if x < 10:\n",
    "        return 0\n",
    "    elif x < 20:\n",
    "        return 1\n",
    "    elif x < 30:\n",
    "        return 2\n",
    "    elif x < 40:\n",
    "        return 3\n",
    "    elif x < 50:\n",
    "        return 4\n",
    "    elif x < 60:\n",
    "        return 5\n",
    "    elif x < 70:\n",
    "        return 6\n",
    "    else:\n",
    "        return 7\n",
    "    \n",
    "df_train['Age_cat_2'] = df_train['Age'].apply(category_age)"
   ]
  },
  {
   "cell_type": "markdown",
   "id": "a1961467",
   "metadata": {
    "papermill": {
     "duration": 0.025819,
     "end_time": "2022-07-09T03:40:49.663938",
     "exception": false,
     "start_time": "2022-07-09T03:40:49.638119",
     "status": "completed"
    },
    "tags": []
   },
   "source": [
    "> ### apply() 메서드\n",
    "주어진 this값과 배열(또는 유사 배열 객체)로 제공되는 arguments로 함수를 호출한다."
   ]
  },
  {
   "cell_type": "markdown",
   "id": "4e0b7a43",
   "metadata": {
    "papermill": {
     "duration": 0.025811,
     "end_time": "2022-07-09T03:40:49.715844",
     "exception": false,
     "start_time": "2022-07-09T03:40:49.690033",
     "status": "completed"
    },
    "tags": []
   },
   "source": [
    "* 두가지 방법이 잘 적용됐다면, 둘다 같은 결과를 내야 합니다.\n",
    "* 이를 확인하기 위해 Series간 boolean 비교 후 all() 메소드를 사용합시다. all() 메소드는 모든 값이 True면 True, 하나라도 False가 있으면 False를 줍니다."
   ]
  },
  {
   "cell_type": "code",
   "execution_count": 13,
   "id": "5f03ab1b",
   "metadata": {
    "execution": {
     "iopub.execute_input": "2022-07-09T03:40:49.768982Z",
     "iopub.status.busy": "2022-07-09T03:40:49.768221Z",
     "iopub.status.idle": "2022-07-09T03:40:49.775567Z",
     "shell.execute_reply": "2022-07-09T03:40:49.774374Z"
    },
    "papermill": {
     "duration": 0.036134,
     "end_time": "2022-07-09T03:40:49.777614",
     "exception": false,
     "start_time": "2022-07-09T03:40:49.741480",
     "status": "completed"
    },
    "tags": []
   },
   "outputs": [
    {
     "name": "stdout",
     "output_type": "stream",
     "text": [
      "1번 방법, 2번 방법 둘다 같은 결과를 내면 True 줘야함 ->  True\n"
     ]
    }
   ],
   "source": [
    "print('1번 방법, 2번 방법 둘다 같은 결과를 내면 True 줘야함 -> ', (df_train['Age_cat'] == df_train['Age_cat_2']).all())"
   ]
  },
  {
   "cell_type": "markdown",
   "id": "f2abf33e",
   "metadata": {
    "papermill": {
     "duration": 0.026192,
     "end_time": "2022-07-09T03:40:49.830241",
     "exception": false,
     "start_time": "2022-07-09T03:40:49.804049",
     "status": "completed"
    },
    "tags": []
   },
   "source": [
    ">### all()\n",
    ">- arguments로 iterable한 객체를 받는다.\n",
    ">- 모두 True 여야 True 반환"
   ]
  },
  {
   "cell_type": "markdown",
   "id": "af37e41c",
   "metadata": {
    "papermill": {
     "duration": 0.026004,
     "end_time": "2022-07-09T03:40:49.882475",
     "exception": false,
     "start_time": "2022-07-09T03:40:49.856471",
     "status": "completed"
    },
    "tags": []
   },
   "source": [
    "* 보시다시피 True 입니다. 둘 중 편한 걸 선택하시면 됩니다.\n",
    "* 이제 중복되는 Age_cat 컬럼과 원래 컬럼 Age를 제거하겠습니다."
   ]
  },
  {
   "cell_type": "code",
   "execution_count": 14,
   "id": "8b55c98e",
   "metadata": {
    "execution": {
     "iopub.execute_input": "2022-07-09T03:40:49.936001Z",
     "iopub.status.busy": "2022-07-09T03:40:49.935348Z",
     "iopub.status.idle": "2022-07-09T03:40:49.942087Z",
     "shell.execute_reply": "2022-07-09T03:40:49.941319Z"
    },
    "papermill": {
     "duration": 0.035589,
     "end_time": "2022-07-09T03:40:49.943908",
     "exception": false,
     "start_time": "2022-07-09T03:40:49.908319",
     "status": "completed"
    },
    "tags": []
   },
   "outputs": [],
   "source": [
    "df_train.drop(['Age','Age_cat_2'],axis = 1, inplace = True)\n",
    "df_test.drop(['Age'], axis = 1, inplace = True)"
   ]
  },
  {
   "cell_type": "markdown",
   "id": "c713374b",
   "metadata": {
    "papermill": {
     "duration": 0.026302,
     "end_time": "2022-07-09T03:40:49.996766",
     "exception": false,
     "start_time": "2022-07-09T03:40:49.970464",
     "status": "completed"
    },
    "tags": []
   },
   "source": [
    "> ### drop() 메소드\n",
    "데이터프레임의 행 또는 열을 삭제하는 명령\n",
    "단, 기존 객체를 변경하지 않고 새로운 객체를 반환하는 점에 유의한다.\n",
    "따라서 원본 객체를 직접 변경하기 위해서는 inplace=True 옵션을 추가하던지 df=df.drop() 처럼 반환된 객체를 기존 변수에 저장하여 대체해준다.\n",
    ">```\n",
    ">행 삭제 : DataFrame 객체.drop('행 인덱스' 또는 ['배열'], axis=0)\n",
    ">열 삭제 : DataFrame 객체.drop('열 이름' 또는 ['배열'], axis=1)\n",
    ">```"
   ]
  },
  {
   "cell_type": "markdown",
   "id": "b08accfb",
   "metadata": {
    "papermill": {
     "duration": 0.025932,
     "end_time": "2022-07-09T03:40:50.048578",
     "exception": false,
     "start_time": "2022-07-09T03:40:50.022646",
     "status": "completed"
    },
    "tags": []
   },
   "source": [
    "# 3.3 Changing Initial, Embarked and Sex (string to numerical)"
   ]
  },
  {
   "cell_type": "markdown",
   "id": "531b5538",
   "metadata": {
    "papermill": {
     "duration": 0.025204,
     "end_time": "2022-07-09T03:40:50.099451",
     "exception": false,
     "start_time": "2022-07-09T03:40:50.074247",
     "status": "completed"
    },
    "tags": []
   },
   "source": [
    "* 현재 Initial은 Mr, Mrs, Miss, Master, Other 총 5개로 이루어져 있습니다. 이런 카테고리는 표현되어져 있는 데이터를 모델에 인풋으로 넣어줄 때 우리가 해야할 것은 먼저 컴퓨터가 인식할 수 있도록 수치화시켜야 합니다.\n",
    "* map method를 가지고 간단히 할 수 있습니다.\n",
    "* 사전 순서대로 정리하여 mapping 하겠습니다."
   ]
  },
  {
   "cell_type": "code",
   "execution_count": 15,
   "id": "6f10263c",
   "metadata": {
    "execution": {
     "iopub.execute_input": "2022-07-09T03:40:50.153454Z",
     "iopub.status.busy": "2022-07-09T03:40:50.152743Z",
     "iopub.status.idle": "2022-07-09T03:40:50.160557Z",
     "shell.execute_reply": "2022-07-09T03:40:50.159761Z"
    },
    "papermill": {
     "duration": 0.037501,
     "end_time": "2022-07-09T03:40:50.162788",
     "exception": false,
     "start_time": "2022-07-09T03:40:50.125287",
     "status": "completed"
    },
    "tags": []
   },
   "outputs": [],
   "source": [
    "df_train['Initial'] = df_train['Initial'].map({'Master': 0, 'Miss': 1, 'Mr': 2, 'Mrs': 3, 'Other': 4})\n",
    "df_test['Initial'] = df_test['Initial'].map({'Master': 0, 'Miss': 1, 'Mr': 2, 'Mrs': 3, 'Other': 4})"
   ]
  },
  {
   "cell_type": "markdown",
   "id": "8b975c5e",
   "metadata": {
    "papermill": {
     "duration": 0.024808,
     "end_time": "2022-07-09T03:40:50.213544",
     "exception": false,
     "start_time": "2022-07-09T03:40:50.188736",
     "status": "completed"
    },
    "tags": []
   },
   "source": [
    "* Embarked 도 C, Q, S로 이루어져 있습니다. map을 이용해 바꿔봅시다.\n",
    "* 그러기 앞서서, 특정 column에 어떤 값들이 있는지 확인해보는 방법을 잠깐 살펴보겠습니다. 간단히 unique() 메소드를 쓰거나, value_counts()를 써서 count까지 보는 방법이 있습니다."
   ]
  },
  {
   "cell_type": "code",
   "execution_count": 16,
   "id": "4a28efad",
   "metadata": {
    "execution": {
     "iopub.execute_input": "2022-07-09T03:40:50.266989Z",
     "iopub.status.busy": "2022-07-09T03:40:50.266238Z",
     "iopub.status.idle": "2022-07-09T03:40:50.273457Z",
     "shell.execute_reply": "2022-07-09T03:40:50.272458Z"
    },
    "papermill": {
     "duration": 0.036061,
     "end_time": "2022-07-09T03:40:50.275562",
     "exception": false,
     "start_time": "2022-07-09T03:40:50.239501",
     "status": "completed"
    },
    "tags": []
   },
   "outputs": [
    {
     "data": {
      "text/plain": [
       "array(['S', 'C', 'Q'], dtype=object)"
      ]
     },
     "execution_count": 16,
     "metadata": {},
     "output_type": "execute_result"
    }
   ],
   "source": [
    "df_train['Embarked'].unique()"
   ]
  },
  {
   "cell_type": "markdown",
   "id": "2a3453ec",
   "metadata": {
    "papermill": {
     "duration": 0.025936,
     "end_time": "2022-07-09T03:40:50.328132",
     "exception": false,
     "start_time": "2022-07-09T03:40:50.302196",
     "status": "completed"
    },
    "tags": []
   },
   "source": [
    "> ### unique()\n",
    "데이터에 고유값들이 어떠한 종류들이 있는지 알고 싶을때 사용하는 함수"
   ]
  },
  {
   "cell_type": "code",
   "execution_count": 17,
   "id": "b12d09ac",
   "metadata": {
    "execution": {
     "iopub.execute_input": "2022-07-09T03:40:50.383100Z",
     "iopub.status.busy": "2022-07-09T03:40:50.382725Z",
     "iopub.status.idle": "2022-07-09T03:40:50.391025Z",
     "shell.execute_reply": "2022-07-09T03:40:50.390023Z"
    },
    "papermill": {
     "duration": 0.038063,
     "end_time": "2022-07-09T03:40:50.393011",
     "exception": false,
     "start_time": "2022-07-09T03:40:50.354948",
     "status": "completed"
    },
    "tags": []
   },
   "outputs": [
    {
     "data": {
      "text/plain": [
       "S    646\n",
       "C    168\n",
       "Q     77\n",
       "Name: Embarked, dtype: int64"
      ]
     },
     "execution_count": 17,
     "metadata": {},
     "output_type": "execute_result"
    }
   ],
   "source": [
    "df_train['Embarked'].value_counts()"
   ]
  },
  {
   "cell_type": "markdown",
   "id": "bae1ea21",
   "metadata": {
    "papermill": {
     "duration": 0.02607,
     "end_time": "2022-07-09T03:40:50.446065",
     "exception": false,
     "start_time": "2022-07-09T03:40:50.419995",
     "status": "completed"
    },
    "tags": []
   },
   "source": [
    "* 위 두 방법을 사용해 Embarked가 S, C, Q 세가지로 이루어진 것을 볼 수 있습니다. 이제 map을 사용해봅시다."
   ]
  },
  {
   "cell_type": "markdown",
   "id": "21769ec0",
   "metadata": {
    "papermill": {
     "duration": 0.026158,
     "end_time": "2022-07-09T03:40:50.498598",
     "exception": false,
     "start_time": "2022-07-09T03:40:50.472440",
     "status": "completed"
    },
    "tags": []
   },
   "source": [
    "> ### value_counts()\n",
    "값별로 데이터의 수를 출력해주는 함수"
   ]
  },
  {
   "cell_type": "code",
   "execution_count": 18,
   "id": "81854f76",
   "metadata": {
    "execution": {
     "iopub.execute_input": "2022-07-09T03:40:50.552769Z",
     "iopub.status.busy": "2022-07-09T03:40:50.552403Z",
     "iopub.status.idle": "2022-07-09T03:40:50.560676Z",
     "shell.execute_reply": "2022-07-09T03:40:50.559714Z"
    },
    "papermill": {
     "duration": 0.038221,
     "end_time": "2022-07-09T03:40:50.562810",
     "exception": false,
     "start_time": "2022-07-09T03:40:50.524589",
     "status": "completed"
    },
    "tags": []
   },
   "outputs": [],
   "source": [
    "df_train['Embarked'] = df_train['Embarked'].map({'C': 0, 'Q': 1, 'S': 2})\n",
    "df_test['Embarked'] = df_test['Embarked'].map({'C': 0, 'Q': 1, 'S': 2})"
   ]
  },
  {
   "cell_type": "markdown",
   "id": "eb4d115e",
   "metadata": {
    "papermill": {
     "duration": 0.026719,
     "end_time": "2022-07-09T03:40:50.616806",
     "exception": false,
     "start_time": "2022-07-09T03:40:50.590087",
     "status": "completed"
    },
    "tags": []
   },
   "source": [
    "* 한번 Null이 사라졌는지 확인해봅시다. Embarked Column만 가져온 것은 하나의 pandas의 Series 객체므로, isnull() 메소드를 사용해 Series의 값들이 null인지 아닌지에 대한 boolean 값을 얻을 수 있습니다. 그리고 이것에 any()를 사용하여, True가 단 하나라도 있을 시 (Null이 한개라도 있을 시) True를 반환해주게 됩니다. 우리는 Null을 S로 다 바꾸어주었으므로 False를 얻게 됩니다."
   ]
  },
  {
   "cell_type": "code",
   "execution_count": 19,
   "id": "c3cc0364",
   "metadata": {
    "execution": {
     "iopub.execute_input": "2022-07-09T03:40:50.671618Z",
     "iopub.status.busy": "2022-07-09T03:40:50.671219Z",
     "iopub.status.idle": "2022-07-09T03:40:50.678744Z",
     "shell.execute_reply": "2022-07-09T03:40:50.677599Z"
    },
    "papermill": {
     "duration": 0.037357,
     "end_time": "2022-07-09T03:40:50.680910",
     "exception": false,
     "start_time": "2022-07-09T03:40:50.643553",
     "status": "completed"
    },
    "tags": []
   },
   "outputs": [
    {
     "data": {
      "text/plain": [
       "False"
      ]
     },
     "execution_count": 19,
     "metadata": {},
     "output_type": "execute_result"
    }
   ],
   "source": [
    "df_train['Embarked'].isnull().any()"
   ]
  },
  {
   "cell_type": "markdown",
   "id": "e446b083",
   "metadata": {
    "papermill": {
     "duration": 0.026339,
     "end_time": "2022-07-09T03:40:50.733877",
     "exception": false,
     "start_time": "2022-07-09T03:40:50.707538",
     "status": "completed"
    },
    "tags": []
   },
   "source": [
    "* Sex도 Female, male로 이루어져 있습니다. map을 이용해 바꿔줍시다."
   ]
  },
  {
   "cell_type": "markdown",
   "id": "881ef4ba",
   "metadata": {
    "papermill": {
     "duration": 0.025992,
     "end_time": "2022-07-09T03:40:50.786601",
     "exception": false,
     "start_time": "2022-07-09T03:40:50.760609",
     "status": "completed"
    },
    "tags": []
   },
   "source": [
    "> ### any(iterable)함수\n",
    ">- 인자로 받은 반복가능한 자료형(iterable) 중 단 하나라도 참(True)이 있으면 참(True)를 반환하는 함수\n",
    ">- 모든 요소가 거짓(False)인 경우에만 거짓(False)을 반환한다.\n",
    ">- or의 특징을 가진 함수"
   ]
  },
  {
   "cell_type": "code",
   "execution_count": 20,
   "id": "0420df4a",
   "metadata": {
    "execution": {
     "iopub.execute_input": "2022-07-09T03:40:50.841505Z",
     "iopub.status.busy": "2022-07-09T03:40:50.841126Z",
     "iopub.status.idle": "2022-07-09T03:40:50.848868Z",
     "shell.execute_reply": "2022-07-09T03:40:50.847788Z"
    },
    "papermill": {
     "duration": 0.038229,
     "end_time": "2022-07-09T03:40:50.850979",
     "exception": false,
     "start_time": "2022-07-09T03:40:50.812750",
     "status": "completed"
    },
    "tags": []
   },
   "outputs": [],
   "source": [
    "df_train['Sex'] = df_train['Sex'].map({'female': 0, 'male': 1})\n",
    "df_test['Sex'] = df_test['Sex'].map({'female': 0, 'male': 1})"
   ]
  },
  {
   "cell_type": "markdown",
   "id": "d8f436fd",
   "metadata": {
    "papermill": {
     "duration": 0.025957,
     "end_time": "2022-07-09T03:40:50.903475",
     "exception": false,
     "start_time": "2022-07-09T03:40:50.877518",
     "status": "completed"
    },
    "tags": []
   },
   "source": [
    "* 여지껏 고생하셨습니다. 이제 각 feature간의 상관관계를 한번 보려고 합니다. 두 변수간의 Pearson correlation을 구하면 (-1, 1) 사이의 값을 얻을 수 있습니다. -1로 갈수록 음의 상관관계, 1로 갈수록 양의 상관관계를 의미하며, 0은 상관관계가 없다는 것을 의미합니다. 구하는 수식은 아래와 같습니다."
   ]
  },
  {
   "attachments": {
    "bcacbb6d-e487-404e-80e1-6977ea2be5fc.png": {
     "image/png": "[encoded data removed]"
    }
   },
   "cell_type": "markdown",
   "id": "6aa420e6",
   "metadata": {
    "papermill": {
     "duration": 0.026478,
     "end_time": "2022-07-09T03:40:50.955881",
     "exception": false,
     "start_time": "2022-07-09T03:40:50.929403",
     "status": "completed"
    },
    "tags": []
   },
   "source": [
    "![image.png](attachment:bcacbb6d-e487-404e-80e1-6977ea2be5fc.png)"
   ]
  },
  {
   "cell_type": "markdown",
   "id": "ce6fd2f8",
   "metadata": {
    "papermill": {
     "duration": 0.02624,
     "end_time": "2022-07-09T03:40:51.008314",
     "exception": false,
     "start_time": "2022-07-09T03:40:50.982074",
     "status": "completed"
    },
    "tags": []
   },
   "source": [
    "* 우리는 여러 feature를 가지고 있으니 이를 하나의 maxtrix 형태로 보면 편할텐데, 이를 heatmap plot이라고 하며, dataframe의 corr() 메소드와 seaborn을 가지고 편하게 그릴 수 있습니다."
   ]
  },
  {
   "cell_type": "code",
   "execution_count": 21,
   "id": "3f4a409e",
   "metadata": {
    "execution": {
     "iopub.execute_input": "2022-07-09T03:40:51.063603Z",
     "iopub.status.busy": "2022-07-09T03:40:51.063170Z",
     "iopub.status.idle": "2022-07-09T03:40:51.652824Z",
     "shell.execute_reply": "2022-07-09T03:40:51.651966Z"
    },
    "papermill": {
     "duration": 0.620397,
     "end_time": "2022-07-09T03:40:51.655609",
     "exception": false,
     "start_time": "2022-07-09T03:40:51.035212",
     "status": "completed"
    },
    "tags": []
   },
   "outputs": [
    {
     "data": {
      "image/png": "[encoded data removed]",
      "text/plain": [
       "<Figure size 1008x864 with 2 Axes>"
      ]
     },
     "metadata": {
      "needs_background": "light"
     },
     "output_type": "display_data"
    }
   ],
   "source": [
    "heatmap_data = df_train[['Survived', 'Pclass', 'Sex', 'Fare', 'Embarked', 'FamilySize', 'Initial', 'Age_cat']]\n",
    "\n",
    "colormap = plt.cm.RdBu\n",
    "plt.figure(figsize=(14,12))\n",
    "plt.title('Pearson Correlation of Features', y = 1.05, size = 15)\n",
    "sns.heatmap(heatmap_data.astype(float).corr(),linewidths = 0.1, vmax = 1.0, square = True, cmap = colormap, linecolor = 'white', annot = True, annot_kws = {\"size\": 16})\n",
    "\n",
    "del heatmap_data"
   ]
  },
  {
   "cell_type": "markdown",
   "id": "4c703c88",
   "metadata": {
    "papermill": {
     "duration": 0.028466,
     "end_time": "2022-07-09T03:40:51.713664",
     "exception": false,
     "start_time": "2022-07-09T03:40:51.685198",
     "status": "completed"
    },
    "tags": []
   },
   "source": [
    "* 우리가 EDA에서 살펴봤듯이, Sex와 Pclass가 Survived에 상관관계가 어느 정도 있음을 볼 수 있습니다.\n",
    "* 생각보다 fare와 Embarked도 상관관계가 있음을 볼 수 있습니다.\n",
    "* 또한 우리가 여기서 얻을 수 있는 정보는 서로 강한 상관관계를 가지는 feature들이 없다는 것입니다.\n",
    "* 이것은 우리가 모델을 학습시킬 때, 불필요한(redundant, superfluous) feature가 없다는 것을 의미합니다. 1 또는 -1의 상관관계를 가진 feature A, B가 있다면, 우리가 얻을 수 있는 정보는 사실 하나일 거니까요.\n",
    "* 이제 실제로 모델을 학습시키기 앞서서 data proprocessing(전처리)을 진행해보겠습니다. 거의 다 와갑니다 힘냅시다!"
   ]
  },
  {
   "cell_type": "markdown",
   "id": "6469be6a",
   "metadata": {
    "papermill": {
     "duration": 0.027879,
     "end_time": "2022-07-09T03:40:51.770153",
     "exception": false,
     "start_time": "2022-07-09T03:40:51.742274",
     "status": "completed"
    },
    "tags": []
   },
   "source": [
    "> ### RdBu\n",
    "양의 상관관계가 높을수록 진한 파란색, 음의 상관관계가 높을수록 진한 빨간색"
   ]
  },
  {
   "cell_type": "markdown",
   "id": "f1ca3d83",
   "metadata": {
    "papermill": {
     "duration": 0.02843,
     "end_time": "2022-07-09T03:40:51.827269",
     "exception": false,
     "start_time": "2022-07-09T03:40:51.798839",
     "status": "completed"
    },
    "tags": []
   },
   "source": [
    "> ### heatmap\n",
    ">- 열을 의미하는 heat와 지도를 뜻하는 map을 합친 단어\n",
    ">- 데이터들의 배열을 색상으로 표현해주는 그래프"
   ]
  },
  {
   "cell_type": "markdown",
   "id": "e5398414",
   "metadata": {
    "papermill": {
     "duration": 0.028653,
     "end_time": "2022-07-09T03:40:51.884477",
     "exception": false,
     "start_time": "2022-07-09T03:40:51.855824",
     "status": "completed"
    },
    "tags": []
   },
   "source": [
    "> ### linewidths\n",
    "선의 두께"
   ]
  },
  {
   "cell_type": "markdown",
   "id": "9f055d4d",
   "metadata": {
    "papermill": {
     "duration": 0.02821,
     "end_time": "2022-07-09T03:40:51.941028",
     "exception": false,
     "start_time": "2022-07-09T03:40:51.912818",
     "status": "completed"
    },
    "tags": []
   },
   "source": [
    "# 3.4 One-hot encoding on Initial and Embarked"
   ]
  },
  {
   "cell_type": "markdown",
   "id": "6efe1b63",
   "metadata": {
    "papermill": {
     "duration": 0.028184,
     "end_time": "2022-07-09T03:40:51.997821",
     "exception": false,
     "start_time": "2022-07-09T03:40:51.969637",
     "status": "completed"
    },
    "tags": []
   },
   "source": [
    "* 수치화시킨 카테고리 데이터를 그대로 넣어도 되지만, 모델의 성능을 높이기 위해 one-hot encoding을 해줄 수 있습니다.\n",
    "* 수치화는 간단히 Master == 0, Miss == 1, Mr == 2, Mrs == 3,Other == 4로 매핑해주는 것을 말합니다.\n",
    "* One-hot encoding은 위 카테고리를 아래와 같이 (0, 1)로 이루어진 5차원의 벡터로 나타내는 것을 말합니다."
   ]
  },
  {
   "attachments": {
    "1490cc81-da38-440e-873d-8838f91cc34d.png": {
     "image/png": "[encoded data removed]"
    }
   },
   "cell_type": "markdown",
   "id": "8d3e11e0",
   "metadata": {
    "papermill": {
     "duration": 0.028483,
     "end_time": "2022-07-09T03:40:52.055232",
     "exception": false,
     "start_time": "2022-07-09T03:40:52.026749",
     "status": "completed"
    },
    "tags": []
   },
   "source": [
    "![image.png](attachment:1490cc81-da38-440e-873d-8838f91cc34d.png)"
   ]
  },
  {
   "cell_type": "markdown",
   "id": "6d919faf",
   "metadata": {
    "papermill": {
     "duration": 0.028177,
     "end_time": "2022-07-09T03:40:52.112861",
     "exception": false,
     "start_time": "2022-07-09T03:40:52.084684",
     "status": "completed"
    },
    "tags": []
   },
   "source": [
    "* 위와 같은 작업을 직접 코딩할 수도 있지만, pandas의 get_dummies를 사용하여 쉽게 해결할 수 있습니다.\n",
    "* 총 5개의 카테고리니, one-hot encoding을 하고 나면 새로운 5개의 column이 생겨납니다.\n",
    "* Initial을 prefix로 두어서 구분이 쉽게 만들어 줍니다."
   ]
  },
  {
   "cell_type": "code",
   "execution_count": 22,
   "id": "d857a116",
   "metadata": {
    "execution": {
     "iopub.execute_input": "2022-07-09T03:40:52.171874Z",
     "iopub.status.busy": "2022-07-09T03:40:52.171084Z",
     "iopub.status.idle": "2022-07-09T03:40:52.184270Z",
     "shell.execute_reply": "2022-07-09T03:40:52.183471Z"
    },
    "papermill": {
     "duration": 0.045112,
     "end_time": "2022-07-09T03:40:52.186438",
     "exception": false,
     "start_time": "2022-07-09T03:40:52.141326",
     "status": "completed"
    },
    "tags": []
   },
   "outputs": [],
   "source": [
    "df_train = pd.get_dummies(df_train, columns = ['Initial'], prefix = 'Initial')\n",
    "df_test = pd.get_dummies(df_test, columns = ['Initial'], prefix = 'Initial')"
   ]
  },
  {
   "cell_type": "markdown",
   "id": "0e1744e4",
   "metadata": {
    "papermill": {
     "duration": 0.02796,
     "end_time": "2022-07-09T03:40:52.242969",
     "exception": false,
     "start_time": "2022-07-09T03:40:52.215009",
     "status": "completed"
    },
    "tags": []
   },
   "source": [
    "> ### prefix\n",
    "접두사"
   ]
  },
  {
   "cell_type": "code",
   "execution_count": 23,
   "id": "4030d821",
   "metadata": {
    "execution": {
     "iopub.execute_input": "2022-07-09T03:40:52.301595Z",
     "iopub.status.busy": "2022-07-09T03:40:52.301198Z",
     "iopub.status.idle": "2022-07-09T03:40:52.318538Z",
     "shell.execute_reply": "2022-07-09T03:40:52.317401Z"
    },
    "papermill": {
     "duration": 0.049558,
     "end_time": "2022-07-09T03:40:52.320843",
     "exception": false,
     "start_time": "2022-07-09T03:40:52.271285",
     "status": "completed"
    },
    "tags": []
   },
   "outputs": [
    {
     "data": {
      "text/html": [
       "<div>\n",
       "<style scoped>\n",
       "    .dataframe tbody tr th:only-of-type {\n",
       "        vertical-align: middle;\n",
       "    }\n",
       "\n",
       "    .dataframe tbody tr th {\n",
       "        vertical-align: top;\n",
       "    }\n",
       "\n",
       "    .dataframe thead th {\n",
       "        text-align: right;\n",
       "    }\n",
       "</style>\n",
       "<table border=\"1\" class=\"dataframe\">\n",
       "  <thead>\n",
       "    <tr style=\"text-align: right;\">\n",
       "      <th></th>\n",
       "      <th>PassengerId</th>\n",
       "      <th>Survived</th>\n",
       "      <th>Pclass</th>\n",
       "      <th>Name</th>\n",
       "      <th>Sex</th>\n",
       "      <th>SibSp</th>\n",
       "      <th>Parch</th>\n",
       "      <th>Ticket</th>\n",
       "      <th>Fare</th>\n",
       "      <th>Cabin</th>\n",
       "      <th>Embarked</th>\n",
       "      <th>FamilySize</th>\n",
       "      <th>Age_cat</th>\n",
       "      <th>Initial_0</th>\n",
       "      <th>Initial_1</th>\n",
       "      <th>Initial_2</th>\n",
       "      <th>Initial_3</th>\n",
       "      <th>Initial_4</th>\n",
       "    </tr>\n",
       "  </thead>\n",
       "  <tbody>\n",
       "    <tr>\n",
       "      <th>0</th>\n",
       "      <td>1</td>\n",
       "      <td>0</td>\n",
       "      <td>3</td>\n",
       "      <td>Braund, Mr. Owen Harris</td>\n",
       "      <td>1</td>\n",
       "      <td>1</td>\n",
       "      <td>0</td>\n",
       "      <td>A/5 21171</td>\n",
       "      <td>1.981001</td>\n",
       "      <td>NaN</td>\n",
       "      <td>2</td>\n",
       "      <td>2</td>\n",
       "      <td>2</td>\n",
       "      <td>0</td>\n",
       "      <td>0</td>\n",
       "      <td>1</td>\n",
       "      <td>0</td>\n",
       "      <td>0</td>\n",
       "    </tr>\n",
       "    <tr>\n",
       "      <th>1</th>\n",
       "      <td>2</td>\n",
       "      <td>1</td>\n",
       "      <td>1</td>\n",
       "      <td>Cumings, Mrs. John Bradley (Florence Briggs Th...</td>\n",
       "      <td>0</td>\n",
       "      <td>1</td>\n",
       "      <td>0</td>\n",
       "      <td>PC 17599</td>\n",
       "      <td>4.266662</td>\n",
       "      <td>C85</td>\n",
       "      <td>0</td>\n",
       "      <td>2</td>\n",
       "      <td>3</td>\n",
       "      <td>0</td>\n",
       "      <td>0</td>\n",
       "      <td>0</td>\n",
       "      <td>1</td>\n",
       "      <td>0</td>\n",
       "    </tr>\n",
       "    <tr>\n",
       "      <th>2</th>\n",
       "      <td>3</td>\n",
       "      <td>1</td>\n",
       "      <td>3</td>\n",
       "      <td>Heikkinen, Miss. Laina</td>\n",
       "      <td>0</td>\n",
       "      <td>0</td>\n",
       "      <td>0</td>\n",
       "      <td>STON/O2. 3101282</td>\n",
       "      <td>2.070022</td>\n",
       "      <td>NaN</td>\n",
       "      <td>2</td>\n",
       "      <td>1</td>\n",
       "      <td>2</td>\n",
       "      <td>0</td>\n",
       "      <td>1</td>\n",
       "      <td>0</td>\n",
       "      <td>0</td>\n",
       "      <td>0</td>\n",
       "    </tr>\n",
       "    <tr>\n",
       "      <th>3</th>\n",
       "      <td>4</td>\n",
       "      <td>1</td>\n",
       "      <td>1</td>\n",
       "      <td>Futrelle, Mrs. Jacques Heath (Lily May Peel)</td>\n",
       "      <td>0</td>\n",
       "      <td>1</td>\n",
       "      <td>0</td>\n",
       "      <td>113803</td>\n",
       "      <td>3.972177</td>\n",
       "      <td>C123</td>\n",
       "      <td>2</td>\n",
       "      <td>2</td>\n",
       "      <td>3</td>\n",
       "      <td>0</td>\n",
       "      <td>0</td>\n",
       "      <td>0</td>\n",
       "      <td>1</td>\n",
       "      <td>0</td>\n",
       "    </tr>\n",
       "    <tr>\n",
       "      <th>4</th>\n",
       "      <td>5</td>\n",
       "      <td>0</td>\n",
       "      <td>3</td>\n",
       "      <td>Allen, Mr. William Henry</td>\n",
       "      <td>1</td>\n",
       "      <td>0</td>\n",
       "      <td>0</td>\n",
       "      <td>373450</td>\n",
       "      <td>2.085672</td>\n",
       "      <td>NaN</td>\n",
       "      <td>2</td>\n",
       "      <td>1</td>\n",
       "      <td>3</td>\n",
       "      <td>0</td>\n",
       "      <td>0</td>\n",
       "      <td>1</td>\n",
       "      <td>0</td>\n",
       "      <td>0</td>\n",
       "    </tr>\n",
       "  </tbody>\n",
       "</table>\n",
       "</div>"
      ],
      "text/plain": [
       "   PassengerId  Survived  Pclass  \\\n",
       "0            1         0       3   \n",
       "1            2         1       1   \n",
       "2            3         1       3   \n",
       "3            4         1       1   \n",
       "4            5         0       3   \n",
       "\n",
       "                                                Name  Sex  SibSp  Parch  \\\n",
       "0                            Braund, Mr. Owen Harris    1      1      0   \n",
       "1  Cumings, Mrs. John Bradley (Florence Briggs Th...    0      1      0   \n",
       "2                             Heikkinen, Miss. Laina    0      0      0   \n",
       "3       Futrelle, Mrs. Jacques Heath (Lily May Peel)    0      1      0   \n",
       "4                           Allen, Mr. William Henry    1      0      0   \n",
       "\n",
       "             Ticket      Fare Cabin  Embarked  FamilySize  Age_cat  Initial_0  \\\n",
       "0         A/5 21171  1.981001   NaN         2           2        2          0   \n",
       "1          PC 17599  4.266662   C85         0           2        3          0   \n",
       "2  STON/O2. 3101282  2.070022   NaN         2           1        2          0   \n",
       "3            113803  3.972177  C123         2           2        3          0   \n",
       "4            373450  2.085672   NaN         2           1        3          0   \n",
       "\n",
       "   Initial_1  Initial_2  Initial_3  Initial_4  \n",
       "0          0          1          0          0  \n",
       "1          0          0          1          0  \n",
       "2          1          0          0          0  \n",
       "3          0          0          1          0  \n",
       "4          0          1          0          0  "
      ]
     },
     "execution_count": 23,
     "metadata": {},
     "output_type": "execute_result"
    }
   ],
   "source": [
    "df_train.head()"
   ]
  },
  {
   "cell_type": "markdown",
   "id": "f45529c6",
   "metadata": {
    "papermill": {
     "duration": 0.028561,
     "end_time": "2022-07-09T03:40:52.378832",
     "exception": false,
     "start_time": "2022-07-09T03:40:52.350271",
     "status": "completed"
    },
    "tags": []
   },
   "source": [
    "* 보시다시피 오른쪽에 우리가 만들려고 했던 one-hot encoded columns가 생성된 것이 보입니다.\n",
    "* Embarked에도 적용하겠습니ㅏㄷ. Initial 때와 마찬가지로 one-hot encoding을 사용해 표현하겠습니다."
   ]
  },
  {
   "cell_type": "code",
   "execution_count": 24,
   "id": "a9b41539",
   "metadata": {
    "execution": {
     "iopub.execute_input": "2022-07-09T03:40:52.437941Z",
     "iopub.status.busy": "2022-07-09T03:40:52.437590Z",
     "iopub.status.idle": "2022-07-09T03:40:52.450756Z",
     "shell.execute_reply": "2022-07-09T03:40:52.449811Z"
    },
    "papermill": {
     "duration": 0.045389,
     "end_time": "2022-07-09T03:40:52.453086",
     "exception": false,
     "start_time": "2022-07-09T03:40:52.407697",
     "status": "completed"
    },
    "tags": []
   },
   "outputs": [],
   "source": [
    "df_train = pd.get_dummies(df_train, columns=['Embarked'], prefix='Embarked')\n",
    "df_test = pd.get_dummies(df_test, columns=['Embarked'], prefix='Embarked')"
   ]
  },
  {
   "cell_type": "markdown",
   "id": "2582b985",
   "metadata": {
    "papermill": {
     "duration": 0.028388,
     "end_time": "2022-07-09T03:40:52.510781",
     "exception": false,
     "start_time": "2022-07-09T03:40:52.482393",
     "status": "completed"
    },
    "tags": []
   },
   "source": [
    "* 아주 쉽게 one-hot encoding을 적용했습니다.\n",
    "* sklearn로 Labelencoder + OneHotencoder 이요해도 one-hot encoding이 가능합니다.\n",
    "* 다른 튜토리얼에서 한번 써보겠습니다. 여기서는 get_dummies로 충분히 가능하기 때문에 get_dummies만으로 끝내겠습니다.\n",
    "* 가끔 category가 100개가 넘어가는 경우가 있습니다. 이때 one-hot encoding을 사용하면 column이 100개가 생겨, 학습시 매우 버거울 경우가 있습니다. 이런 경우는 다른 방법을 사용하기도 하는데, 이는 다음에 한번 다뤄보겠습니다."
   ]
  },
  {
   "cell_type": "markdown",
   "id": "ef67ee4e",
   "metadata": {
    "papermill": {
     "duration": 0.027987,
     "end_time": "2022-07-09T03:40:52.567337",
     "exception": false,
     "start_time": "2022-07-09T03:40:52.539350",
     "status": "completed"
    },
    "tags": []
   },
   "source": [
    "> ### get_dummies()\n",
    "데이터프레임에 대한 더미(dummy)변수를 자동으로 생성한다."
   ]
  },
  {
   "cell_type": "markdown",
   "id": "2616a2a9",
   "metadata": {
    "papermill": {
     "duration": 0.028632,
     "end_time": "2022-07-09T03:40:52.624499",
     "exception": false,
     "start_time": "2022-07-09T03:40:52.595867",
     "status": "completed"
    },
    "tags": []
   },
   "source": [
    "# 3.5 Drop columns"
   ]
  },
  {
   "cell_type": "markdown",
   "id": "681e0cb7",
   "metadata": {
    "papermill": {
     "duration": 0.028734,
     "end_time": "2022-07-09T03:40:52.682012",
     "exception": false,
     "start_time": "2022-07-09T03:40:52.653278",
     "status": "completed"
    },
    "tags": []
   },
   "source": [
    "* 고생하셨습니다. 이제 책상을 치울 때 입니다. 필요한 columns만 남가고 다 지웁시ㅏㄷ."
   ]
  },
  {
   "cell_type": "code",
   "execution_count": 25,
   "id": "c8dc038b",
   "metadata": {
    "execution": {
     "iopub.execute_input": "2022-07-09T03:40:52.740660Z",
     "iopub.status.busy": "2022-07-09T03:40:52.740295Z",
     "iopub.status.idle": "2022-07-09T03:40:52.749817Z",
     "shell.execute_reply": "2022-07-09T03:40:52.748662Z"
    },
    "papermill": {
     "duration": 0.041408,
     "end_time": "2022-07-09T03:40:52.752132",
     "exception": false,
     "start_time": "2022-07-09T03:40:52.710724",
     "status": "completed"
    },
    "tags": []
   },
   "outputs": [],
   "source": [
    "df_train.drop(['PassengerId', 'Name', 'SibSp', 'Parch', 'Ticket', 'Cabin'], axis=1, inplace=True)\n",
    "df_test.drop(['PassengerId', 'Name',  'SibSp', 'Parch', 'Ticket', 'Cabin'], axis=1, inplace=True)"
   ]
  },
  {
   "cell_type": "markdown",
   "id": "ca23f6b3",
   "metadata": {
    "papermill": {
     "duration": 0.030196,
     "end_time": "2022-07-09T03:40:52.810976",
     "exception": false,
     "start_time": "2022-07-09T03:40:52.780780",
     "status": "completed"
    },
    "tags": []
   },
   "source": [
    "> ### inplace = True/False\n",
    ">- True → 명령어를 실행 한 후 메소드가 적용된 데이터 프레임으로 반환 한다. 즉, 삭제 메소드를 실행했다면 반환값은 컬럼이 삭제된 Dataframe이 된다.\n",
    ">- False → 명령어를 실행 한 후 메소드가 적용된 데이터 프레임을 기존 데이터 프레임으로 대체하겠다는 뜻"
   ]
  },
  {
   "cell_type": "markdown",
   "id": "da9cc325",
   "metadata": {
    "papermill": {
     "duration": 0.029059,
     "end_time": "2022-07-09T03:40:52.868867",
     "exception": false,
     "start_time": "2022-07-09T03:40:52.839808",
     "status": "completed"
    },
    "tags": []
   },
   "source": [
    "> ### axis (→매개변수)\n",
    "특정 메소드 또는 함수가 Data Frame에 적용되는 방향을 지정한다.\n",
    "axis = 0 은 함수가 열 단위로 적용되었음을 나타내고, axis= 1 은 함수가 Data Frame에서 행 단위로 적용됨을 의미한다."
   ]
  },
  {
   "cell_type": "code",
   "execution_count": 26,
   "id": "8a3ae303",
   "metadata": {
    "execution": {
     "iopub.execute_input": "2022-07-09T03:40:52.929215Z",
     "iopub.status.busy": "2022-07-09T03:40:52.928849Z",
     "iopub.status.idle": "2022-07-09T03:40:52.943802Z",
     "shell.execute_reply": "2022-07-09T03:40:52.942816Z"
    },
    "papermill": {
     "duration": 0.047391,
     "end_time": "2022-07-09T03:40:52.945855",
     "exception": false,
     "start_time": "2022-07-09T03:40:52.898464",
     "status": "completed"
    },
    "tags": []
   },
   "outputs": [
    {
     "data": {
      "text/html": [
       "<div>\n",
       "<style scoped>\n",
       "    .dataframe tbody tr th:only-of-type {\n",
       "        vertical-align: middle;\n",
       "    }\n",
       "\n",
       "    .dataframe tbody tr th {\n",
       "        vertical-align: top;\n",
       "    }\n",
       "\n",
       "    .dataframe thead th {\n",
       "        text-align: right;\n",
       "    }\n",
       "</style>\n",
       "<table border=\"1\" class=\"dataframe\">\n",
       "  <thead>\n",
       "    <tr style=\"text-align: right;\">\n",
       "      <th></th>\n",
       "      <th>Survived</th>\n",
       "      <th>Pclass</th>\n",
       "      <th>Sex</th>\n",
       "      <th>Fare</th>\n",
       "      <th>FamilySize</th>\n",
       "      <th>Age_cat</th>\n",
       "      <th>Initial_0</th>\n",
       "      <th>Initial_1</th>\n",
       "      <th>Initial_2</th>\n",
       "      <th>Initial_3</th>\n",
       "      <th>Initial_4</th>\n",
       "      <th>Embarked_0</th>\n",
       "      <th>Embarked_1</th>\n",
       "      <th>Embarked_2</th>\n",
       "    </tr>\n",
       "  </thead>\n",
       "  <tbody>\n",
       "    <tr>\n",
       "      <th>0</th>\n",
       "      <td>0</td>\n",
       "      <td>3</td>\n",
       "      <td>1</td>\n",
       "      <td>1.981001</td>\n",
       "      <td>2</td>\n",
       "      <td>2</td>\n",
       "      <td>0</td>\n",
       "      <td>0</td>\n",
       "      <td>1</td>\n",
       "      <td>0</td>\n",
       "      <td>0</td>\n",
       "      <td>0</td>\n",
       "      <td>0</td>\n",
       "      <td>1</td>\n",
       "    </tr>\n",
       "    <tr>\n",
       "      <th>1</th>\n",
       "      <td>1</td>\n",
       "      <td>1</td>\n",
       "      <td>0</td>\n",
       "      <td>4.266662</td>\n",
       "      <td>2</td>\n",
       "      <td>3</td>\n",
       "      <td>0</td>\n",
       "      <td>0</td>\n",
       "      <td>0</td>\n",
       "      <td>1</td>\n",
       "      <td>0</td>\n",
       "      <td>1</td>\n",
       "      <td>0</td>\n",
       "      <td>0</td>\n",
       "    </tr>\n",
       "    <tr>\n",
       "      <th>2</th>\n",
       "      <td>1</td>\n",
       "      <td>3</td>\n",
       "      <td>0</td>\n",
       "      <td>2.070022</td>\n",
       "      <td>1</td>\n",
       "      <td>2</td>\n",
       "      <td>0</td>\n",
       "      <td>1</td>\n",
       "      <td>0</td>\n",
       "      <td>0</td>\n",
       "      <td>0</td>\n",
       "      <td>0</td>\n",
       "      <td>0</td>\n",
       "      <td>1</td>\n",
       "    </tr>\n",
       "    <tr>\n",
       "      <th>3</th>\n",
       "      <td>1</td>\n",
       "      <td>1</td>\n",
       "      <td>0</td>\n",
       "      <td>3.972177</td>\n",
       "      <td>2</td>\n",
       "      <td>3</td>\n",
       "      <td>0</td>\n",
       "      <td>0</td>\n",
       "      <td>0</td>\n",
       "      <td>1</td>\n",
       "      <td>0</td>\n",
       "      <td>0</td>\n",
       "      <td>0</td>\n",
       "      <td>1</td>\n",
       "    </tr>\n",
       "    <tr>\n",
       "      <th>4</th>\n",
       "      <td>0</td>\n",
       "      <td>3</td>\n",
       "      <td>1</td>\n",
       "      <td>2.085672</td>\n",
       "      <td>1</td>\n",
       "      <td>3</td>\n",
       "      <td>0</td>\n",
       "      <td>0</td>\n",
       "      <td>1</td>\n",
       "      <td>0</td>\n",
       "      <td>0</td>\n",
       "      <td>0</td>\n",
       "      <td>0</td>\n",
       "      <td>1</td>\n",
       "    </tr>\n",
       "  </tbody>\n",
       "</table>\n",
       "</div>"
      ],
      "text/plain": [
       "   Survived  Pclass  Sex      Fare  FamilySize  Age_cat  Initial_0  Initial_1  \\\n",
       "0         0       3    1  1.981001           2        2          0          0   \n",
       "1         1       1    0  4.266662           2        3          0          0   \n",
       "2         1       3    0  2.070022           1        2          0          1   \n",
       "3         1       1    0  3.972177           2        3          0          0   \n",
       "4         0       3    1  2.085672           1        3          0          0   \n",
       "\n",
       "   Initial_2  Initial_3  Initial_4  Embarked_0  Embarked_1  Embarked_2  \n",
       "0          1          0          0           0           0           1  \n",
       "1          0          1          0           1           0           0  \n",
       "2          0          0          0           0           0           1  \n",
       "3          0          1          0           0           0           1  \n",
       "4          1          0          0           0           0           1  "
      ]
     },
     "execution_count": 26,
     "metadata": {},
     "output_type": "execute_result"
    }
   ],
   "source": [
    "df_train.head()"
   ]
  },
  {
   "cell_type": "code",
   "execution_count": 27,
   "id": "2090908e",
   "metadata": {
    "execution": {
     "iopub.execute_input": "2022-07-09T03:40:53.007620Z",
     "iopub.status.busy": "2022-07-09T03:40:53.006608Z",
     "iopub.status.idle": "2022-07-09T03:40:53.020328Z",
     "shell.execute_reply": "2022-07-09T03:40:53.019505Z"
    },
    "papermill": {
     "duration": 0.046703,
     "end_time": "2022-07-09T03:40:53.022383",
     "exception": false,
     "start_time": "2022-07-09T03:40:52.975680",
     "status": "completed"
    },
    "tags": []
   },
   "outputs": [
    {
     "data": {
      "text/html": [
       "<div>\n",
       "<style scoped>\n",
       "    .dataframe tbody tr th:only-of-type {\n",
       "        vertical-align: middle;\n",
       "    }\n",
       "\n",
       "    .dataframe tbody tr th {\n",
       "        vertical-align: top;\n",
       "    }\n",
       "\n",
       "    .dataframe thead th {\n",
       "        text-align: right;\n",
       "    }\n",
       "</style>\n",
       "<table border=\"1\" class=\"dataframe\">\n",
       "  <thead>\n",
       "    <tr style=\"text-align: right;\">\n",
       "      <th></th>\n",
       "      <th>Pclass</th>\n",
       "      <th>Sex</th>\n",
       "      <th>Fare</th>\n",
       "      <th>FamilySize</th>\n",
       "      <th>Age_cat</th>\n",
       "      <th>Initial_0</th>\n",
       "      <th>Initial_1</th>\n",
       "      <th>Initial_2</th>\n",
       "      <th>Initial_3</th>\n",
       "      <th>Initial_4</th>\n",
       "      <th>Embarked_0</th>\n",
       "      <th>Embarked_1</th>\n",
       "      <th>Embarked_2</th>\n",
       "    </tr>\n",
       "  </thead>\n",
       "  <tbody>\n",
       "    <tr>\n",
       "      <th>0</th>\n",
       "      <td>3</td>\n",
       "      <td>1</td>\n",
       "      <td>2.057860</td>\n",
       "      <td>1</td>\n",
       "      <td>3</td>\n",
       "      <td>0</td>\n",
       "      <td>0</td>\n",
       "      <td>1</td>\n",
       "      <td>0</td>\n",
       "      <td>0</td>\n",
       "      <td>0</td>\n",
       "      <td>1</td>\n",
       "      <td>0</td>\n",
       "    </tr>\n",
       "    <tr>\n",
       "      <th>1</th>\n",
       "      <td>3</td>\n",
       "      <td>0</td>\n",
       "      <td>1.945910</td>\n",
       "      <td>2</td>\n",
       "      <td>4</td>\n",
       "      <td>0</td>\n",
       "      <td>0</td>\n",
       "      <td>0</td>\n",
       "      <td>1</td>\n",
       "      <td>0</td>\n",
       "      <td>0</td>\n",
       "      <td>0</td>\n",
       "      <td>1</td>\n",
       "    </tr>\n",
       "    <tr>\n",
       "      <th>2</th>\n",
       "      <td>2</td>\n",
       "      <td>1</td>\n",
       "      <td>2.270836</td>\n",
       "      <td>1</td>\n",
       "      <td>6</td>\n",
       "      <td>0</td>\n",
       "      <td>0</td>\n",
       "      <td>1</td>\n",
       "      <td>0</td>\n",
       "      <td>0</td>\n",
       "      <td>0</td>\n",
       "      <td>1</td>\n",
       "      <td>0</td>\n",
       "    </tr>\n",
       "    <tr>\n",
       "      <th>3</th>\n",
       "      <td>3</td>\n",
       "      <td>1</td>\n",
       "      <td>2.159003</td>\n",
       "      <td>1</td>\n",
       "      <td>2</td>\n",
       "      <td>0</td>\n",
       "      <td>0</td>\n",
       "      <td>1</td>\n",
       "      <td>0</td>\n",
       "      <td>0</td>\n",
       "      <td>0</td>\n",
       "      <td>0</td>\n",
       "      <td>1</td>\n",
       "    </tr>\n",
       "    <tr>\n",
       "      <th>4</th>\n",
       "      <td>3</td>\n",
       "      <td>0</td>\n",
       "      <td>2.508582</td>\n",
       "      <td>3</td>\n",
       "      <td>2</td>\n",
       "      <td>0</td>\n",
       "      <td>0</td>\n",
       "      <td>0</td>\n",
       "      <td>1</td>\n",
       "      <td>0</td>\n",
       "      <td>0</td>\n",
       "      <td>0</td>\n",
       "      <td>1</td>\n",
       "    </tr>\n",
       "  </tbody>\n",
       "</table>\n",
       "</div>"
      ],
      "text/plain": [
       "   Pclass  Sex      Fare  FamilySize  Age_cat  Initial_0  Initial_1  \\\n",
       "0       3    1  2.057860           1        3          0          0   \n",
       "1       3    0  1.945910           2        4          0          0   \n",
       "2       2    1  2.270836           1        6          0          0   \n",
       "3       3    1  2.159003           1        2          0          0   \n",
       "4       3    0  2.508582           3        2          0          0   \n",
       "\n",
       "   Initial_2  Initial_3  Initial_4  Embarked_0  Embarked_1  Embarked_2  \n",
       "0          1          0          0           0           1           0  \n",
       "1          0          1          0           0           0           1  \n",
       "2          1          0          0           0           1           0  \n",
       "3          1          0          0           0           0           1  \n",
       "4          0          1          0           0           0           1  "
      ]
     },
     "execution_count": 27,
     "metadata": {},
     "output_type": "execute_result"
    }
   ],
   "source": [
    "df_test.head()"
   ]
  },
  {
   "cell_type": "markdown",
   "id": "dc6b9c57",
   "metadata": {
    "papermill": {
     "duration": 0.03356,
     "end_time": "2022-07-09T03:40:53.085615",
     "exception": false,
     "start_time": "2022-07-09T03:40:53.052055",
     "status": "completed"
    },
    "tags": []
   },
   "source": [
    "* 보시다시피, train의 Survived feature(target class)를 빼면 train, test 둘다 같은 columns를 가진 걸 확인할 수 있습니다."
   ]
  },
  {
   "cell_type": "markdown",
   "id": "83ccb38c",
   "metadata": {
    "papermill": {
     "duration": 0.034031,
     "end_time": "2022-07-09T03:40:53.155871",
     "exception": false,
     "start_time": "2022-07-09T03:40:53.121840",
     "status": "completed"
    },
    "tags": []
   },
   "source": [
    "# 4 Building machine learning model and prediction using the trained model"
   ]
  },
  {
   "cell_type": "markdown",
   "id": "9454201b",
   "metadata": {
    "papermill": {
     "duration": 0.032795,
     "end_time": "2022-07-09T03:40:53.218495",
     "exception": false,
     "start_time": "2022-07-09T03:40:53.185700",
     "status": "completed"
    },
    "tags": []
   },
   "source": [
    "* 이제 준비가 다 되었으니 sklearn을 사용해 본격적으로 머신러닝 모델을 만들어 봅시다."
   ]
  },
  {
   "cell_type": "code",
   "execution_count": 28,
   "id": "7af738db",
   "metadata": {
    "execution": {
     "iopub.execute_input": "2022-07-09T03:40:53.280343Z",
     "iopub.status.busy": "2022-07-09T03:40:53.279677Z",
     "iopub.status.idle": "2022-07-09T03:40:53.669211Z",
     "shell.execute_reply": "2022-07-09T03:40:53.668043Z"
    },
    "papermill": {
     "duration": 0.423804,
     "end_time": "2022-07-09T03:40:53.671988",
     "exception": false,
     "start_time": "2022-07-09T03:40:53.248184",
     "status": "completed"
    },
    "tags": []
   },
   "outputs": [],
   "source": [
    "#importing all the required ML packages\n",
    "from sklearn.ensemble import RandomForestClassifier\n",
    "from sklearn import metrics\n",
    "from sklearn.model_selection import train_test_split"
   ]
  },
  {
   "cell_type": "markdown",
   "id": "3839aa3c",
   "metadata": {
    "papermill": {
     "duration": 0.029022,
     "end_time": "2022-07-09T03:40:53.731212",
     "exception": false,
     "start_time": "2022-07-09T03:40:53.702190",
     "status": "completed"
    },
    "tags": []
   },
   "source": [
    "* Sklearn은 머신러닝의 처음부터 끝까지가 다 있습니다. feature engineering, preprocessin, 지도 학습 알고리즘, 비지도 학습 알고리즘, 모델 평가, 파이프라인 등 머신러닝에 관련된 모든 작업들이 손쉬운 인터페이스로 구현되어 있습니다. 데이터 분석 + 머신러닝을 하고 싶다면, 이 라이브러리는 반드시 숙지해야 합니다.\n",
    "* 파이썬 라이브러리를 활용한 머신러닝(Introduction to machine learning with Python)책을 사서 공부하시길 매우 추천해드립니다.\n",
    "\n",
    "* 지금 타이타닉 문제는 target class(survived)가 있으며, target class는 0, 1로 이루어져 있으므로(binary) binary classfication 문제입니다.\n",
    "* 우리가 지금 가지고 있는 train set의 survived를 제외한 input을 가지고 모델을 최적화시켜서 각 샘플(탑승객)의 생존유무를 판단하는 모델을 만들어 냅니다.\n",
    "* 그 후 모델이 학습하지 않았던 test set을 input으로 주어서 test set의 각 샘플(탑승객)의 생존 유무를 예측해봅니다."
   ]
  },
  {
   "cell_type": "markdown",
   "id": "f1abd2f7",
   "metadata": {
    "papermill": {
     "duration": 0.028155,
     "end_time": "2022-07-09T03:40:53.788133",
     "exception": false,
     "start_time": "2022-07-09T03:40:53.759978",
     "status": "completed"
    },
    "tags": []
   },
   "source": [
    "> ### sklearn\n",
    "scikit-learn이란 python을 대표하는 머신러닝 라이브러리이다.\n",
    "‘사이킷런’이라고 부르기도 한다."
   ]
  },
  {
   "cell_type": "markdown",
   "id": "41bc3db5",
   "metadata": {
    "papermill": {
     "duration": 0.029177,
     "end_time": "2022-07-09T03:40:53.847180",
     "exception": false,
     "start_time": "2022-07-09T03:40:53.818003",
     "status": "completed"
    },
    "tags": []
   },
   "source": [
    "# 4.1 Preparation - Split dataset into train, valid, test set"
   ]
  },
  {
   "cell_type": "markdown",
   "id": "b6cfc690",
   "metadata": {
    "papermill": {
     "duration": 0.029354,
     "end_time": "2022-07-09T03:40:53.906092",
     "exception": false,
     "start_time": "2022-07-09T03:40:53.876738",
     "status": "completed"
    },
    "tags": []
   },
   "source": [
    "* 가장 먼저, 학습에 쓰일 데이터와, target label(Survived)를 분리합니다. drop을 사용해 간단히 할 수 있습니다."
   ]
  },
  {
   "cell_type": "code",
   "execution_count": 29,
   "id": "a5df3d15",
   "metadata": {
    "execution": {
     "iopub.execute_input": "2022-07-09T03:40:53.974239Z",
     "iopub.status.busy": "2022-07-09T03:40:53.973577Z",
     "iopub.status.idle": "2022-07-09T03:40:53.980042Z",
     "shell.execute_reply": "2022-07-09T03:40:53.979009Z"
    },
    "papermill": {
     "duration": 0.040632,
     "end_time": "2022-07-09T03:40:53.982522",
     "exception": false,
     "start_time": "2022-07-09T03:40:53.941890",
     "status": "completed"
    },
    "tags": []
   },
   "outputs": [],
   "source": [
    "X_train = df_train.drop('Survived', axis=1).values\n",
    "target_label = df_train['Survived'].values\n",
    "X_test= df_test.values"
   ]
  },
  {
   "cell_type": "markdown",
   "id": "4949869d",
   "metadata": {
    "papermill": {
     "duration": 0.029281,
     "end_time": "2022-07-09T03:40:54.043587",
     "exception": false,
     "start_time": "2022-07-09T03:40:54.014306",
     "status": "completed"
    },
    "tags": []
   },
   "source": [
    "* 보통 train, test만 언급되지만, 실제 좋은 모델을 만들기 위해서 우리는 valid set을 따로 만들어 모델 평가를 해봅시다.\n",
    "* 마치 축구대표팀이 팀훈련(train)을 하고 바로 월드컵(test)로 나가는 것이 아니라, 팀훈련(train)을 한 다음 평가전(valid)를 거쳐 팀의 훈련 정도(학습정도)를 확인하고 월드컵(test)에 나가는 것과 비슷합니다.\n",
    "* train_test_split을 사용하여 쉽게 train 셋을 분리할 수 있습니다."
   ]
  },
  {
   "cell_type": "code",
   "execution_count": 30,
   "id": "d71d1081",
   "metadata": {
    "execution": {
     "iopub.execute_input": "2022-07-09T03:40:54.105119Z",
     "iopub.status.busy": "2022-07-09T03:40:54.104493Z",
     "iopub.status.idle": "2022-07-09T03:40:54.109595Z",
     "shell.execute_reply": "2022-07-09T03:40:54.108852Z"
    },
    "papermill": {
     "duration": 0.03807,
     "end_time": "2022-07-09T03:40:54.111635",
     "exception": false,
     "start_time": "2022-07-09T03:40:54.073565",
     "status": "completed"
    },
    "tags": []
   },
   "outputs": [],
   "source": [
    "X_tr, X_vld, y_tr, y_vld = train_test_split(X_train, target_label, test_size=0.3, random_state=2018)"
   ]
  },
  {
   "cell_type": "markdown",
   "id": "720173f6",
   "metadata": {
    "papermill": {
     "duration": 0.029755,
     "end_time": "2022-07-09T03:40:54.172656",
     "exception": false,
     "start_time": "2022-07-09T03:40:54.142901",
     "status": "completed"
    },
    "tags": []
   },
   "source": [
    "* sklearn에서는 여러 머신러닝 알고리즘을 지원해주빈다. 열거하기엔 너무 많으므로, 직접 documentation에 들어가 보시길 추천합니다. http://scikit-learn.org/stable/supervised_learning.html#supervised-learning 여기에 들어가시면 지원되는 알고리즘 수에 놀라실 겁니다.\n",
    "* 본 튜토리얼에서는 랜덤포레스트 모델을 사용하도록 하겠습니다.\n",
    "* 랜덤포레스트는 결정트리기반 모델이며, 여러 결정 트리들을 앙상블한 모델입니다. 더 구체적인 모델 설명은 여러 블로그들 참고하시면 될 것이고, 저도 한번 추후 다뤄보겠습니다.\n",
    "* 각 머신러닝 알고리즘에는 여러 파라미터들이 있습니다. 랜덤포레스트분류기도 n_estimators, max_features, max_depth, min_samples_split, min_samples_leaf 등 여러 파라미터들이 존재합니다. 이것들이 어떻게 세팅되냐에 따라 같은 데이터셋이라 하더라도 모델의 성능이 달라집니다.\n",
    "* 파라미터 튜닝은 시간, 경험, 알고리즘에 대한 이해 등이 필요합니다. 결국 많이 써봐야 모델도 잘 세울 수 있는 것이죠. 그래서 캐글을 추천합니다. 여러 데이터셋을 가지고 모델을 이리저리 써봐야 튜닝하는 감이 생길테니까요!\n",
    "* 일단 지금은 튜토리얼이니 파라미터 튜닝은 잠시 제쳐두기로 하고, 기본 default 세팅으로 진행하겠습니다.\n",
    "* 모델 객체를 만들고, fit 메소드로 학습시킵니다.\n",
    "* 그런 후 valid set input 을 넣어주어 예측값(X_vld sample(탑승객)의 생존여부)를 얻습니다."
   ]
  },
  {
   "cell_type": "markdown",
   "id": "1077aba8",
   "metadata": {
    "papermill": {
     "duration": 0.029042,
     "end_time": "2022-07-09T03:40:54.233185",
     "exception": false,
     "start_time": "2022-07-09T03:40:54.204143",
     "status": "completed"
    },
    "tags": []
   },
   "source": [
    "# 4.2 Model generation and prediction"
   ]
  },
  {
   "cell_type": "code",
   "execution_count": 31,
   "id": "fec3bbe7",
   "metadata": {
    "execution": {
     "iopub.execute_input": "2022-07-09T03:40:54.294268Z",
     "iopub.status.busy": "2022-07-09T03:40:54.293623Z",
     "iopub.status.idle": "2022-07-09T03:40:54.523756Z",
     "shell.execute_reply": "2022-07-09T03:40:54.522597Z"
    },
    "papermill": {
     "duration": 0.263791,
     "end_time": "2022-07-09T03:40:54.526599",
     "exception": false,
     "start_time": "2022-07-09T03:40:54.262808",
     "status": "completed"
    },
    "tags": []
   },
   "outputs": [],
   "source": [
    "model = RandomForestClassifier()\n",
    "model.fit(X_tr, y_tr)\n",
    "prediction = model.predict(X_vld)"
   ]
  },
  {
   "cell_type": "markdown",
   "id": "097e7788",
   "metadata": {
    "papermill": {
     "duration": 0.029378,
     "end_time": "2022-07-09T03:40:54.586005",
     "exception": false,
     "start_time": "2022-07-09T03:40:54.556627",
     "status": "completed"
    },
    "tags": []
   },
   "source": [
    "* 단 세줄만으로 여러분은 모델을 세우고, 예측까지 해봤습니다.\n",
    "* 자, 이제 모델의 성능을 한번 살펴보겠습니다."
   ]
  },
  {
   "cell_type": "markdown",
   "id": "250f86a4",
   "metadata": {
    "papermill": {
     "duration": 0.029204,
     "end_time": "2022-07-09T03:40:54.644864",
     "exception": false,
     "start_time": "2022-07-09T03:40:54.615660",
     "status": "completed"
    },
    "tags": []
   },
   "source": [
    "> ### fit() 메서드\n",
    "머신러닝 모델 학습의 위함"
   ]
  },
  {
   "cell_type": "markdown",
   "id": "787b5902",
   "metadata": {
    "papermill": {
     "duration": 0.029482,
     "end_time": "2022-07-09T03:40:54.703921",
     "exception": false,
     "start_time": "2022-07-09T03:40:54.674439",
     "status": "completed"
    },
    "tags": []
   },
   "source": [
    "> ### predict() 메서드\n",
    "학습된 모델의 예측을 위함"
   ]
  },
  {
   "cell_type": "code",
   "execution_count": 32,
   "id": "f258f8bb",
   "metadata": {
    "execution": {
     "iopub.execute_input": "2022-07-09T03:40:54.764887Z",
     "iopub.status.busy": "2022-07-09T03:40:54.764216Z",
     "iopub.status.idle": "2022-07-09T03:40:54.771031Z",
     "shell.execute_reply": "2022-07-09T03:40:54.769797Z"
    },
    "papermill": {
     "duration": 0.039595,
     "end_time": "2022-07-09T03:40:54.773686",
     "exception": false,
     "start_time": "2022-07-09T03:40:54.734091",
     "status": "completed"
    },
    "tags": []
   },
   "outputs": [
    {
     "name": "stdout",
     "output_type": "stream",
     "text": [
      "총 268명 중 83.21% 정확도로 생존을 맞춤\n"
     ]
    }
   ],
   "source": [
    "print('총 {}명 중 {:.2f}% 정확도로 생존을 맞춤'.format(y_vld.shape[0], 100 * metrics.accuracy_score(prediction, y_vld)))"
   ]
  },
  {
   "cell_type": "markdown",
   "id": "56c91b7f",
   "metadata": {
    "papermill": {
     "duration": 0.029653,
     "end_time": "2022-07-09T03:40:54.833961",
     "exception": false,
     "start_time": "2022-07-09T03:40:54.804308",
     "status": "completed"
    },
    "tags": []
   },
   "source": [
    "* 아무런 파라미터 튜닝도 하지 않았는데 82%의 정확도가 나왔습니다. 고생하셨습니다!"
   ]
  },
  {
   "cell_type": "markdown",
   "id": "ca15ef39",
   "metadata": {
    "papermill": {
     "duration": 0.02931,
     "end_time": "2022-07-09T03:40:54.892987",
     "exception": false,
     "start_time": "2022-07-09T03:40:54.863677",
     "status": "completed"
    },
    "tags": []
   },
   "source": [
    "> ### accuracy_score\n",
    "정확도 계산"
   ]
  },
  {
   "cell_type": "markdown",
   "id": "54ec846f",
   "metadata": {
    "papermill": {
     "duration": 0.029478,
     "end_time": "2022-07-09T03:40:54.951462",
     "exception": false,
     "start_time": "2022-07-09T03:40:54.921984",
     "status": "completed"
    },
    "tags": []
   },
   "source": [
    "> ### shape[]\n",
    ">- shape[0] → 행의 개수\n",
    ">- shape[1] → 열의 개수"
   ]
  },
  {
   "cell_type": "markdown",
   "id": "55f57e4d",
   "metadata": {
    "papermill": {
     "duration": 0.02963,
     "end_time": "2022-07-09T03:40:55.010817",
     "exception": false,
     "start_time": "2022-07-09T03:40:54.981187",
     "status": "completed"
    },
    "tags": []
   },
   "source": [
    "# 4.3 Feature importance"
   ]
  },
  {
   "cell_type": "markdown",
   "id": "3e482177",
   "metadata": {
    "papermill": {
     "duration": 0.029973,
     "end_time": "2022-07-09T03:40:55.070503",
     "exception": false,
     "start_time": "2022-07-09T03:40:55.040530",
     "status": "completed"
    },
    "tags": []
   },
   "source": [
    "* 학습된 모델은 feature importance 를 가지게 되는데, 우리는 이것을 확인하여 지금 만든 모델이 어떤 feature 에 영향을 많이 받았는 지 확인할 수 있습니다.\n",
    "* 쉽게 말해, 10 = 4x1 + 2x2 + 1*x3 을 생각하면, 우리는 x1이 결과값(10)에 큰 영향을 준다고 생각 할 수 있습니다. feature importance 는 4, 2, 1 을 이야기하며, x1이 가장 큰 값(4)를 가지므로, 이 모델에 가장 큰 영향을 미친다고 말할 수 있습니다.\n",
    "\n",
    "* 학습된 모델은 기본적으로 featureimportances 를 가지고 있어서 쉽게 그 수치를 얻을 수 있습니다.\n",
    "* pandas series 를 이용하면 쉽게 sorting 을 하여 그래프를 그릴 수 있습니다."
   ]
  },
  {
   "cell_type": "code",
   "execution_count": 33,
   "id": "eb9d61de",
   "metadata": {
    "execution": {
     "iopub.execute_input": "2022-07-09T03:40:55.132047Z",
     "iopub.status.busy": "2022-07-09T03:40:55.131327Z",
     "iopub.status.idle": "2022-07-09T03:40:55.146388Z",
     "shell.execute_reply": "2022-07-09T03:40:55.145545Z"
    },
    "papermill": {
     "duration": 0.048971,
     "end_time": "2022-07-09T03:40:55.148571",
     "exception": false,
     "start_time": "2022-07-09T03:40:55.099600",
     "status": "completed"
    },
    "tags": []
   },
   "outputs": [],
   "source": [
    "from pandas import Series\n",
    "\n",
    "feature_importance = model.feature_importances_\n",
    "Series_feat_imp = Series(feature_importance, index=df_test.columns)"
   ]
  },
  {
   "cell_type": "markdown",
   "id": "683749a9",
   "metadata": {
    "papermill": {
     "duration": 0.029191,
     "end_time": "2022-07-09T03:40:55.207437",
     "exception": false,
     "start_time": "2022-07-09T03:40:55.178246",
     "status": "completed"
    },
    "tags": []
   },
   "source": [
    "> ### Series\n",
    "어떤 데이터 타입이든 보유할 수 있는 레이블(label)링된 1차원 배열"
   ]
  },
  {
   "cell_type": "code",
   "execution_count": 34,
   "id": "6b6b0c8b",
   "metadata": {
    "execution": {
     "iopub.execute_input": "2022-07-09T03:40:55.269216Z",
     "iopub.status.busy": "2022-07-09T03:40:55.268579Z",
     "iopub.status.idle": "2022-07-09T03:40:55.542774Z",
     "shell.execute_reply": "2022-07-09T03:40:55.541868Z"
    },
    "papermill": {
     "duration": 0.308098,
     "end_time": "2022-07-09T03:40:55.544937",
     "exception": false,
     "start_time": "2022-07-09T03:40:55.236839",
     "status": "completed"
    },
    "tags": []
   },
   "outputs": [
    {
     "data": {
      "image/png": "[encoded data removed]",
      "text/plain": [
       "<Figure size 576x576 with 1 Axes>"
      ]
     },
     "metadata": {
      "needs_background": "light"
     },
     "output_type": "display_data"
    }
   ],
   "source": [
    "plt.figure(figsize=(8,8))\n",
    "Series_feat_imp.sort_values(ascending=True).plot.barh()\n",
    "plt.xlabel('Feature importance')\n",
    "plt.ylabel('Feature')\n",
    "plt.show()"
   ]
  },
  {
   "cell_type": "markdown",
   "id": "9146178a",
   "metadata": {
    "papermill": {
     "duration": 0.089376,
     "end_time": "2022-07-09T03:40:55.664842",
     "exception": false,
     "start_time": "2022-07-09T03:40:55.575466",
     "status": "completed"
    },
    "tags": []
   },
   "source": [
    "* 우리가 얻은 모델에서는 Fare 가 가장 큰 영향력을 가지며, 그 뒤로 Initial_2, Age_cat, Pclass가 차례로 중요도를 가집니다\n",
    "* 사실 feature importance 는 지금 모델에서의 importance 를 나타냅니다. 만약 다른 모델을 사용하게 된다면 feature importance 가 다르게 나올 수 있습니다.\n",
    "* 이 feature importance 를 보고 실제로 Fare 가 중요한 feature 일 수 있다고 판단을 내릴 수는 있지만, 이것은 결국 모델에 귀속되는 하나의 결론이므로 통계적으로 좀 더 살펴보긴 해야합니다.\n",
    "* featuure importance 를 가지고 좀 더 정확도가 높은 모델을 얻기 위해 feature selection 을 할 수도 있고, 좀 더 빠른 모델을 위해 feature 제거를 할 수 있습니다."
   ]
  },
  {
   "cell_type": "markdown",
   "id": "fe329bb2",
   "metadata": {
    "papermill": {
     "duration": 0.029702,
     "end_time": "2022-07-09T03:40:55.724686",
     "exception": false,
     "start_time": "2022-07-09T03:40:55.694984",
     "status": "completed"
    },
    "tags": []
   },
   "source": [
    "> ### barh() 함수\n",
    "수평 막대 그래프를 그림"
   ]
  },
  {
   "cell_type": "markdown",
   "id": "7f4748ca",
   "metadata": {
    "papermill": {
     "duration": 0.029325,
     "end_time": "2022-07-09T03:40:55.788234",
     "exception": false,
     "start_time": "2022-07-09T03:40:55.758909",
     "status": "completed"
    },
    "tags": []
   },
   "source": [
    "# 4.4 Prediction on Test set"
   ]
  },
  {
   "cell_type": "markdown",
   "id": "fd2547c7",
   "metadata": {
    "papermill": {
     "duration": 0.03008,
     "end_time": "2022-07-09T03:40:55.848157",
     "exception": false,
     "start_time": "2022-07-09T03:40:55.818077",
     "status": "completed"
    },
    "tags": []
   },
   "source": [
    "* 이제 모델이 학습하지 않았던(보지 않았던) 테스트셋을 모델에 주어서, 생존여부를 예측해보겠습니다.\n",
    "* 이 결과는 실제로 submission(제출용) 이므로 결과는 leaderboard 에서 확인할 수 있습니다.\n",
    "* 캐글에서 준 파일, gender_submission.csv 파일을 읽어서 제출 준비를 하겠습니다."
   ]
  },
  {
   "cell_type": "code",
   "execution_count": 35,
   "id": "26d7f0e2",
   "metadata": {
    "execution": {
     "iopub.execute_input": "2022-07-09T03:40:55.910814Z",
     "iopub.status.busy": "2022-07-09T03:40:55.910129Z",
     "iopub.status.idle": "2022-07-09T03:40:55.923132Z",
     "shell.execute_reply": "2022-07-09T03:40:55.922004Z"
    },
    "papermill": {
     "duration": 0.047339,
     "end_time": "2022-07-09T03:40:55.925779",
     "exception": false,
     "start_time": "2022-07-09T03:40:55.878440",
     "status": "completed"
    },
    "tags": []
   },
   "outputs": [],
   "source": [
    "submission = pd.read_csv('../input/titanic/gender_submission.csv')"
   ]
  },
  {
   "cell_type": "code",
   "execution_count": 36,
   "id": "eb278c5b",
   "metadata": {
    "execution": {
     "iopub.execute_input": "2022-07-09T03:40:56.020050Z",
     "iopub.status.busy": "2022-07-09T03:40:56.019656Z",
     "iopub.status.idle": "2022-07-09T03:40:56.029737Z",
     "shell.execute_reply": "2022-07-09T03:40:56.028777Z"
    },
    "papermill": {
     "duration": 0.074966,
     "end_time": "2022-07-09T03:40:56.031858",
     "exception": false,
     "start_time": "2022-07-09T03:40:55.956892",
     "status": "completed"
    },
    "tags": []
   },
   "outputs": [
    {
     "data": {
      "text/html": [
       "<div>\n",
       "<style scoped>\n",
       "    .dataframe tbody tr th:only-of-type {\n",
       "        vertical-align: middle;\n",
       "    }\n",
       "\n",
       "    .dataframe tbody tr th {\n",
       "        vertical-align: top;\n",
       "    }\n",
       "\n",
       "    .dataframe thead th {\n",
       "        text-align: right;\n",
       "    }\n",
       "</style>\n",
       "<table border=\"1\" class=\"dataframe\">\n",
       "  <thead>\n",
       "    <tr style=\"text-align: right;\">\n",
       "      <th></th>\n",
       "      <th>PassengerId</th>\n",
       "      <th>Survived</th>\n",
       "    </tr>\n",
       "  </thead>\n",
       "  <tbody>\n",
       "    <tr>\n",
       "      <th>0</th>\n",
       "      <td>892</td>\n",
       "      <td>0</td>\n",
       "    </tr>\n",
       "    <tr>\n",
       "      <th>1</th>\n",
       "      <td>893</td>\n",
       "      <td>1</td>\n",
       "    </tr>\n",
       "    <tr>\n",
       "      <th>2</th>\n",
       "      <td>894</td>\n",
       "      <td>0</td>\n",
       "    </tr>\n",
       "    <tr>\n",
       "      <th>3</th>\n",
       "      <td>895</td>\n",
       "      <td>0</td>\n",
       "    </tr>\n",
       "    <tr>\n",
       "      <th>4</th>\n",
       "      <td>896</td>\n",
       "      <td>1</td>\n",
       "    </tr>\n",
       "  </tbody>\n",
       "</table>\n",
       "</div>"
      ],
      "text/plain": [
       "   PassengerId  Survived\n",
       "0          892         0\n",
       "1          893         1\n",
       "2          894         0\n",
       "3          895         0\n",
       "4          896         1"
      ]
     },
     "execution_count": 36,
     "metadata": {},
     "output_type": "execute_result"
    }
   ],
   "source": [
    "submission.head()"
   ]
  },
  {
   "cell_type": "markdown",
   "id": "e05b8f3f",
   "metadata": {
    "papermill": {
     "duration": 0.032687,
     "end_time": "2022-07-09T03:40:56.095088",
     "exception": false,
     "start_time": "2022-07-09T03:40:56.062401",
     "status": "completed"
    },
    "tags": []
   },
   "source": [
    "* 이제 testset에 대하여 예측을 하고, 결과를 csv 파일로 저장해보겠습니다."
   ]
  },
  {
   "cell_type": "code",
   "execution_count": 37,
   "id": "2ee2727e",
   "metadata": {
    "execution": {
     "iopub.execute_input": "2022-07-09T03:40:56.157772Z",
     "iopub.status.busy": "2022-07-09T03:40:56.157120Z",
     "iopub.status.idle": "2022-07-09T03:40:56.181937Z",
     "shell.execute_reply": "2022-07-09T03:40:56.181014Z"
    },
    "papermill": {
     "duration": 0.058726,
     "end_time": "2022-07-09T03:40:56.184239",
     "exception": false,
     "start_time": "2022-07-09T03:40:56.125513",
     "status": "completed"
    },
    "tags": []
   },
   "outputs": [],
   "source": [
    "prediction = model.predict(X_test)\n",
    "submission['Survived'] = prediction"
   ]
  },
  {
   "cell_type": "code",
   "execution_count": 38,
   "id": "b8e9ed8b",
   "metadata": {
    "execution": {
     "iopub.execute_input": "2022-07-09T03:40:56.246372Z",
     "iopub.status.busy": "2022-07-09T03:40:56.245764Z",
     "iopub.status.idle": "2022-07-09T03:40:56.253136Z",
     "shell.execute_reply": "2022-07-09T03:40:56.252473Z"
    },
    "papermill": {
     "duration": 0.040509,
     "end_time": "2022-07-09T03:40:56.255215",
     "exception": false,
     "start_time": "2022-07-09T03:40:56.214706",
     "status": "completed"
    },
    "tags": []
   },
   "outputs": [],
   "source": [
    "submission.to_csv('./my_first_submission.csv', index=False)"
   ]
  },
  {
   "cell_type": "markdown",
   "id": "cbd7dd10",
   "metadata": {
    "papermill": {
     "duration": 0.029975,
     "end_time": "2022-07-09T03:40:56.315147",
     "exception": false,
     "start_time": "2022-07-09T03:40:56.285172",
     "status": "completed"
    },
    "tags": []
   },
   "source": [
    "* 이제 캐글에 제출해보도록 합시다."
   ]
  },
  {
   "cell_type": "markdown",
   "id": "ea4df745",
   "metadata": {
    "papermill": {
     "duration": 0.029913,
     "end_time": "2022-07-09T03:40:56.375457",
     "exception": false,
     "start_time": "2022-07-09T03:40:56.345544",
     "status": "completed"
    },
    "tags": []
   },
   "source": [
    "# 5 Conclusion"
   ]
  },
  {
   "cell_type": "markdown",
   "id": "8a12a8cd",
   "metadata": {
    "papermill": {
     "duration": 0.029216,
     "end_time": "2022-07-09T03:40:56.434713",
     "exception": false,
     "start_time": "2022-07-09T03:40:56.405497",
     "status": "completed"
    },
    "tags": []
   },
   "source": [
    "* 정말 수고하셨습니다. 여러분은 titanic dataset 을 가지고 data science 를 경험해보셨습니다.\n",
    "* 이걸로 끝이 아닙니다. 앞으로 배울 것이 너무나 무궁무진합니다.\n",
    "* 좀 더 참신한 feature engineering, 머신 러닝 모델 hyperparameter tunning, ensembling 등, 무궁무진합니다..\n",
    "* 꾸준히 커널공부를 하시면 실력이 꾸준히 늘겁니다.\n",
    "* 포기하지 마시고 재밌게 하시면 됩니다\n",
    "* 본 튜토리얼을 따라해주셔서 감사하며, 제 유투브 채널에 강의도 올려놨으니 한번 보시면 됩니다!\n",
    "* 본 튜토리얼을 따라하시다가, 혹시 문제가 있거나, 궁금한 사항이 있으면 언제든 말씀해주세요! 저도 더 성장하길 원합니다!\n",
    "\n",
    "* 본 튜토리얼은 https://www.kaggle.com/arthurtok/introduction-to-ensembling-stacking-in-python, https://www.kaggle.com/startupsci/titanic-data-science-solutions, https://www.kaggle.com/ash316/eda-to-prediction-dietanic, https://www.kaggle.com/yassineghouzam/titanic-top-4-with-ensemble-modeling 을 참고하여 만들었습니다. 공유해주신 캐글러께 감사드립니다."
   ]
  }
 ],
 "metadata": {
  "kernelspec": {
   "display_name": "Python 3",
   "language": "python",
   "name": "python3"
  },
  "language_info": {
   "codemirror_mode": {
    "name": "ipython",
    "version": 3
   },
   "file_extension": ".py",
   "mimetype": "text/x-python",
   "name": "python",
   "nbconvert_exporter": "python",
   "pygments_lexer": "ipython3",
   "version": "3.7.12"
  },
  "papermill": {
   "default_parameters": {},
   "duration": 21.07882,
   "end_time": "2022-07-09T03:40:57.185812",
   "environment_variables": {},
   "exception": null,
   "input_path": "__notebook__.ipynb",
   "output_path": "__notebook__.ipynb",
   "parameters": {},
   "start_time": "2022-07-09T03:40:36.106992",
   "version": "2.3.4"
  }
 },
 "nbformat": 4,
 "nbformat_minor": 5
}

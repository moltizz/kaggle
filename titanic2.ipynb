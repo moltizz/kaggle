{
 "cells": [
  {
   "cell_type": "markdown",
   "id": "371c699f",
   "metadata": {
    "papermill": {
     "duration": 0.028566,
     "end_time": "2022-07-09T03:32:30.521625",
     "exception": false,
     "start_time": "2022-07-09T03:32:30.493059",
     "status": "completed"
    },
    "tags": []
   },
   "source": [
    "# Contents\n",
    "3. Feature engineering\n",
    "* 3.1 Fill Null data\n",
    "    * 3.1.1 Fill Null in Age using title\n",
    "    * 3.1.2 Fill Null in Embarked\n",
    "* 3.2 Change Age (continuous to categorical)\n",
    "* 3.3 Change Initial, Embarked and Sex (string to numerical)\n",
    "* 3.4 One-hot encoding on Initial and Embarked\n",
    "* 3.5 Drop columns\n",
    "\n",
    "4. Building machine learinng model and predicition using te trained model\n",
    "* 4.1 Preaparation - Split dataset into train, valid and test set\n",
    "* 4.2 Model generation and prediction\n",
    "* 4.3 Feature importance\n",
    "\n",
    "5. Conclusion"
   ]
  },
  {
   "cell_type": "code",
   "execution_count": 1,
   "id": "de3f15d2",
   "metadata": {
    "execution": {
     "iopub.execute_input": "2022-07-09T03:32:30.575206Z",
     "iopub.status.busy": "2022-07-09T03:32:30.573913Z",
     "iopub.status.idle": "2022-07-09T03:32:31.778482Z",
     "shell.execute_reply": "2022-07-09T03:32:31.777364Z"
    },
    "papermill": {
     "duration": 1.234378,
     "end_time": "2022-07-09T03:32:31.781022",
     "exception": false,
     "start_time": "2022-07-09T03:32:30.546644",
     "status": "completed"
    },
    "tags": []
   },
   "outputs": [
    {
     "data": {
      "text/html": [
       "        <script type=\"text/javascript\">\n",
       "        window.PlotlyConfig = {MathJaxConfig: 'local'};\n",
       "        if (window.MathJax && window.MathJax.Hub && window.MathJax.Hub.Config) {window.MathJax.Hub.Config({SVG: {font: \"STIX-Web\"}});}\n",
       "        if (typeof require !== 'undefined') {\n",
       "        require.undef(\"plotly\");\n",
       "        requirejs.config({\n",
       "            paths: {\n",
       "                'plotly': ['https://cdn.plot.ly/plotly-2.12.1.min']\n",
       "            }\n",
       "        });\n",
       "        require(['plotly'], function(Plotly) {\n",
       "            window._Plotly = Plotly;\n",
       "        });\n",
       "        }\n",
       "        </script>\n",
       "        "
      ]
     },
     "metadata": {},
     "output_type": "display_data"
    }
   ],
   "source": [
    "import numpy as np\n",
    "import pandas as pd\n",
    "from pandas import Series\n",
    "import matplotlib.pyplot as plt\n",
    "import seaborn as sns\n",
    "\n",
    "plt.style.use('seaborn')\n",
    "sns.set(font_scale=2.5)\n",
    "\n",
    "import plotly.offline as py\n",
    "py.init_notebook_mode(connected=True)\n",
    "import plotly.graph_objs as go\n",
    "import plotly.tools as tls\n",
    "\n",
    "import warnings\n",
    "warnings.filterwarnings('ignore')\n",
    "\n",
    "%matplotlib inline\n",
    "\n",
    "df_train = pd.read_csv('../input/titanic/train.csv')\n",
    "df_test = pd.read_csv('../input/titanic/test.csv')\n",
    "df_train['FamilySize'] = df_train['SibSp'] + df_train['Parch'] + 1\n",
    "df_test['FamilySize'] = df_test['SibSp'] + df_test['Parch'] + 1\n",
    "\n",
    "df_test.loc[df_test.Fare.isnull(), 'Fare'] = df_test['Fare'].mean()\n",
    "\n",
    "df_train['Fare'] = df_train['Fare'].map(lambda i: np.log(i) if i > 0 else 0)\n",
    "df_test['Fare'] = df_test['Fare'].map(lambda i : np.log(i) if i > 0 else 0)"
   ]
  },
  {
   "cell_type": "markdown",
   "id": "690c9b57",
   "metadata": {
    "papermill": {
     "duration": 0.02573,
     "end_time": "2022-07-09T03:32:31.832229",
     "exception": false,
     "start_time": "2022-07-09T03:32:31.806499",
     "status": "completed"
    },
    "tags": []
   },
   "source": [
    "> ### numpy\n",
    "Numpy(보통 \"넘파이\"라고 발음)는 수치 해석용 Python 패키지이다.\n",
    "다차원의 행렬 자료구조인 ndarray를 지원하여 벡터와 행렬을 사용하는 선형대수 계산에 주로 사용된다."
   ]
  },
  {
   "cell_type": "markdown",
   "id": "7ac2a227",
   "metadata": {
    "papermill": {
     "duration": 0.024907,
     "end_time": "2022-07-09T03:32:31.882720",
     "exception": false,
     "start_time": "2022-07-09T03:32:31.857813",
     "status": "completed"
    },
    "tags": []
   },
   "source": [
    "> ### pandas\n",
    "판다스(pandas)는 파이썬 언어로 작성된 데이터를 분석 및 조작하기 위한 소프트웨어 라이브러리"
   ]
  },
  {
   "cell_type": "markdown",
   "id": "d8696ecc",
   "metadata": {
    "papermill": {
     "duration": 0.024756,
     "end_time": "2022-07-09T03:32:31.932796",
     "exception": false,
     "start_time": "2022-07-09T03:32:31.908040",
     "status": "completed"
    },
    "tags": []
   },
   "source": [
    "> ### from 모듈 import 메소드/변수\n",
    "해당 모듈 내에 있는 특정 메소드나 모듈 내 정의된 변수를 가져온다.\n",
    "가져온 메소드나 변수를 앞에 모듈명을 붙이지 않고 그대로 사용할 수 있다.\n",
    "다만, 이름이 같은 변수나 메소드가 존재할 경우 대체된다.\n",
    ">- from 모듈 import * 는 ipmort 모듈 과 동일하다."
   ]
  },
  {
   "cell_type": "markdown",
   "id": "8192ccc8",
   "metadata": {
    "papermill": {
     "duration": 0.025258,
     "end_time": "2022-07-09T03:32:31.983480",
     "exception": false,
     "start_time": "2022-07-09T03:32:31.958222",
     "status": "completed"
    },
    "tags": []
   },
   "source": [
    "> ### plotly\n",
    "Python으로 시각화를 할 수 있는 무료 오픈소스 그래프 라이브러리"
   ]
  },
  {
   "cell_type": "markdown",
   "id": "623979aa",
   "metadata": {
    "papermill": {
     "duration": 0.02589,
     "end_time": "2022-07-09T03:32:32.035624",
     "exception": false,
     "start_time": "2022-07-09T03:32:32.009734",
     "status": "completed"
    },
    "tags": []
   },
   "source": [
    "> ### seaborn.set()\n",
    "seaborn 플롯의 테마 및 구성을 제어하는데 사용"
   ]
  },
  {
   "cell_type": "markdown",
   "id": "d82e1e32",
   "metadata": {
    "papermill": {
     "duration": 0.024804,
     "end_time": "2022-07-09T03:32:32.085809",
     "exception": false,
     "start_time": "2022-07-09T03:32:32.061005",
     "status": "completed"
    },
    "tags": []
   },
   "source": [
    "# 3. Feature engineering\n",
    "* 본격적인 feature engineering을 시작해보겠습니다.\n",
    "* 가장 먼저, dataset에 존재하는 null data를 채우려고 합니다.\n",
    "* 아무 숫자로 채울 수는 없고, null data를 포함하는 feature의 statistics를 참고하거나, 다른 아이디어를 짜내어 채울 수 있습니다.\n",
    "* null data를 어떻게 채우느냐에 따라 모델의 성능이 좌지우지될 수 있기 때문에, 신경써줘야할 부분입니다.\n",
    "* Feature engineering은 실제 모델의 학습에 쓰려고 하는 것이므로, train뿐만 아니라 test도 똑같이 적용해주어야 합니다. 잊지맙시다."
   ]
  },
  {
   "cell_type": "markdown",
   "id": "80cc0931",
   "metadata": {
    "papermill": {
     "duration": 0.024721,
     "end_time": "2022-07-09T03:32:32.135718",
     "exception": false,
     "start_time": "2022-07-09T03:32:32.110997",
     "status": "completed"
    },
    "tags": []
   },
   "source": [
    "# 3.1 Fill Null"
   ]
  },
  {
   "cell_type": "markdown",
   "id": "22400dc3",
   "metadata": {
    "papermill": {
     "duration": 0.024934,
     "end_time": "2022-07-09T03:32:32.185747",
     "exception": false,
     "start_time": "2022-07-09T03:32:32.160813",
     "status": "completed"
    },
    "tags": []
   },
   "source": [
    "# 3.1.1 Fill Null in Age using title"
   ]
  },
  {
   "cell_type": "markdown",
   "id": "cadfcfeb",
   "metadata": {
    "papermill": {
     "duration": 0.025031,
     "end_time": "2022-07-09T03:32:32.235837",
     "exception": false,
     "start_time": "2022-07-09T03:32:32.210806",
     "status": "completed"
    },
    "tags": []
   },
   "source": [
    "* Age에는 null data가 177개나 있습니다. 이를 채울 수 있는 여러 아이디어가 있을 것인데, 여기서 우리는 title + statistics를 사용해 보겠습니다.\n",
    "* 영어에서는 Miss, Mrr, Mrs 같은 title이 존재합니다. 각 탑승객의 이름에는 꼭 이런 title이 들어가게 되는데 이를 사용해보겠습니다.\n",
    "* pandas series에는 data를 string으로 바꿔주는 str method, 거기에는 정규표현식을 적용하게 해주는 extract mothod가 있습니다. 이를 사용하여 title을 쉽게 추출할 수 있습니다. title을 Initial column에 저장하겠습니다."
   ]
  },
  {
   "cell_type": "code",
   "execution_count": 2,
   "id": "5cdaff19",
   "metadata": {
    "execution": {
     "iopub.execute_input": "2022-07-09T03:32:32.287772Z",
     "iopub.status.busy": "2022-07-09T03:32:32.287376Z",
     "iopub.status.idle": "2022-07-09T03:32:32.301304Z",
     "shell.execute_reply": "2022-07-09T03:32:32.300490Z"
    },
    "papermill": {
     "duration": 0.042413,
     "end_time": "2022-07-09T03:32:32.303305",
     "exception": false,
     "start_time": "2022-07-09T03:32:32.260892",
     "status": "completed"
    },
    "tags": []
   },
   "outputs": [],
   "source": [
    "df_train['Initial'] = df_train.Name.str.extract('([A-Za-z]+)\\.')\n",
    "df_test['Initial'] = df_test.Name.str.extract('([A-Za-z]+)\\.')"
   ]
  },
  {
   "cell_type": "markdown",
   "id": "43b74026",
   "metadata": {
    "papermill": {
     "duration": 0.02576,
     "end_time": "2022-07-09T03:32:32.354280",
     "exception": false,
     "start_time": "2022-07-09T03:32:32.328520",
     "status": "completed"
    },
    "tags": []
   },
   "source": [
    "* pandas의 crosstab을 이용하여 우리가 추출한 Initial과 Sex간의 count를 살펴봅시다."
   ]
  },
  {
   "cell_type": "markdown",
   "id": "296f581e",
   "metadata": {
    "papermill": {
     "duration": 0.024817,
     "end_time": "2022-07-09T03:32:32.404734",
     "exception": false,
     "start_time": "2022-07-09T03:32:32.379917",
     "status": "completed"
    },
    "tags": []
   },
   "source": [
    "> ### extract()\n",
    "배열 속의 키값을 변수화 시켜주는 함수"
   ]
  },
  {
   "cell_type": "code",
   "execution_count": 3,
   "id": "66592b82",
   "metadata": {
    "execution": {
     "iopub.execute_input": "2022-07-09T03:32:32.457273Z",
     "iopub.status.busy": "2022-07-09T03:32:32.456541Z",
     "iopub.status.idle": "2022-07-09T03:32:32.582453Z",
     "shell.execute_reply": "2022-07-09T03:32:32.581340Z"
    },
    "papermill": {
     "duration": 0.155018,
     "end_time": "2022-07-09T03:32:32.584852",
     "exception": false,
     "start_time": "2022-07-09T03:32:32.429834",
     "status": "completed"
    },
    "tags": []
   },
   "outputs": [
    {
     "data": {
      "text/html": [
       "<style type=\"text/css\">\n",
       "#T_131a7_row0_col0, #T_131a7_row0_col1, #T_131a7_row0_col3, #T_131a7_row0_col4, #T_131a7_row0_col5, #T_131a7_row0_col7, #T_131a7_row0_col8, #T_131a7_row0_col12, #T_131a7_row0_col15, #T_131a7_row0_col16, #T_131a7_row1_col2, #T_131a7_row1_col6, #T_131a7_row1_col9, #T_131a7_row1_col10, #T_131a7_row1_col11, #T_131a7_row1_col13, #T_131a7_row1_col14 {\n",
       "  background-color: #ffff66;\n",
       "  color: #000000;\n",
       "}\n",
       "#T_131a7_row0_col2, #T_131a7_row0_col6, #T_131a7_row0_col9, #T_131a7_row0_col10, #T_131a7_row0_col11, #T_131a7_row0_col13, #T_131a7_row0_col14, #T_131a7_row1_col0, #T_131a7_row1_col1, #T_131a7_row1_col3, #T_131a7_row1_col4, #T_131a7_row1_col5, #T_131a7_row1_col7, #T_131a7_row1_col8, #T_131a7_row1_col12, #T_131a7_row1_col15, #T_131a7_row1_col16 {\n",
       "  background-color: #008066;\n",
       "  color: #f1f1f1;\n",
       "}\n",
       "</style>\n",
       "<table id=\"T_131a7_\">\n",
       "  <thead>\n",
       "    <tr>\n",
       "      <th class=\"index_name level0\" >Initial</th>\n",
       "      <th class=\"col_heading level0 col0\" >Capt</th>\n",
       "      <th class=\"col_heading level0 col1\" >Col</th>\n",
       "      <th class=\"col_heading level0 col2\" >Countess</th>\n",
       "      <th class=\"col_heading level0 col3\" >Don</th>\n",
       "      <th class=\"col_heading level0 col4\" >Dr</th>\n",
       "      <th class=\"col_heading level0 col5\" >Jonkheer</th>\n",
       "      <th class=\"col_heading level0 col6\" >Lady</th>\n",
       "      <th class=\"col_heading level0 col7\" >Major</th>\n",
       "      <th class=\"col_heading level0 col8\" >Master</th>\n",
       "      <th class=\"col_heading level0 col9\" >Miss</th>\n",
       "      <th class=\"col_heading level0 col10\" >Mlle</th>\n",
       "      <th class=\"col_heading level0 col11\" >Mme</th>\n",
       "      <th class=\"col_heading level0 col12\" >Mr</th>\n",
       "      <th class=\"col_heading level0 col13\" >Mrs</th>\n",
       "      <th class=\"col_heading level0 col14\" >Ms</th>\n",
       "      <th class=\"col_heading level0 col15\" >Rev</th>\n",
       "      <th class=\"col_heading level0 col16\" >Sir</th>\n",
       "    </tr>\n",
       "    <tr>\n",
       "      <th class=\"index_name level0\" >Sex</th>\n",
       "      <th class=\"blank col0\" >&nbsp;</th>\n",
       "      <th class=\"blank col1\" >&nbsp;</th>\n",
       "      <th class=\"blank col2\" >&nbsp;</th>\n",
       "      <th class=\"blank col3\" >&nbsp;</th>\n",
       "      <th class=\"blank col4\" >&nbsp;</th>\n",
       "      <th class=\"blank col5\" >&nbsp;</th>\n",
       "      <th class=\"blank col6\" >&nbsp;</th>\n",
       "      <th class=\"blank col7\" >&nbsp;</th>\n",
       "      <th class=\"blank col8\" >&nbsp;</th>\n",
       "      <th class=\"blank col9\" >&nbsp;</th>\n",
       "      <th class=\"blank col10\" >&nbsp;</th>\n",
       "      <th class=\"blank col11\" >&nbsp;</th>\n",
       "      <th class=\"blank col12\" >&nbsp;</th>\n",
       "      <th class=\"blank col13\" >&nbsp;</th>\n",
       "      <th class=\"blank col14\" >&nbsp;</th>\n",
       "      <th class=\"blank col15\" >&nbsp;</th>\n",
       "      <th class=\"blank col16\" >&nbsp;</th>\n",
       "    </tr>\n",
       "  </thead>\n",
       "  <tbody>\n",
       "    <tr>\n",
       "      <th id=\"T_131a7_level0_row0\" class=\"row_heading level0 row0\" >female</th>\n",
       "      <td id=\"T_131a7_row0_col0\" class=\"data row0 col0\" >0</td>\n",
       "      <td id=\"T_131a7_row0_col1\" class=\"data row0 col1\" >0</td>\n",
       "      <td id=\"T_131a7_row0_col2\" class=\"data row0 col2\" >1</td>\n",
       "      <td id=\"T_131a7_row0_col3\" class=\"data row0 col3\" >0</td>\n",
       "      <td id=\"T_131a7_row0_col4\" class=\"data row0 col4\" >1</td>\n",
       "      <td id=\"T_131a7_row0_col5\" class=\"data row0 col5\" >0</td>\n",
       "      <td id=\"T_131a7_row0_col6\" class=\"data row0 col6\" >1</td>\n",
       "      <td id=\"T_131a7_row0_col7\" class=\"data row0 col7\" >0</td>\n",
       "      <td id=\"T_131a7_row0_col8\" class=\"data row0 col8\" >0</td>\n",
       "      <td id=\"T_131a7_row0_col9\" class=\"data row0 col9\" >182</td>\n",
       "      <td id=\"T_131a7_row0_col10\" class=\"data row0 col10\" >2</td>\n",
       "      <td id=\"T_131a7_row0_col11\" class=\"data row0 col11\" >1</td>\n",
       "      <td id=\"T_131a7_row0_col12\" class=\"data row0 col12\" >0</td>\n",
       "      <td id=\"T_131a7_row0_col13\" class=\"data row0 col13\" >125</td>\n",
       "      <td id=\"T_131a7_row0_col14\" class=\"data row0 col14\" >1</td>\n",
       "      <td id=\"T_131a7_row0_col15\" class=\"data row0 col15\" >0</td>\n",
       "      <td id=\"T_131a7_row0_col16\" class=\"data row0 col16\" >0</td>\n",
       "    </tr>\n",
       "    <tr>\n",
       "      <th id=\"T_131a7_level0_row1\" class=\"row_heading level0 row1\" >male</th>\n",
       "      <td id=\"T_131a7_row1_col0\" class=\"data row1 col0\" >1</td>\n",
       "      <td id=\"T_131a7_row1_col1\" class=\"data row1 col1\" >2</td>\n",
       "      <td id=\"T_131a7_row1_col2\" class=\"data row1 col2\" >0</td>\n",
       "      <td id=\"T_131a7_row1_col3\" class=\"data row1 col3\" >1</td>\n",
       "      <td id=\"T_131a7_row1_col4\" class=\"data row1 col4\" >6</td>\n",
       "      <td id=\"T_131a7_row1_col5\" class=\"data row1 col5\" >1</td>\n",
       "      <td id=\"T_131a7_row1_col6\" class=\"data row1 col6\" >0</td>\n",
       "      <td id=\"T_131a7_row1_col7\" class=\"data row1 col7\" >2</td>\n",
       "      <td id=\"T_131a7_row1_col8\" class=\"data row1 col8\" >40</td>\n",
       "      <td id=\"T_131a7_row1_col9\" class=\"data row1 col9\" >0</td>\n",
       "      <td id=\"T_131a7_row1_col10\" class=\"data row1 col10\" >0</td>\n",
       "      <td id=\"T_131a7_row1_col11\" class=\"data row1 col11\" >0</td>\n",
       "      <td id=\"T_131a7_row1_col12\" class=\"data row1 col12\" >517</td>\n",
       "      <td id=\"T_131a7_row1_col13\" class=\"data row1 col13\" >0</td>\n",
       "      <td id=\"T_131a7_row1_col14\" class=\"data row1 col14\" >0</td>\n",
       "      <td id=\"T_131a7_row1_col15\" class=\"data row1 col15\" >6</td>\n",
       "      <td id=\"T_131a7_row1_col16\" class=\"data row1 col16\" >1</td>\n",
       "    </tr>\n",
       "  </tbody>\n",
       "</table>\n"
      ],
      "text/plain": [
       "<pandas.io.formats.style.Styler at 0x7fd62328ee10>"
      ]
     },
     "execution_count": 3,
     "metadata": {},
     "output_type": "execute_result"
    }
   ],
   "source": [
    "pd.crosstab(df_train['Initial'], df_train['Sex']).T.style.background_gradient(cmap='summer_r')"
   ]
  },
  {
   "cell_type": "markdown",
   "id": "30ece48f",
   "metadata": {
    "papermill": {
     "duration": 0.02597,
     "end_time": "2022-07-09T03:32:32.636705",
     "exception": false,
     "start_time": "2022-07-09T03:32:32.610735",
     "status": "completed"
    },
    "tags": []
   },
   "source": [
    "* 위 table을 참고하여, 남자, 여자가 쓰는 initial을 구분해 보겠습니다. replace 메소드를 사용하면, 특정 데이터값을 원하는 값으로 치환해줍니다."
   ]
  },
  {
   "cell_type": "code",
   "execution_count": 4,
   "id": "2f926263",
   "metadata": {
    "execution": {
     "iopub.execute_input": "2022-07-09T03:32:32.690302Z",
     "iopub.status.busy": "2022-07-09T03:32:32.689894Z",
     "iopub.status.idle": "2022-07-09T03:32:32.703664Z",
     "shell.execute_reply": "2022-07-09T03:32:32.702620Z"
    },
    "papermill": {
     "duration": 0.043215,
     "end_time": "2022-07-09T03:32:32.705934",
     "exception": false,
     "start_time": "2022-07-09T03:32:32.662719",
     "status": "completed"
    },
    "tags": []
   },
   "outputs": [],
   "source": [
    "df_train['Initial'].replace(['Mlle','Mme','Ms','Dr','Major','Lady','Countess','Jonkheer','Col','Rev','Capt','Sir','Don','Dona'],['Miss', 'Miss', 'Miss','Mr','Mr','Mrs','Mrs','Other','Other','Other','Mr','Mr','Mr','Mr'],inplace=True)\n",
    "df_test['Initial'].replace(['Mlle','Mme','Ms','Dr','Major','Lady','Countess','Jonkheer','Col','Rev','Capt','Sir','Don','Dona'],['Miss','Miss','Miss','Mr','Mr','Mrs','Mrs','Other','Other','Other','Mr','Mr','Mr','Mr'],inplace=True)\n"
   ]
  },
  {
   "cell_type": "markdown",
   "id": "322963d5",
   "metadata": {
    "papermill": {
     "duration": 0.025355,
     "end_time": "2022-07-09T03:32:32.756920",
     "exception": false,
     "start_time": "2022-07-09T03:32:32.731565",
     "status": "completed"
    },
    "tags": []
   },
   "source": [
    "> ### replace()\n",
    "문자열을 변경하는 함수"
   ]
  },
  {
   "cell_type": "code",
   "execution_count": 5,
   "id": "28ba359e",
   "metadata": {
    "execution": {
     "iopub.execute_input": "2022-07-09T03:32:32.809973Z",
     "iopub.status.busy": "2022-07-09T03:32:32.809583Z",
     "iopub.status.idle": "2022-07-09T03:32:32.833206Z",
     "shell.execute_reply": "2022-07-09T03:32:32.832350Z"
    },
    "papermill": {
     "duration": 0.052715,
     "end_time": "2022-07-09T03:32:32.835219",
     "exception": false,
     "start_time": "2022-07-09T03:32:32.782504",
     "status": "completed"
    },
    "tags": []
   },
   "outputs": [
    {
     "data": {
      "text/html": [
       "<div>\n",
       "<style scoped>\n",
       "    .dataframe tbody tr th:only-of-type {\n",
       "        vertical-align: middle;\n",
       "    }\n",
       "\n",
       "    .dataframe tbody tr th {\n",
       "        vertical-align: top;\n",
       "    }\n",
       "\n",
       "    .dataframe thead th {\n",
       "        text-align: right;\n",
       "    }\n",
       "</style>\n",
       "<table border=\"1\" class=\"dataframe\">\n",
       "  <thead>\n",
       "    <tr style=\"text-align: right;\">\n",
       "      <th></th>\n",
       "      <th>PassengerId</th>\n",
       "      <th>Survived</th>\n",
       "      <th>Pclass</th>\n",
       "      <th>Age</th>\n",
       "      <th>SibSp</th>\n",
       "      <th>Parch</th>\n",
       "      <th>Fare</th>\n",
       "      <th>FamilySize</th>\n",
       "    </tr>\n",
       "    <tr>\n",
       "      <th>Initial</th>\n",
       "      <th></th>\n",
       "      <th></th>\n",
       "      <th></th>\n",
       "      <th></th>\n",
       "      <th></th>\n",
       "      <th></th>\n",
       "      <th></th>\n",
       "      <th></th>\n",
       "    </tr>\n",
       "  </thead>\n",
       "  <tbody>\n",
       "    <tr>\n",
       "      <th>Master</th>\n",
       "      <td>414.975000</td>\n",
       "      <td>0.575000</td>\n",
       "      <td>2.625000</td>\n",
       "      <td>4.574167</td>\n",
       "      <td>2.300000</td>\n",
       "      <td>1.375000</td>\n",
       "      <td>3.340710</td>\n",
       "      <td>4.675000</td>\n",
       "    </tr>\n",
       "    <tr>\n",
       "      <th>Miss</th>\n",
       "      <td>411.741935</td>\n",
       "      <td>0.704301</td>\n",
       "      <td>2.284946</td>\n",
       "      <td>21.860000</td>\n",
       "      <td>0.698925</td>\n",
       "      <td>0.537634</td>\n",
       "      <td>3.123713</td>\n",
       "      <td>2.236559</td>\n",
       "    </tr>\n",
       "    <tr>\n",
       "      <th>Mr</th>\n",
       "      <td>455.880907</td>\n",
       "      <td>0.162571</td>\n",
       "      <td>2.381853</td>\n",
       "      <td>32.739609</td>\n",
       "      <td>0.293006</td>\n",
       "      <td>0.151229</td>\n",
       "      <td>2.651507</td>\n",
       "      <td>1.444234</td>\n",
       "    </tr>\n",
       "    <tr>\n",
       "      <th>Mrs</th>\n",
       "      <td>456.393701</td>\n",
       "      <td>0.795276</td>\n",
       "      <td>1.984252</td>\n",
       "      <td>35.981818</td>\n",
       "      <td>0.692913</td>\n",
       "      <td>0.818898</td>\n",
       "      <td>3.443751</td>\n",
       "      <td>2.511811</td>\n",
       "    </tr>\n",
       "    <tr>\n",
       "      <th>Other</th>\n",
       "      <td>564.444444</td>\n",
       "      <td>0.111111</td>\n",
       "      <td>1.666667</td>\n",
       "      <td>45.888889</td>\n",
       "      <td>0.111111</td>\n",
       "      <td>0.111111</td>\n",
       "      <td>2.641605</td>\n",
       "      <td>1.222222</td>\n",
       "    </tr>\n",
       "  </tbody>\n",
       "</table>\n",
       "</div>"
      ],
      "text/plain": [
       "         PassengerId  Survived    Pclass        Age     SibSp     Parch  \\\n",
       "Initial                                                                   \n",
       "Master    414.975000  0.575000  2.625000   4.574167  2.300000  1.375000   \n",
       "Miss      411.741935  0.704301  2.284946  21.860000  0.698925  0.537634   \n",
       "Mr        455.880907  0.162571  2.381853  32.739609  0.293006  0.151229   \n",
       "Mrs       456.393701  0.795276  1.984252  35.981818  0.692913  0.818898   \n",
       "Other     564.444444  0.111111  1.666667  45.888889  0.111111  0.111111   \n",
       "\n",
       "             Fare  FamilySize  \n",
       "Initial                        \n",
       "Master   3.340710    4.675000  \n",
       "Miss     3.123713    2.236559  \n",
       "Mr       2.651507    1.444234  \n",
       "Mrs      3.443751    2.511811  \n",
       "Other    2.641605    1.222222  "
      ]
     },
     "execution_count": 5,
     "metadata": {},
     "output_type": "execute_result"
    }
   ],
   "source": [
    "df_train.groupby('Initial').mean()"
   ]
  },
  {
   "cell_type": "markdown",
   "id": "2ff86625",
   "metadata": {
    "papermill": {
     "duration": 0.026092,
     "end_time": "2022-07-09T03:32:32.887282",
     "exception": false,
     "start_time": "2022-07-09T03:32:32.861190",
     "status": "completed"
    },
    "tags": []
   },
   "source": [
    "* 여성과 관계있는 Miss, Mr, Mrs 가 생존률이 높은 것이 볼 수 있습니다."
   ]
  },
  {
   "cell_type": "markdown",
   "id": "ff1b547c",
   "metadata": {
    "papermill": {
     "duration": 0.025593,
     "end_time": "2022-07-09T03:32:32.939393",
     "exception": false,
     "start_time": "2022-07-09T03:32:32.913800",
     "status": "completed"
    },
    "tags": []
   },
   "source": [
    "> ### groupby\n",
    ">- 같은 값을 하나로 묶어 통계 또는 집계 결과를 얻기 위해 사용하는 것\n",
    ">- 조건부로 집계하고 싶은 경우 활용\n",
    ">- 평균값을 구해주는 메서드로 **mean**을 사용"
   ]
  },
  {
   "cell_type": "code",
   "execution_count": 6,
   "id": "aed6e356",
   "metadata": {
    "execution": {
     "iopub.execute_input": "2022-07-09T03:32:32.993975Z",
     "iopub.status.busy": "2022-07-09T03:32:32.993309Z",
     "iopub.status.idle": "2022-07-09T03:32:33.223825Z",
     "shell.execute_reply": "2022-07-09T03:32:33.222484Z"
    },
    "papermill": {
     "duration": 0.260522,
     "end_time": "2022-07-09T03:32:33.226403",
     "exception": false,
     "start_time": "2022-07-09T03:32:32.965881",
     "status": "completed"
    },
    "tags": []
   },
   "outputs": [
    {
     "data": {
      "text/plain": [
       "<AxesSubplot:xlabel='Initial'>"
      ]
     },
     "execution_count": 6,
     "metadata": {},
     "output_type": "execute_result"
    },
    {
     "data": {
      "image/png": "[encoded data removed]",
      "text/plain": [
       "<Figure size 432x288 with 1 Axes>"
      ]
     },
     "metadata": {
      "needs_background": "light"
     },
     "output_type": "display_data"
    }
   ],
   "source": [
    "df_train.groupby('Initial')['Survived'].mean().plot.bar()"
   ]
  },
  {
   "cell_type": "markdown",
   "id": "6bde6843",
   "metadata": {
    "papermill": {
     "duration": 0.025741,
     "end_time": "2022-07-09T03:32:33.278357",
     "exception": false,
     "start_time": "2022-07-09T03:32:33.252616",
     "status": "completed"
    },
    "tags": []
   },
   "source": [
    "* 이제 본격적으로 Null을 채울 것입니다. null data를 채우는 방법은 정말 많이 존재합니다. statistics를 활용하는 방법은 정말 많이 존재합니다. statistics를 활용하는 방법도 있고, null data가 없는 데이터를 기반으로 새로운 머신러닝 알고리즘을 만들어 예측해서 채워넣는 방식도 있습니ㅏㄷ. 여기서는 statistics를 활용하는 방법을 사용할 것입니다.\n",
    "* 여기서 statistics는 train data의 것을 의미합니다. 우리는 언제나 test를 unseen으로 둔 상태로 나둬야 하며, train에서 얻은 statistics를 기반으로 test의 null data를 채워줘야 합니다."
   ]
  },
  {
   "cell_type": "code",
   "execution_count": 7,
   "id": "520b0280",
   "metadata": {
    "execution": {
     "iopub.execute_input": "2022-07-09T03:32:33.332107Z",
     "iopub.status.busy": "2022-07-09T03:32:33.331716Z",
     "iopub.status.idle": "2022-07-09T03:32:33.350624Z",
     "shell.execute_reply": "2022-07-09T03:32:33.349001Z"
    },
    "papermill": {
     "duration": 0.048473,
     "end_time": "2022-07-09T03:32:33.352838",
     "exception": false,
     "start_time": "2022-07-09T03:32:33.304365",
     "status": "completed"
    },
    "tags": []
   },
   "outputs": [
    {
     "data": {
      "text/html": [
       "<div>\n",
       "<style scoped>\n",
       "    .dataframe tbody tr th:only-of-type {\n",
       "        vertical-align: middle;\n",
       "    }\n",
       "\n",
       "    .dataframe tbody tr th {\n",
       "        vertical-align: top;\n",
       "    }\n",
       "\n",
       "    .dataframe thead th {\n",
       "        text-align: right;\n",
       "    }\n",
       "</style>\n",
       "<table border=\"1\" class=\"dataframe\">\n",
       "  <thead>\n",
       "    <tr style=\"text-align: right;\">\n",
       "      <th></th>\n",
       "      <th>PassengerId</th>\n",
       "      <th>Survived</th>\n",
       "      <th>Pclass</th>\n",
       "      <th>Age</th>\n",
       "      <th>SibSp</th>\n",
       "      <th>Parch</th>\n",
       "      <th>Fare</th>\n",
       "      <th>FamilySize</th>\n",
       "    </tr>\n",
       "    <tr>\n",
       "      <th>Initial</th>\n",
       "      <th></th>\n",
       "      <th></th>\n",
       "      <th></th>\n",
       "      <th></th>\n",
       "      <th></th>\n",
       "      <th></th>\n",
       "      <th></th>\n",
       "      <th></th>\n",
       "    </tr>\n",
       "  </thead>\n",
       "  <tbody>\n",
       "    <tr>\n",
       "      <th>Master</th>\n",
       "      <td>414.975000</td>\n",
       "      <td>0.575000</td>\n",
       "      <td>2.625000</td>\n",
       "      <td>4.574167</td>\n",
       "      <td>2.300000</td>\n",
       "      <td>1.375000</td>\n",
       "      <td>3.340710</td>\n",
       "      <td>4.675000</td>\n",
       "    </tr>\n",
       "    <tr>\n",
       "      <th>Miss</th>\n",
       "      <td>411.741935</td>\n",
       "      <td>0.704301</td>\n",
       "      <td>2.284946</td>\n",
       "      <td>21.860000</td>\n",
       "      <td>0.698925</td>\n",
       "      <td>0.537634</td>\n",
       "      <td>3.123713</td>\n",
       "      <td>2.236559</td>\n",
       "    </tr>\n",
       "    <tr>\n",
       "      <th>Mr</th>\n",
       "      <td>455.880907</td>\n",
       "      <td>0.162571</td>\n",
       "      <td>2.381853</td>\n",
       "      <td>32.739609</td>\n",
       "      <td>0.293006</td>\n",
       "      <td>0.151229</td>\n",
       "      <td>2.651507</td>\n",
       "      <td>1.444234</td>\n",
       "    </tr>\n",
       "    <tr>\n",
       "      <th>Mrs</th>\n",
       "      <td>456.393701</td>\n",
       "      <td>0.795276</td>\n",
       "      <td>1.984252</td>\n",
       "      <td>35.981818</td>\n",
       "      <td>0.692913</td>\n",
       "      <td>0.818898</td>\n",
       "      <td>3.443751</td>\n",
       "      <td>2.511811</td>\n",
       "    </tr>\n",
       "    <tr>\n",
       "      <th>Other</th>\n",
       "      <td>564.444444</td>\n",
       "      <td>0.111111</td>\n",
       "      <td>1.666667</td>\n",
       "      <td>45.888889</td>\n",
       "      <td>0.111111</td>\n",
       "      <td>0.111111</td>\n",
       "      <td>2.641605</td>\n",
       "      <td>1.222222</td>\n",
       "    </tr>\n",
       "  </tbody>\n",
       "</table>\n",
       "</div>"
      ],
      "text/plain": [
       "         PassengerId  Survived    Pclass        Age     SibSp     Parch  \\\n",
       "Initial                                                                   \n",
       "Master    414.975000  0.575000  2.625000   4.574167  2.300000  1.375000   \n",
       "Miss      411.741935  0.704301  2.284946  21.860000  0.698925  0.537634   \n",
       "Mr        455.880907  0.162571  2.381853  32.739609  0.293006  0.151229   \n",
       "Mrs       456.393701  0.795276  1.984252  35.981818  0.692913  0.818898   \n",
       "Other     564.444444  0.111111  1.666667  45.888889  0.111111  0.111111   \n",
       "\n",
       "             Fare  FamilySize  \n",
       "Initial                        \n",
       "Master   3.340710    4.675000  \n",
       "Miss     3.123713    2.236559  \n",
       "Mr       2.651507    1.444234  \n",
       "Mrs      3.443751    2.511811  \n",
       "Other    2.641605    1.222222  "
      ]
     },
     "execution_count": 7,
     "metadata": {},
     "output_type": "execute_result"
    }
   ],
   "source": [
    "df_train.groupby('Initial').mean()"
   ]
  },
  {
   "cell_type": "markdown",
   "id": "f504c594",
   "metadata": {
    "papermill": {
     "duration": 0.026472,
     "end_time": "2022-07-09T03:32:33.405657",
     "exception": false,
     "start_time": "2022-07-09T03:32:33.379185",
     "status": "completed"
    },
    "tags": []
   },
   "source": [
    "* Age의 평균을 이용해 Null value를 채우도록 하겠습니다.\n",
    "* pandas dataframe을 다룰 때에는 boolean array를 이용해 indexing 하는 방법이 참으로 편리합니다.\n",
    "* 아래 코드 첫줄을 해석하자면, isnull()이면서 intial이 Mr인 조건을 만족하는 row(탑승객)의 'Age'의 값을 33으로 치환한다 입니다.\n",
    "* loc + boolean + column을 사용해 값을 치환하는 방법은 자주 쓰이므로 꼭 익숙해집시다."
   ]
  },
  {
   "cell_type": "code",
   "execution_count": 8,
   "id": "c1674fd9",
   "metadata": {
    "execution": {
     "iopub.execute_input": "2022-07-09T03:32:33.459960Z",
     "iopub.status.busy": "2022-07-09T03:32:33.459563Z",
     "iopub.status.idle": "2022-07-09T03:32:33.482493Z",
     "shell.execute_reply": "2022-07-09T03:32:33.481018Z"
    },
    "papermill": {
     "duration": 0.053251,
     "end_time": "2022-07-09T03:32:33.485313",
     "exception": false,
     "start_time": "2022-07-09T03:32:33.432062",
     "status": "completed"
    },
    "tags": []
   },
   "outputs": [],
   "source": [
    "df_train.loc[(df_train.Age.isnull())&(df_train.Initial=='Mr'),'Age'] = 33\n",
    "df_train.loc[(df_train.Age.isnull())&(df_train.Initial=='Mrs'),'Age'] = 36\n",
    "df_train.loc[(df_train.Age.isnull())&(df_train.Initial=='Master'),'Age'] = 5\n",
    "df_train.loc[(df_train.Age.isnull())&(df_train.Initial=='Miss'),'Age'] = 22\n",
    "df_train.loc[(df_train.Age.isnull())&(df_train.Initial=='Other'),'Age'] = 46\n",
    "\n",
    "df_test.loc[(df_test.Age.isnull())&(df_test.Initial=='Mr'),'Age'] = 33\n",
    "df_test.loc[(df_test.Age.isnull())&(df_test.Initial=='Mrs'),'Age'] = 36\n",
    "df_test.loc[(df_test.Age.isnull())&(df_test.Initial=='Master'),'Age'] = 5\n",
    "df_test.loc[(df_test.Age.isnull())&(df_test.Initial=='Miss'),'Age'] = 22\n",
    "df_test.loc[(df_test.Age.isnull())&(df_test.Initial=='Other'),'Age'] = 46"
   ]
  },
  {
   "cell_type": "markdown",
   "id": "acdebd23",
   "metadata": {
    "papermill": {
     "duration": 0.025875,
     "end_time": "2022-07-09T03:32:33.537449",
     "exception": false,
     "start_time": "2022-07-09T03:32:33.511574",
     "status": "completed"
    },
    "tags": []
   },
   "source": [
    "* 여기서 간단하게 Null을 채웠지만, 좀 더 다양한 방법을 쓴 예시들이 다른 커널에 존재합니다.\n",
    "* https://www.kaggle.com/yassineghouzam/titanic-top-4-with-ensemble-modeling 보시면서 공부해보세요!\n",
    "* 이 외에도 다른 캐글러들의 커널을 보며 여러 참신한 아이디어를 살펴보세요!"
   ]
  },
  {
   "cell_type": "markdown",
   "id": "01b10ac6",
   "metadata": {
    "papermill": {
     "duration": 0.02562,
     "end_time": "2022-07-09T03:32:33.589042",
     "exception": false,
     "start_time": "2022-07-09T03:32:33.563422",
     "status": "completed"
    },
    "tags": []
   },
   "source": [
    "> ### isnull()\n",
    "각 원소의 Nan 값 여부가 표시된다"
   ]
  },
  {
   "cell_type": "markdown",
   "id": "6caba01c",
   "metadata": {
    "papermill": {
     "duration": 0.025876,
     "end_time": "2022-07-09T03:32:33.641144",
     "exception": false,
     "start_time": "2022-07-09T03:32:33.615268",
     "status": "completed"
    },
    "tags": []
   },
   "source": [
    "# 3.1.2 Fill Null in Embarked"
   ]
  },
  {
   "cell_type": "code",
   "execution_count": 9,
   "id": "2d11e02c",
   "metadata": {
    "execution": {
     "iopub.execute_input": "2022-07-09T03:32:33.697990Z",
     "iopub.status.busy": "2022-07-09T03:32:33.697012Z",
     "iopub.status.idle": "2022-07-09T03:32:33.703477Z",
     "shell.execute_reply": "2022-07-09T03:32:33.702159Z"
    },
    "papermill": {
     "duration": 0.037405,
     "end_time": "2022-07-09T03:32:33.705743",
     "exception": false,
     "start_time": "2022-07-09T03:32:33.668338",
     "status": "completed"
    },
    "tags": []
   },
   "outputs": [
    {
     "name": "stdout",
     "output_type": "stream",
     "text": [
      "Embarked has 2 Null values\n"
     ]
    }
   ],
   "source": [
    "print('Embarked has',sum(df_train['Embarked'].isnull()),'Null values')"
   ]
  },
  {
   "cell_type": "markdown",
   "id": "6d4fdd87",
   "metadata": {
    "papermill": {
     "duration": 0.02622,
     "end_time": "2022-07-09T03:32:33.758438",
     "exception": false,
     "start_time": "2022-07-09T03:32:33.732218",
     "status": "completed"
    },
    "tags": []
   },
   "source": [
    "* Embarked는 Null value가 2개이고, S에서 가장 많은 탑승객이 있었으므로, 간단하게 Null을 S로 채우겠습니다.\n",
    "* dataframe의 fillna method를 이용하면 쉽게 채울 수 있습니다. 여기서 inplace=True로 하면 df_train에 fillna를 실제로 적용하게 됩니다."
   ]
  },
  {
   "cell_type": "code",
   "execution_count": 10,
   "id": "99881264",
   "metadata": {
    "execution": {
     "iopub.execute_input": "2022-07-09T03:32:33.813523Z",
     "iopub.status.busy": "2022-07-09T03:32:33.812918Z",
     "iopub.status.idle": "2022-07-09T03:32:33.817849Z",
     "shell.execute_reply": "2022-07-09T03:32:33.817108Z"
    },
    "papermill": {
     "duration": 0.034842,
     "end_time": "2022-07-09T03:32:33.819902",
     "exception": false,
     "start_time": "2022-07-09T03:32:33.785060",
     "status": "completed"
    },
    "tags": []
   },
   "outputs": [],
   "source": [
    "df_train['Embarked'].fillna('S',inplace=True)"
   ]
  },
  {
   "cell_type": "markdown",
   "id": "0abb8ba6",
   "metadata": {
    "papermill": {
     "duration": 0.026378,
     "end_time": "2022-07-09T03:32:33.872649",
     "exception": false,
     "start_time": "2022-07-09T03:32:33.846271",
     "status": "completed"
    },
    "tags": []
   },
   "source": [
    "> ### fillna()\n",
    "DataFrame에서 결측값을 원하는 값으로 변경하는 메서드\n",
    "결측값: 지정한 데이터 값을 사용자 결측값으로 정의"
   ]
  },
  {
   "cell_type": "markdown",
   "id": "00b79c66",
   "metadata": {
    "papermill": {
     "duration": 0.026428,
     "end_time": "2022-07-09T03:32:33.926218",
     "exception": false,
     "start_time": "2022-07-09T03:32:33.899790",
     "status": "completed"
    },
    "tags": []
   },
   "source": [
    "> ### inplace = True/False\n",
    ">- True → 명령어를 실행 한 후 메소드가 적용된 데이터 프레임으로 반환 한다. 즉, 삭제 메소드를 실행했다면 반환값은 컬럼이 삭제된 Dataframe이 된다.\n",
    ">- False → 명령어를 실행 한 후 메소드가 적용된 데이터 프레임을 기존 데이터 프레임으로 대체하겠다는 뜻"
   ]
  },
  {
   "cell_type": "markdown",
   "id": "43005ba7",
   "metadata": {
    "papermill": {
     "duration": 0.026018,
     "end_time": "2022-07-09T03:32:33.979014",
     "exception": false,
     "start_time": "2022-07-09T03:32:33.952996",
     "status": "completed"
    },
    "tags": []
   },
   "source": [
    "# 3.2 Change Age(continuous to categorical)"
   ]
  },
  {
   "cell_type": "markdown",
   "id": "e27de689",
   "metadata": {
    "papermill": {
     "duration": 0.025962,
     "end_time": "2022-07-09T03:32:34.031283",
     "exception": false,
     "start_time": "2022-07-09T03:32:34.005321",
     "status": "completed"
    },
    "tags": []
   },
   "source": [
    "* Age는 현재 continuous feature 입니다. 이대로 써도 모델을 세울 수 있지만, Age를 몇 개의 group으로 나누어 category 화 시켜줄 수도 있습닏. continuous를 categorical로 바꾸면 자칫 information loss가 생길 수도 있습니다만, 본 튜토리얼에서는 다양한 방법을 소개하는 것이 목적이므로 진행하도록 하겠습니다.\n",
    "\n",
    "* 방법은 여러가지가 있습니다. dataframe의 indexing 방법인 loc를 사용하여 직접해줄 수 있고, 아니면apply를 사용해 함수를 넣어줄 수 있습니다.\n",
    "* 첫번째로 loc를 사용한 방법입니다. loc는 자주 쓰게 되므로 그 사용법을 숙지하시면 좋습니ㅏㄷ.\n",
    "* 나이는 10살 간격으로 나누겠습니다."
   ]
  },
  {
   "cell_type": "code",
   "execution_count": 11,
   "id": "3213d679",
   "metadata": {
    "execution": {
     "iopub.execute_input": "2022-07-09T03:32:34.085676Z",
     "iopub.status.busy": "2022-07-09T03:32:34.085063Z",
     "iopub.status.idle": "2022-07-09T03:32:34.111540Z",
     "shell.execute_reply": "2022-07-09T03:32:34.110426Z"
    },
    "papermill": {
     "duration": 0.056389,
     "end_time": "2022-07-09T03:32:34.113890",
     "exception": false,
     "start_time": "2022-07-09T03:32:34.057501",
     "status": "completed"
    },
    "tags": []
   },
   "outputs": [],
   "source": [
    "df_train['Age_cat'] = 0\n",
    "df_train.loc[df_train['Age'] < 10, 'Age_cat'] = 0\n",
    "df_train.loc[(10 <= df_train['Age']) & (df_train['Age'] < 20), 'Age_cat'] = 1\n",
    "df_train.loc[(20 <= df_train['Age']) & (df_train['Age'] < 30), 'Age_cat'] = 2\n",
    "df_train.loc[(30 <= df_train['Age']) & (df_train['Age'] < 40), 'Age_cat'] = 3\n",
    "df_train.loc[(40 <= df_train['Age']) & (df_train['Age'] < 50), 'Age_cat'] = 4\n",
    "df_train.loc[(50 <= df_train['Age']) & (df_train['Age'] < 60), 'Age_cat'] = 5\n",
    "df_train.loc[(60 <= df_train['Age']) & (df_train['Age'] < 70), 'Age_cat'] = 6\n",
    "df_train.loc[70 <= df_train['Age'], 'Age_cat'] = 7\n",
    "              \n",
    "df_test['Age_cat'] = 0\n",
    "df_test.loc[df_test['Age'] < 10, 'Age_cat'] = 0\n",
    "df_test.loc[(10 <= df_test['Age']) & (df_test['Age'] < 20), 'Age_cat'] = 1\n",
    "df_test.loc[(20 <= df_test['Age']) & (df_test['Age'] < 30), 'Age_cat'] = 2\n",
    "df_test.loc[(30 <= df_test['Age']) & (df_test['Age'] < 40), 'Age_cat'] = 3\n",
    "df_test.loc[(40 <= df_test['Age']) & (df_test['Age'] < 50), 'Age_cat'] = 4\n",
    "df_test.loc[(50 <= df_test['Age']) & (df_test['Age'] < 60), 'Age_cat'] = 5\n",
    "df_test.loc[(60 <= df_test['Age']) & (df_test['Age'] < 70), 'Age_cat'] = 6\n",
    "df_test.loc[70 <= df_test['Age'], 'Age_cat'] = 7"
   ]
  },
  {
   "cell_type": "markdown",
   "id": "d715b3fc",
   "metadata": {
    "papermill": {
     "duration": 0.026054,
     "end_time": "2022-07-09T03:32:34.166354",
     "exception": false,
     "start_time": "2022-07-09T03:32:34.140300",
     "status": "completed"
    },
    "tags": []
   },
   "source": [
    "> ### loc[ ]\n",
    "행 또는 열의 데이터를 조회한다.\n",
    "loc의 첫번째는 행에 대한 정보, 두번째는 열에 대한 정보를 입력한다."
   ]
  },
  {
   "cell_type": "markdown",
   "id": "d1dac409",
   "metadata": {
    "papermill": {
     "duration": 0.025957,
     "end_time": "2022-07-09T03:32:34.218717",
     "exception": false,
     "start_time": "2022-07-09T03:32:34.192760",
     "status": "completed"
    },
    "tags": []
   },
   "source": [
    "* 두번째로 간단한 함수를 만들어 apply 메소드에 넣어주는 방법입니다.\n",
    "* 훨씬 수월합니다."
   ]
  },
  {
   "cell_type": "code",
   "execution_count": 12,
   "id": "51731271",
   "metadata": {
    "execution": {
     "iopub.execute_input": "2022-07-09T03:32:34.273607Z",
     "iopub.status.busy": "2022-07-09T03:32:34.272947Z",
     "iopub.status.idle": "2022-07-09T03:32:34.281030Z",
     "shell.execute_reply": "2022-07-09T03:32:34.280212Z"
    },
    "papermill": {
     "duration": 0.038089,
     "end_time": "2022-07-09T03:32:34.283281",
     "exception": false,
     "start_time": "2022-07-09T03:32:34.245192",
     "status": "completed"
    },
    "tags": []
   },
   "outputs": [],
   "source": [
    "def category_age(x):\n",
    "    if x < 10:\n",
    "        return 0\n",
    "    elif x < 20:\n",
    "        return 1\n",
    "    elif x < 30:\n",
    "        return 2\n",
    "    elif x < 40:\n",
    "        return 3\n",
    "    elif x < 50:\n",
    "        return 4\n",
    "    elif x < 60:\n",
    "        return 5\n",
    "    elif x < 70:\n",
    "        return 6\n",
    "    else:\n",
    "        return 7\n",
    "    \n",
    "df_train['Age_cat_2'] = df_train['Age'].apply(category_age)"
   ]
  },
  {
   "cell_type": "markdown",
   "id": "2080f4fb",
   "metadata": {
    "papermill": {
     "duration": 0.0265,
     "end_time": "2022-07-09T03:32:34.336306",
     "exception": false,
     "start_time": "2022-07-09T03:32:34.309806",
     "status": "completed"
    },
    "tags": []
   },
   "source": [
    "> ### apply() 메서드\n",
    "주어진 this값과 배열(또는 유사 배열 객체)로 제공되는 arguments로 함수를 호출한다."
   ]
  },
  {
   "cell_type": "markdown",
   "id": "b730bf02",
   "metadata": {
    "papermill": {
     "duration": 0.025817,
     "end_time": "2022-07-09T03:32:34.389152",
     "exception": false,
     "start_time": "2022-07-09T03:32:34.363335",
     "status": "completed"
    },
    "tags": []
   },
   "source": [
    "* 두가지 방법이 잘 적용됐다면, 둘다 같은 결과를 내야 합니다.\n",
    "* 이를 확인하기 위해 Series간 boolean 비교 후 all() 메소드를 사용합시다. all() 메소드는 모든 값이 True면 True, 하나라도 False가 있으면 False를 줍니다."
   ]
  },
  {
   "cell_type": "code",
   "execution_count": 13,
   "id": "03d952de",
   "metadata": {
    "execution": {
     "iopub.execute_input": "2022-07-09T03:32:34.443195Z",
     "iopub.status.busy": "2022-07-09T03:32:34.442780Z",
     "iopub.status.idle": "2022-07-09T03:32:34.449616Z",
     "shell.execute_reply": "2022-07-09T03:32:34.448551Z"
    },
    "papermill": {
     "duration": 0.036425,
     "end_time": "2022-07-09T03:32:34.451761",
     "exception": false,
     "start_time": "2022-07-09T03:32:34.415336",
     "status": "completed"
    },
    "tags": []
   },
   "outputs": [
    {
     "name": "stdout",
     "output_type": "stream",
     "text": [
      "1번 방법, 2번 방법 둘다 같은 결과를 내면 True 줘야함 ->  True\n"
     ]
    }
   ],
   "source": [
    "print('1번 방법, 2번 방법 둘다 같은 결과를 내면 True 줘야함 -> ', (df_train['Age_cat'] == df_train['Age_cat_2']).all())"
   ]
  },
  {
   "cell_type": "markdown",
   "id": "da870f1a",
   "metadata": {
    "papermill": {
     "duration": 0.026106,
     "end_time": "2022-07-09T03:32:34.504462",
     "exception": false,
     "start_time": "2022-07-09T03:32:34.478356",
     "status": "completed"
    },
    "tags": []
   },
   "source": [
    ">### all()\n",
    ">- arguments로 iterable한 객체를 받는다.\n",
    ">- 모두 True 여야 True 반환"
   ]
  },
  {
   "cell_type": "markdown",
   "id": "bee56e0b",
   "metadata": {
    "papermill": {
     "duration": 0.026075,
     "end_time": "2022-07-09T03:32:34.557143",
     "exception": false,
     "start_time": "2022-07-09T03:32:34.531068",
     "status": "completed"
    },
    "tags": []
   },
   "source": [
    "* 보시다시피 True 입니다. 둘 중 편한 걸 선택하시면 됩니다.\n",
    "* 이제 중복되는 Age_cat 컬럼과 원래 컬럼 Age를 제거하겠습니다."
   ]
  },
  {
   "cell_type": "code",
   "execution_count": 14,
   "id": "42cb772c",
   "metadata": {
    "execution": {
     "iopub.execute_input": "2022-07-09T03:32:34.612299Z",
     "iopub.status.busy": "2022-07-09T03:32:34.611630Z",
     "iopub.status.idle": "2022-07-09T03:32:34.618418Z",
     "shell.execute_reply": "2022-07-09T03:32:34.617656Z"
    },
    "papermill": {
     "duration": 0.036351,
     "end_time": "2022-07-09T03:32:34.620418",
     "exception": false,
     "start_time": "2022-07-09T03:32:34.584067",
     "status": "completed"
    },
    "tags": []
   },
   "outputs": [],
   "source": [
    "df_train.drop(['Age','Age_cat_2'],axis = 1, inplace = True)\n",
    "df_test.drop(['Age'], axis = 1, inplace = True)"
   ]
  },
  {
   "cell_type": "markdown",
   "id": "a4b9825c",
   "metadata": {
    "papermill": {
     "duration": 0.02636,
     "end_time": "2022-07-09T03:32:34.673321",
     "exception": false,
     "start_time": "2022-07-09T03:32:34.646961",
     "status": "completed"
    },
    "tags": []
   },
   "source": [
    "> ### drop() 메소드\n",
    "데이터프레임의 행 또는 열을 삭제하는 명령\n",
    "단, 기존 객체를 변경하지 않고 새로운 객체를 반환하는 점에 유의한다.\n",
    "따라서 원본 객체를 직접 변경하기 위해서는 inplace=True 옵션을 추가하던지 df=df.drop() 처럼 반환된 객체를 기존 변수에 저장하여 대체해준다.\n",
    ">```\n",
    ">행 삭제 : DataFrame 객체.drop('행 인덱스' 또는 ['배열'], axis=0)\n",
    ">열 삭제 : DataFrame 객체.drop('열 이름' 또는 ['배열'], axis=1)\n",
    ">```"
   ]
  },
  {
   "cell_type": "markdown",
   "id": "a2d28c2b",
   "metadata": {
    "papermill": {
     "duration": 0.026212,
     "end_time": "2022-07-09T03:32:34.726319",
     "exception": false,
     "start_time": "2022-07-09T03:32:34.700107",
     "status": "completed"
    },
    "tags": []
   },
   "source": [
    "# 3.3 Changing Initial, Embarked and Sex (string to numerical)"
   ]
  },
  {
   "cell_type": "markdown",
   "id": "7c414d1e",
   "metadata": {
    "papermill": {
     "duration": 0.027075,
     "end_time": "2022-07-09T03:32:34.780826",
     "exception": false,
     "start_time": "2022-07-09T03:32:34.753751",
     "status": "completed"
    },
    "tags": []
   },
   "source": [
    "* 현재 Initial은 Mr, Mrs, Miss, Master, Other 총 5개로 이루어져 있습니다. 이런 카테고리는 표현되어져 있는 데이터를 모델에 인풋으로 넣어줄 때 우리가 해야할 것은 먼저 컴퓨터가 인식할 수 있도록 수치화시켜야 합니다.\n",
    "* map method를 가지고 간단히 할 수 있습니다.\n",
    "* 사전 순서대로 정리하여 mapping 하겠습니다."
   ]
  },
  {
   "cell_type": "code",
   "execution_count": 15,
   "id": "03b6a152",
   "metadata": {
    "execution": {
     "iopub.execute_input": "2022-07-09T03:32:34.835952Z",
     "iopub.status.busy": "2022-07-09T03:32:34.835297Z",
     "iopub.status.idle": "2022-07-09T03:32:34.842911Z",
     "shell.execute_reply": "2022-07-09T03:32:34.842168Z"
    },
    "papermill": {
     "duration": 0.037731,
     "end_time": "2022-07-09T03:32:34.845168",
     "exception": false,
     "start_time": "2022-07-09T03:32:34.807437",
     "status": "completed"
    },
    "tags": []
   },
   "outputs": [],
   "source": [
    "df_train['Initial'] = df_train['Initial'].map({'Master': 0, 'Miss': 1, 'Mr': 2, 'Mrs': 3, 'Other': 4})\n",
    "df_test['Initial'] = df_test['Initial'].map({'Master': 0, 'Miss': 1, 'Mr': 2, 'Mrs': 3, 'Other': 4})"
   ]
  },
  {
   "cell_type": "markdown",
   "id": "355c8e25",
   "metadata": {
    "papermill": {
     "duration": 0.02734,
     "end_time": "2022-07-09T03:32:34.899110",
     "exception": false,
     "start_time": "2022-07-09T03:32:34.871770",
     "status": "completed"
    },
    "tags": []
   },
   "source": [
    "* Embarked 도 C, Q, S로 이루어져 있습니다. map을 이용해 바꿔봅시다.\n",
    "* 그러기 앞서서, 특정 column에 어떤 값들이 있는지 확인해보는 방법을 잠깐 살펴보겠습니다. 간단히 unique() 메소드를 쓰거나, value_counts()를 써서 count까지 보는 방법이 있습니다."
   ]
  },
  {
   "cell_type": "code",
   "execution_count": 16,
   "id": "16c6d784",
   "metadata": {
    "execution": {
     "iopub.execute_input": "2022-07-09T03:32:34.954963Z",
     "iopub.status.busy": "2022-07-09T03:32:34.954291Z",
     "iopub.status.idle": "2022-07-09T03:32:34.960283Z",
     "shell.execute_reply": "2022-07-09T03:32:34.959551Z"
    },
    "papermill": {
     "duration": 0.036362,
     "end_time": "2022-07-09T03:32:34.962302",
     "exception": false,
     "start_time": "2022-07-09T03:32:34.925940",
     "status": "completed"
    },
    "tags": []
   },
   "outputs": [
    {
     "data": {
      "text/plain": [
       "array(['S', 'C', 'Q'], dtype=object)"
      ]
     },
     "execution_count": 16,
     "metadata": {},
     "output_type": "execute_result"
    }
   ],
   "source": [
    "df_train['Embarked'].unique()"
   ]
  },
  {
   "cell_type": "markdown",
   "id": "bc1ac3e3",
   "metadata": {
    "papermill": {
     "duration": 0.026918,
     "end_time": "2022-07-09T03:32:35.015927",
     "exception": false,
     "start_time": "2022-07-09T03:32:34.989009",
     "status": "completed"
    },
    "tags": []
   },
   "source": [
    "> ### unique()\n",
    "데이터에 고유값들이 어떠한 종류들이 있는지 알고 싶을때 사용하는 함수"
   ]
  },
  {
   "cell_type": "code",
   "execution_count": 17,
   "id": "8dab913d",
   "metadata": {
    "execution": {
     "iopub.execute_input": "2022-07-09T03:32:35.071804Z",
     "iopub.status.busy": "2022-07-09T03:32:35.071082Z",
     "iopub.status.idle": "2022-07-09T03:32:35.078828Z",
     "shell.execute_reply": "2022-07-09T03:32:35.077674Z"
    },
    "papermill": {
     "duration": 0.038272,
     "end_time": "2022-07-09T03:32:35.081130",
     "exception": false,
     "start_time": "2022-07-09T03:32:35.042858",
     "status": "completed"
    },
    "tags": []
   },
   "outputs": [
    {
     "data": {
      "text/plain": [
       "S    646\n",
       "C    168\n",
       "Q     77\n",
       "Name: Embarked, dtype: int64"
      ]
     },
     "execution_count": 17,
     "metadata": {},
     "output_type": "execute_result"
    }
   ],
   "source": [
    "df_train['Embarked'].value_counts()"
   ]
  },
  {
   "cell_type": "markdown",
   "id": "9ee271b3",
   "metadata": {
    "papermill": {
     "duration": 0.026373,
     "end_time": "2022-07-09T03:32:35.134148",
     "exception": false,
     "start_time": "2022-07-09T03:32:35.107775",
     "status": "completed"
    },
    "tags": []
   },
   "source": [
    "* 위 두 방법을 사용해 Embarked가 S, C, Q 세가지로 이루어진 것을 볼 수 있습니다. 이제 map을 사용해봅시다."
   ]
  },
  {
   "cell_type": "markdown",
   "id": "caa88dec",
   "metadata": {
    "papermill": {
     "duration": 0.025985,
     "end_time": "2022-07-09T03:32:35.186585",
     "exception": false,
     "start_time": "2022-07-09T03:32:35.160600",
     "status": "completed"
    },
    "tags": []
   },
   "source": [
    "> ### value_counts()\n",
    "값별로 데이터의 수를 출력해주는 함수"
   ]
  },
  {
   "cell_type": "code",
   "execution_count": 18,
   "id": "6dffb58e",
   "metadata": {
    "execution": {
     "iopub.execute_input": "2022-07-09T03:32:35.241372Z",
     "iopub.status.busy": "2022-07-09T03:32:35.240631Z",
     "iopub.status.idle": "2022-07-09T03:32:35.248586Z",
     "shell.execute_reply": "2022-07-09T03:32:35.247884Z"
    },
    "papermill": {
     "duration": 0.037971,
     "end_time": "2022-07-09T03:32:35.250776",
     "exception": false,
     "start_time": "2022-07-09T03:32:35.212805",
     "status": "completed"
    },
    "tags": []
   },
   "outputs": [],
   "source": [
    "df_train['Embarked'] = df_train['Embarked'].map({'C': 0, 'Q': 1, 'S': 2})\n",
    "df_test['Embarked'] = df_test['Embarked'].map({'C': 0, 'Q': 1, 'S': 2})"
   ]
  },
  {
   "cell_type": "markdown",
   "id": "23ba009d",
   "metadata": {
    "papermill": {
     "duration": 0.026056,
     "end_time": "2022-07-09T03:32:35.303389",
     "exception": false,
     "start_time": "2022-07-09T03:32:35.277333",
     "status": "completed"
    },
    "tags": []
   },
   "source": [
    "* 한번 Null이 사라졌는지 확인해봅시다. Embarked Column만 가져온 것은 하나의 pandas의 Series 객체므로, isnull() 메소드를 사용해 Series의 값들이 null인지 아닌지에 대한 boolean 값을 얻을 수 있습니다. 그리고 이것에 any()를 사용하여, True가 단 하나라도 있을 시 (Null이 한개라도 있을 시) True를 반환해주게 됩니다. 우리는 Null을 S로 다 바꾸어주었으므로 False를 얻게 됩니다."
   ]
  },
  {
   "cell_type": "code",
   "execution_count": 19,
   "id": "38c41cb5",
   "metadata": {
    "execution": {
     "iopub.execute_input": "2022-07-09T03:32:35.358104Z",
     "iopub.status.busy": "2022-07-09T03:32:35.357363Z",
     "iopub.status.idle": "2022-07-09T03:32:35.364948Z",
     "shell.execute_reply": "2022-07-09T03:32:35.363893Z"
    },
    "papermill": {
     "duration": 0.037508,
     "end_time": "2022-07-09T03:32:35.367194",
     "exception": false,
     "start_time": "2022-07-09T03:32:35.329686",
     "status": "completed"
    },
    "tags": []
   },
   "outputs": [
    {
     "data": {
      "text/plain": [
       "False"
      ]
     },
     "execution_count": 19,
     "metadata": {},
     "output_type": "execute_result"
    }
   ],
   "source": [
    "df_train['Embarked'].isnull().any()"
   ]
  },
  {
   "cell_type": "markdown",
   "id": "88a907d8",
   "metadata": {
    "papermill": {
     "duration": 0.026426,
     "end_time": "2022-07-09T03:32:35.420267",
     "exception": false,
     "start_time": "2022-07-09T03:32:35.393841",
     "status": "completed"
    },
    "tags": []
   },
   "source": [
    "* Sex도 Female, male로 이루어져 있습니다. map을 이용해 바꿔줍시다."
   ]
  },
  {
   "cell_type": "markdown",
   "id": "6eb5836c",
   "metadata": {
    "papermill": {
     "duration": 0.02612,
     "end_time": "2022-07-09T03:32:35.472857",
     "exception": false,
     "start_time": "2022-07-09T03:32:35.446737",
     "status": "completed"
    },
    "tags": []
   },
   "source": [
    "> ### any(iterable)함수\n",
    ">- 인자로 받은 반복가능한 자료형(iterable) 중 단 하나라도 참(True)이 있으면 참(True)를 반환하는 함수\n",
    ">- 모든 요소가 거짓(False)인 경우에만 거짓(False)을 반환한다.\n",
    ">- or의 특징을 가진 함수"
   ]
  },
  {
   "cell_type": "code",
   "execution_count": 20,
   "id": "f3adaf41",
   "metadata": {
    "execution": {
     "iopub.execute_input": "2022-07-09T03:32:35.528257Z",
     "iopub.status.busy": "2022-07-09T03:32:35.527842Z",
     "iopub.status.idle": "2022-07-09T03:32:35.536127Z",
     "shell.execute_reply": "2022-07-09T03:32:35.535341Z"
    },
    "papermill": {
     "duration": 0.039275,
     "end_time": "2022-07-09T03:32:35.538657",
     "exception": false,
     "start_time": "2022-07-09T03:32:35.499382",
     "status": "completed"
    },
    "tags": []
   },
   "outputs": [],
   "source": [
    "df_train['Sex'] = df_train['Sex'].map({'female': 0, 'male': 1})\n",
    "df_test['Sex'] = df_test['Sex'].map({'female': 0, 'male': 1})"
   ]
  },
  {
   "cell_type": "markdown",
   "id": "50b198fc",
   "metadata": {
    "papermill": {
     "duration": 0.026852,
     "end_time": "2022-07-09T03:32:35.599512",
     "exception": false,
     "start_time": "2022-07-09T03:32:35.572660",
     "status": "completed"
    },
    "tags": []
   },
   "source": [
    "* 여지껏 고생하셨습니다. 이제 각 feature간의 상관관계를 한번 보려고 합니다. 두 변수간의 Pearson correlation을 구하면 (-1, 1) 사이의 값을 얻을 수 있습니다. -1로 갈수록 음의 상관관계, 1로 갈수록 양의 상관관계를 의미하며, 0은 상관관계가 없다는 것을 의미합니다. 구하는 수식은 아래와 같습니다."
   ]
  },
  {
   "attachments": {
    "bcacbb6d-e487-404e-80e1-6977ea2be5fc.png": {
     "image/png": "[encoded data removed]"
    }
   },
   "cell_type": "markdown",
   "id": "aff699dc",
   "metadata": {
    "papermill": {
     "duration": 0.026289,
     "end_time": "2022-07-09T03:32:35.652573",
     "exception": false,
     "start_time": "2022-07-09T03:32:35.626284",
     "status": "completed"
    },
    "tags": []
   },
   "source": [
    "![image.png](attachment:bcacbb6d-e487-404e-80e1-6977ea2be5fc.png)"
   ]
  },
  {
   "cell_type": "markdown",
   "id": "5f0ace75",
   "metadata": {
    "papermill": {
     "duration": 0.026215,
     "end_time": "2022-07-09T03:32:35.705434",
     "exception": false,
     "start_time": "2022-07-09T03:32:35.679219",
     "status": "completed"
    },
    "tags": []
   },
   "source": [
    "* 우리는 여러 feature를 가지고 있으니 이를 하나의 maxtrix 형태로 보면 편할텐데, 이를 heatmap plot이라고 하며, dataframe의 corr() 메소드와 seaborn을 가지고 편하게 그릴 수 있습니다."
   ]
  },
  {
   "cell_type": "code",
   "execution_count": 21,
   "id": "b68f11dd",
   "metadata": {
    "execution": {
     "iopub.execute_input": "2022-07-09T03:32:35.760910Z",
     "iopub.status.busy": "2022-07-09T03:32:35.760170Z",
     "iopub.status.idle": "2022-07-09T03:32:36.369052Z",
     "shell.execute_reply": "2022-07-09T03:32:36.367862Z"
    },
    "papermill": {
     "duration": 0.640189,
     "end_time": "2022-07-09T03:32:36.372229",
     "exception": false,
     "start_time": "2022-07-09T03:32:35.732040",
     "status": "completed"
    },
    "tags": []
   },
   "outputs": [
    {
     "data": {
      "image/png": "[encoded data removed]",
      "text/plain": [
       "<Figure size 1008x864 with 2 Axes>"
      ]
     },
     "metadata": {
      "needs_background": "light"
     },
     "output_type": "display_data"
    }
   ],
   "source": [
    "heatmap_data = df_train[['Survived', 'Pclass', 'Sex', 'Fare', 'Embarked', 'FamilySize', 'Initial', 'Age_cat']]\n",
    "\n",
    "colormap = plt.cm.RdBu\n",
    "plt.figure(figsize=(14,12))\n",
    "plt.title('Pearson Correlation of Features', y = 1.05, size = 15)\n",
    "sns.heatmap(heatmap_data.astype(float).corr(),linewidths = 0.1, vmax = 1.0, square = True, cmap = colormap, linecolor = 'white', annot = True, annot_kws = {\"size\": 16})\n",
    "\n",
    "del heatmap_data"
   ]
  },
  {
   "cell_type": "markdown",
   "id": "a8555ecb",
   "metadata": {
    "papermill": {
     "duration": 0.028436,
     "end_time": "2022-07-09T03:32:36.429542",
     "exception": false,
     "start_time": "2022-07-09T03:32:36.401106",
     "status": "completed"
    },
    "tags": []
   },
   "source": [
    "* 우리가 EDA에서 살펴봤듯이, Sex와 Pclass가 Survived에 상관관계가 어느 정도 있음을 볼 수 있습니다.\n",
    "* 생각보다 fare와 Embarked도 상관관계가 있음을 볼 수 있습니다.\n",
    "* 또한 우리가 여기서 얻을 수 있는 정보는 서로 강한 상관관계를 가지는 feature들이 없다는 것입니다.\n",
    "* 이것은 우리가 모델을 학습시킬 때, 불필요한(redundant, superfluous) feature가 없다는 것을 의미합니다. 1 또는 -1의 상관관계를 가진 feature A, B가 있다면, 우리가 얻을 수 있는 정보는 사실 하나일 거니까요.\n",
    "* 이제 실제로 모델을 학습시키기 앞서서 data proprocessing(전처리)을 진행해보겠습니다. 거의 다 와갑니다 힘냅시다!"
   ]
  },
  {
   "cell_type": "markdown",
   "id": "e5653a6e",
   "metadata": {
    "papermill": {
     "duration": 0.028345,
     "end_time": "2022-07-09T03:32:36.486446",
     "exception": false,
     "start_time": "2022-07-09T03:32:36.458101",
     "status": "completed"
    },
    "tags": []
   },
   "source": [
    "> ### RdBu\n",
    "양의 상관관계가 높을수록 진한 파란색, 음의 상관관계가 높을수록 진한 빨간색"
   ]
  },
  {
   "cell_type": "markdown",
   "id": "0ee43465",
   "metadata": {
    "papermill": {
     "duration": 0.028067,
     "end_time": "2022-07-09T03:32:36.543075",
     "exception": false,
     "start_time": "2022-07-09T03:32:36.515008",
     "status": "completed"
    },
    "tags": []
   },
   "source": [
    "> ### heatmap\n",
    ">- 열을 의미하는 heat와 지도를 뜻하는 map을 합친 단어\n",
    ">- 데이터들의 배열을 색상으로 표현해주는 그래프"
   ]
  },
  {
   "cell_type": "markdown",
   "id": "4f920d01",
   "metadata": {
    "papermill": {
     "duration": 0.028119,
     "end_time": "2022-07-09T03:32:36.599655",
     "exception": false,
     "start_time": "2022-07-09T03:32:36.571536",
     "status": "completed"
    },
    "tags": []
   },
   "source": [
    "> ### linewidths\n",
    "선의 두께"
   ]
  },
  {
   "cell_type": "markdown",
   "id": "36c260bc",
   "metadata": {
    "papermill": {
     "duration": 0.028099,
     "end_time": "2022-07-09T03:32:36.656305",
     "exception": false,
     "start_time": "2022-07-09T03:32:36.628206",
     "status": "completed"
    },
    "tags": []
   },
   "source": [
    "# 3.4 One-hot encoding on Initial and Embarked"
   ]
  },
  {
   "cell_type": "markdown",
   "id": "5bae19d7",
   "metadata": {
    "papermill": {
     "duration": 0.028083,
     "end_time": "2022-07-09T03:32:36.712750",
     "exception": false,
     "start_time": "2022-07-09T03:32:36.684667",
     "status": "completed"
    },
    "tags": []
   },
   "source": [
    "* 수치화시킨 카테고리 데이터를 그대로 넣어도 되지만, 모델의 성능을 높이기 위해 one-hot encoding을 해줄 수 있습니다.\n",
    "* 수치화는 간단히 Master == 0, Miss == 1, Mr == 2, Mrs == 3,Other == 4로 매핑해주는 것을 말합니다.\n",
    "* One-hot encoding은 위 카테고리를 아래와 같이 (0, 1)로 이루어진 5차원의 벡터로 나타내는 것을 말합니다."
   ]
  },
  {
   "attachments": {
    "1490cc81-da38-440e-873d-8838f91cc34d.png": {
     "image/png": "[encoded data removed]"
    }
   },
   "cell_type": "markdown",
   "id": "9a5ff2c1",
   "metadata": {
    "papermill": {
     "duration": 0.028325,
     "end_time": "2022-07-09T03:32:36.769498",
     "exception": false,
     "start_time": "2022-07-09T03:32:36.741173",
     "status": "completed"
    },
    "tags": []
   },
   "source": [
    "![image.png](attachment:1490cc81-da38-440e-873d-8838f91cc34d.png)"
   ]
  },
  {
   "cell_type": "markdown",
   "id": "f021950a",
   "metadata": {
    "papermill": {
     "duration": 0.028645,
     "end_time": "2022-07-09T03:32:36.826870",
     "exception": false,
     "start_time": "2022-07-09T03:32:36.798225",
     "status": "completed"
    },
    "tags": []
   },
   "source": [
    "* 위와 같은 작업을 직접 코딩할 수도 있지만, pandas의 get_dummies를 사용하여 쉽게 해결할 수 있습니다.\n",
    "* 총 5개의 카테고리니, one-hot encoding을 하고 나면 새로운 5개의 column이 생겨납니다.\n",
    "* Initial을 prefix로 두어서 구분이 쉽게 만들어 줍니다."
   ]
  },
  {
   "cell_type": "code",
   "execution_count": 22,
   "id": "3b85c82a",
   "metadata": {
    "execution": {
     "iopub.execute_input": "2022-07-09T03:32:36.888302Z",
     "iopub.status.busy": "2022-07-09T03:32:36.887558Z",
     "iopub.status.idle": "2022-07-09T03:32:36.901264Z",
     "shell.execute_reply": "2022-07-09T03:32:36.900400Z"
    },
    "papermill": {
     "duration": 0.04699,
     "end_time": "2022-07-09T03:32:36.903619",
     "exception": false,
     "start_time": "2022-07-09T03:32:36.856629",
     "status": "completed"
    },
    "tags": []
   },
   "outputs": [],
   "source": [
    "df_train = pd.get_dummies(df_train, columns = ['Initial'], prefix = 'Initial')\n",
    "df_test = pd.get_dummies(df_test, columns = ['Initial'], prefix = 'Initial')"
   ]
  },
  {
   "cell_type": "markdown",
   "id": "931889cd",
   "metadata": {
    "papermill": {
     "duration": 0.028468,
     "end_time": "2022-07-09T03:32:36.962389",
     "exception": false,
     "start_time": "2022-07-09T03:32:36.933921",
     "status": "completed"
    },
    "tags": []
   },
   "source": [
    "> ### prefix\n",
    "접두사"
   ]
  },
  {
   "cell_type": "code",
   "execution_count": 23,
   "id": "2af7d84a",
   "metadata": {
    "execution": {
     "iopub.execute_input": "2022-07-09T03:32:37.021872Z",
     "iopub.status.busy": "2022-07-09T03:32:37.021504Z",
     "iopub.status.idle": "2022-07-09T03:32:37.038249Z",
     "shell.execute_reply": "2022-07-09T03:32:37.037376Z"
    },
    "papermill": {
     "duration": 0.048947,
     "end_time": "2022-07-09T03:32:37.040271",
     "exception": false,
     "start_time": "2022-07-09T03:32:36.991324",
     "status": "completed"
    },
    "tags": []
   },
   "outputs": [
    {
     "data": {
      "text/html": [
       "<div>\n",
       "<style scoped>\n",
       "    .dataframe tbody tr th:only-of-type {\n",
       "        vertical-align: middle;\n",
       "    }\n",
       "\n",
       "    .dataframe tbody tr th {\n",
       "        vertical-align: top;\n",
       "    }\n",
       "\n",
       "    .dataframe thead th {\n",
       "        text-align: right;\n",
       "    }\n",
       "</style>\n",
       "<table border=\"1\" class=\"dataframe\">\n",
       "  <thead>\n",
       "    <tr style=\"text-align: right;\">\n",
       "      <th></th>\n",
       "      <th>PassengerId</th>\n",
       "      <th>Survived</th>\n",
       "      <th>Pclass</th>\n",
       "      <th>Name</th>\n",
       "      <th>Sex</th>\n",
       "      <th>SibSp</th>\n",
       "      <th>Parch</th>\n",
       "      <th>Ticket</th>\n",
       "      <th>Fare</th>\n",
       "      <th>Cabin</th>\n",
       "      <th>Embarked</th>\n",
       "      <th>FamilySize</th>\n",
       "      <th>Age_cat</th>\n",
       "      <th>Initial_0</th>\n",
       "      <th>Initial_1</th>\n",
       "      <th>Initial_2</th>\n",
       "      <th>Initial_3</th>\n",
       "      <th>Initial_4</th>\n",
       "    </tr>\n",
       "  </thead>\n",
       "  <tbody>\n",
       "    <tr>\n",
       "      <th>0</th>\n",
       "      <td>1</td>\n",
       "      <td>0</td>\n",
       "      <td>3</td>\n",
       "      <td>Braund, Mr. Owen Harris</td>\n",
       "      <td>1</td>\n",
       "      <td>1</td>\n",
       "      <td>0</td>\n",
       "      <td>A/5 21171</td>\n",
       "      <td>1.981001</td>\n",
       "      <td>NaN</td>\n",
       "      <td>2</td>\n",
       "      <td>2</td>\n",
       "      <td>2</td>\n",
       "      <td>0</td>\n",
       "      <td>0</td>\n",
       "      <td>1</td>\n",
       "      <td>0</td>\n",
       "      <td>0</td>\n",
       "    </tr>\n",
       "    <tr>\n",
       "      <th>1</th>\n",
       "      <td>2</td>\n",
       "      <td>1</td>\n",
       "      <td>1</td>\n",
       "      <td>Cumings, Mrs. John Bradley (Florence Briggs Th...</td>\n",
       "      <td>0</td>\n",
       "      <td>1</td>\n",
       "      <td>0</td>\n",
       "      <td>PC 17599</td>\n",
       "      <td>4.266662</td>\n",
       "      <td>C85</td>\n",
       "      <td>0</td>\n",
       "      <td>2</td>\n",
       "      <td>3</td>\n",
       "      <td>0</td>\n",
       "      <td>0</td>\n",
       "      <td>0</td>\n",
       "      <td>1</td>\n",
       "      <td>0</td>\n",
       "    </tr>\n",
       "    <tr>\n",
       "      <th>2</th>\n",
       "      <td>3</td>\n",
       "      <td>1</td>\n",
       "      <td>3</td>\n",
       "      <td>Heikkinen, Miss. Laina</td>\n",
       "      <td>0</td>\n",
       "      <td>0</td>\n",
       "      <td>0</td>\n",
       "      <td>STON/O2. 3101282</td>\n",
       "      <td>2.070022</td>\n",
       "      <td>NaN</td>\n",
       "      <td>2</td>\n",
       "      <td>1</td>\n",
       "      <td>2</td>\n",
       "      <td>0</td>\n",
       "      <td>1</td>\n",
       "      <td>0</td>\n",
       "      <td>0</td>\n",
       "      <td>0</td>\n",
       "    </tr>\n",
       "    <tr>\n",
       "      <th>3</th>\n",
       "      <td>4</td>\n",
       "      <td>1</td>\n",
       "      <td>1</td>\n",
       "      <td>Futrelle, Mrs. Jacques Heath (Lily May Peel)</td>\n",
       "      <td>0</td>\n",
       "      <td>1</td>\n",
       "      <td>0</td>\n",
       "      <td>113803</td>\n",
       "      <td>3.972177</td>\n",
       "      <td>C123</td>\n",
       "      <td>2</td>\n",
       "      <td>2</td>\n",
       "      <td>3</td>\n",
       "      <td>0</td>\n",
       "      <td>0</td>\n",
       "      <td>0</td>\n",
       "      <td>1</td>\n",
       "      <td>0</td>\n",
       "    </tr>\n",
       "    <tr>\n",
       "      <th>4</th>\n",
       "      <td>5</td>\n",
       "      <td>0</td>\n",
       "      <td>3</td>\n",
       "      <td>Allen, Mr. William Henry</td>\n",
       "      <td>1</td>\n",
       "      <td>0</td>\n",
       "      <td>0</td>\n",
       "      <td>373450</td>\n",
       "      <td>2.085672</td>\n",
       "      <td>NaN</td>\n",
       "      <td>2</td>\n",
       "      <td>1</td>\n",
       "      <td>3</td>\n",
       "      <td>0</td>\n",
       "      <td>0</td>\n",
       "      <td>1</td>\n",
       "      <td>0</td>\n",
       "      <td>0</td>\n",
       "    </tr>\n",
       "  </tbody>\n",
       "</table>\n",
       "</div>"
      ],
      "text/plain": [
       "   PassengerId  Survived  Pclass  \\\n",
       "0            1         0       3   \n",
       "1            2         1       1   \n",
       "2            3         1       3   \n",
       "3            4         1       1   \n",
       "4            5         0       3   \n",
       "\n",
       "                                                Name  Sex  SibSp  Parch  \\\n",
       "0                            Braund, Mr. Owen Harris    1      1      0   \n",
       "1  Cumings, Mrs. John Bradley (Florence Briggs Th...    0      1      0   \n",
       "2                             Heikkinen, Miss. Laina    0      0      0   \n",
       "3       Futrelle, Mrs. Jacques Heath (Lily May Peel)    0      1      0   \n",
       "4                           Allen, Mr. William Henry    1      0      0   \n",
       "\n",
       "             Ticket      Fare Cabin  Embarked  FamilySize  Age_cat  Initial_0  \\\n",
       "0         A/5 21171  1.981001   NaN         2           2        2          0   \n",
       "1          PC 17599  4.266662   C85         0           2        3          0   \n",
       "2  STON/O2. 3101282  2.070022   NaN         2           1        2          0   \n",
       "3            113803  3.972177  C123         2           2        3          0   \n",
       "4            373450  2.085672   NaN         2           1        3          0   \n",
       "\n",
       "   Initial_1  Initial_2  Initial_3  Initial_4  \n",
       "0          0          1          0          0  \n",
       "1          0          0          1          0  \n",
       "2          1          0          0          0  \n",
       "3          0          0          1          0  \n",
       "4          0          1          0          0  "
      ]
     },
     "execution_count": 23,
     "metadata": {},
     "output_type": "execute_result"
    }
   ],
   "source": [
    "df_train.head()"
   ]
  },
  {
   "cell_type": "markdown",
   "id": "7afd03a1",
   "metadata": {
    "papermill": {
     "duration": 0.02944,
     "end_time": "2022-07-09T03:32:37.099049",
     "exception": false,
     "start_time": "2022-07-09T03:32:37.069609",
     "status": "completed"
    },
    "tags": []
   },
   "source": [
    "* 보시다시피 오른쪽에 우리가 만들려고 했던 one-hot encoded columns가 생성된 것이 보입니다.\n",
    "* Embarked에도 적용하겠습니ㅏㄷ. Initial 때와 마찬가지로 one-hot encoding을 사용해 표현하겠습니다."
   ]
  },
  {
   "cell_type": "code",
   "execution_count": 24,
   "id": "d5593eb8",
   "metadata": {
    "execution": {
     "iopub.execute_input": "2022-07-09T03:32:37.159388Z",
     "iopub.status.busy": "2022-07-09T03:32:37.158969Z",
     "iopub.status.idle": "2022-07-09T03:32:37.173812Z",
     "shell.execute_reply": "2022-07-09T03:32:37.172768Z"
    },
    "papermill": {
     "duration": 0.047818,
     "end_time": "2022-07-09T03:32:37.176251",
     "exception": false,
     "start_time": "2022-07-09T03:32:37.128433",
     "status": "completed"
    },
    "tags": []
   },
   "outputs": [],
   "source": [
    "df_train = pd.get_dummies(df_train, columns=['Embarked'], prefix='Embarked')\n",
    "df_test = pd.get_dummies(df_test, columns=['Embarked'], prefix='Embarked')"
   ]
  },
  {
   "cell_type": "markdown",
   "id": "748279af",
   "metadata": {
    "papermill": {
     "duration": 0.028919,
     "end_time": "2022-07-09T03:32:37.234781",
     "exception": false,
     "start_time": "2022-07-09T03:32:37.205862",
     "status": "completed"
    },
    "tags": []
   },
   "source": [
    "* 아주 쉽게 one-hot encoding을 적용했습니다.\n",
    "* sklearn로 Labelencoder + OneHotencoder 이요해도 one-hot encoding이 가능합니다.\n",
    "* 다른 튜토리얼에서 한번 써보겠습니다. 여기서는 get_dummies로 충분히 가능하기 때문에 get_dummies만으로 끝내겠습니다.\n",
    "* 가끔 category가 100개가 넘어가는 경우가 있습니다. 이때 one-hot encoding을 사용하면 column이 100개가 생겨, 학습시 매우 버거울 경우가 있습니다. 이런 경우는 다른 방법을 사용하기도 하는데, 이는 다음에 한번 다뤄보겠습니다."
   ]
  },
  {
   "cell_type": "markdown",
   "id": "2c065c31",
   "metadata": {
    "papermill": {
     "duration": 0.02907,
     "end_time": "2022-07-09T03:32:37.293179",
     "exception": false,
     "start_time": "2022-07-09T03:32:37.264109",
     "status": "completed"
    },
    "tags": []
   },
   "source": [
    "> ### get_dummies()\n",
    "데이터프레임에 대한 더미(dummy)변수를 자동으로 생성한다."
   ]
  },
  {
   "cell_type": "markdown",
   "id": "298f76c9",
   "metadata": {
    "papermill": {
     "duration": 0.028865,
     "end_time": "2022-07-09T03:32:37.351274",
     "exception": false,
     "start_time": "2022-07-09T03:32:37.322409",
     "status": "completed"
    },
    "tags": []
   },
   "source": [
    "# 3.5 Drop columns"
   ]
  },
  {
   "cell_type": "markdown",
   "id": "ee9a6372",
   "metadata": {
    "papermill": {
     "duration": 0.028912,
     "end_time": "2022-07-09T03:32:37.409512",
     "exception": false,
     "start_time": "2022-07-09T03:32:37.380600",
     "status": "completed"
    },
    "tags": []
   },
   "source": [
    "* 고생하셨습니다. 이제 책상을 치울 때 입니다. 필요한 columns만 남가고 다 지웁시ㅏㄷ."
   ]
  },
  {
   "cell_type": "code",
   "execution_count": 25,
   "id": "c34197df",
   "metadata": {
    "execution": {
     "iopub.execute_input": "2022-07-09T03:32:37.470328Z",
     "iopub.status.busy": "2022-07-09T03:32:37.469951Z",
     "iopub.status.idle": "2022-07-09T03:32:37.478559Z",
     "shell.execute_reply": "2022-07-09T03:32:37.477423Z"
    },
    "papermill": {
     "duration": 0.041821,
     "end_time": "2022-07-09T03:32:37.481010",
     "exception": false,
     "start_time": "2022-07-09T03:32:37.439189",
     "status": "completed"
    },
    "tags": []
   },
   "outputs": [],
   "source": [
    "df_train.drop(['PassengerId', 'Name', 'SibSp', 'Parch', 'Ticket', 'Cabin'], axis=1, inplace=True)\n",
    "df_test.drop(['PassengerId', 'Name',  'SibSp', 'Parch', 'Ticket', 'Cabin'], axis=1, inplace=True)"
   ]
  },
  {
   "cell_type": "markdown",
   "id": "a44e74ad",
   "metadata": {
    "papermill": {
     "duration": 0.032295,
     "end_time": "2022-07-09T03:32:37.542462",
     "exception": false,
     "start_time": "2022-07-09T03:32:37.510167",
     "status": "completed"
    },
    "tags": []
   },
   "source": [
    "> ### inplace = True/False\n",
    ">- True → 명령어를 실행 한 후 메소드가 적용된 데이터 프레임으로 반환 한다. 즉, 삭제 메소드를 실행했다면 반환값은 컬럼이 삭제된 Dataframe이 된다.\n",
    ">- False → 명령어를 실행 한 후 메소드가 적용된 데이터 프레임을 기존 데이터 프레임으로 대체하겠다는 뜻"
   ]
  },
  {
   "cell_type": "markdown",
   "id": "ca9eb82f",
   "metadata": {
    "papermill": {
     "duration": 0.028647,
     "end_time": "2022-07-09T03:32:37.599971",
     "exception": false,
     "start_time": "2022-07-09T03:32:37.571324",
     "status": "completed"
    },
    "tags": []
   },
   "source": [
    "> ### axis (→매개변수)\n",
    "특정 메소드 또는 함수가 Data Frame에 적용되는 방향을 지정한다.\n",
    "axis = 0 은 함수가 열 단위로 적용되었음을 나타내고, axis= 1 은 함수가 Data Frame에서 행 단위로 적용됨을 의미한다."
   ]
  },
  {
   "cell_type": "code",
   "execution_count": 26,
   "id": "2c2f6c4c",
   "metadata": {
    "execution": {
     "iopub.execute_input": "2022-07-09T03:32:37.660023Z",
     "iopub.status.busy": "2022-07-09T03:32:37.658960Z",
     "iopub.status.idle": "2022-07-09T03:32:37.673573Z",
     "shell.execute_reply": "2022-07-09T03:32:37.672541Z"
    },
    "papermill": {
     "duration": 0.046655,
     "end_time": "2022-07-09T03:32:37.675574",
     "exception": false,
     "start_time": "2022-07-09T03:32:37.628919",
     "status": "completed"
    },
    "tags": []
   },
   "outputs": [
    {
     "data": {
      "text/html": [
       "<div>\n",
       "<style scoped>\n",
       "    .dataframe tbody tr th:only-of-type {\n",
       "        vertical-align: middle;\n",
       "    }\n",
       "\n",
       "    .dataframe tbody tr th {\n",
       "        vertical-align: top;\n",
       "    }\n",
       "\n",
       "    .dataframe thead th {\n",
       "        text-align: right;\n",
       "    }\n",
       "</style>\n",
       "<table border=\"1\" class=\"dataframe\">\n",
       "  <thead>\n",
       "    <tr style=\"text-align: right;\">\n",
       "      <th></th>\n",
       "      <th>Survived</th>\n",
       "      <th>Pclass</th>\n",
       "      <th>Sex</th>\n",
       "      <th>Fare</th>\n",
       "      <th>FamilySize</th>\n",
       "      <th>Age_cat</th>\n",
       "      <th>Initial_0</th>\n",
       "      <th>Initial_1</th>\n",
       "      <th>Initial_2</th>\n",
       "      <th>Initial_3</th>\n",
       "      <th>Initial_4</th>\n",
       "      <th>Embarked_0</th>\n",
       "      <th>Embarked_1</th>\n",
       "      <th>Embarked_2</th>\n",
       "    </tr>\n",
       "  </thead>\n",
       "  <tbody>\n",
       "    <tr>\n",
       "      <th>0</th>\n",
       "      <td>0</td>\n",
       "      <td>3</td>\n",
       "      <td>1</td>\n",
       "      <td>1.981001</td>\n",
       "      <td>2</td>\n",
       "      <td>2</td>\n",
       "      <td>0</td>\n",
       "      <td>0</td>\n",
       "      <td>1</td>\n",
       "      <td>0</td>\n",
       "      <td>0</td>\n",
       "      <td>0</td>\n",
       "      <td>0</td>\n",
       "      <td>1</td>\n",
       "    </tr>\n",
       "    <tr>\n",
       "      <th>1</th>\n",
       "      <td>1</td>\n",
       "      <td>1</td>\n",
       "      <td>0</td>\n",
       "      <td>4.266662</td>\n",
       "      <td>2</td>\n",
       "      <td>3</td>\n",
       "      <td>0</td>\n",
       "      <td>0</td>\n",
       "      <td>0</td>\n",
       "      <td>1</td>\n",
       "      <td>0</td>\n",
       "      <td>1</td>\n",
       "      <td>0</td>\n",
       "      <td>0</td>\n",
       "    </tr>\n",
       "    <tr>\n",
       "      <th>2</th>\n",
       "      <td>1</td>\n",
       "      <td>3</td>\n",
       "      <td>0</td>\n",
       "      <td>2.070022</td>\n",
       "      <td>1</td>\n",
       "      <td>2</td>\n",
       "      <td>0</td>\n",
       "      <td>1</td>\n",
       "      <td>0</td>\n",
       "      <td>0</td>\n",
       "      <td>0</td>\n",
       "      <td>0</td>\n",
       "      <td>0</td>\n",
       "      <td>1</td>\n",
       "    </tr>\n",
       "    <tr>\n",
       "      <th>3</th>\n",
       "      <td>1</td>\n",
       "      <td>1</td>\n",
       "      <td>0</td>\n",
       "      <td>3.972177</td>\n",
       "      <td>2</td>\n",
       "      <td>3</td>\n",
       "      <td>0</td>\n",
       "      <td>0</td>\n",
       "      <td>0</td>\n",
       "      <td>1</td>\n",
       "      <td>0</td>\n",
       "      <td>0</td>\n",
       "      <td>0</td>\n",
       "      <td>1</td>\n",
       "    </tr>\n",
       "    <tr>\n",
       "      <th>4</th>\n",
       "      <td>0</td>\n",
       "      <td>3</td>\n",
       "      <td>1</td>\n",
       "      <td>2.085672</td>\n",
       "      <td>1</td>\n",
       "      <td>3</td>\n",
       "      <td>0</td>\n",
       "      <td>0</td>\n",
       "      <td>1</td>\n",
       "      <td>0</td>\n",
       "      <td>0</td>\n",
       "      <td>0</td>\n",
       "      <td>0</td>\n",
       "      <td>1</td>\n",
       "    </tr>\n",
       "  </tbody>\n",
       "</table>\n",
       "</div>"
      ],
      "text/plain": [
       "   Survived  Pclass  Sex      Fare  FamilySize  Age_cat  Initial_0  Initial_1  \\\n",
       "0         0       3    1  1.981001           2        2          0          0   \n",
       "1         1       1    0  4.266662           2        3          0          0   \n",
       "2         1       3    0  2.070022           1        2          0          1   \n",
       "3         1       1    0  3.972177           2        3          0          0   \n",
       "4         0       3    1  2.085672           1        3          0          0   \n",
       "\n",
       "   Initial_2  Initial_3  Initial_4  Embarked_0  Embarked_1  Embarked_2  \n",
       "0          1          0          0           0           0           1  \n",
       "1          0          1          0           1           0           0  \n",
       "2          0          0          0           0           0           1  \n",
       "3          0          1          0           0           0           1  \n",
       "4          1          0          0           0           0           1  "
      ]
     },
     "execution_count": 26,
     "metadata": {},
     "output_type": "execute_result"
    }
   ],
   "source": [
    "df_train.head()"
   ]
  },
  {
   "cell_type": "code",
   "execution_count": 27,
   "id": "b1fdbe24",
   "metadata": {
    "execution": {
     "iopub.execute_input": "2022-07-09T03:32:37.736260Z",
     "iopub.status.busy": "2022-07-09T03:32:37.735445Z",
     "iopub.status.idle": "2022-07-09T03:32:37.750015Z",
     "shell.execute_reply": "2022-07-09T03:32:37.748963Z"
    },
    "papermill": {
     "duration": 0.047252,
     "end_time": "2022-07-09T03:32:37.752270",
     "exception": false,
     "start_time": "2022-07-09T03:32:37.705018",
     "status": "completed"
    },
    "tags": []
   },
   "outputs": [
    {
     "data": {
      "text/html": [
       "<div>\n",
       "<style scoped>\n",
       "    .dataframe tbody tr th:only-of-type {\n",
       "        vertical-align: middle;\n",
       "    }\n",
       "\n",
       "    .dataframe tbody tr th {\n",
       "        vertical-align: top;\n",
       "    }\n",
       "\n",
       "    .dataframe thead th {\n",
       "        text-align: right;\n",
       "    }\n",
       "</style>\n",
       "<table border=\"1\" class=\"dataframe\">\n",
       "  <thead>\n",
       "    <tr style=\"text-align: right;\">\n",
       "      <th></th>\n",
       "      <th>Pclass</th>\n",
       "      <th>Sex</th>\n",
       "      <th>Fare</th>\n",
       "      <th>FamilySize</th>\n",
       "      <th>Age_cat</th>\n",
       "      <th>Initial_0</th>\n",
       "      <th>Initial_1</th>\n",
       "      <th>Initial_2</th>\n",
       "      <th>Initial_3</th>\n",
       "      <th>Initial_4</th>\n",
       "      <th>Embarked_0</th>\n",
       "      <th>Embarked_1</th>\n",
       "      <th>Embarked_2</th>\n",
       "    </tr>\n",
       "  </thead>\n",
       "  <tbody>\n",
       "    <tr>\n",
       "      <th>0</th>\n",
       "      <td>3</td>\n",
       "      <td>1</td>\n",
       "      <td>2.057860</td>\n",
       "      <td>1</td>\n",
       "      <td>3</td>\n",
       "      <td>0</td>\n",
       "      <td>0</td>\n",
       "      <td>1</td>\n",
       "      <td>0</td>\n",
       "      <td>0</td>\n",
       "      <td>0</td>\n",
       "      <td>1</td>\n",
       "      <td>0</td>\n",
       "    </tr>\n",
       "    <tr>\n",
       "      <th>1</th>\n",
       "      <td>3</td>\n",
       "      <td>0</td>\n",
       "      <td>1.945910</td>\n",
       "      <td>2</td>\n",
       "      <td>4</td>\n",
       "      <td>0</td>\n",
       "      <td>0</td>\n",
       "      <td>0</td>\n",
       "      <td>1</td>\n",
       "      <td>0</td>\n",
       "      <td>0</td>\n",
       "      <td>0</td>\n",
       "      <td>1</td>\n",
       "    </tr>\n",
       "    <tr>\n",
       "      <th>2</th>\n",
       "      <td>2</td>\n",
       "      <td>1</td>\n",
       "      <td>2.270836</td>\n",
       "      <td>1</td>\n",
       "      <td>6</td>\n",
       "      <td>0</td>\n",
       "      <td>0</td>\n",
       "      <td>1</td>\n",
       "      <td>0</td>\n",
       "      <td>0</td>\n",
       "      <td>0</td>\n",
       "      <td>1</td>\n",
       "      <td>0</td>\n",
       "    </tr>\n",
       "    <tr>\n",
       "      <th>3</th>\n",
       "      <td>3</td>\n",
       "      <td>1</td>\n",
       "      <td>2.159003</td>\n",
       "      <td>1</td>\n",
       "      <td>2</td>\n",
       "      <td>0</td>\n",
       "      <td>0</td>\n",
       "      <td>1</td>\n",
       "      <td>0</td>\n",
       "      <td>0</td>\n",
       "      <td>0</td>\n",
       "      <td>0</td>\n",
       "      <td>1</td>\n",
       "    </tr>\n",
       "    <tr>\n",
       "      <th>4</th>\n",
       "      <td>3</td>\n",
       "      <td>0</td>\n",
       "      <td>2.508582</td>\n",
       "      <td>3</td>\n",
       "      <td>2</td>\n",
       "      <td>0</td>\n",
       "      <td>0</td>\n",
       "      <td>0</td>\n",
       "      <td>1</td>\n",
       "      <td>0</td>\n",
       "      <td>0</td>\n",
       "      <td>0</td>\n",
       "      <td>1</td>\n",
       "    </tr>\n",
       "  </tbody>\n",
       "</table>\n",
       "</div>"
      ],
      "text/plain": [
       "   Pclass  Sex      Fare  FamilySize  Age_cat  Initial_0  Initial_1  \\\n",
       "0       3    1  2.057860           1        3          0          0   \n",
       "1       3    0  1.945910           2        4          0          0   \n",
       "2       2    1  2.270836           1        6          0          0   \n",
       "3       3    1  2.159003           1        2          0          0   \n",
       "4       3    0  2.508582           3        2          0          0   \n",
       "\n",
       "   Initial_2  Initial_3  Initial_4  Embarked_0  Embarked_1  Embarked_2  \n",
       "0          1          0          0           0           1           0  \n",
       "1          0          1          0           0           0           1  \n",
       "2          1          0          0           0           1           0  \n",
       "3          1          0          0           0           0           1  \n",
       "4          0          1          0           0           0           1  "
      ]
     },
     "execution_count": 27,
     "metadata": {},
     "output_type": "execute_result"
    }
   ],
   "source": [
    "df_test.head()"
   ]
  },
  {
   "cell_type": "markdown",
   "id": "5c737e8d",
   "metadata": {
    "papermill": {
     "duration": 0.029588,
     "end_time": "2022-07-09T03:32:37.812340",
     "exception": false,
     "start_time": "2022-07-09T03:32:37.782752",
     "status": "completed"
    },
    "tags": []
   },
   "source": [
    "* 보시다시피, train의 Survived feature(target class)를 빼면 train, test 둘다 같은 columns를 가진 걸 확인할 수 있습니다."
   ]
  },
  {
   "cell_type": "markdown",
   "id": "9a6644da",
   "metadata": {
    "papermill": {
     "duration": 0.034362,
     "end_time": "2022-07-09T03:32:37.876925",
     "exception": false,
     "start_time": "2022-07-09T03:32:37.842563",
     "status": "completed"
    },
    "tags": []
   },
   "source": [
    "# 4 Building machine learning model and prediction using the trained model"
   ]
  },
  {
   "cell_type": "markdown",
   "id": "eead48bc",
   "metadata": {
    "papermill": {
     "duration": 0.03954,
     "end_time": "2022-07-09T03:32:37.951173",
     "exception": false,
     "start_time": "2022-07-09T03:32:37.911633",
     "status": "completed"
    },
    "tags": []
   },
   "source": [
    "* 이제 준비가 다 되었으니 sklearn을 사용해 본격적으로 머신러닝 모델을 만들어 봅시다."
   ]
  },
  {
   "cell_type": "code",
   "execution_count": 28,
   "id": "36125cf9",
   "metadata": {
    "execution": {
     "iopub.execute_input": "2022-07-09T03:32:38.017699Z",
     "iopub.status.busy": "2022-07-09T03:32:38.017189Z",
     "iopub.status.idle": "2022-07-09T03:32:38.437983Z",
     "shell.execute_reply": "2022-07-09T03:32:38.437172Z"
    },
    "papermill": {
     "duration": 0.454692,
     "end_time": "2022-07-09T03:32:38.440528",
     "exception": false,
     "start_time": "2022-07-09T03:32:37.985836",
     "status": "completed"
    },
    "tags": []
   },
   "outputs": [],
   "source": [
    "#importing all the required ML packages\n",
    "from sklearn.ensemble import RandomForestClassifier\n",
    "from sklearn import metrics\n",
    "from sklearn.model_selection import train_test_split"
   ]
  },
  {
   "cell_type": "markdown",
   "id": "b159fc03",
   "metadata": {
    "papermill": {
     "duration": 0.029206,
     "end_time": "2022-07-09T03:32:38.499644",
     "exception": false,
     "start_time": "2022-07-09T03:32:38.470438",
     "status": "completed"
    },
    "tags": []
   },
   "source": [
    "* Sklearn은 머신러닝의 처음부터 끝까지가 다 있습니다. feature engineering, preprocessin, 지도 학습 알고리즘, 비지도 학습 알고리즘, 모델 평가, 파이프라인 등 머신러닝에 관련된 모든 작업들이 손쉬운 인터페이스로 구현되어 있습니다. 데이터 분석 + 머신러닝을 하고 싶다면, 이 라이브러리는 반드시 숙지해야 합니다.\n",
    "* 파이썬 라이브러리를 활용한 머신러닝(Introduction to machine learning with Python)책을 사서 공부하시길 매우 추천해드립니다.\n",
    "\n",
    "* 지금 타이타닉 문제는 target class(survived)가 있으며, target class는 0, 1로 이루어져 있으므로(binary) binary classfication 문제입니다.\n",
    "* 우리가 지금 가지고 있는 train set의 survived를 제외한 input을 가지고 모델을 최적화시켜서 각 샘플(탑승객)의 생존유무를 판단하는 모델을 만들어 냅니다.\n",
    "* 그 후 모델이 학습하지 않았던 test set을 input으로 주어서 test set의 각 샘플(탑승객)의 생존 유무를 예측해봅니다."
   ]
  },
  {
   "cell_type": "markdown",
   "id": "dc238cb7",
   "metadata": {
    "papermill": {
     "duration": 0.029178,
     "end_time": "2022-07-09T03:32:38.558569",
     "exception": false,
     "start_time": "2022-07-09T03:32:38.529391",
     "status": "completed"
    },
    "tags": []
   },
   "source": [
    "> ### sklearn\n",
    "scikit-learn이란 python을 대표하는 머신러닝 라이브러리이다.\n",
    "‘사이킷런’이라고 부르기도 한다."
   ]
  },
  {
   "cell_type": "markdown",
   "id": "879b8562",
   "metadata": {
    "papermill": {
     "duration": 0.029102,
     "end_time": "2022-07-09T03:32:38.617386",
     "exception": false,
     "start_time": "2022-07-09T03:32:38.588284",
     "status": "completed"
    },
    "tags": []
   },
   "source": [
    "# 4.1 Preparation - Split dataset into train, valid, test set"
   ]
  },
  {
   "cell_type": "markdown",
   "id": "e6663490",
   "metadata": {
    "papermill": {
     "duration": 0.029084,
     "end_time": "2022-07-09T03:32:38.675832",
     "exception": false,
     "start_time": "2022-07-09T03:32:38.646748",
     "status": "completed"
    },
    "tags": []
   },
   "source": [
    "* 가장 먼저, 학습에 쓰일 데이터와, target label(Survived)를 분리합니다. drop을 사용해 간단히 할 수 있습니다."
   ]
  },
  {
   "cell_type": "code",
   "execution_count": 29,
   "id": "848a6278",
   "metadata": {
    "execution": {
     "iopub.execute_input": "2022-07-09T03:32:38.739275Z",
     "iopub.status.busy": "2022-07-09T03:32:38.738540Z",
     "iopub.status.idle": "2022-07-09T03:32:38.746249Z",
     "shell.execute_reply": "2022-07-09T03:32:38.745385Z"
    },
    "papermill": {
     "duration": 0.041112,
     "end_time": "2022-07-09T03:32:38.748473",
     "exception": false,
     "start_time": "2022-07-09T03:32:38.707361",
     "status": "completed"
    },
    "tags": []
   },
   "outputs": [],
   "source": [
    "X_train = df_train.drop('Survived', axis=1).values\n",
    "target_label = df_train['Survived'].values\n",
    "X_test= df_test.values"
   ]
  },
  {
   "cell_type": "markdown",
   "id": "2173470e",
   "metadata": {
    "papermill": {
     "duration": 0.029763,
     "end_time": "2022-07-09T03:32:38.808337",
     "exception": false,
     "start_time": "2022-07-09T03:32:38.778574",
     "status": "completed"
    },
    "tags": []
   },
   "source": [
    "* 보통 train, test만 언급되지만, 실제 좋은 모델을 만들기 위해서 우리는 valid set을 따로 만들어 모델 평가를 해봅시다.\n",
    "* 마치 축구대표팀이 팀훈련(train)을 하고 바로 월드컵(test)로 나가는 것이 아니라, 팀훈련(train)을 한 다음 평가전(valid)를 거쳐 팀의 훈련 정도(학습정도)를 확인하고 월드컵(test)에 나가는 것과 비슷합니다.\n",
    "* train_test_split을 사용하여 쉽게 train 셋을 분리할 수 있습니다."
   ]
  },
  {
   "cell_type": "code",
   "execution_count": 30,
   "id": "ef51f7c6",
   "metadata": {
    "execution": {
     "iopub.execute_input": "2022-07-09T03:32:38.869007Z",
     "iopub.status.busy": "2022-07-09T03:32:38.868624Z",
     "iopub.status.idle": "2022-07-09T03:32:38.874093Z",
     "shell.execute_reply": "2022-07-09T03:32:38.873254Z"
    },
    "papermill": {
     "duration": 0.038281,
     "end_time": "2022-07-09T03:32:38.876075",
     "exception": false,
     "start_time": "2022-07-09T03:32:38.837794",
     "status": "completed"
    },
    "tags": []
   },
   "outputs": [],
   "source": [
    "X_tr, X_vld, y_tr, y_vld = train_test_split(X_train, target_label, test_size=0.3, random_state=2018)"
   ]
  },
  {
   "cell_type": "markdown",
   "id": "c882b8c4",
   "metadata": {
    "papermill": {
     "duration": 0.029809,
     "end_time": "2022-07-09T03:32:38.935757",
     "exception": false,
     "start_time": "2022-07-09T03:32:38.905948",
     "status": "completed"
    },
    "tags": []
   },
   "source": [
    "* sklearn에서는 여러 머신러닝 알고리즘을 지원해주빈다. 열거하기엔 너무 많으므로, 직접 documentation에 들어가 보시길 추천합니다. http://scikit-learn.org/stable/supervised_learning.html#supervised-learning 여기에 들어가시면 지원되는 알고리즘 수에 놀라실 겁니다.\n",
    "* 본 튜토리얼에서는 랜덤포레스트 모델을 사용하도록 하겠습니다.\n",
    "* 랜덤포레스트는 결정트리기반 모델이며, 여러 결정 트리들을 앙상블한 모델입니다. 더 구체적인 모델 설명은 여러 블로그들 참고하시면 될 것이고, 저도 한번 추후 다뤄보겠습니다.\n",
    "* 각 머신러닝 알고리즘에는 여러 파라미터들이 있습니다. 랜덤포레스트분류기도 n_estimators, max_features, max_depth, min_samples_split, min_samples_leaf 등 여러 파라미터들이 존재합니다. 이것들이 어떻게 세팅되냐에 따라 같은 데이터셋이라 하더라도 모델의 성능이 달라집니다.\n",
    "* 파라미터 튜닝은 시간, 경험, 알고리즘에 대한 이해 등이 필요합니다. 결국 많이 써봐야 모델도 잘 세울 수 있는 것이죠. 그래서 캐글을 추천합니다. 여러 데이터셋을 가지고 모델을 이리저리 써봐야 튜닝하는 감이 생길테니까요!\n",
    "* 일단 지금은 튜토리얼이니 파라미터 튜닝은 잠시 제쳐두기로 하고, 기본 default 세팅으로 진행하겠습니다.\n",
    "* 모델 객체를 만들고, fit 메소드로 학습시킵니다.\n",
    "* 그런 후 valid set input 을 넣어주어 예측값(X_vld sample(탑승객)의 생존여부)를 얻습니다."
   ]
  },
  {
   "cell_type": "markdown",
   "id": "ad882189",
   "metadata": {
    "papermill": {
     "duration": 0.03053,
     "end_time": "2022-07-09T03:32:38.996258",
     "exception": false,
     "start_time": "2022-07-09T03:32:38.965728",
     "status": "completed"
    },
    "tags": []
   },
   "source": [
    "# 4.2 Model generation and prediction"
   ]
  },
  {
   "cell_type": "code",
   "execution_count": 31,
   "id": "5e8f6685",
   "metadata": {
    "execution": {
     "iopub.execute_input": "2022-07-09T03:32:39.059007Z",
     "iopub.status.busy": "2022-07-09T03:32:39.058364Z",
     "iopub.status.idle": "2022-07-09T03:32:39.285371Z",
     "shell.execute_reply": "2022-07-09T03:32:39.284449Z"
    },
    "papermill": {
     "duration": 0.26131,
     "end_time": "2022-07-09T03:32:39.287993",
     "exception": false,
     "start_time": "2022-07-09T03:32:39.026683",
     "status": "completed"
    },
    "tags": []
   },
   "outputs": [],
   "source": [
    "model = RandomForestClassifier()\n",
    "model.fit(X_tr, y_tr)\n",
    "prediction = model.predict(X_vld)"
   ]
  },
  {
   "cell_type": "markdown",
   "id": "3a6566b3",
   "metadata": {
    "papermill": {
     "duration": 0.029352,
     "end_time": "2022-07-09T03:32:39.347035",
     "exception": false,
     "start_time": "2022-07-09T03:32:39.317683",
     "status": "completed"
    },
    "tags": []
   },
   "source": [
    "* 단 세줄만으로 여러분은 모델을 세우고, 예측까지 해봤습니다.\n",
    "* 자, 이제 모델의 성능을 한번 살펴보겠습니다."
   ]
  },
  {
   "cell_type": "markdown",
   "id": "d6d10399",
   "metadata": {
    "papermill": {
     "duration": 0.029175,
     "end_time": "2022-07-09T03:32:39.406066",
     "exception": false,
     "start_time": "2022-07-09T03:32:39.376891",
     "status": "completed"
    },
    "tags": []
   },
   "source": [
    "> ### fit() 메서드\n",
    "머신러닝 모델 학습의 위함"
   ]
  },
  {
   "cell_type": "markdown",
   "id": "7fa6abf9",
   "metadata": {
    "papermill": {
     "duration": 0.028941,
     "end_time": "2022-07-09T03:32:39.464394",
     "exception": false,
     "start_time": "2022-07-09T03:32:39.435453",
     "status": "completed"
    },
    "tags": []
   },
   "source": [
    "> ### predict() 메서드\n",
    "학습된 모델의 예측을 위함"
   ]
  },
  {
   "cell_type": "code",
   "execution_count": 32,
   "id": "92d61f13",
   "metadata": {
    "execution": {
     "iopub.execute_input": "2022-07-09T03:32:39.526494Z",
     "iopub.status.busy": "2022-07-09T03:32:39.525766Z",
     "iopub.status.idle": "2022-07-09T03:32:39.533789Z",
     "shell.execute_reply": "2022-07-09T03:32:39.532711Z"
    },
    "papermill": {
     "duration": 0.04187,
     "end_time": "2022-07-09T03:32:39.535642",
     "exception": false,
     "start_time": "2022-07-09T03:32:39.493772",
     "status": "completed"
    },
    "tags": []
   },
   "outputs": [
    {
     "name": "stdout",
     "output_type": "stream",
     "text": [
      "총 268명 중 82.09% 정확도로 생존을 맞춤\n"
     ]
    }
   ],
   "source": [
    "print('총 {}명 중 {:.2f}% 정확도로 생존을 맞춤'.format(y_vld.shape[0], 100 * metrics.accuracy_score(prediction, y_vld)))"
   ]
  },
  {
   "cell_type": "markdown",
   "id": "861d5c83",
   "metadata": {
    "papermill": {
     "duration": 0.029294,
     "end_time": "2022-07-09T03:32:39.594646",
     "exception": false,
     "start_time": "2022-07-09T03:32:39.565352",
     "status": "completed"
    },
    "tags": []
   },
   "source": [
    "* 아무런 파라미터 튜닝도 하지 않았는데 82%의 정확도가 나왔습니다. 고생하셨습니다!"
   ]
  },
  {
   "cell_type": "markdown",
   "id": "021ba978",
   "metadata": {
    "papermill": {
     "duration": 0.028936,
     "end_time": "2022-07-09T03:32:39.652927",
     "exception": false,
     "start_time": "2022-07-09T03:32:39.623991",
     "status": "completed"
    },
    "tags": []
   },
   "source": [
    "> ### accuracy_score\n",
    "정확도 계산"
   ]
  },
  {
   "cell_type": "markdown",
   "id": "a42e9c66",
   "metadata": {
    "papermill": {
     "duration": 0.029369,
     "end_time": "2022-07-09T03:32:39.711656",
     "exception": false,
     "start_time": "2022-07-09T03:32:39.682287",
     "status": "completed"
    },
    "tags": []
   },
   "source": [
    "> ### shape[]\n",
    ">- shape[0] → 행의 개수\n",
    ">- shape[1] → 열의 개수"
   ]
  },
  {
   "cell_type": "markdown",
   "id": "9485ae57",
   "metadata": {
    "papermill": {
     "duration": 0.029347,
     "end_time": "2022-07-09T03:32:39.770694",
     "exception": false,
     "start_time": "2022-07-09T03:32:39.741347",
     "status": "completed"
    },
    "tags": []
   },
   "source": [
    "# 4.3 Feature importance"
   ]
  },
  {
   "cell_type": "markdown",
   "id": "ef2c51a0",
   "metadata": {
    "papermill": {
     "duration": 0.029554,
     "end_time": "2022-07-09T03:32:39.829886",
     "exception": false,
     "start_time": "2022-07-09T03:32:39.800332",
     "status": "completed"
    },
    "tags": []
   },
   "source": [
    "* 학습된 모델은 feature importance 를 가지게 되는데, 우리는 이것을 확인하여 지금 만든 모델이 어떤 feature 에 영향을 많이 받았는 지 확인할 수 있습니다.\n",
    "* 쉽게 말해, 10 = 4x1 + 2x2 + 1*x3 을 생각하면, 우리는 x1이 결과값(10)에 큰 영향을 준다고 생각 할 수 있습니다. feature importance 는 4, 2, 1 을 이야기하며, x1이 가장 큰 값(4)를 가지므로, 이 모델에 가장 큰 영향을 미친다고 말할 수 있습니다.\n",
    "\n",
    "* 학습된 모델은 기본적으로 featureimportances 를 가지고 있어서 쉽게 그 수치를 얻을 수 있습니다.\n",
    "* pandas series 를 이용하면 쉽게 sorting 을 하여 그래프를 그릴 수 있습니다."
   ]
  },
  {
   "cell_type": "code",
   "execution_count": 33,
   "id": "02cfd741",
   "metadata": {
    "execution": {
     "iopub.execute_input": "2022-07-09T03:32:39.891851Z",
     "iopub.status.busy": "2022-07-09T03:32:39.891168Z",
     "iopub.status.idle": "2022-07-09T03:32:39.905606Z",
     "shell.execute_reply": "2022-07-09T03:32:39.904666Z"
    },
    "papermill": {
     "duration": 0.047792,
     "end_time": "2022-07-09T03:32:39.907849",
     "exception": false,
     "start_time": "2022-07-09T03:32:39.860057",
     "status": "completed"
    },
    "tags": []
   },
   "outputs": [],
   "source": [
    "from pandas import Series\n",
    "\n",
    "feature_importance = model.feature_importances_\n",
    "Series_feat_imp = Series(feature_importance, index=df_test.columns)"
   ]
  },
  {
   "cell_type": "markdown",
   "id": "abab060b",
   "metadata": {
    "papermill": {
     "duration": 0.029821,
     "end_time": "2022-07-09T03:32:39.968205",
     "exception": false,
     "start_time": "2022-07-09T03:32:39.938384",
     "status": "completed"
    },
    "tags": []
   },
   "source": [
    "> ### Series\n",
    "어떤 데이터 타입이든 보유할 수 있는 레이블(label)링된 1차원 배열"
   ]
  },
  {
   "cell_type": "code",
   "execution_count": 34,
   "id": "d98fa255",
   "metadata": {
    "execution": {
     "iopub.execute_input": "2022-07-09T03:32:40.031420Z",
     "iopub.status.busy": "2022-07-09T03:32:40.030740Z",
     "iopub.status.idle": "2022-07-09T03:32:40.309992Z",
     "shell.execute_reply": "2022-07-09T03:32:40.308989Z"
    },
    "papermill": {
     "duration": 0.314101,
     "end_time": "2022-07-09T03:32:40.312432",
     "exception": false,
     "start_time": "2022-07-09T03:32:39.998331",
     "status": "completed"
    },
    "tags": []
   },
   "outputs": [
    {
     "data": {
      "image/png": "[encoded data removed]",
      "text/plain": [
       "<Figure size 576x576 with 1 Axes>"
      ]
     },
     "metadata": {
      "needs_background": "light"
     },
     "output_type": "display_data"
    }
   ],
   "source": [
    "plt.figure(figsize=(8,8))\n",
    "Series_feat_imp.sort_values(ascending=True).plot.barh()\n",
    "plt.xlabel('Feature importance')\n",
    "plt.ylabel('Feature')\n",
    "plt.show()"
   ]
  },
  {
   "cell_type": "markdown",
   "id": "32e870f9",
   "metadata": {
    "papermill": {
     "duration": 0.090362,
     "end_time": "2022-07-09T03:32:40.433179",
     "exception": false,
     "start_time": "2022-07-09T03:32:40.342817",
     "status": "completed"
    },
    "tags": []
   },
   "source": [
    "* 우리가 얻은 모델에서는 Fare 가 가장 큰 영향력을 가지며, 그 뒤로 Initial_2, Age_cat, Pclass가 차례로 중요도를 가집니다\n",
    "* 사실 feature importance 는 지금 모델에서의 importance 를 나타냅니다. 만약 다른 모델을 사용하게 된다면 feature importance 가 다르게 나올 수 있습니다.\n",
    "* 이 feature importance 를 보고 실제로 Fare 가 중요한 feature 일 수 있다고 판단을 내릴 수는 있지만, 이것은 결국 모델에 귀속되는 하나의 결론이므로 통계적으로 좀 더 살펴보긴 해야합니다.\n",
    "* featuure importance 를 가지고 좀 더 정확도가 높은 모델을 얻기 위해 feature selection 을 할 수도 있고, 좀 더 빠른 모델을 위해 feature 제거를 할 수 있습니다."
   ]
  },
  {
   "cell_type": "markdown",
   "id": "7af81b30",
   "metadata": {
    "papermill": {
     "duration": 0.030035,
     "end_time": "2022-07-09T03:32:40.493819",
     "exception": false,
     "start_time": "2022-07-09T03:32:40.463784",
     "status": "completed"
    },
    "tags": []
   },
   "source": [
    "> ### barh() 함수\n",
    "수평 막대 그래프를 그림"
   ]
  },
  {
   "cell_type": "markdown",
   "id": "842da7b4",
   "metadata": {
    "papermill": {
     "duration": 0.06293,
     "end_time": "2022-07-09T03:32:40.591811",
     "exception": false,
     "start_time": "2022-07-09T03:32:40.528881",
     "status": "completed"
    },
    "tags": []
   },
   "source": [
    "# 4.4 Prediction on Test set"
   ]
  },
  {
   "cell_type": "markdown",
   "id": "c5dd1c49",
   "metadata": {
    "papermill": {
     "duration": 0.030245,
     "end_time": "2022-07-09T03:32:40.660193",
     "exception": false,
     "start_time": "2022-07-09T03:32:40.629948",
     "status": "completed"
    },
    "tags": []
   },
   "source": [
    "* 이제 모델이 학습하지 않았던(보지 않았던) 테스트셋을 모델에 주어서, 생존여부를 예측해보겠습니다.\n",
    "* 이 결과는 실제로 submission(제출용) 이므로 결과는 leaderboard 에서 확인할 수 있습니다.\n",
    "* 캐글에서 준 파일, gender_submission.csv 파일을 읽어서 제출 준비를 하겠습니다."
   ]
  },
  {
   "cell_type": "code",
   "execution_count": 35,
   "id": "5707109b",
   "metadata": {
    "execution": {
     "iopub.execute_input": "2022-07-09T03:32:40.723288Z",
     "iopub.status.busy": "2022-07-09T03:32:40.722561Z",
     "iopub.status.idle": "2022-07-09T03:32:40.733914Z",
     "shell.execute_reply": "2022-07-09T03:32:40.733136Z"
    },
    "papermill": {
     "duration": 0.045561,
     "end_time": "2022-07-09T03:32:40.736185",
     "exception": false,
     "start_time": "2022-07-09T03:32:40.690624",
     "status": "completed"
    },
    "tags": []
   },
   "outputs": [],
   "source": [
    "submission = pd.read_csv('../input/titanic/gender_submission.csv')"
   ]
  },
  {
   "cell_type": "code",
   "execution_count": 36,
   "id": "e097851b",
   "metadata": {
    "execution": {
     "iopub.execute_input": "2022-07-09T03:32:40.798887Z",
     "iopub.status.busy": "2022-07-09T03:32:40.798505Z",
     "iopub.status.idle": "2022-07-09T03:32:40.807654Z",
     "shell.execute_reply": "2022-07-09T03:32:40.806690Z"
    },
    "papermill": {
     "duration": 0.042937,
     "end_time": "2022-07-09T03:32:40.809656",
     "exception": false,
     "start_time": "2022-07-09T03:32:40.766719",
     "status": "completed"
    },
    "tags": []
   },
   "outputs": [
    {
     "data": {
      "text/html": [
       "<div>\n",
       "<style scoped>\n",
       "    .dataframe tbody tr th:only-of-type {\n",
       "        vertical-align: middle;\n",
       "    }\n",
       "\n",
       "    .dataframe tbody tr th {\n",
       "        vertical-align: top;\n",
       "    }\n",
       "\n",
       "    .dataframe thead th {\n",
       "        text-align: right;\n",
       "    }\n",
       "</style>\n",
       "<table border=\"1\" class=\"dataframe\">\n",
       "  <thead>\n",
       "    <tr style=\"text-align: right;\">\n",
       "      <th></th>\n",
       "      <th>PassengerId</th>\n",
       "      <th>Survived</th>\n",
       "    </tr>\n",
       "  </thead>\n",
       "  <tbody>\n",
       "    <tr>\n",
       "      <th>0</th>\n",
       "      <td>892</td>\n",
       "      <td>0</td>\n",
       "    </tr>\n",
       "    <tr>\n",
       "      <th>1</th>\n",
       "      <td>893</td>\n",
       "      <td>1</td>\n",
       "    </tr>\n",
       "    <tr>\n",
       "      <th>2</th>\n",
       "      <td>894</td>\n",
       "      <td>0</td>\n",
       "    </tr>\n",
       "    <tr>\n",
       "      <th>3</th>\n",
       "      <td>895</td>\n",
       "      <td>0</td>\n",
       "    </tr>\n",
       "    <tr>\n",
       "      <th>4</th>\n",
       "      <td>896</td>\n",
       "      <td>1</td>\n",
       "    </tr>\n",
       "  </tbody>\n",
       "</table>\n",
       "</div>"
      ],
      "text/plain": [
       "   PassengerId  Survived\n",
       "0          892         0\n",
       "1          893         1\n",
       "2          894         0\n",
       "3          895         0\n",
       "4          896         1"
      ]
     },
     "execution_count": 36,
     "metadata": {},
     "output_type": "execute_result"
    }
   ],
   "source": [
    "submission.head()"
   ]
  },
  {
   "cell_type": "markdown",
   "id": "cfad82ad",
   "metadata": {
    "papermill": {
     "duration": 0.030117,
     "end_time": "2022-07-09T03:32:40.870518",
     "exception": false,
     "start_time": "2022-07-09T03:32:40.840401",
     "status": "completed"
    },
    "tags": []
   },
   "source": [
    "* 이제 testset에 대하여 예측을 하고, 결과를 csv 파일로 저장해보겠습니다."
   ]
  },
  {
   "cell_type": "code",
   "execution_count": 37,
   "id": "0ccc7403",
   "metadata": {
    "execution": {
     "iopub.execute_input": "2022-07-09T03:32:40.933080Z",
     "iopub.status.busy": "2022-07-09T03:32:40.932333Z",
     "iopub.status.idle": "2022-07-09T03:32:40.958651Z",
     "shell.execute_reply": "2022-07-09T03:32:40.957280Z"
    },
    "papermill": {
     "duration": 0.060506,
     "end_time": "2022-07-09T03:32:40.961254",
     "exception": false,
     "start_time": "2022-07-09T03:32:40.900748",
     "status": "completed"
    },
    "tags": []
   },
   "outputs": [],
   "source": [
    "prediction = model.predict(X_test)\n",
    "submission['Survived'] = prediction"
   ]
  },
  {
   "cell_type": "code",
   "execution_count": 38,
   "id": "76fc5cf8",
   "metadata": {
    "execution": {
     "iopub.execute_input": "2022-07-09T03:32:41.025446Z",
     "iopub.status.busy": "2022-07-09T03:32:41.025040Z",
     "iopub.status.idle": "2022-07-09T03:32:41.033625Z",
     "shell.execute_reply": "2022-07-09T03:32:41.032795Z"
    },
    "papermill": {
     "duration": 0.043767,
     "end_time": "2022-07-09T03:32:41.035759",
     "exception": false,
     "start_time": "2022-07-09T03:32:40.991992",
     "status": "completed"
    },
    "tags": []
   },
   "outputs": [],
   "source": [
    "submission.to_csv('./my_first_submission.csv', index=False)"
   ]
  },
  {
   "cell_type": "markdown",
   "id": "2469b07f",
   "metadata": {
    "papermill": {
     "duration": 0.03029,
     "end_time": "2022-07-09T03:32:41.097498",
     "exception": false,
     "start_time": "2022-07-09T03:32:41.067208",
     "status": "completed"
    },
    "tags": []
   },
   "source": [
    "* 이제 캐글에 제출해보도록 합시다."
   ]
  },
  {
   "cell_type": "markdown",
   "id": "ce728351",
   "metadata": {
    "papermill": {
     "duration": 0.03103,
     "end_time": "2022-07-09T03:32:41.159435",
     "exception": false,
     "start_time": "2022-07-09T03:32:41.128405",
     "status": "completed"
    },
    "tags": []
   },
   "source": [
    "# 5 Conclusion"
   ]
  },
  {
   "cell_type": "markdown",
   "id": "abe8b86f",
   "metadata": {
    "papermill": {
     "duration": 0.030207,
     "end_time": "2022-07-09T03:32:41.220390",
     "exception": false,
     "start_time": "2022-07-09T03:32:41.190183",
     "status": "completed"
    },
    "tags": []
   },
   "source": [
    "* 정말 수고하셨습니다. 여러분은 titanic dataset 을 가지고 data science 를 경험해보셨습니다.\n",
    "* 이걸로 끝이 아닙니다. 앞으로 배울 것이 너무나 무궁무진합니다.\n",
    "* 좀 더 참신한 feature engineering, 머신 러닝 모델 hyperparameter tunning, ensembling 등, 무궁무진합니다..\n",
    "* 꾸준히 커널공부를 하시면 실력이 꾸준히 늘겁니다.\n",
    "* 포기하지 마시고 재밌게 하시면 됩니다\n",
    "* 본 튜토리얼을 따라해주셔서 감사하며, 제 유투브 채널에 강의도 올려놨으니 한번 보시면 됩니다!\n",
    "* 본 튜토리얼을 따라하시다가, 혹시 문제가 있거나, 궁금한 사항이 있으면 언제든 말씀해주세요! 저도 더 성장하길 원합니다!\n",
    "\n",
    "* 본 튜토리얼은 https://www.kaggle.com/arthurtok/introduction-to-ensembling-stacking-in-python, https://www.kaggle.com/startupsci/titanic-data-science-solutions, https://www.kaggle.com/ash316/eda-to-prediction-dietanic, https://www.kaggle.com/yassineghouzam/titanic-top-4-with-ensemble-modeling 을 참고하여 만들었습니다. 공유해주신 캐글러께 감사드립니다."
   ]
  }
 ],
 "metadata": {
  "kernelspec": {
   "display_name": "Python 3",
   "language": "python",
   "name": "python3"
  },
  "language_info": {
   "codemirror_mode": {
    "name": "ipython",
    "version": 3
   },
   "file_extension": ".py",
   "mimetype": "text/x-python",
   "name": "python",
   "nbconvert_exporter": "python",
   "pygments_lexer": "ipython3",
   "version": "3.7.12"
  },
  "papermill": {
   "default_parameters": {},
   "duration": 21.271126,
   "end_time": "2022-07-09T03:32:41.971871",
   "environment_variables": {},
   "exception": null,
   "input_path": "__notebook__.ipynb",
   "output_path": "__notebook__.ipynb",
   "parameters": {},
   "start_time": "2022-07-09T03:32:20.700745",
   "version": "2.3.4"
  }
 },
 "nbformat": 4,
 "nbformat_minor": 5
}
